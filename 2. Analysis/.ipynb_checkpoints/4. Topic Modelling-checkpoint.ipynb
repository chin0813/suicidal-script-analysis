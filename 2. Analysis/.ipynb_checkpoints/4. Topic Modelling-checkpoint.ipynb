{
 "cells": [
  {
   "cell_type": "markdown",
   "metadata": {},
   "source": [
    "# <span style='color:blue'> CDS 522 Text and Speech Analytics Project : </span>\n",
    "## <span style='color:blue'> Text Analytics for Suicidal Thoughts </span>\n",
    "\n",
    "**Prepared by: \n",
    "Chin Yi Xiang,\n",
    "Ling Hui Ting**"
   ]
  },
  {
   "cell_type": "markdown",
   "metadata": {},
   "source": [
    "# Topic Modeling"
   ]
  },
  {
   "cell_type": "markdown",
   "metadata": {},
   "source": [
    "* Each notes is represented as a distribution over topics.\n",
    "* Each topic is represented as a distribution over words."
   ]
  },
  {
   "cell_type": "markdown",
   "metadata": {
    "heading_collapsed": true
   },
   "source": [
    "## Importing Required Packages and Defining Helper Functions"
   ]
  },
  {
   "cell_type": "markdown",
   "metadata": {
    "heading_collapsed": true,
    "hidden": true
   },
   "source": [
    "### Packages"
   ]
  },
  {
   "cell_type": "code",
   "execution_count": 30,
   "metadata": {
    "hidden": true
   },
   "outputs": [],
   "source": [
    "# import required packages\n",
    "#warnings :)\n",
    "import warnings\n",
    "warnings.filterwarnings('ignore')\n",
    "\n",
    "# for df purpose\n",
    "import pandas as pd\n",
    "import numpy as np\n",
    "from tqdm.auto import tqdm\n",
    "tqdm.pandas()\n",
    "\n",
    "# for text processing\n",
    "import nltk\n",
    "import re\n",
    "import string\n",
    "from autocorrect import Speller\n",
    "\n",
    "# for topic modelling\n",
    "import gensim as gensim\n",
    "from gensim import matutils, models, corpora\n",
    "import scipy.sparse\n",
    "import pyLDAvis.gensim\n",
    "\n",
    "# for graph plotting / visualisation\n",
    "import matplotlib.pyplot as plt\n",
    "import seaborn as sns\n",
    "%matplotlib inline\n",
    "from wordcloud import WordCloud, STOPWORDS, ImageColorGenerator\n",
    "\n",
    "#for storing intermediate results\n",
    "import pickle\n",
    "\n",
    "# for notebook function\n",
    "from IPython.display import display, clear_output\n",
    "import time\n",
    "\n",
    "# for topic modelling\n",
    "import gensim as gensim\n",
    "from gensim import corpora\n",
    "from gensim import matutils, models\n",
    "import scipy.sparse\n",
    "from sklearn.feature_extraction import text\n",
    "from sklearn.feature_extraction.text import CountVectorizer"
   ]
  },
  {
   "cell_type": "markdown",
   "metadata": {
    "heading_collapsed": true,
    "hidden": true
   },
   "source": [
    "### Helper Functions"
   ]
  },
  {
   "cell_type": "code",
   "execution_count": 2,
   "metadata": {
    "hidden": true
   },
   "outputs": [],
   "source": [
    "def print_bold(text):\n",
    "    text_bold = '\\x1b[1;30;47m'+text+ '\\x1b[0m'\n",
    "    print(text_bold)\n",
    "def glance(x,n=5):\n",
    "    try:\n",
    "        iterator = iter(x)\n",
    "    except:\n",
    "        print(x)\n",
    "        return\n",
    "    else:\n",
    "        if type(x) == str or len(str(x)) <= 50:\n",
    "            print(x)\n",
    "            return\n",
    "        if type(x) == dict:\n",
    "            iterator = x.items()\n",
    "        i = 0\n",
    "        for ele in iterator:\n",
    "            if i >= n:\n",
    "                break\n",
    "            glance(ele,n)\n",
    "            i += 1"
   ]
  },
  {
   "cell_type": "markdown",
   "metadata": {},
   "source": [
    "## Topic Modeling - Attempt #1 (All Texts)"
   ]
  },
  {
   "cell_type": "markdown",
   "metadata": {
    "heading_collapsed": true
   },
   "source": [
    "### Reading Data"
   ]
  },
  {
   "cell_type": "code",
   "execution_count": 3,
   "metadata": {
    "hidden": true
   },
   "outputs": [
    {
     "data": {
      "text/plain": [
       "0       [fucking, hate, holiday, season, first, thanks...\n",
       "1          [dm, add, discord, want, help, talk, cofactor]\n",
       "2       [nearly, always, battled, depression, got, old...\n",
       "3       [future, nothing, impenetrable, fog, look, bac...\n",
       "4       [always, fighting, sister, always, lash, mom, ...\n",
       "                              ...                        \n",
       "1293    [since, felt, depressed, almost, took, life, w...\n",
       "1294    [nt, know, reaching, time, seem, appropriate, ...\n",
       "1295    [dont, believe, afterlife, stay, night, fear, ...\n",
       "1296    [nt, think, actually, kill, thats, scared, nt,...\n",
       "1297    [wan, na, die, badly, everytim, hear, someone,...\n",
       "Name: text, Length: 1283, dtype: object"
      ]
     },
     "execution_count": 3,
     "metadata": {},
     "output_type": "execute_result"
    }
   ],
   "source": [
    "df = pd.read_pickle('pickles/df_clean.pkl')\n",
    "df"
   ]
  },
  {
   "cell_type": "code",
   "execution_count": 4,
   "metadata": {
    "hidden": true
   },
   "outputs": [
    {
     "data": {
      "text/html": [
       "<div>\n",
       "<style scoped>\n",
       "    .dataframe tbody tr th:only-of-type {\n",
       "        vertical-align: middle;\n",
       "    }\n",
       "\n",
       "    .dataframe tbody tr th {\n",
       "        vertical-align: top;\n",
       "    }\n",
       "\n",
       "    .dataframe thead th {\n",
       "        text-align: right;\n",
       "    }\n",
       "</style>\n",
       "<table border=\"1\" class=\"dataframe\">\n",
       "  <thead>\n",
       "    <tr style=\"text-align: right;\">\n",
       "      <th></th>\n",
       "      <th>aaa</th>\n",
       "      <th>ab</th>\n",
       "      <th>abandon</th>\n",
       "      <th>abandoned</th>\n",
       "      <th>abd</th>\n",
       "      <th>abdomen</th>\n",
       "      <th>abdominal</th>\n",
       "      <th>ability</th>\n",
       "      <th>ablaze</th>\n",
       "      <th>able</th>\n",
       "      <th>...</th>\n",
       "      <th>zero</th>\n",
       "      <th>zimbabwe</th>\n",
       "      <th>ziplock</th>\n",
       "      <th>zombie</th>\n",
       "      <th>zone</th>\n",
       "      <th>zoning</th>\n",
       "      <th>zoo</th>\n",
       "      <th>zoom</th>\n",
       "      <th>zopiclon</th>\n",
       "      <th>última</th>\n",
       "    </tr>\n",
       "  </thead>\n",
       "  <tbody>\n",
       "    <tr>\n",
       "      <td>0</td>\n",
       "      <td>0</td>\n",
       "      <td>0</td>\n",
       "      <td>0</td>\n",
       "      <td>0</td>\n",
       "      <td>0</td>\n",
       "      <td>0</td>\n",
       "      <td>0</td>\n",
       "      <td>0</td>\n",
       "      <td>0</td>\n",
       "      <td>0</td>\n",
       "      <td>...</td>\n",
       "      <td>0</td>\n",
       "      <td>0</td>\n",
       "      <td>0</td>\n",
       "      <td>0</td>\n",
       "      <td>0</td>\n",
       "      <td>0</td>\n",
       "      <td>0</td>\n",
       "      <td>0</td>\n",
       "      <td>0</td>\n",
       "      <td>0</td>\n",
       "    </tr>\n",
       "    <tr>\n",
       "      <td>1</td>\n",
       "      <td>0</td>\n",
       "      <td>0</td>\n",
       "      <td>0</td>\n",
       "      <td>0</td>\n",
       "      <td>0</td>\n",
       "      <td>0</td>\n",
       "      <td>0</td>\n",
       "      <td>0</td>\n",
       "      <td>0</td>\n",
       "      <td>0</td>\n",
       "      <td>...</td>\n",
       "      <td>0</td>\n",
       "      <td>0</td>\n",
       "      <td>0</td>\n",
       "      <td>0</td>\n",
       "      <td>0</td>\n",
       "      <td>0</td>\n",
       "      <td>0</td>\n",
       "      <td>0</td>\n",
       "      <td>0</td>\n",
       "      <td>0</td>\n",
       "    </tr>\n",
       "    <tr>\n",
       "      <td>2</td>\n",
       "      <td>0</td>\n",
       "      <td>0</td>\n",
       "      <td>0</td>\n",
       "      <td>0</td>\n",
       "      <td>0</td>\n",
       "      <td>0</td>\n",
       "      <td>0</td>\n",
       "      <td>0</td>\n",
       "      <td>0</td>\n",
       "      <td>0</td>\n",
       "      <td>...</td>\n",
       "      <td>0</td>\n",
       "      <td>0</td>\n",
       "      <td>0</td>\n",
       "      <td>0</td>\n",
       "      <td>0</td>\n",
       "      <td>0</td>\n",
       "      <td>0</td>\n",
       "      <td>0</td>\n",
       "      <td>0</td>\n",
       "      <td>0</td>\n",
       "    </tr>\n",
       "    <tr>\n",
       "      <td>3</td>\n",
       "      <td>0</td>\n",
       "      <td>0</td>\n",
       "      <td>0</td>\n",
       "      <td>0</td>\n",
       "      <td>0</td>\n",
       "      <td>0</td>\n",
       "      <td>0</td>\n",
       "      <td>0</td>\n",
       "      <td>0</td>\n",
       "      <td>0</td>\n",
       "      <td>...</td>\n",
       "      <td>0</td>\n",
       "      <td>0</td>\n",
       "      <td>0</td>\n",
       "      <td>0</td>\n",
       "      <td>0</td>\n",
       "      <td>0</td>\n",
       "      <td>0</td>\n",
       "      <td>0</td>\n",
       "      <td>0</td>\n",
       "      <td>0</td>\n",
       "    </tr>\n",
       "    <tr>\n",
       "      <td>4</td>\n",
       "      <td>0</td>\n",
       "      <td>0</td>\n",
       "      <td>0</td>\n",
       "      <td>0</td>\n",
       "      <td>0</td>\n",
       "      <td>0</td>\n",
       "      <td>0</td>\n",
       "      <td>0</td>\n",
       "      <td>0</td>\n",
       "      <td>0</td>\n",
       "      <td>...</td>\n",
       "      <td>0</td>\n",
       "      <td>0</td>\n",
       "      <td>0</td>\n",
       "      <td>0</td>\n",
       "      <td>0</td>\n",
       "      <td>0</td>\n",
       "      <td>0</td>\n",
       "      <td>0</td>\n",
       "      <td>0</td>\n",
       "      <td>0</td>\n",
       "    </tr>\n",
       "    <tr>\n",
       "      <td>...</td>\n",
       "      <td>...</td>\n",
       "      <td>...</td>\n",
       "      <td>...</td>\n",
       "      <td>...</td>\n",
       "      <td>...</td>\n",
       "      <td>...</td>\n",
       "      <td>...</td>\n",
       "      <td>...</td>\n",
       "      <td>...</td>\n",
       "      <td>...</td>\n",
       "      <td>...</td>\n",
       "      <td>...</td>\n",
       "      <td>...</td>\n",
       "      <td>...</td>\n",
       "      <td>...</td>\n",
       "      <td>...</td>\n",
       "      <td>...</td>\n",
       "      <td>...</td>\n",
       "      <td>...</td>\n",
       "      <td>...</td>\n",
       "      <td>...</td>\n",
       "    </tr>\n",
       "    <tr>\n",
       "      <td>1293</td>\n",
       "      <td>0</td>\n",
       "      <td>0</td>\n",
       "      <td>0</td>\n",
       "      <td>0</td>\n",
       "      <td>0</td>\n",
       "      <td>0</td>\n",
       "      <td>0</td>\n",
       "      <td>0</td>\n",
       "      <td>0</td>\n",
       "      <td>0</td>\n",
       "      <td>...</td>\n",
       "      <td>0</td>\n",
       "      <td>0</td>\n",
       "      <td>0</td>\n",
       "      <td>0</td>\n",
       "      <td>0</td>\n",
       "      <td>0</td>\n",
       "      <td>0</td>\n",
       "      <td>0</td>\n",
       "      <td>0</td>\n",
       "      <td>0</td>\n",
       "    </tr>\n",
       "    <tr>\n",
       "      <td>1294</td>\n",
       "      <td>0</td>\n",
       "      <td>0</td>\n",
       "      <td>0</td>\n",
       "      <td>0</td>\n",
       "      <td>0</td>\n",
       "      <td>0</td>\n",
       "      <td>0</td>\n",
       "      <td>0</td>\n",
       "      <td>0</td>\n",
       "      <td>1</td>\n",
       "      <td>...</td>\n",
       "      <td>0</td>\n",
       "      <td>0</td>\n",
       "      <td>0</td>\n",
       "      <td>0</td>\n",
       "      <td>0</td>\n",
       "      <td>0</td>\n",
       "      <td>0</td>\n",
       "      <td>0</td>\n",
       "      <td>0</td>\n",
       "      <td>0</td>\n",
       "    </tr>\n",
       "    <tr>\n",
       "      <td>1295</td>\n",
       "      <td>0</td>\n",
       "      <td>0</td>\n",
       "      <td>0</td>\n",
       "      <td>0</td>\n",
       "      <td>0</td>\n",
       "      <td>0</td>\n",
       "      <td>0</td>\n",
       "      <td>0</td>\n",
       "      <td>0</td>\n",
       "      <td>0</td>\n",
       "      <td>...</td>\n",
       "      <td>0</td>\n",
       "      <td>0</td>\n",
       "      <td>0</td>\n",
       "      <td>0</td>\n",
       "      <td>0</td>\n",
       "      <td>0</td>\n",
       "      <td>0</td>\n",
       "      <td>0</td>\n",
       "      <td>0</td>\n",
       "      <td>0</td>\n",
       "    </tr>\n",
       "    <tr>\n",
       "      <td>1296</td>\n",
       "      <td>0</td>\n",
       "      <td>0</td>\n",
       "      <td>0</td>\n",
       "      <td>0</td>\n",
       "      <td>0</td>\n",
       "      <td>0</td>\n",
       "      <td>0</td>\n",
       "      <td>0</td>\n",
       "      <td>0</td>\n",
       "      <td>0</td>\n",
       "      <td>...</td>\n",
       "      <td>0</td>\n",
       "      <td>0</td>\n",
       "      <td>0</td>\n",
       "      <td>0</td>\n",
       "      <td>0</td>\n",
       "      <td>0</td>\n",
       "      <td>0</td>\n",
       "      <td>0</td>\n",
       "      <td>0</td>\n",
       "      <td>0</td>\n",
       "    </tr>\n",
       "    <tr>\n",
       "      <td>1297</td>\n",
       "      <td>0</td>\n",
       "      <td>0</td>\n",
       "      <td>0</td>\n",
       "      <td>0</td>\n",
       "      <td>0</td>\n",
       "      <td>0</td>\n",
       "      <td>0</td>\n",
       "      <td>0</td>\n",
       "      <td>0</td>\n",
       "      <td>0</td>\n",
       "      <td>...</td>\n",
       "      <td>0</td>\n",
       "      <td>0</td>\n",
       "      <td>0</td>\n",
       "      <td>0</td>\n",
       "      <td>0</td>\n",
       "      <td>0</td>\n",
       "      <td>0</td>\n",
       "      <td>0</td>\n",
       "      <td>0</td>\n",
       "      <td>0</td>\n",
       "    </tr>\n",
       "  </tbody>\n",
       "</table>\n",
       "<p>1283 rows × 6931 columns</p>\n",
       "</div>"
      ],
      "text/plain": [
       "      aaa  ab  abandon  abandoned  abd  abdomen  abdominal  ability  ablaze  \\\n",
       "0       0   0        0          0    0        0          0        0       0   \n",
       "1       0   0        0          0    0        0          0        0       0   \n",
       "2       0   0        0          0    0        0          0        0       0   \n",
       "3       0   0        0          0    0        0          0        0       0   \n",
       "4       0   0        0          0    0        0          0        0       0   \n",
       "...   ...  ..      ...        ...  ...      ...        ...      ...     ...   \n",
       "1293    0   0        0          0    0        0          0        0       0   \n",
       "1294    0   0        0          0    0        0          0        0       0   \n",
       "1295    0   0        0          0    0        0          0        0       0   \n",
       "1296    0   0        0          0    0        0          0        0       0   \n",
       "1297    0   0        0          0    0        0          0        0       0   \n",
       "\n",
       "      able  ...  zero  zimbabwe  ziplock  zombie  zone  zoning  zoo  zoom  \\\n",
       "0        0  ...     0         0        0       0     0       0    0     0   \n",
       "1        0  ...     0         0        0       0     0       0    0     0   \n",
       "2        0  ...     0         0        0       0     0       0    0     0   \n",
       "3        0  ...     0         0        0       0     0       0    0     0   \n",
       "4        0  ...     0         0        0       0     0       0    0     0   \n",
       "...    ...  ...   ...       ...      ...     ...   ...     ...  ...   ...   \n",
       "1293     0  ...     0         0        0       0     0       0    0     0   \n",
       "1294     1  ...     0         0        0       0     0       0    0     0   \n",
       "1295     0  ...     0         0        0       0     0       0    0     0   \n",
       "1296     0  ...     0         0        0       0     0       0    0     0   \n",
       "1297     0  ...     0         0        0       0     0       0    0     0   \n",
       "\n",
       "      zopiclon  última  \n",
       "0            0       0  \n",
       "1            0       0  \n",
       "2            0       0  \n",
       "3            0       0  \n",
       "4            0       0  \n",
       "...        ...     ...  \n",
       "1293         0       0  \n",
       "1294         0       0  \n",
       "1295         0       0  \n",
       "1296         0       0  \n",
       "1297         0       0  \n",
       "\n",
       "[1283 rows x 6931 columns]"
      ]
     },
     "execution_count": 4,
     "metadata": {},
     "output_type": "execute_result"
    }
   ],
   "source": [
    "data = pd.read_pickle('pickles/dtm.pkl')\n",
    "data"
   ]
  },
  {
   "cell_type": "code",
   "execution_count": 5,
   "metadata": {
    "hidden": true
   },
   "outputs": [
    {
     "data": {
      "text/html": [
       "<div>\n",
       "<style scoped>\n",
       "    .dataframe tbody tr th:only-of-type {\n",
       "        vertical-align: middle;\n",
       "    }\n",
       "\n",
       "    .dataframe tbody tr th {\n",
       "        vertical-align: top;\n",
       "    }\n",
       "\n",
       "    .dataframe thead th {\n",
       "        text-align: right;\n",
       "    }\n",
       "</style>\n",
       "<table border=\"1\" class=\"dataframe\">\n",
       "  <thead>\n",
       "    <tr style=\"text-align: right;\">\n",
       "      <th></th>\n",
       "      <th>0</th>\n",
       "      <th>1</th>\n",
       "      <th>2</th>\n",
       "      <th>3</th>\n",
       "      <th>4</th>\n",
       "      <th>5</th>\n",
       "      <th>6</th>\n",
       "      <th>7</th>\n",
       "      <th>8</th>\n",
       "      <th>9</th>\n",
       "      <th>...</th>\n",
       "      <th>1288</th>\n",
       "      <th>1289</th>\n",
       "      <th>1290</th>\n",
       "      <th>1291</th>\n",
       "      <th>1292</th>\n",
       "      <th>1293</th>\n",
       "      <th>1294</th>\n",
       "      <th>1295</th>\n",
       "      <th>1296</th>\n",
       "      <th>1297</th>\n",
       "    </tr>\n",
       "  </thead>\n",
       "  <tbody>\n",
       "    <tr>\n",
       "      <td>aaa</td>\n",
       "      <td>0</td>\n",
       "      <td>0</td>\n",
       "      <td>0</td>\n",
       "      <td>0</td>\n",
       "      <td>0</td>\n",
       "      <td>0</td>\n",
       "      <td>0</td>\n",
       "      <td>0</td>\n",
       "      <td>0</td>\n",
       "      <td>0</td>\n",
       "      <td>...</td>\n",
       "      <td>0</td>\n",
       "      <td>0</td>\n",
       "      <td>0</td>\n",
       "      <td>0</td>\n",
       "      <td>0</td>\n",
       "      <td>0</td>\n",
       "      <td>0</td>\n",
       "      <td>0</td>\n",
       "      <td>0</td>\n",
       "      <td>0</td>\n",
       "    </tr>\n",
       "    <tr>\n",
       "      <td>ab</td>\n",
       "      <td>0</td>\n",
       "      <td>0</td>\n",
       "      <td>0</td>\n",
       "      <td>0</td>\n",
       "      <td>0</td>\n",
       "      <td>0</td>\n",
       "      <td>0</td>\n",
       "      <td>0</td>\n",
       "      <td>0</td>\n",
       "      <td>0</td>\n",
       "      <td>...</td>\n",
       "      <td>0</td>\n",
       "      <td>0</td>\n",
       "      <td>0</td>\n",
       "      <td>0</td>\n",
       "      <td>0</td>\n",
       "      <td>0</td>\n",
       "      <td>0</td>\n",
       "      <td>0</td>\n",
       "      <td>0</td>\n",
       "      <td>0</td>\n",
       "    </tr>\n",
       "    <tr>\n",
       "      <td>abandon</td>\n",
       "      <td>0</td>\n",
       "      <td>0</td>\n",
       "      <td>0</td>\n",
       "      <td>0</td>\n",
       "      <td>0</td>\n",
       "      <td>0</td>\n",
       "      <td>0</td>\n",
       "      <td>0</td>\n",
       "      <td>0</td>\n",
       "      <td>0</td>\n",
       "      <td>...</td>\n",
       "      <td>0</td>\n",
       "      <td>0</td>\n",
       "      <td>0</td>\n",
       "      <td>0</td>\n",
       "      <td>0</td>\n",
       "      <td>0</td>\n",
       "      <td>0</td>\n",
       "      <td>0</td>\n",
       "      <td>0</td>\n",
       "      <td>0</td>\n",
       "    </tr>\n",
       "    <tr>\n",
       "      <td>abandoned</td>\n",
       "      <td>0</td>\n",
       "      <td>0</td>\n",
       "      <td>0</td>\n",
       "      <td>0</td>\n",
       "      <td>0</td>\n",
       "      <td>0</td>\n",
       "      <td>0</td>\n",
       "      <td>0</td>\n",
       "      <td>0</td>\n",
       "      <td>0</td>\n",
       "      <td>...</td>\n",
       "      <td>0</td>\n",
       "      <td>0</td>\n",
       "      <td>0</td>\n",
       "      <td>0</td>\n",
       "      <td>0</td>\n",
       "      <td>0</td>\n",
       "      <td>0</td>\n",
       "      <td>0</td>\n",
       "      <td>0</td>\n",
       "      <td>0</td>\n",
       "    </tr>\n",
       "    <tr>\n",
       "      <td>abd</td>\n",
       "      <td>0</td>\n",
       "      <td>0</td>\n",
       "      <td>0</td>\n",
       "      <td>0</td>\n",
       "      <td>0</td>\n",
       "      <td>0</td>\n",
       "      <td>0</td>\n",
       "      <td>0</td>\n",
       "      <td>0</td>\n",
       "      <td>0</td>\n",
       "      <td>...</td>\n",
       "      <td>0</td>\n",
       "      <td>0</td>\n",
       "      <td>0</td>\n",
       "      <td>0</td>\n",
       "      <td>0</td>\n",
       "      <td>0</td>\n",
       "      <td>0</td>\n",
       "      <td>0</td>\n",
       "      <td>0</td>\n",
       "      <td>0</td>\n",
       "    </tr>\n",
       "  </tbody>\n",
       "</table>\n",
       "<p>5 rows × 1283 columns</p>\n",
       "</div>"
      ],
      "text/plain": [
       "           0     1     2     3     4     5     6     7     8     9     ...  \\\n",
       "aaa           0     0     0     0     0     0     0     0     0     0  ...   \n",
       "ab            0     0     0     0     0     0     0     0     0     0  ...   \n",
       "abandon       0     0     0     0     0     0     0     0     0     0  ...   \n",
       "abandoned     0     0     0     0     0     0     0     0     0     0  ...   \n",
       "abd           0     0     0     0     0     0     0     0     0     0  ...   \n",
       "\n",
       "           1288  1289  1290  1291  1292  1293  1294  1295  1296  1297  \n",
       "aaa           0     0     0     0     0     0     0     0     0     0  \n",
       "ab            0     0     0     0     0     0     0     0     0     0  \n",
       "abandon       0     0     0     0     0     0     0     0     0     0  \n",
       "abandoned     0     0     0     0     0     0     0     0     0     0  \n",
       "abd           0     0     0     0     0     0     0     0     0     0  \n",
       "\n",
       "[5 rows x 1283 columns]"
      ]
     },
     "execution_count": 5,
     "metadata": {},
     "output_type": "execute_result"
    }
   ],
   "source": [
    "# One of the required inputs is a term-document matrix\n",
    "tdm = data.transpose()\n",
    "tdm.head()"
   ]
  },
  {
   "cell_type": "markdown",
   "metadata": {
    "heading_collapsed": true
   },
   "source": [
    "### Converting Data to Corpus"
   ]
  },
  {
   "cell_type": "code",
   "execution_count": 6,
   "metadata": {
    "hidden": true
   },
   "outputs": [],
   "source": [
    "# put the term-document matrix into a new gensim format, from df --> sparse matrix --> gensim corpus\n",
    "sparse_counts = scipy.sparse.csr_matrix(tdm)\n",
    "corpus = matutils.Sparse2Corpus(sparse_counts)\n",
    "pickle.dump(corpus,open('pickles/corpus.pkl','wb'))\n",
    "dictionary = corpora.Dictionary(df)\n",
    "pickle.dump(dictionary,open('pickles/dictionary.pkl','wb'))"
   ]
  },
  {
   "cell_type": "markdown",
   "metadata": {
    "heading_collapsed": true
   },
   "source": [
    "### Topic Modelling"
   ]
  },
  {
   "cell_type": "markdown",
   "metadata": {
    "heading_collapsed": true,
    "hidden": true
   },
   "source": [
    "#### Base Model"
   ]
  },
  {
   "cell_type": "code",
   "execution_count": 62,
   "metadata": {
    "hidden": true
   },
   "outputs": [
    {
     "data": {
      "text/plain": [
       "[(0,\n",
       "  '0.006*\"seekers\" + 0.005*\"faster\" + 0.005*\"intentional\" + 0.005*\"evaluation\" + 0.004*\"sertraline\" + 0.003*\"insist\" + 0.003*\"changing\" + 0.003*\"ledge\" + 0.003*\"supernatural\" + 0.003*\"theyre\"'),\n",
       " (1,\n",
       "  '0.034*\"magic\" + 0.015*\"seekers\" + 0.011*\"cite\" + 0.010*\"aide\" + 0.009*\"rob\" + 0.009*\"fading\" + 0.009*\"barking\" + 0.008*\"blacklist\" + 0.008*\"videogame\" + 0.008*\"everlasting\"'),\n",
       " (2,\n",
       "  '0.024*\"rob\" + 0.023*\"base\" + 0.022*\"blacklist\" + 0.015*\"magic\" + 0.014*\"aide\" + 0.013*\"seekers\" + 0.010*\"fading\" + 0.009*\"theyre\" + 0.009*\"fiend\" + 0.008*\"rot\"'),\n",
       " (3,\n",
       "  '0.022*\"magic\" + 0.008*\"rob\" + 0.007*\"videogame\" + 0.005*\"foggy\" + 0.005*\"supernatural\" + 0.004*\"sentence\" + 0.004*\"spouse\" + 0.004*\"everlasting\" + 0.004*\"theyre\" + 0.004*\"profit\"'),\n",
       " (4,\n",
       "  '0.008*\"gifted\" + 0.008*\"everlasting\" + 0.005*\"fading\" + 0.005*\"craved\" + 0.005*\"insist\" + 0.005*\"regularly\" + 0.004*\"keeping\" + 0.004*\"bunch\" + 0.004*\"helplessness\" + 0.004*\"adventure\"')]"
      ]
     },
     "execution_count": 62,
     "metadata": {},
     "output_type": "execute_result"
    }
   ],
   "source": [
    "# the corpus (term-document matrix) and dictionary (dictionary of location: term),\n",
    "# specify two other parameters as well - the number of topics and the number of passes\n",
    "# 5 topic\n",
    "lda = models.LdaModel(corpus=corpus, id2word=dictionary, num_topics=5, passes=50)\n",
    "lda.print_topics()"
   ]
  },
  {
   "cell_type": "code",
   "execution_count": 66,
   "metadata": {
    "hidden": true
   },
   "outputs": [
    {
     "data": {
      "text/plain": [
       "0.7560628806319644"
      ]
     },
     "execution_count": 66,
     "metadata": {},
     "output_type": "execute_result"
    }
   ],
   "source": [
    "coherence_score = models.CoherenceModel(model=lda, texts=df, dictionary=dictionary, coherence='c_v').get_coherence()\n",
    "coherence_score"
   ]
  },
  {
   "cell_type": "markdown",
   "metadata": {
    "heading_collapsed": true,
    "hidden": true
   },
   "source": [
    "#### Hyperparameter Tuning"
   ]
  },
  {
   "cell_type": "markdown",
   "metadata": {
    "heading_collapsed": true,
    "hidden": true
   },
   "source": [
    "##### Defining Function"
   ]
  },
  {
   "cell_type": "code",
   "execution_count": 88,
   "metadata": {
    "code_folding": [],
    "hidden": true
   },
   "outputs": [],
   "source": [
    "def grid_search_tuning(corpus, dictionary,topics_range=None, alpha=None, beta=None, random_state=100):\n",
    "    \n",
    "    # supporting function\n",
    "    def compute_coherence_values(corpus, dictionary, k, a, b, random_state=100):\n",
    "\n",
    "        lda_model = gensim.models.LdaMulticore(corpus=corpus,\n",
    "                                               id2word=dictionary,\n",
    "                                               num_topics=k, \n",
    "                                               random_state=random_state,\n",
    "                                               chunksize=100,\n",
    "                                               passes=10,\n",
    "                                               alpha=a,\n",
    "                                               eta=b,\n",
    "                                              )\n",
    "\n",
    "        coherence_model_lda = models.CoherenceModel(model=lda_model, texts=df, dictionary=dictionary, coherence='c_v')\n",
    "\n",
    "        return coherence_model_lda.get_coherence()\n",
    "\n",
    "    # Topics range\n",
    "    if topics_range is None:\n",
    "        min_topics = 3\n",
    "        max_topics = 5\n",
    "        step_size = 1\n",
    "        topics_range = range(min_topics, max_topics, step_size)\n",
    "        print('Using default topics range: ',topics_range)\n",
    "    else:\n",
    "        print('topics_range: ',topics_range)\n",
    "\n",
    "    # Alpha parameter\n",
    "    if alpha is None:\n",
    "        alpha = list(np.arange(0.01, 1, 0.3))\n",
    "        alpha.append('symmetric')\n",
    "        alpha.append('asymmetric')\n",
    "        print('Using default alpha list: ',alpha)\n",
    "    else:\n",
    "        print('alpha: ',alpha)\n",
    "\n",
    "    # Beta parameter\n",
    "    if beta is None:\n",
    "        beta = list(np.arange(0.01, 1, 0.3))\n",
    "        beta.append('symmetric')\n",
    "        print('Using default beta list: ',beta)\n",
    "    else:\n",
    "        print('beta: ',beta)\n",
    "\n",
    "    model_results = {\n",
    "        'Topics': [],\n",
    "        'Alpha': [],\n",
    "        'Beta': [],\n",
    "        'Coherence': []\n",
    "    }\n",
    "\n",
    "    # Can take a long time to run\n",
    "    if 1 == 1:\n",
    "        pbar = tqdm(total=len(topics_range)*len(alpha)*len(beta))\n",
    "        # iterate through number of topics\n",
    "        for k in topics_range:\n",
    "            # iterate through alpha values\n",
    "            for a in alpha:\n",
    "                # iterare through beta values\n",
    "                for b in beta:\n",
    "                    # get the coherence score for the given parameters\n",
    "                    cv = compute_coherence_values(corpus=corpus, dictionary=dictionary, k=k, a=a, b=b, random_state=random_state)\n",
    "                    # Save the model results\n",
    "                    model_results['Topics'].append(k)\n",
    "                    model_results['Alpha'].append(a)\n",
    "                    model_results['Beta'].append(b)\n",
    "                    model_results['Coherence'].append(cv)\n",
    "\n",
    "                    pbar.update(1)\n",
    "#         pd.DataFrame(model_results).to_csv('outputs/lda_tuning_results.csv', index=False)\n",
    "        pbar.close()\n",
    "    return model_results"
   ]
  },
  {
   "cell_type": "markdown",
   "metadata": {
    "heading_collapsed": true,
    "hidden": true
   },
   "source": [
    "##### Perform Tuning"
   ]
  },
  {
   "cell_type": "code",
   "execution_count": 89,
   "metadata": {
    "hidden": true
   },
   "outputs": [
    {
     "name": "stdout",
     "output_type": "stream",
     "text": [
      "Using default topics range:  range(3, 5)\n",
      "Using default alpha list:  [0.01, 0.31, 0.61, 0.9099999999999999, 'symmetric', 'asymmetric']\n",
      "Using default beta list:  [0.01, 0.31, 0.61, 0.9099999999999999, 'symmetric']\n"
     ]
    },
    {
     "data": {
      "application/vnd.jupyter.widget-view+json": {
       "model_id": "641aa6a92f474e78aa33cc5b06cb2b0d",
       "version_major": 2,
       "version_minor": 0
      },
      "text/plain": [
       "HBox(children=(HTML(value=''), FloatProgress(value=0.0, max=60.0), HTML(value='')))"
      ]
     },
     "metadata": {},
     "output_type": "display_data"
    },
    {
     "name": "stdout",
     "output_type": "stream",
     "text": [
      "\n",
      "\n"
     ]
    },
    {
     "data": {
      "text/html": [
       "<div>\n",
       "<style scoped>\n",
       "    .dataframe tbody tr th:only-of-type {\n",
       "        vertical-align: middle;\n",
       "    }\n",
       "\n",
       "    .dataframe tbody tr th {\n",
       "        vertical-align: top;\n",
       "    }\n",
       "\n",
       "    .dataframe thead th {\n",
       "        text-align: right;\n",
       "    }\n",
       "</style>\n",
       "<table border=\"1\" class=\"dataframe\">\n",
       "  <thead>\n",
       "    <tr style=\"text-align: right;\">\n",
       "      <th></th>\n",
       "      <th>Topics</th>\n",
       "      <th>Alpha</th>\n",
       "      <th>Beta</th>\n",
       "      <th>Coherence</th>\n",
       "    </tr>\n",
       "  </thead>\n",
       "  <tbody>\n",
       "    <tr>\n",
       "      <td>51</td>\n",
       "      <td>4</td>\n",
       "      <td>symmetric</td>\n",
       "      <td>0.31</td>\n",
       "      <td>0.756376</td>\n",
       "    </tr>\n",
       "    <tr>\n",
       "      <td>57</td>\n",
       "      <td>4</td>\n",
       "      <td>asymmetric</td>\n",
       "      <td>0.61</td>\n",
       "      <td>0.757776</td>\n",
       "    </tr>\n",
       "    <tr>\n",
       "      <td>20</td>\n",
       "      <td>3</td>\n",
       "      <td>symmetric</td>\n",
       "      <td>0.01</td>\n",
       "      <td>0.796256</td>\n",
       "    </tr>\n",
       "    <tr>\n",
       "      <td>37</td>\n",
       "      <td>4</td>\n",
       "      <td>0.31</td>\n",
       "      <td>0.61</td>\n",
       "      <td>0.769738</td>\n",
       "    </tr>\n",
       "    <tr>\n",
       "      <td>21</td>\n",
       "      <td>3</td>\n",
       "      <td>symmetric</td>\n",
       "      <td>0.31</td>\n",
       "      <td>0.737625</td>\n",
       "    </tr>\n",
       "  </tbody>\n",
       "</table>\n",
       "</div>"
      ],
      "text/plain": [
       "    Topics       Alpha  Beta  Coherence\n",
       "51       4   symmetric  0.31   0.756376\n",
       "57       4  asymmetric  0.61   0.757776\n",
       "20       3   symmetric  0.01   0.796256\n",
       "37       4        0.31  0.61   0.769738\n",
       "21       3   symmetric  0.31   0.737625"
      ]
     },
     "execution_count": 89,
     "metadata": {},
     "output_type": "execute_result"
    }
   ],
   "source": [
    "model_results = pd.DataFrame(grid_search_tuning(corpus,dictionary))\n",
    "model_results.sample(5)"
   ]
  },
  {
   "cell_type": "code",
   "execution_count": 93,
   "metadata": {
    "hidden": true
   },
   "outputs": [
    {
     "data": {
      "text/html": [
       "<div>\n",
       "<style scoped>\n",
       "    .dataframe tbody tr th:only-of-type {\n",
       "        vertical-align: middle;\n",
       "    }\n",
       "\n",
       "    .dataframe tbody tr th {\n",
       "        vertical-align: top;\n",
       "    }\n",
       "\n",
       "    .dataframe thead th {\n",
       "        text-align: right;\n",
       "    }\n",
       "</style>\n",
       "<table border=\"1\" class=\"dataframe\">\n",
       "  <thead>\n",
       "    <tr style=\"text-align: right;\">\n",
       "      <th></th>\n",
       "      <th>Topics</th>\n",
       "      <th>Alpha</th>\n",
       "      <th>Beta</th>\n",
       "      <th>Coherence</th>\n",
       "    </tr>\n",
       "  </thead>\n",
       "  <tbody>\n",
       "    <tr>\n",
       "      <td>20</td>\n",
       "      <td>3</td>\n",
       "      <td>symmetric</td>\n",
       "      <td>0.01</td>\n",
       "      <td>0.796256</td>\n",
       "    </tr>\n",
       "    <tr>\n",
       "      <td>25</td>\n",
       "      <td>3</td>\n",
       "      <td>asymmetric</td>\n",
       "      <td>0.01</td>\n",
       "      <td>0.787444</td>\n",
       "    </tr>\n",
       "    <tr>\n",
       "      <td>15</td>\n",
       "      <td>3</td>\n",
       "      <td>0.91</td>\n",
       "      <td>0.01</td>\n",
       "      <td>0.785998</td>\n",
       "    </tr>\n",
       "    <tr>\n",
       "      <td>35</td>\n",
       "      <td>4</td>\n",
       "      <td>0.31</td>\n",
       "      <td>0.01</td>\n",
       "      <td>0.784776</td>\n",
       "    </tr>\n",
       "    <tr>\n",
       "      <td>0</td>\n",
       "      <td>3</td>\n",
       "      <td>0.01</td>\n",
       "      <td>0.01</td>\n",
       "      <td>0.783088</td>\n",
       "    </tr>\n",
       "  </tbody>\n",
       "</table>\n",
       "</div>"
      ],
      "text/plain": [
       "    Topics       Alpha  Beta  Coherence\n",
       "20       3   symmetric  0.01   0.796256\n",
       "25       3  asymmetric  0.01   0.787444\n",
       "15       3        0.91  0.01   0.785998\n",
       "35       4        0.31  0.01   0.784776\n",
       "0        3        0.01  0.01   0.783088"
      ]
     },
     "execution_count": 93,
     "metadata": {},
     "output_type": "execute_result"
    }
   ],
   "source": [
    "top_models = model_results.sort_values('Coherence',ascending=False).head(5)\n",
    "# tuning_results['Group'] = tuning_results[['Alpha','Beta']].apply(lambda x: ', '.join(x.astype(str)), axis=1)\n",
    "# sns.lineplot(x='Topics', y='Coherence', data=tuning_results, hue='Group')\n",
    "top_models"
   ]
  },
  {
   "cell_type": "markdown",
   "metadata": {
    "heading_collapsed": true,
    "hidden": true
   },
   "source": [
    "#### Results and Visualization"
   ]
  },
  {
   "cell_type": "code",
   "execution_count": 101,
   "metadata": {
    "hidden": true
   },
   "outputs": [
    {
     "name": "stdout",
     "output_type": "stream",
     "text": [
      "\n"
     ]
    },
    {
     "data": {
      "text/plain": [
       "[(0,\n",
       "  '0.026*\"magic\" + 0.019*\"rob\" + 0.013*\"base\" + 0.012*\"seekers\" + 0.011*\"fading\" + 0.011*\"blacklist\" + 0.009*\"aide\" + 0.008*\"theyre\" + 0.008*\"cite\" + 0.008*\"rot\"'),\n",
       " (1,\n",
       "  '0.015*\"magic\" + 0.013*\"gifted\" + 0.012*\"rob\" + 0.011*\"theyre\" + 0.011*\"monitor\" + 0.010*\"base\" + 0.009*\"fading\" + 0.008*\"incarnate\" + 0.007*\"fiend\" + 0.007*\"insist\"'),\n",
       " (2,\n",
       "  '0.024*\"blacklist\" + 0.021*\"base\" + 0.019*\"magic\" + 0.018*\"rob\" + 0.017*\"seekers\" + 0.016*\"aide\" + 0.012*\"barking\" + 0.011*\"fiend\" + 0.011*\"everlasting\" + 0.009*\"chase\"')]"
      ]
     },
     "execution_count": 101,
     "metadata": {},
     "output_type": "execute_result"
    }
   ],
   "source": [
    "# Best Performing Topic\n",
    "[num_topics, alpha, eta] = top_models.iloc[0][['Topics','Alpha','Beta']]\n",
    "\n",
    "lda = models.LdaModel(corpus=corpus, id2word=dictionary, num_topics=num_topics, passes=100, alpha=alpha, eta=eta)\n",
    "lda.save('models/lda.gensim')\n",
    "lda.print_topics()"
   ]
  },
  {
   "cell_type": "code",
   "execution_count": 147,
   "metadata": {
    "hidden": true
   },
   "outputs": [
    {
     "data": {
      "text/plain": [
       "0.7909998039469857"
      ]
     },
     "execution_count": 147,
     "metadata": {},
     "output_type": "execute_result"
    }
   ],
   "source": [
    "coherence_score = models.CoherenceModel(model=lda, texts=df, dictionary=dictionary, coherence='c_v').get_coherence()\n",
    "coherence_score"
   ]
  },
  {
   "cell_type": "code",
   "execution_count": 102,
   "metadata": {
    "hidden": true
   },
   "outputs": [
    {
     "data": {
      "text/html": [
       "\n",
       "<link rel=\"stylesheet\" type=\"text/css\" href=\"https://cdn.rawgit.com/bmabey/pyLDAvis/files/ldavis.v1.0.0.css\">\n",
       "\n",
       "\n",
       "<div id=\"ldavis_el81646300010967393770977\"></div>\n",
       "<script type=\"text/javascript\">\n",
       "\n",
       "var ldavis_el81646300010967393770977_data = {\"mdsDat\": {\"x\": [-0.05645314891754768, 0.15829349280485305, -0.10184034388730534], \"y\": [0.07793345796550051, -0.01359754308138497, -0.06433591488411561], \"topics\": [1, 2, 3], \"cluster\": [1, 1, 1], \"Freq\": [49.33115768432617, 10.976973533630371, 39.69186782836914]}, \"tinfo\": {\"Category\": [\"Default\", \"Default\", \"Default\", \"Default\", \"Default\", \"Default\", \"Default\", \"Default\", \"Default\", \"Default\", \"Default\", \"Default\", \"Default\", \"Default\", \"Default\", \"Default\", \"Default\", \"Default\", \"Default\", \"Default\", \"Default\", \"Default\", \"Default\", \"Default\", \"Default\", \"Default\", \"Default\", \"Default\", \"Default\", \"Default\", \"Topic1\", \"Topic1\", \"Topic1\", \"Topic1\", \"Topic1\", \"Topic1\", \"Topic1\", \"Topic1\", \"Topic1\", \"Topic1\", \"Topic1\", \"Topic1\", \"Topic1\", \"Topic1\", \"Topic1\", \"Topic1\", \"Topic1\", \"Topic1\", \"Topic1\", \"Topic1\", \"Topic1\", \"Topic1\", \"Topic1\", \"Topic1\", \"Topic1\", \"Topic1\", \"Topic1\", \"Topic1\", \"Topic1\", \"Topic1\", \"Topic1\", \"Topic1\", \"Topic1\", \"Topic1\", \"Topic1\", \"Topic1\", \"Topic1\", \"Topic1\", \"Topic1\", \"Topic1\", \"Topic1\", \"Topic1\", \"Topic1\", \"Topic1\", \"Topic1\", \"Topic1\", \"Topic1\", \"Topic1\", \"Topic1\", \"Topic1\", \"Topic1\", \"Topic1\", \"Topic1\", \"Topic1\", \"Topic1\", \"Topic1\", \"Topic1\", \"Topic1\", \"Topic1\", \"Topic1\", \"Topic1\", \"Topic1\", \"Topic1\", \"Topic1\", \"Topic1\", \"Topic1\", \"Topic1\", \"Topic1\", \"Topic1\", \"Topic1\", \"Topic1\", \"Topic1\", \"Topic1\", \"Topic1\", \"Topic1\", \"Topic1\", \"Topic1\", \"Topic1\", \"Topic1\", \"Topic1\", \"Topic1\", \"Topic1\", \"Topic1\", \"Topic1\", \"Topic1\", \"Topic1\", \"Topic1\", \"Topic1\", \"Topic2\", \"Topic2\", \"Topic2\", \"Topic2\", \"Topic2\", \"Topic2\", \"Topic2\", \"Topic2\", \"Topic2\", \"Topic2\", \"Topic2\", \"Topic2\", \"Topic2\", \"Topic2\", \"Topic2\", \"Topic2\", \"Topic2\", \"Topic2\", \"Topic2\", \"Topic2\", \"Topic2\", \"Topic2\", \"Topic2\", \"Topic2\", \"Topic2\", \"Topic2\", \"Topic2\", \"Topic2\", \"Topic2\", \"Topic2\", \"Topic2\", \"Topic2\", \"Topic2\", \"Topic2\", \"Topic2\", \"Topic2\", \"Topic2\", \"Topic2\", \"Topic2\", \"Topic2\", \"Topic2\", \"Topic2\", \"Topic2\", \"Topic2\", \"Topic2\", \"Topic2\", \"Topic2\", \"Topic2\", \"Topic2\", \"Topic2\", \"Topic2\", \"Topic2\", \"Topic2\", \"Topic2\", \"Topic2\", \"Topic2\", \"Topic2\", \"Topic2\", \"Topic2\", \"Topic2\", \"Topic2\", \"Topic2\", \"Topic2\", \"Topic2\", \"Topic2\", \"Topic2\", \"Topic2\", \"Topic2\", \"Topic2\", \"Topic2\", \"Topic2\", \"Topic2\", \"Topic2\", \"Topic2\", \"Topic2\", \"Topic2\", \"Topic2\", \"Topic2\", \"Topic2\", \"Topic2\", \"Topic3\", \"Topic3\", \"Topic3\", \"Topic3\", \"Topic3\", \"Topic3\", \"Topic3\", \"Topic3\", \"Topic3\", \"Topic3\", \"Topic3\", \"Topic3\", \"Topic3\", \"Topic3\", \"Topic3\", \"Topic3\", \"Topic3\", \"Topic3\", \"Topic3\", \"Topic3\", \"Topic3\", \"Topic3\", \"Topic3\", \"Topic3\", \"Topic3\", \"Topic3\", \"Topic3\", \"Topic3\", \"Topic3\", \"Topic3\", \"Topic3\", \"Topic3\", \"Topic3\", \"Topic3\", \"Topic3\", \"Topic3\", \"Topic3\", \"Topic3\", \"Topic3\", \"Topic3\", \"Topic3\", \"Topic3\", \"Topic3\", \"Topic3\", \"Topic3\", \"Topic3\", \"Topic3\", \"Topic3\", \"Topic3\", \"Topic3\", \"Topic3\", \"Topic3\", \"Topic3\", \"Topic3\", \"Topic3\", \"Topic3\", \"Topic3\", \"Topic3\", \"Topic3\", \"Topic3\", \"Topic3\", \"Topic3\", \"Topic3\", \"Topic3\", \"Topic3\", \"Topic3\", \"Topic3\", \"Topic3\", \"Topic3\", \"Topic3\", \"Topic3\", \"Topic3\"], \"Freq\": [218.0, 227.0, 535.0, 274.0, 313.0, 558.0, 268.0, 416.0, 273.0, 1184.0, 1665.0, 700.0, 233.0, 1186.0, 240.0, 421.0, 206.0, 1358.0, 161.0, 111.0, 422.0, 88.0, 143.0, 147.0, 164.0, 233.0, 67.0, 884.0, 135.0, 111.0, 32.826053619384766, 20.89000701904297, 19.89379119873047, 17.909103393554688, 17.907005310058594, 17.907283782958984, 16.912181854248047, 16.91309928894043, 16.91126823425293, 14.923072814941406, 13.927565574645996, 14.91909408569336, 13.926143646240234, 12.933558464050293, 12.931913375854492, 12.932674407958984, 12.932324409484863, 15.909996032714844, 11.939029693603516, 11.937732696533203, 10.946084976196289, 10.944896697998047, 10.943824768066406, 10.944329261779785, 10.9429292678833, 10.943731307983398, 10.944520950317383, 10.943021774291992, 10.941951751708984, 10.94007396697998, 19.84005355834961, 17.848909378051758, 13.860790252685547, 79.94084167480469, 24.555801391601562, 38.467796325683594, 63.352577209472656, 22.78323745727539, 37.88032531738281, 20.763975143432617, 34.14792251586914, 21.596681594848633, 54.84800338745117, 981.4517822265625, 32.098976135253906, 216.1910858154297, 143.88145446777344, 86.11032104492188, 43.034889221191406, 421.0399475097656, 112.72552490234375, 715.0743408203125, 44.81329345703125, 260.9051208496094, 313.98944091796875, 143.1285858154297, 164.561279296875, 106.0726089477539, 95.28062438964844, 295.3147888183594, 297.57611083984375, 87.64703369140625, 143.756591796875, 103.37068939208984, 135.0668182373047, 227.73635864257812, 436.9234619140625, 159.9934539794922, 268.44342041015625, 98.26538848876953, 157.33212280273438, 468.6048278808594, 219.45799255371094, 220.55088806152344, 351.3367614746094, 419.98345947265625, 118.97412872314453, 136.6627197265625, 230.9544677734375, 166.2093048095703, 214.03656005859375, 160.352294921875, 143.473876953125, 165.5551300048828, 159.89146423339844, 148.30526733398438, 146.9896240234375, 143.99562072753906, 13.343708038330078, 11.295487403869629, 11.294955253601074, 10.268802642822266, 11.289261817932129, 9.24525260925293, 9.243112564086914, 8.21489429473877, 8.214552879333496, 8.215920448303223, 8.21268367767334, 11.281538963317871, 7.191448211669922, 7.191801071166992, 7.189603805541992, 7.189458847045898, 7.184442043304443, 9.231184005737305, 6.163851737976074, 6.160964488983154, 6.161375522613525, 6.162402629852295, 6.157755374908447, 5.139843940734863, 5.137886047363281, 5.136805057525635, 4.114041805267334, 4.112911224365234, 4.112854957580566, 4.112958908081055, 10.187962532043457, 9.160473823547363, 5.11745548248291, 16.019079208374023, 19.867807388305664, 28.628938674926758, 19.984601974487305, 8.307099342346191, 110.7424087524414, 87.06453704833984, 15.662832260131836, 13.461962699890137, 31.812397003173828, 65.52727508544922, 32.55071258544922, 14.937603950500488, 36.778892517089844, 25.145254135131836, 20.516815185546875, 88.95259094238281, 56.09300231933594, 57.96999740600586, 48.785316467285156, 123.98649597167969, 17.23263931274414, 20.532217025756836, 101.29618835449219, 73.69011688232422, 40.713043212890625, 55.17720031738281, 33.65046691894531, 85.25699615478516, 58.23163604736328, 33.71259689331055, 38.24751281738281, 22.816293716430664, 28.19929313659668, 45.429725646972656, 29.742433547973633, 30.458126068115234, 40.67860794067383, 37.44004821777344, 50.67708969116211, 41.075927734375, 48.035587310791016, 30.90863609313965, 32.21977615356445, 33.39069366455078, 31.148828506469727, 30.98555564880371, 28.842018127441406, 23.872953414916992, 21.87570571899414, 24.85573387145996, 13.928121566772461, 11.938755989074707, 11.932882308959961, 10.944451332092285, 10.942671775817871, 10.941539764404297, 9.950173377990723, 9.950101852416992, 9.948775291442871, 9.948448181152344, 9.948922157287598, 9.945486068725586, 8.954019546508789, 8.953911781311035, 8.954667091369629, 9.944513320922852, 7.960420608520508, 7.95900821685791, 7.955456733703613, 6.966503620147705, 6.963800430297852, 6.962723255157471, 6.9610137939453125, 6.961184024810791, 6.964751243591309, 6.96505880355835, 10.908469200134277, 6.964625835418701, 28.35001564025879, 150.32666015625, 234.82398986816406, 12.631172180175781, 10.745733261108398, 206.6223602294922, 39.06070327758789, 61.75880432128906, 16.852855682373047, 85.5388412475586, 207.10064697265625, 718.0100708007812, 281.4559326171875, 274.2292175292969, 279.20318603515625, 340.6466979980469, 361.9808654785156, 630.3411254882812, 138.55992126464844, 482.7500915527344, 516.537353515625, 242.47097778320312, 332.6653747558594, 231.47592163085938, 117.7159423828125, 147.21456909179688, 199.73284912109375, 119.64868927001953, 225.72140502929688, 542.403564453125, 172.03619384765625, 215.97735595703125, 560.3851928710938, 170.98245239257812, 230.77403259277344, 224.867919921875, 226.3598175048828, 196.1460418701172, 145.7242431640625, 205.77621459960938], \"Term\": [\"gifted\", \"monitor\", \"theyre\", \"incarnate\", \"insist\", \"fiend\", \"rhythm\", \"chase\", \"profit\", \"base\", \"magic\", \"fading\", \"fortunate\", \"blacklist\", \"locking\", \"drank\", \"studio\", \"rob\", \"impulse\", \"multiply\", \"excuse\", \"wow\", \"abuse\", \"evaluation\", \"someoneyou\", \"stake\", \"dressing\", \"aide\", \"statistically\", \"fed\", \"sht\", \"rollercoast\", \"omen\", \"allegation\", \"clarity\", \"porridge\", \"week\", \"fortunately\", \"catch\", \"between\", \"american\", \"cheered\", \"dispenser\", \"sky\", \"maker\", \"stab\", \"tension\", \"swim\", \"aligned\", \"disease\", \"two\", \"russian\", \"recluse\", \"parasite\", \"martial\", \"shuffle\", \"corny\", \"horrific\", \"shitshow\", \"leech\", \"pharmacydrug\", \"sunburned\", \"valuable\", \"afternoon\", \"longer\", \"solo\", \"leasing\", \"log\", \"arguement\", \"eye\", \"determine\", \"milk\", \"wait\", \"magic\", \"intentionally\", \"insist\", \"notebook\", \"succeeding\", \"gazing\", \"fading\", \"sorting\", \"rob\", \"intentional\", \"flow\", \"theyre\", \"attract\", \"private\", \"he\", \"teenager\", \"rot\", \"cite\", \"belong\", \"german\", \"fortune\", \"husk\", \"drank\", \"seekers\", \"incarnate\", \"estranged\", \"evaluation\", \"craved\", \"base\", \"peri\", \"amigo\", \"aide\", \"blacklist\", \"looking\", \"foggy\", \"everlasting\", \"sentence\", \"barking\", \"videogame\", \"suffice\", \"supernatural\", \"fiend\", \"excuse\", \"faster\", \"verbally\", \"just\", \"office\", \"dull\", \"naturally\", \"shit\", \"increased\", \"toi\", \"hoped\", \"insecurity\", \"depersonalization\", \"resurfaced\", \"beneath\", \"notified\", \"vapor\", \"appointment\", \"zero\", \"world\", \"inserts\", \"modest\", \"recaps\", \"salary\", \"conservative\", \"effected\", \"frantically\", \"compulsion\", \"printed\", \"often\", \"obtainable\", \"buddhist\", \"robbery\", \"disappear\", \"curiosity\", \"naive\", \"napkin\", \"hometown\", \"shown\", \"rain\", \"mania\", \"gifted\", \"monitor\", \"obligated\", \"fck\", \"dressing\", \"incarnate\", \"wow\", \"silica\", \"multiply\", \"bound\", \"conduct\", \"theyre\", \"profit\", \"insist\", \"fortunate\", \"magic\", \"thesis\", \"hitting\", \"rob\", \"fading\", \"studio\", \"drank\", \"abuse\", \"base\", \"fiend\", \"someoneyou\", \"stake\", \"sufferingphilosophersphilosophiesi\", \"fed\", \"chase\", \"statistically\", \"evaluation\", \"videogame\", \"possession\", \"aide\", \"estranged\", \"blacklist\", \"changing\", \"ledge\", \"regularly\", \"annoyingly\", \"wording\", \"hazehaz\", \"spouse\", \"nose\", \"throw\", \"bother\", \"closet\", \"ashamed\", \"foreverhow\", \"dopamine\", \"point\", \"logical\", \"sliced\", \"meditate\", \"touching\", \"coffee\", \"illness\", \"city\", \"points\", \"baby\", \"sane\", \"goddamn\", \"easy\", \"plane\", \"moving\", \"acromegaly\", \"hurtsand\", \"evening\", \"life\", \"brush\", \"luv\", \"candle\", \"loosingeach\", \"vocal\", \"impulse\", \"rhythm\", \"boot\", \"hungry\", \"locking\", \"marrow\", \"essentially\", \"overseas\", \"exercise\", \"chatting\", \"blacklist\", \"chase\", \"excuse\", \"anger\", \"fiend\", \"barking\", \"base\", \"playstat\", \"aide\", \"seekers\", \"faster\", \"everlasting\", \"sole\", \"appreciation\", \"instrument\", \"verbally\", \"resent\", \"supernatural\", \"rob\", \"regularly\", \"amigo\", \"magic\", \"sentence\", \"rot\", \"estranged\", \"cite\", \"peri\", \"refusing\", \"fading\"], \"Total\": [218.0, 227.0, 535.0, 274.0, 313.0, 558.0, 268.0, 416.0, 273.0, 1184.0, 1665.0, 700.0, 233.0, 1186.0, 240.0, 421.0, 206.0, 1358.0, 161.0, 111.0, 422.0, 88.0, 143.0, 147.0, 164.0, 233.0, 67.0, 884.0, 135.0, 111.0, 32.84626388549805, 20.910213470458984, 19.91534996032715, 17.929309844970703, 17.92721176147461, 17.927492141723633, 16.932390213012695, 16.933305740356445, 16.931474685668945, 14.943336486816406, 13.947772979736328, 14.940820693969727, 13.947017669677734, 12.953767776489258, 12.95212173461914, 12.952886581420898, 12.952962875366211, 15.935847282409668, 11.959238052368164, 11.958056449890137, 10.966292381286621, 10.965105056762695, 10.964032173156738, 10.964537620544434, 10.963136672973633, 10.963939666748047, 10.96473217010498, 10.96323013305664, 10.962160110473633, 10.960286140441895, 19.9145450592041, 17.924468994140625, 13.949080467224121, 87.79291534423828, 25.879989624023438, 41.90107727050781, 71.7634506225586, 23.92687225341797, 41.79547882080078, 21.939390182495117, 37.87748718261719, 22.939733505249023, 64.71773529052734, 1665.823486328125, 35.82801055908203, 313.12591552734375, 202.49227905273438, 112.62741088867188, 50.74767303466797, 700.5062866210938, 153.8118438720703, 1358.774169921875, 53.80546951293945, 428.4067077636719, 535.87353515625, 213.24642944335938, 257.6537780761719, 154.2899932861328, 135.71141052246094, 541.555908203125, 547.7822265625, 123.64310455322266, 226.30874633789062, 151.48887634277344, 217.361083984375, 421.44287109375, 971.2779541015625, 274.56524658203125, 534.3872680664062, 147.16954040527344, 272.82269287109375, 1184.202880859375, 442.44512939453125, 455.1190185546875, 884.763916015625, 1186.029052734375, 193.51617431640625, 245.49594116210938, 592.686767578125, 340.26275634765625, 602.5510864257812, 345.402099609375, 295.8606872558594, 418.5833740234375, 558.769775390625, 422.71539306640625, 403.2451171875, 350.3131408691406, 13.363985061645508, 11.315380096435547, 11.31485366821289, 10.288694381713867, 11.312381744384766, 9.265144348144531, 9.263038635253906, 8.234786033630371, 8.234472274780273, 8.235864639282227, 8.233190536499023, 11.310348510742188, 7.211339473724365, 7.211693286895752, 7.209495544433594, 7.209355354309082, 7.205596446990967, 9.260455131530762, 6.183744430541992, 6.180857181549072, 6.181271076202393, 6.182338714599609, 6.17777156829834, 5.159735202789307, 5.157783031463623, 5.156704902648926, 4.133933067321777, 4.132802963256836, 4.13274621963501, 4.132850646972656, 10.283555030822754, 9.256776809692383, 5.155598163604736, 17.422880172729492, 22.51715087890625, 40.688167572021484, 26.49596405029297, 9.22893238067627, 218.2724609375, 227.48129272460938, 22.382116317749023, 18.34113121032715, 67.63888549804688, 274.56524658203125, 88.55049133300781, 24.350467681884766, 111.55569458007812, 59.47620391845703, 42.42596435546875, 535.87353515625, 273.27484130859375, 313.12591552734375, 233.2628173828125, 1665.823486328125, 33.374820709228516, 48.394378662109375, 1358.774169921875, 700.5062866210938, 206.15704345703125, 421.44287109375, 143.28741455078125, 1184.202880859375, 558.769775390625, 164.17630004882812, 233.9310302734375, 65.37220001220703, 111.28845977783203, 416.14886474609375, 135.2081756591797, 147.16954040527344, 345.402099609375, 303.52880859375, 884.763916015625, 534.3872680664062, 1186.029052734375, 169.06044006347656, 241.70529174804688, 318.3181457519531, 191.9416046142578, 255.58969116210938, 28.863508224487305, 23.893163681030273, 21.90158462524414, 24.88566017150879, 13.948330879211426, 11.958965301513672, 11.953107833862305, 10.96466064453125, 10.962881088256836, 10.961755752563477, 9.970382690429688, 9.970311164855957, 9.968984603881836, 9.968657493591309, 9.969133377075195, 9.96766185760498, 8.974263191223145, 8.974166870117188, 8.974971771240234, 9.967875480651855, 7.980635166168213, 7.979335784912109, 7.977313995361328, 6.9867143630981445, 6.984009742736816, 6.982932090759277, 6.9812235832214355, 6.981395244598389, 6.984987735748291, 6.985296726226807, 10.964482307434082, 6.984882354736328, 28.863073348999023, 161.41177368164062, 268.1576232910156, 12.950984001159668, 10.96061897277832, 240.05804443359375, 43.780479431152344, 72.62207794189453, 17.921180725097656, 106.76994323730469, 284.6935729980469, 1186.029052734375, 416.14886474609375, 422.71539306640625, 444.392333984375, 558.769775390625, 602.5510864257812, 1184.202880859375, 206.89036560058594, 884.763916015625, 971.2779541015625, 403.2451171875, 592.686767578125, 388.79144287109375, 178.12001037597656, 242.19984436035156, 350.3131408691406, 192.28245544433594, 418.5833740234375, 1358.774169921875, 318.3181457519531, 455.1190185546875, 1665.823486328125, 340.26275634765625, 541.555908203125, 534.3872680664062, 547.7822265625, 442.44512939453125, 290.8221130371094, 700.5062866210938], \"loglift\": [30.0, 29.0, 28.0, 27.0, 26.0, 25.0, 24.0, 23.0, 22.0, 21.0, 20.0, 19.0, 18.0, 17.0, 16.0, 15.0, 14.0, 13.0, 12.0, 11.0, 10.0, 9.0, 8.0, 7.0, 6.0, 5.0, 4.0, 3.0, 2.0, 1.0, 0.7059999704360962, 0.7056000232696533, 0.7055000066757202, 0.7055000066757202, 0.7055000066757202, 0.7055000066757202, 0.7053999900817871, 0.7053999900817871, 0.7053999900817871, 0.705299973487854, 0.7052000164985657, 0.7052000164985657, 0.7050999999046326, 0.7050999999046326, 0.7050999999046326, 0.7050999999046326, 0.7049999833106995, 0.7049999833106995, 0.7049000263214111, 0.7049000263214111, 0.704800009727478, 0.704800009727478, 0.704800009727478, 0.704800009727478, 0.704800009727478, 0.704800009727478, 0.704800009727478, 0.704800009727478, 0.704800009727478, 0.704800009727478, 0.7028999924659729, 0.7024000287055969, 0.7002999782562256, 0.6129000186920166, 0.6541000008583069, 0.6211000084877014, 0.5820000171661377, 0.6575999855995178, 0.608299970626831, 0.6516000032424927, 0.6029999852180481, 0.6463000178337097, 0.541100025177002, 0.17759999632835388, 0.5967000126838684, 0.3361999988555908, 0.36489999294281006, 0.4381999969482422, 0.5418000221252441, 0.19750000536441803, 0.39579999446868896, 0.06469999998807907, 0.5236999988555908, 0.21070000529289246, 0.1720999926328659, 0.30790001153945923, 0.2583000063896179, 0.3319000005722046, 0.3528999984264374, 0.10019999742507935, 0.09640000015497208, 0.36250001192092896, 0.25279998779296875, 0.32440000772476196, 0.23080000281333923, 0.09109999984502792, -0.09220000356435776, 0.16660000383853912, 0.01810000091791153, 0.302700012922287, 0.15620000660419464, -0.22050000727176666, 0.005499999970197678, -0.017799999564886093, -0.21699999272823334, -0.33149999380111694, 0.22020000219345093, 0.12080000340938568, -0.23579999804496765, -0.00989999994635582, -0.32839998602867126, -0.06069999933242798, -0.017100000753998756, -0.22100000083446503, -0.5446000099182129, -0.3407999873161316, -0.3025999963283539, -0.18240000307559967, 2.207900047302246, 2.2076001167297363, 2.2076001167297363, 2.20740008354187, 2.2072999477386475, 2.207200050354004, 2.207200050354004, 2.2070000171661377, 2.206899881362915, 2.206899881362915, 2.206899881362915, 2.2067999839782715, 2.2065999507904053, 2.2065999507904053, 2.2065999507904053, 2.2065999507904053, 2.206399917602539, 2.206199884414673, 2.2060999870300293, 2.2060999870300293, 2.2060999870300293, 2.2060999870300293, 2.2060999870300293, 2.2054998874664307, 2.2054998874664307, 2.2054998874664307, 2.2044999599456787, 2.2044999599456787, 2.2044999599456787, 2.2044999599456787, 2.200000047683716, 2.198899984359741, 2.201900005340576, 2.1254000663757324, 2.084199905395508, 1.8579000234603882, 1.927299976348877, 2.104099988937378, 1.5307999849319458, 1.2489999532699585, 1.8523999452590942, 1.9000999927520752, 1.4550000429153442, 0.7766000032424927, 1.2086000442504883, 1.7207000255584717, 1.0997999906539917, 1.3485000133514404, 1.4829000234603882, 0.41359999775886536, 0.6258999705314636, 0.5227000117301941, 0.644599974155426, -0.38850000500679016, 1.5484000444412231, 1.3519999980926514, -0.38690000772476196, -0.04259999841451645, 0.5873000025749207, 0.1762000024318695, 0.7605000138282776, -0.42179998755455017, -0.051899999380111694, 0.6262999773025513, 0.3984000086784363, 1.1567000150680542, 0.8364999890327454, -0.005499999970197678, 0.6951000094413757, 0.6341000199317932, 0.07039999961853027, 0.11659999936819077, -0.6504999995231628, -0.3562999963760376, -0.9970999956130981, 0.5101000070571899, 0.19419999420642853, -0.04540000110864639, 0.39100000262260437, 0.09929999709129333, 0.92330002784729, 0.9232000112533569, 0.9228000044822693, 0.9228000044822693, 0.9225999712944031, 0.9222999811172485, 0.9222999811172485, 0.9222000241279602, 0.9222000241279602, 0.9222000241279602, 0.921999990940094, 0.921999990940094, 0.921999990940094, 0.921999990940094, 0.921999990940094, 0.9218000173568726, 0.9218000173568726, 0.9218000173568726, 0.9218000173568726, 0.9217000007629395, 0.921500027179718, 0.921500027179718, 0.9212999939918518, 0.9211000204086304, 0.9211000204086304, 0.9211000204086304, 0.9211000204086304, 0.9211000204086304, 0.9211000204086304, 0.9211000204086304, 0.9189000129699707, 0.9211000204086304, 0.9060999751091003, 0.8529000282287598, 0.7912999987602234, 0.8989999890327454, 0.90420001745224, 0.7739999890327454, 0.8100000023841858, 0.7620000243186951, 0.8626000285148621, 0.7023000121116638, 0.6057999730110168, 0.4221000075340271, 0.5329999923706055, 0.49129998683929443, 0.4593000113964081, 0.42910000681877136, 0.41440001130104065, 0.29350000619888306, 0.5231000185012817, 0.3181999921798706, 0.29260000586509705, 0.4153999984264374, 0.3465000092983246, 0.40549999475479126, 0.5098000168800354, 0.4262000024318695, 0.362199991941452, 0.4496000111103058, 0.30640000104904175, 0.00570000009611249, 0.30869999527931213, 0.1785999983549118, -0.16539999842643738, 0.23589999973773956, 0.07100000232458115, 0.058400001376867294, 0.040300000458955765, 0.11060000211000443, 0.2329999953508377, -0.3009999990463257], \"logprob\": [30.0, 29.0, 28.0, 27.0, 26.0, 25.0, 24.0, 23.0, 22.0, 21.0, 20.0, 19.0, 18.0, 17.0, 16.0, 15.0, 14.0, 13.0, 12.0, 11.0, 10.0, 9.0, 8.0, 7.0, 6.0, 5.0, 4.0, 3.0, 2.0, 1.0, -7.030099868774414, -7.482100009918213, -7.530900001525879, -7.636000156402588, -7.636199951171875, -7.636099815368652, -7.693299770355225, -7.693299770355225, -7.693399906158447, -7.818399906158447, -7.887499809265137, -7.818699836730957, -7.887599945068359, -7.96150016784668, -7.961599826812744, -7.961599826812744, -7.961599826812744, -7.75439977645874, -8.041500091552734, -8.041600227355957, -8.128399848937988, -8.128499984741211, -8.128600120544434, -8.128499984741211, -8.128700256347656, -8.128600120544434, -8.128499984741211, -8.128600120544434, -8.128700256347656, -8.128899574279785, -7.533599853515625, -7.639400005340576, -7.892300128936768, -6.140100002288818, -7.320400238037109, -6.871500015258789, -6.372600078582764, -7.395299911499023, -6.886899948120117, -7.488100051879883, -6.990600109100342, -7.448800086975098, -6.5167999267578125, -3.6322999000549316, -7.052499771118164, -5.145199775695801, -5.5524001121521, -6.065700054168701, -6.759300231933594, -4.478600025177002, -5.79640007019043, -3.9489998817443848, -6.718800067901611, -4.957200050354004, -4.771999835968018, -5.557600021362305, -5.418099880218506, -5.8572001457214355, -5.9644999504089355, -4.8333001136779785, -4.825699806213379, -6.047999858856201, -5.553199768066406, -5.882999897003174, -5.615600109100342, -5.093200206756592, -4.4415998458862305, -5.446199893951416, -4.928699970245361, -5.933700084686279, -5.4629998207092285, -4.371600151062012, -5.130199909210205, -5.125199794769287, -4.659599781036377, -4.481100082397461, -5.742400169372559, -5.603799819946289, -5.079100131988525, -5.408100128173828, -5.155200004577637, -5.443999767303467, -5.555200099945068, -5.4120001792907715, -5.446800231933594, -5.52209997177124, -5.531000137329102, -5.551599979400635, -6.427499771118164, -6.594200134277344, -6.594200134277344, -6.689499855041504, -6.594699859619141, -6.79449987411499, -6.7947001457214355, -6.912600040435791, -6.912700176239014, -6.912499904632568, -6.912899971008301, -6.595399856567383, -7.0457000732421875, -7.045599937438965, -7.046000003814697, -7.046000003814697, -7.0467000007629395, -6.796000003814697, -7.199900150299072, -7.200399875640869, -7.200300216674805, -7.200099945068359, -7.200900077819824, -7.3815999031066895, -7.381899833679199, -7.382199764251709, -7.6041998863220215, -7.604499816894531, -7.604499816894531, -7.604400157928467, -6.697400093078613, -6.803699970245361, -7.385900020599365, -6.244800090789795, -6.0295000076293945, -5.6641998291015625, -6.023600101470947, -6.901500225067139, -4.311399936676025, -4.5518999099731445, -6.267300128936768, -6.418700218200684, -5.558700084686279, -4.836100101470947, -5.535799980163574, -6.314700126647949, -5.413700103759766, -5.793900012969971, -5.997300148010254, -4.5304999351501465, -4.991600036621094, -4.958700180053711, -5.131199836730957, -4.198400020599365, -6.171800136566162, -5.996600151062012, -4.4004998207092285, -4.718699932098389, -5.311999797821045, -5.007999897003174, -5.502600193023682, -4.57289981842041, -4.95419979095459, -5.500699996948242, -5.374499797821045, -5.89109992980957, -5.679299831390381, -5.202400207519531, -5.625999927520752, -5.602200031280518, -5.312900066375732, -5.3958001136779785, -5.093100070953369, -5.303199768066406, -5.146599769592285, -5.587600231170654, -5.546000003814697, -5.510300159454346, -5.579800128936768, -5.585100173950195, -6.9421000480651855, -7.131199836730957, -7.218599796295166, -7.090799808502197, -7.670000076293945, -7.824100017547607, -7.8246002197265625, -7.911099910736084, -7.911300182342529, -7.911399841308594, -8.00629997253418, -8.006400108337402, -8.006500244140625, -8.006500244140625, -8.006500244140625, -8.006799697875977, -8.111800193786621, -8.111800193786621, -8.111800193786621, -8.0068998336792, -8.229499816894531, -8.229599952697754, -8.23009967803955, -8.362799644470215, -8.363200187683105, -8.36340045928955, -8.36359977722168, -8.36359977722168, -8.363100051879883, -8.36299991607666, -7.914400100708008, -8.363100051879883, -6.9593000411987305, -5.291100025177002, -4.845099925994873, -7.7677998542785645, -7.9293999671936035, -4.9730000495910645, -6.638800144195557, -6.180699825286865, -7.479400157928467, -5.855000019073486, -4.970699787139893, -3.7274999618530273, -4.664000034332275, -4.690000057220459, -4.671999931335449, -4.473100185394287, -4.412300109863281, -3.8577001094818115, -5.372600078582764, -4.1244001388549805, -4.05679988861084, -4.8130998611450195, -4.496799945831299, -4.859499931335449, -5.535699844360352, -5.311999797821045, -5.006999969482422, -5.519400119781494, -4.8846001625061035, -4.007900238037109, -5.156199932098389, -4.928800106048584, -3.9753000736236572, -5.162399768829346, -4.862500190734863, -4.888400077819824, -4.881800174713135, -5.025100231170654, -5.322199821472168, -4.977099895477295]}, \"token.table\": {\"Topic\": [1, 2, 3, 3, 1, 2, 1, 2, 3, 1, 1, 1, 1, 2, 3, 1, 2, 3, 1, 2, 3, 2, 1, 2, 3, 1, 3, 3, 1, 2, 3, 3, 1, 2, 3, 1, 2, 3, 1, 2, 3, 2, 1, 1, 2, 3, 3, 3, 1, 2, 3, 3, 2, 3, 1, 1, 2, 3, 1, 2, 3, 1, 2, 3, 1, 1, 2, 3, 3, 1, 3, 3, 2, 1, 2, 3, 2, 1, 1, 2, 3, 2, 2, 1, 2, 3, 2, 1, 1, 3, 1, 2, 3, 1, 2, 3, 2, 3, 2, 1, 3, 1, 2, 3, 1, 2, 3, 3, 1, 2, 3, 1, 3, 1, 2, 3, 1, 2, 1, 2, 3, 1, 2, 3, 1, 2, 1, 2, 3, 1, 2, 3, 1, 2, 3, 1, 2, 3, 3, 1, 2, 3, 1, 1, 2, 3, 2, 1, 3, 1, 2, 3, 1, 2, 3, 3, 3, 1, 2, 3, 1, 2, 3, 1, 2, 2, 1, 3, 3, 1, 2, 3, 3, 1, 2, 3, 1, 2, 3, 2, 2, 2, 1, 2, 3, 1, 2, 3, 1, 2, 3, 1, 3, 2, 1, 2, 3, 1, 2, 3, 1, 3, 1, 2, 3, 1, 2, 3, 1, 3, 1, 2, 3, 3, 3, 1, 2, 3, 1, 1, 2, 1, 3, 1, 3, 1, 2, 2, 1, 2, 3, 3, 1, 2, 3, 2, 1, 2, 2, 3, 1, 2, 3, 2, 1, 2, 3, 2, 2, 2, 1, 1, 3, 1, 1, 2, 3, 1, 3, 1, 3, 3, 3, 1, 1, 2, 3, 2, 1, 2, 3, 1, 2, 3, 2, 3, 2, 1, 1, 2, 3, 1, 2, 3, 1, 2, 3, 2, 1, 2, 3, 1, 2, 3, 2, 1, 1, 2, 3, 1, 2, 3, 1, 2, 3, 1, 2, 3, 2, 1, 1, 2, 3, 1, 1, 1, 2, 3, 1, 3, 1, 2, 3, 1, 2, 1, 2, 3, 1, 2, 3, 3, 1, 1, 2, 3, 1, 2, 3, 1, 2, 3, 1, 2, 3, 1, 2, 3, 1, 2, 3, 1, 1, 2, 3, 1, 1, 2, 3, 1, 1, 2, 1, 2, 3, 3, 2, 3, 1, 1, 2, 1, 2, 3, 1, 2, 3, 1, 3, 1, 2, 3, 1, 1, 2, 3, 2, 1, 2, 3, 2], \"Freq\": [0.5583183765411377, 0.237285315990448, 0.20936940610408783, 1.0022895336151123, 0.9112352728843689, 0.09112352877855301, 0.39671599864959717, 0.05764249712228775, 0.5459083318710327, 1.003408432006836, 1.0039427280426025, 1.0037444829940796, 0.4855872690677643, 0.0417473204433918, 0.4746011197566986, 0.31278666853904724, 0.058506861329078674, 0.6278235912322998, 0.4324231743812561, 0.16150745749473572, 0.4063735902309418, 0.9709417223930359, 0.32562315464019775, 0.01122838445007801, 0.6624746918678284, 0.9091892242431641, 0.09570413082838058, 1.0039230585098267, 0.6705856919288635, 0.056272923946380615, 0.271985799074173, 1.0027886629104614, 0.3551566004753113, 0.044809479266405106, 0.6007789373397827, 0.3960469961166382, 0.07177823781967163, 0.5320034623146057, 0.7117258906364441, 0.07279014587402344, 0.2183704525232315, 0.9725606441497803, 1.0037919282913208, 0.3541228473186493, 0.04047118499875069, 0.6053814888000488, 1.0037847757339478, 1.003704309463501, 0.2690151631832123, 0.42033618688583374, 0.3026420474052429, 1.002149224281311, 0.9678794145584106, 1.003239393234253, 1.004047155380249, 0.4909486770629883, 0.18336637318134308, 0.32532742619514465, 0.21386577188968658, 0.10813438147306442, 0.6752391457557678, 0.2458783984184265, 0.02810038812458515, 0.7270975708961487, 1.0039609670639038, 0.5440118312835693, 0.043813031166791916, 0.4125727117061615, 1.0028678178787231, 1.0040602684020996, 1.0034313201904297, 1.0030962228775024, 0.9694087505340576, 0.3299866020679474, 0.4949799180030823, 0.1885637789964676, 0.970506489276886, 1.0032165050506592, 0.5754653215408325, 0.03298845887184143, 0.3885307312011719, 0.9722606539726257, 0.9713612794876099, 0.8976308107376099, 0.052801813930273056, 0.052801813930273056, 0.9724263548851013, 1.0035076141357422, 1.0037988424301147, 1.0033859014511108, 0.5409985780715942, 0.1305040419101715, 0.32981932163238525, 0.28090351819992065, 0.4731006324291229, 0.23655031621456146, 0.9721733927726746, 1.0025897026062012, 0.9712240099906921, 0.15146909654140472, 0.8537348508834839, 0.5015089511871338, 0.0767233818769455, 0.4210429787635803, 0.6658986806869507, 0.2038465291261673, 0.1223079189658165, 1.0026895999908447, 0.38975057005882263, 0.04892972484230995, 0.5618482232093811, 0.35011735558509827, 0.6481902599334717, 0.09365931898355484, 0.10302525013685226, 0.8054701089859009, 0.9571824669837952, 0.045580118894577026, 0.6009938716888428, 0.10563787817955017, 0.2940730154514313, 0.36454254388809204, 0.034718338400125504, 0.6001312732696533, 0.2726113200187683, 0.7087894082069397, 0.35044065117836, 0.25159841775894165, 0.40435460209846497, 0.2863433361053467, 0.10379945486783981, 0.6102692484855652, 0.6092341542243958, 0.05368730053305626, 0.3384634256362915, 0.5580540299415588, 0.10590806603431702, 0.3380911350250244, 1.0032230615615845, 0.39440491795539856, 0.21006348729133606, 0.39869192242622375, 1.0039386749267578, 0.6799179315567017, 0.059410303831100464, 0.2574446499347687, 0.9690420031547546, 0.8473294973373413, 0.1576426923274994, 0.6362988948822021, 0.07511861622333527, 0.29163697361946106, 0.45356157422065735, 0.5085387229919434, 0.03665143996477127, 1.0024265050888062, 1.00472891330719, 0.6870179772377014, 0.019443904981017113, 0.29165858030319214, 0.39260756969451904, 0.43393468856811523, 0.18597202003002167, 0.1332317739725113, 0.8882118463516235, 0.9714885354042053, 1.0033539533615112, 1.0035929679870605, 1.0024442672729492, 0.6210863590240479, 0.07821087539196014, 0.303642213344574, 1.0032442808151245, 0.01239066943526268, 0.05575801432132721, 0.9293002486228943, 0.5827394723892212, 0.24038001894950867, 0.17846395075321198, 0.9713826179504395, 0.9715255498886108, 0.971874475479126, 0.6898183226585388, 0.18522900342941284, 0.12455053627490997, 0.3261769115924835, 0.06606114655733109, 0.6069368124008179, 0.8363462090492249, 0.03717094287276268, 0.13009829819202423, 0.8931559324264526, 0.11164449155330658, 0.97276371717453, 0.8778842091560364, 0.05573868006467819, 0.05573868006467819, 0.48819783329963684, 0.13239262998104095, 0.3806288242340088, 1.0036234855651855, 1.0026649236679077, 0.09164450317621231, 0.04998791217803955, 0.8622914552688599, 0.9612622857093811, 0.04179401323199272, 1.002970576286316, 0.9659972786903381, 0.038639891892671585, 0.6149356961250305, 0.09301548451185226, 0.29454901814460754, 1.002164363861084, 1.0021048784255981, 0.5888979434967041, 0.07443765550851822, 0.3361700773239136, 1.0036965608596802, 0.10835489630699158, 0.8668391704559326, 0.11420615017414093, 0.8908079862594604, 1.0033625364303589, 1.0031112432479858, 0.9590346813201904, 0.043592486530542374, 0.9702858924865723, 0.31211358308792114, 0.38244903087615967, 0.3033216595649719, 1.0019015073776245, 0.47509899735450745, 0.33167290687561035, 0.1972109079360962, 0.9698195457458496, 0.05739578977227211, 0.9183326363563538, 0.9719406366348267, 1.0044934749603271, 0.7111382484436035, 0.08889228105545044, 0.19753839075565338, 0.9706934690475464, 0.04467852786183357, 0.7148564457893372, 0.22339263558387756, 0.9678661227226257, 0.9721282124519348, 0.9676015377044678, 1.0042505264282227, 0.05579989403486252, 0.9485982060432434, 1.0032342672348022, 0.49497663974761963, 0.06102451682090759, 0.44299277663230896, 1.00429105758667, 1.0028438568115234, 0.3286764919757843, 0.6718534231185913, 1.0034888982772827, 1.0028786659240723, 1.004044532775879, 0.44476833939552307, 0.12189947068691254, 0.4315899908542633, 0.969611406326294, 0.6403942704200745, 0.0038811773993074894, 0.3570683002471924, 0.47571155428886414, 0.2049219012260437, 0.3183608055114746, 0.7548319697380066, 0.22644957900047302, 0.9707391262054443, 1.003280520439148, 0.45732423663139343, 0.04126233607530594, 0.5020251274108887, 0.35499075055122375, 0.10366986691951752, 0.5403398871421814, 0.3276430070400238, 0.05200682580471039, 0.6240819096565247, 0.971676766872406, 0.05220809951424599, 0.07458300143480301, 0.8763502240180969, 0.5262095928192139, 0.07433170080184937, 0.3988889455795288, 0.9678549766540527, 1.0042939186096191, 0.5447267889976501, 0.0276979710906744, 0.4265487492084503, 1.0031824111938477, 0.9706741571426392, 1.0032228231430054, 0.44992271065711975, 0.0185322854667902, 0.5322884321212769, 0.48785826563835144, 0.008816715329885483, 0.5025528073310852, 0.9723858833312988, 1.0034518241882324, 0.24577169120311737, 0.7127379179000854, 0.04915434122085571, 1.0046805143356323, 1.003288984298706, 0.164267897605896, 0.6160045862197876, 0.20533487200737, 1.0035690069198608, 1.002977728843689, 0.3292253613471985, 0.07459011673927307, 0.5941488742828369, 0.9068979024887085, 0.07159720361232758, 0.5786462426185608, 0.2070944458246231, 0.21318545937538147, 0.7346638441085815, 0.13002899289131165, 0.13653044402599335, 1.0044714212417603, 1.0036373138427734, 0.37190449237823486, 0.16244104504585266, 0.46594929695129395, 0.4659481644630432, 0.22188007831573486, 0.3106321096420288, 0.2910402715206146, 0.1988775134086609, 0.5093204379081726, 0.7635796666145325, 0.06215183436870575, 0.17757666110992432, 0.3518315255641937, 0.3518315255641937, 0.3059404492378235, 0.48333558440208435, 0.05069953575730324, 0.4664357304573059, 1.004213809967041, 0.3965757191181183, 0.06450328230857849, 0.5399163365364075, 1.0040256977081299, 0.7000148296356201, 0.1031600832939148, 0.1989515870809555, 1.003631353378296, 0.4794033169746399, 0.5093660354614258, 0.5859591364860535, 0.16608396172523499, 0.2481928914785385, 1.0045945644378662, 0.9716033935546875, 1.0031441450119019, 1.0030736923217773, 1.003650426864624, 0.9706458449363708, 0.41106081008911133, 0.019982121884822845, 0.5709177851676941, 0.4632282257080078, 0.118702232837677, 0.41690540313720703, 0.03464634343981743, 0.9700976610183716, 0.8498443365097046, 0.01545171532779932, 0.12361372262239456, 1.0039929151535034, 0.44211485981941223, 0.12128815054893494, 0.434289813041687, 0.971467137336731, 0.5307705998420715, 0.3726687431335449, 0.10163693130016327, 0.9709606170654297], \"Term\": [\"abuse\", \"abuse\", \"abuse\", \"acromegaly\", \"afternoon\", \"afternoon\", \"aide\", \"aide\", \"aide\", \"aligned\", \"allegation\", \"american\", \"amigo\", \"amigo\", \"amigo\", \"anger\", \"anger\", \"anger\", \"annoyingly\", \"annoyingly\", \"annoyingly\", \"appointment\", \"appreciation\", \"appreciation\", \"appreciation\", \"arguement\", \"arguement\", \"ashamed\", \"attract\", \"attract\", \"attract\", \"baby\", \"barking\", \"barking\", \"barking\", \"base\", \"base\", \"base\", \"belong\", \"belong\", \"belong\", \"beneath\", \"between\", \"blacklist\", \"blacklist\", \"blacklist\", \"boot\", \"bother\", \"bound\", \"bound\", \"bound\", \"brush\", \"buddhist\", \"candle\", \"catch\", \"changing\", \"changing\", \"changing\", \"chase\", \"chase\", \"chase\", \"chatting\", \"chatting\", \"chatting\", \"cheered\", \"cite\", \"cite\", \"cite\", \"city\", \"clarity\", \"closet\", \"coffee\", \"compulsion\", \"conduct\", \"conduct\", \"conduct\", \"conservative\", \"corny\", \"craved\", \"craved\", \"craved\", \"curiosity\", \"depersonalization\", \"determine\", \"determine\", \"determine\", \"disappear\", \"disease\", \"dispenser\", \"dopamine\", \"drank\", \"drank\", \"drank\", \"dressing\", \"dressing\", \"dressing\", \"dull\", \"easy\", \"effected\", \"essentially\", \"essentially\", \"estranged\", \"estranged\", \"estranged\", \"evaluation\", \"evaluation\", \"evaluation\", \"evening\", \"everlasting\", \"everlasting\", \"everlasting\", \"excuse\", \"excuse\", \"exercise\", \"exercise\", \"exercise\", \"eye\", \"eye\", \"fading\", \"fading\", \"fading\", \"faster\", \"faster\", \"faster\", \"fck\", \"fck\", \"fed\", \"fed\", \"fed\", \"fiend\", \"fiend\", \"fiend\", \"flow\", \"flow\", \"flow\", \"foggy\", \"foggy\", \"foggy\", \"foreverhow\", \"fortunate\", \"fortunate\", \"fortunate\", \"fortunately\", \"fortune\", \"fortune\", \"fortune\", \"frantically\", \"gazing\", \"gazing\", \"german\", \"german\", \"german\", \"gifted\", \"gifted\", \"gifted\", \"goddamn\", \"hazehaz\", \"he\", \"he\", \"he\", \"hitting\", \"hitting\", \"hitting\", \"hometown\", \"hometown\", \"hoped\", \"horrific\", \"hungry\", \"hurtsand\", \"husk\", \"husk\", \"husk\", \"illness\", \"impulse\", \"impulse\", \"impulse\", \"incarnate\", \"incarnate\", \"incarnate\", \"increased\", \"insecurity\", \"inserts\", \"insist\", \"insist\", \"insist\", \"instrument\", \"instrument\", \"instrument\", \"intentional\", \"intentional\", \"intentional\", \"intentionally\", \"intentionally\", \"just\", \"leasing\", \"leasing\", \"leasing\", \"ledge\", \"ledge\", \"ledge\", \"leech\", \"life\", \"locking\", \"locking\", \"locking\", \"log\", \"log\", \"logical\", \"longer\", \"longer\", \"looking\", \"looking\", \"looking\", \"loosingeach\", \"luv\", \"magic\", \"magic\", \"magic\", \"maker\", \"mania\", \"mania\", \"marrow\", \"marrow\", \"martial\", \"meditate\", \"milk\", \"milk\", \"modest\", \"monitor\", \"monitor\", \"monitor\", \"moving\", \"multiply\", \"multiply\", \"multiply\", \"naive\", \"napkin\", \"napkin\", \"naturally\", \"nose\", \"notebook\", \"notebook\", \"notebook\", \"notified\", \"obligated\", \"obligated\", \"obligated\", \"obtainable\", \"office\", \"often\", \"omen\", \"overseas\", \"overseas\", \"parasite\", \"peri\", \"peri\", \"peri\", \"pharmacydrug\", \"plane\", \"playstat\", \"playstat\", \"point\", \"points\", \"porridge\", \"possession\", \"possession\", \"possession\", \"printed\", \"private\", \"private\", \"private\", \"profit\", \"profit\", \"profit\", \"rain\", \"rain\", \"recaps\", \"recluse\", \"refusing\", \"refusing\", \"refusing\", \"regularly\", \"regularly\", \"regularly\", \"resent\", \"resent\", \"resent\", \"resurfaced\", \"rhythm\", \"rhythm\", \"rhythm\", \"rob\", \"rob\", \"rob\", \"robbery\", \"rollercoast\", \"rot\", \"rot\", \"rot\", \"russian\", \"salary\", \"sane\", \"seekers\", \"seekers\", \"seekers\", \"sentence\", \"sentence\", \"sentence\", \"shit\", \"shitshow\", \"shown\", \"shown\", \"shown\", \"sht\", \"shuffle\", \"silica\", \"silica\", \"silica\", \"sky\", \"sliced\", \"sole\", \"sole\", \"sole\", \"solo\", \"solo\", \"someoneyou\", \"someoneyou\", \"someoneyou\", \"sorting\", \"sorting\", \"sorting\", \"spouse\", \"stab\", \"stake\", \"stake\", \"stake\", \"statistically\", \"statistically\", \"statistically\", \"studio\", \"studio\", \"studio\", \"succeeding\", \"succeeding\", \"succeeding\", \"sufferingphilosophersphilosophiesi\", \"sufferingphilosophersphilosophiesi\", \"sufferingphilosophersphilosophiesi\", \"suffice\", \"suffice\", \"suffice\", \"sunburned\", \"supernatural\", \"supernatural\", \"supernatural\", \"swim\", \"teenager\", \"teenager\", \"teenager\", \"tension\", \"thesis\", \"thesis\", \"theyre\", \"theyre\", \"theyre\", \"throw\", \"toi\", \"touching\", \"two\", \"valuable\", \"vapor\", \"verbally\", \"verbally\", \"verbally\", \"videogame\", \"videogame\", \"videogame\", \"vocal\", \"vocal\", \"wait\", \"wait\", \"wait\", \"week\", \"wording\", \"wording\", \"wording\", \"world\", \"wow\", \"wow\", \"wow\", \"zero\"]}, \"R\": 30, \"lambda.step\": 0.01, \"plot.opts\": {\"xlab\": \"PC1\", \"ylab\": \"PC2\"}, \"topic.order\": [1, 2, 3]};\n",
       "\n",
       "function LDAvis_load_lib(url, callback){\n",
       "  var s = document.createElement('script');\n",
       "  s.src = url;\n",
       "  s.async = true;\n",
       "  s.onreadystatechange = s.onload = callback;\n",
       "  s.onerror = function(){console.warn(\"failed to load library \" + url);};\n",
       "  document.getElementsByTagName(\"head\")[0].appendChild(s);\n",
       "}\n",
       "\n",
       "if(typeof(LDAvis) !== \"undefined\"){\n",
       "   // already loaded: just create the visualization\n",
       "   !function(LDAvis){\n",
       "       new LDAvis(\"#\" + \"ldavis_el81646300010967393770977\", ldavis_el81646300010967393770977_data);\n",
       "   }(LDAvis);\n",
       "}else if(typeof define === \"function\" && define.amd){\n",
       "   // require.js is available: use it to load d3/LDAvis\n",
       "   require.config({paths: {d3: \"https://cdnjs.cloudflare.com/ajax/libs/d3/3.5.5/d3.min\"}});\n",
       "   require([\"d3\"], function(d3){\n",
       "      window.d3 = d3;\n",
       "      LDAvis_load_lib(\"https://cdn.rawgit.com/bmabey/pyLDAvis/files/ldavis.v1.0.0.js\", function(){\n",
       "        new LDAvis(\"#\" + \"ldavis_el81646300010967393770977\", ldavis_el81646300010967393770977_data);\n",
       "      });\n",
       "    });\n",
       "}else{\n",
       "    // require.js not available: dynamically load d3 & LDAvis\n",
       "    LDAvis_load_lib(\"https://cdnjs.cloudflare.com/ajax/libs/d3/3.5.5/d3.min.js\", function(){\n",
       "         LDAvis_load_lib(\"https://cdn.rawgit.com/bmabey/pyLDAvis/files/ldavis.v1.0.0.js\", function(){\n",
       "                 new LDAvis(\"#\" + \"ldavis_el81646300010967393770977\", ldavis_el81646300010967393770977_data);\n",
       "            })\n",
       "         });\n",
       "}\n",
       "</script>"
      ],
      "text/plain": [
       "<IPython.core.display.HTML object>"
      ]
     },
     "execution_count": 102,
     "metadata": {},
     "output_type": "execute_result"
    }
   ],
   "source": [
    "lda_display = pyLDAvis.gensim.prepare(lda, corpus, dictionary, sort_topics=False)\n",
    "\n",
    "pyLDAvis.save_html(lda_display, 'html/vis_lda.html')\n",
    "pyLDAvis.display(lda_display)"
   ]
  },
  {
   "cell_type": "markdown",
   "metadata": {
    "heading_collapsed": true
   },
   "source": [
    "## Topic Modeling - Attempt #2 (Nouns Only)"
   ]
  },
  {
   "cell_type": "markdown",
   "metadata": {
    "hidden": true
   },
   "source": [
    "* Look only at terms that are from part of speech (only nouns, only adjectives, etc.)\n",
    "* UPenn tag set: https://www.ling.upenn.edu/courses/Fall_2003/ling001/penn_treebank_pos.html."
   ]
  },
  {
   "cell_type": "markdown",
   "metadata": {
    "heading_collapsed": true,
    "hidden": true
   },
   "source": [
    "### Reading Data"
   ]
  },
  {
   "cell_type": "code",
   "execution_count": 103,
   "metadata": {
    "hidden": true
   },
   "outputs": [
    {
     "data": {
      "text/html": [
       "<div>\n",
       "<style scoped>\n",
       "    .dataframe tbody tr th:only-of-type {\n",
       "        vertical-align: middle;\n",
       "    }\n",
       "\n",
       "    .dataframe tbody tr th {\n",
       "        vertical-align: top;\n",
       "    }\n",
       "\n",
       "    .dataframe thead th {\n",
       "        text-align: right;\n",
       "    }\n",
       "</style>\n",
       "<table border=\"1\" class=\"dataframe\">\n",
       "  <thead>\n",
       "    <tr style=\"text-align: right;\">\n",
       "      <th></th>\n",
       "      <th>tokens</th>\n",
       "      <th>count</th>\n",
       "      <th>pos</th>\n",
       "      <th>pos_count</th>\n",
       "      <th>CC</th>\n",
       "      <th>FW</th>\n",
       "      <th>VB</th>\n",
       "      <th>EX</th>\n",
       "      <th>IN</th>\n",
       "      <th>WRB</th>\n",
       "      <th>...</th>\n",
       "      <th>PRP</th>\n",
       "      <th>PRP$</th>\n",
       "      <th>CD</th>\n",
       "      <th>MD</th>\n",
       "      <th>WDT</th>\n",
       "      <th>RB</th>\n",
       "      <th>JJ</th>\n",
       "      <th>NN</th>\n",
       "      <th>WP$</th>\n",
       "      <th>WP</th>\n",
       "    </tr>\n",
       "  </thead>\n",
       "  <tbody>\n",
       "    <tr>\n",
       "      <td>0</td>\n",
       "      <td>[fucking, hate, holiday, season, first, thanks...</td>\n",
       "      <td>47</td>\n",
       "      <td>[(fucking, VB), (hate, NN), (holiday, NN), (se...</td>\n",
       "      <td>{'VB': 12, 'NN': 18, 'RB': 6, 'JJ': 7, 'MD': 3...</td>\n",
       "      <td>[]</td>\n",
       "      <td>[]</td>\n",
       "      <td>[fucking, thanksgiving, thankful, fucking, die...</td>\n",
       "      <td>[]</td>\n",
       "      <td>[]</td>\n",
       "      <td>[]</td>\n",
       "      <td>...</td>\n",
       "      <td>[]</td>\n",
       "      <td>[]</td>\n",
       "      <td>[one]</td>\n",
       "      <td>[would, would, could]</td>\n",
       "      <td>[]</td>\n",
       "      <td>[first, already, actually, back, shitty, really]</td>\n",
       "      <td>[thankful, next, nice, new, new, wish, fucking]</td>\n",
       "      <td>[hate, holiday, season, nothing, everyone, hat...</td>\n",
       "      <td>[]</td>\n",
       "      <td>[]</td>\n",
       "    </tr>\n",
       "    <tr>\n",
       "      <td>1</td>\n",
       "      <td>[dm, add, discord, want, help, talk, cofactor]</td>\n",
       "      <td>7</td>\n",
       "      <td>[(dm, NN), (add, VB), (discord, NN), (want, VB...</td>\n",
       "      <td>{'NN': 4, 'VB': 3}</td>\n",
       "      <td>[]</td>\n",
       "      <td>[]</td>\n",
       "      <td>[add, want, talk]</td>\n",
       "      <td>[]</td>\n",
       "      <td>[]</td>\n",
       "      <td>[]</td>\n",
       "      <td>...</td>\n",
       "      <td>[]</td>\n",
       "      <td>[]</td>\n",
       "      <td>[]</td>\n",
       "      <td>[]</td>\n",
       "      <td>[]</td>\n",
       "      <td>[]</td>\n",
       "      <td>[]</td>\n",
       "      <td>[dm, discord, help, cofactor]</td>\n",
       "      <td>[]</td>\n",
       "      <td>[]</td>\n",
       "    </tr>\n",
       "    <tr>\n",
       "      <td>2</td>\n",
       "      <td>[nearly, always, battled, depression, got, old...</td>\n",
       "      <td>203</td>\n",
       "      <td>[(nearly, RB), (always, RB), (battled, VB), (d...</td>\n",
       "      <td>{'RB': 27, 'VB': 45, 'NN': 81, 'JJ': 35, 'IN':...</td>\n",
       "      <td>[]</td>\n",
       "      <td>[]</td>\n",
       "      <td>[battled, got, starting, start, felt, validate...</td>\n",
       "      <td>[]</td>\n",
       "      <td>[like, wind, like, as, like, though, like, lik...</td>\n",
       "      <td>[]</td>\n",
       "      <td>...</td>\n",
       "      <td>[]</td>\n",
       "      <td>[]</td>\n",
       "      <td>[]</td>\n",
       "      <td>[could, may, ca, ca]</td>\n",
       "      <td>[whatever]</td>\n",
       "      <td>[nearly, always, late, also, always, rather, a...</td>\n",
       "      <td>[older, insight, ssri, possible, terrified, si...</td>\n",
       "      <td>[depression, deal, anxiety, therapy, way, lowe...</td>\n",
       "      <td>[]</td>\n",
       "      <td>[]</td>\n",
       "    </tr>\n",
       "    <tr>\n",
       "      <td>3</td>\n",
       "      <td>[future, nothing, impenetrable, fog, look, bac...</td>\n",
       "      <td>31</td>\n",
       "      <td>[(future, JJ), (nothing, NN), (impenetrable, J...</td>\n",
       "      <td>{'JJ': 9, 'NN': 14, 'VB': 4, 'RB': 2, 'IN': 1,...</td>\n",
       "      <td>[]</td>\n",
       "      <td>[]</td>\n",
       "      <td>[look, come, take, give]</td>\n",
       "      <td>[]</td>\n",
       "      <td>[like]</td>\n",
       "      <td>[]</td>\n",
       "      <td>...</td>\n",
       "      <td>[]</td>\n",
       "      <td>[]</td>\n",
       "      <td>[one]</td>\n",
       "      <td>[]</td>\n",
       "      <td>[]</td>\n",
       "      <td>[back, ever]</td>\n",
       "      <td>[future, impenetrable, happy, distant, unable,...</td>\n",
       "      <td>[nothing, fog, time, memory, picture, feeling,...</td>\n",
       "      <td>[]</td>\n",
       "      <td>[]</td>\n",
       "    </tr>\n",
       "    <tr>\n",
       "      <td>4</td>\n",
       "      <td>[always, fighting, sister, always, lash, mom, ...</td>\n",
       "      <td>27</td>\n",
       "      <td>[(always, RB), (fighting, VB), (sister, NN), (...</td>\n",
       "      <td>{'RB': 7, 'VB': 3, 'NN': 11, 'JJ': 5, 'IN': 1}</td>\n",
       "      <td>[]</td>\n",
       "      <td>[]</td>\n",
       "      <td>[fighting, keeping, going]</td>\n",
       "      <td>[]</td>\n",
       "      <td>[nt]</td>\n",
       "      <td>[]</td>\n",
       "      <td>...</td>\n",
       "      <td>[]</td>\n",
       "      <td>[]</td>\n",
       "      <td>[]</td>\n",
       "      <td>[]</td>\n",
       "      <td>[]</td>\n",
       "      <td>[always, always, really, always, nt, suicide, ...</td>\n",
       "      <td>[lash, wrong, bad, fault, matter]</td>\n",
       "      <td>[sister, mom, anything, today, fight, somehow,...</td>\n",
       "      <td>[]</td>\n",
       "      <td>[]</td>\n",
       "    </tr>\n",
       "    <tr>\n",
       "      <td>...</td>\n",
       "      <td>...</td>\n",
       "      <td>...</td>\n",
       "      <td>...</td>\n",
       "      <td>...</td>\n",
       "      <td>...</td>\n",
       "      <td>...</td>\n",
       "      <td>...</td>\n",
       "      <td>...</td>\n",
       "      <td>...</td>\n",
       "      <td>...</td>\n",
       "      <td>...</td>\n",
       "      <td>...</td>\n",
       "      <td>...</td>\n",
       "      <td>...</td>\n",
       "      <td>...</td>\n",
       "      <td>...</td>\n",
       "      <td>...</td>\n",
       "      <td>...</td>\n",
       "      <td>...</td>\n",
       "      <td>...</td>\n",
       "      <td>...</td>\n",
       "    </tr>\n",
       "    <tr>\n",
       "      <td>1293</td>\n",
       "      <td>[since, felt, depressed, almost, took, life, w...</td>\n",
       "      <td>56</td>\n",
       "      <td>[(since, IN), (felt, NN), (depressed, VB), (al...</td>\n",
       "      <td>{'IN': 2, 'NN': 14, 'VB': 18, 'RB': 9, 'JJ': 13}</td>\n",
       "      <td>[]</td>\n",
       "      <td>[]</td>\n",
       "      <td>[depressed, took, went, turned, get, everynigh...</td>\n",
       "      <td>[]</td>\n",
       "      <td>[since, unless]</td>\n",
       "      <td>[]</td>\n",
       "      <td>...</td>\n",
       "      <td>[]</td>\n",
       "      <td>[]</td>\n",
       "      <td>[]</td>\n",
       "      <td>[]</td>\n",
       "      <td>[]</td>\n",
       "      <td>[almost, away, never, even, sometimes, back, n...</td>\n",
       "      <td>[old, sleep, give, massive, sleep, depressed, ...</td>\n",
       "      <td>[felt, life, year, thought, race, headache, th...</td>\n",
       "      <td>[]</td>\n",
       "      <td>[]</td>\n",
       "    </tr>\n",
       "    <tr>\n",
       "      <td>1294</td>\n",
       "      <td>[nt, know, reaching, time, seem, appropriate, ...</td>\n",
       "      <td>233</td>\n",
       "      <td>[(nt, RB), (know, VB), (reaching, VB), (time, ...</td>\n",
       "      <td>{'RB': 20, 'VB': 47, 'NN': 93, 'JJ': 57, 'IN':...</td>\n",
       "      <td>[]</td>\n",
       "      <td>[]</td>\n",
       "      <td>[know, reaching, seem, told, getting, nt, put,...</td>\n",
       "      <td>[]</td>\n",
       "      <td>[since, disregard, like, africa, nt, nt, along]</td>\n",
       "      <td>[]</td>\n",
       "      <td>...</td>\n",
       "      <td>[]</td>\n",
       "      <td>[]</td>\n",
       "      <td>[three, two, one, one]</td>\n",
       "      <td>[could, would, ca, wo, ca]</td>\n",
       "      <td>[]</td>\n",
       "      <td>[nt, much, understand, nt, anywhere, long, cau...</td>\n",
       "      <td>[appropriate, speeding, stupid, accident, attr...</td>\n",
       "      <td>[time, family, value, life, fine, danger, trut...</td>\n",
       "      <td>[]</td>\n",
       "      <td>[]</td>\n",
       "    </tr>\n",
       "    <tr>\n",
       "      <td>1295</td>\n",
       "      <td>[dont, believe, afterlife, stay, night, fear, ...</td>\n",
       "      <td>24</td>\n",
       "      <td>[(dont, NN), (believe, VB), (afterlife, NN), (...</td>\n",
       "      <td>{'NN': 10, 'VB': 7, 'RB': 3, 'JJ': 4}</td>\n",
       "      <td>[]</td>\n",
       "      <td>[]</td>\n",
       "      <td>[believe, fear, kept, dying, believe, get, go]</td>\n",
       "      <td>[]</td>\n",
       "      <td>[]</td>\n",
       "      <td>[]</td>\n",
       "      <td>...</td>\n",
       "      <td>[]</td>\n",
       "      <td>[]</td>\n",
       "      <td>[]</td>\n",
       "      <td>[]</td>\n",
       "      <td>[]</td>\n",
       "      <td>[maybe, also, still]</td>\n",
       "      <td>[alive, afraid, dont, afraid]</td>\n",
       "      <td>[dont, afterlife, stay, night, afterlife, hell...</td>\n",
       "      <td>[]</td>\n",
       "      <td>[]</td>\n",
       "    </tr>\n",
       "    <tr>\n",
       "      <td>1296</td>\n",
       "      <td>[nt, think, actually, kill, thats, scared, nt,...</td>\n",
       "      <td>119</td>\n",
       "      <td>[(nt, RB), (think, VB), (actually, RB), (kill,...</td>\n",
       "      <td>{'RB': 15, 'VB': 24, 'NN': 53, 'JJ': 21, 'MD':...</td>\n",
       "      <td>[]</td>\n",
       "      <td>[]</td>\n",
       "      <td>[think, kill, scared, thought, stressed, nt, s...</td>\n",
       "      <td>[]</td>\n",
       "      <td>[though, as]</td>\n",
       "      <td>[]</td>\n",
       "      <td>...</td>\n",
       "      <td>[]</td>\n",
       "      <td>[]</td>\n",
       "      <td>[one]</td>\n",
       "      <td>[would, could]</td>\n",
       "      <td>[]</td>\n",
       "      <td>[nt, actually, really, certainly, always, aggr...</td>\n",
       "      <td>[nt, want, many, narcissist, radical, terrible...</td>\n",
       "      <td>[thats, month, moment, mother, textbook, chris...</td>\n",
       "      <td>[]</td>\n",
       "      <td>[]</td>\n",
       "    </tr>\n",
       "    <tr>\n",
       "      <td>1297</td>\n",
       "      <td>[wan, na, die, badly, everytim, hear, someone,...</td>\n",
       "      <td>24</td>\n",
       "      <td>[(wan, NN), (na, TO), (die, VB), (badly, RB), ...</td>\n",
       "      <td>{'NN': 8, 'TO': 1, 'VB': 6, 'RB': 2, 'JJ': 6, ...</td>\n",
       "      <td>[]</td>\n",
       "      <td>[]</td>\n",
       "      <td>[die, hear, get, nt, get, hurt]</td>\n",
       "      <td>[]</td>\n",
       "      <td>[]</td>\n",
       "      <td>[]</td>\n",
       "      <td>...</td>\n",
       "      <td>[]</td>\n",
       "      <td>[]</td>\n",
       "      <td>[]</td>\n",
       "      <td>[ca]</td>\n",
       "      <td>[]</td>\n",
       "      <td>[badly, else]</td>\n",
       "      <td>[everytim, suicide, sad, rest, much, much]</td>\n",
       "      <td>[wan, someone, cry, hour, sorry, anyone, pain,...</td>\n",
       "      <td>[]</td>\n",
       "      <td>[]</td>\n",
       "    </tr>\n",
       "  </tbody>\n",
       "</table>\n",
       "<p>1283 rows × 24 columns</p>\n",
       "</div>"
      ],
      "text/plain": [
       "                                                 tokens  count  \\\n",
       "0     [fucking, hate, holiday, season, first, thanks...     47   \n",
       "1        [dm, add, discord, want, help, talk, cofactor]      7   \n",
       "2     [nearly, always, battled, depression, got, old...    203   \n",
       "3     [future, nothing, impenetrable, fog, look, bac...     31   \n",
       "4     [always, fighting, sister, always, lash, mom, ...     27   \n",
       "...                                                 ...    ...   \n",
       "1293  [since, felt, depressed, almost, took, life, w...     56   \n",
       "1294  [nt, know, reaching, time, seem, appropriate, ...    233   \n",
       "1295  [dont, believe, afterlife, stay, night, fear, ...     24   \n",
       "1296  [nt, think, actually, kill, thats, scared, nt,...    119   \n",
       "1297  [wan, na, die, badly, everytim, hear, someone,...     24   \n",
       "\n",
       "                                                    pos  \\\n",
       "0     [(fucking, VB), (hate, NN), (holiday, NN), (se...   \n",
       "1     [(dm, NN), (add, VB), (discord, NN), (want, VB...   \n",
       "2     [(nearly, RB), (always, RB), (battled, VB), (d...   \n",
       "3     [(future, JJ), (nothing, NN), (impenetrable, J...   \n",
       "4     [(always, RB), (fighting, VB), (sister, NN), (...   \n",
       "...                                                 ...   \n",
       "1293  [(since, IN), (felt, NN), (depressed, VB), (al...   \n",
       "1294  [(nt, RB), (know, VB), (reaching, VB), (time, ...   \n",
       "1295  [(dont, NN), (believe, VB), (afterlife, NN), (...   \n",
       "1296  [(nt, RB), (think, VB), (actually, RB), (kill,...   \n",
       "1297  [(wan, NN), (na, TO), (die, VB), (badly, RB), ...   \n",
       "\n",
       "                                              pos_count  CC  FW  \\\n",
       "0     {'VB': 12, 'NN': 18, 'RB': 6, 'JJ': 7, 'MD': 3...  []  []   \n",
       "1                                    {'NN': 4, 'VB': 3}  []  []   \n",
       "2     {'RB': 27, 'VB': 45, 'NN': 81, 'JJ': 35, 'IN':...  []  []   \n",
       "3     {'JJ': 9, 'NN': 14, 'VB': 4, 'RB': 2, 'IN': 1,...  []  []   \n",
       "4        {'RB': 7, 'VB': 3, 'NN': 11, 'JJ': 5, 'IN': 1}  []  []   \n",
       "...                                                 ...  ..  ..   \n",
       "1293   {'IN': 2, 'NN': 14, 'VB': 18, 'RB': 9, 'JJ': 13}  []  []   \n",
       "1294  {'RB': 20, 'VB': 47, 'NN': 93, 'JJ': 57, 'IN':...  []  []   \n",
       "1295              {'NN': 10, 'VB': 7, 'RB': 3, 'JJ': 4}  []  []   \n",
       "1296  {'RB': 15, 'VB': 24, 'NN': 53, 'JJ': 21, 'MD':...  []  []   \n",
       "1297  {'NN': 8, 'TO': 1, 'VB': 6, 'RB': 2, 'JJ': 6, ...  []  []   \n",
       "\n",
       "                                                     VB  EX  \\\n",
       "0     [fucking, thanksgiving, thankful, fucking, die...  []   \n",
       "1                                     [add, want, talk]  []   \n",
       "2     [battled, got, starting, start, felt, validate...  []   \n",
       "3                              [look, come, take, give]  []   \n",
       "4                            [fighting, keeping, going]  []   \n",
       "...                                                 ...  ..   \n",
       "1293  [depressed, took, went, turned, get, everynigh...  []   \n",
       "1294  [know, reaching, seem, told, getting, nt, put,...  []   \n",
       "1295     [believe, fear, kept, dying, believe, get, go]  []   \n",
       "1296  [think, kill, scared, thought, stressed, nt, s...  []   \n",
       "1297                    [die, hear, get, nt, get, hurt]  []   \n",
       "\n",
       "                                                     IN WRB  ... PRP PRP$  \\\n",
       "0                                                    []  []  ...  []   []   \n",
       "1                                                    []  []  ...  []   []   \n",
       "2     [like, wind, like, as, like, though, like, lik...  []  ...  []   []   \n",
       "3                                                [like]  []  ...  []   []   \n",
       "4                                                  [nt]  []  ...  []   []   \n",
       "...                                                 ...  ..  ...  ..  ...   \n",
       "1293                                    [since, unless]  []  ...  []   []   \n",
       "1294    [since, disregard, like, africa, nt, nt, along]  []  ...  []   []   \n",
       "1295                                                 []  []  ...  []   []   \n",
       "1296                                       [though, as]  []  ...  []   []   \n",
       "1297                                                 []  []  ...  []   []   \n",
       "\n",
       "                          CD                          MD         WDT  \\\n",
       "0                      [one]       [would, would, could]          []   \n",
       "1                         []                          []          []   \n",
       "2                         []        [could, may, ca, ca]  [whatever]   \n",
       "3                      [one]                          []          []   \n",
       "4                         []                          []          []   \n",
       "...                      ...                         ...         ...   \n",
       "1293                      []                          []          []   \n",
       "1294  [three, two, one, one]  [could, would, ca, wo, ca]          []   \n",
       "1295                      []                          []          []   \n",
       "1296                   [one]              [would, could]          []   \n",
       "1297                      []                        [ca]          []   \n",
       "\n",
       "                                                     RB  \\\n",
       "0      [first, already, actually, back, shitty, really]   \n",
       "1                                                    []   \n",
       "2     [nearly, always, late, also, always, rather, a...   \n",
       "3                                          [back, ever]   \n",
       "4     [always, always, really, always, nt, suicide, ...   \n",
       "...                                                 ...   \n",
       "1293  [almost, away, never, even, sometimes, back, n...   \n",
       "1294  [nt, much, understand, nt, anywhere, long, cau...   \n",
       "1295                               [maybe, also, still]   \n",
       "1296  [nt, actually, really, certainly, always, aggr...   \n",
       "1297                                      [badly, else]   \n",
       "\n",
       "                                                     JJ  \\\n",
       "0       [thankful, next, nice, new, new, wish, fucking]   \n",
       "1                                                    []   \n",
       "2     [older, insight, ssri, possible, terrified, si...   \n",
       "3     [future, impenetrable, happy, distant, unable,...   \n",
       "4                     [lash, wrong, bad, fault, matter]   \n",
       "...                                                 ...   \n",
       "1293  [old, sleep, give, massive, sleep, depressed, ...   \n",
       "1294  [appropriate, speeding, stupid, accident, attr...   \n",
       "1295                      [alive, afraid, dont, afraid]   \n",
       "1296  [nt, want, many, narcissist, radical, terrible...   \n",
       "1297         [everytim, suicide, sad, rest, much, much]   \n",
       "\n",
       "                                                     NN WP$  WP  \n",
       "0     [hate, holiday, season, nothing, everyone, hat...  []  []  \n",
       "1                         [dm, discord, help, cofactor]  []  []  \n",
       "2     [depression, deal, anxiety, therapy, way, lowe...  []  []  \n",
       "3     [nothing, fog, time, memory, picture, feeling,...  []  []  \n",
       "4     [sister, mom, anything, today, fight, somehow,...  []  []  \n",
       "...                                                 ...  ..  ..  \n",
       "1293  [felt, life, year, thought, race, headache, th...  []  []  \n",
       "1294  [time, family, value, life, fine, danger, trut...  []  []  \n",
       "1295  [dont, afterlife, stay, night, afterlife, hell...  []  []  \n",
       "1296  [thats, month, moment, mother, textbook, chris...  []  []  \n",
       "1297  [wan, someone, cry, hour, sorry, anyone, pain,...  []  []  \n",
       "\n",
       "[1283 rows x 24 columns]"
      ]
     },
     "execution_count": 103,
     "metadata": {},
     "output_type": "execute_result"
    }
   ],
   "source": [
    "df_pos = pd.read_pickle('pickles/df_pos.pkl')\n",
    "df_pos"
   ]
  },
  {
   "cell_type": "code",
   "execution_count": 105,
   "metadata": {
    "hidden": true
   },
   "outputs": [
    {
     "data": {
      "text/plain": [
       "0       hate holiday season nothing everyone hate hate...\n",
       "1                                dm discord help cofactor\n",
       "2       depression deal anxiety therapy way lowest dos...\n",
       "3       nothing fog time memory picture feeling moment...\n",
       "4       sister mom anything today fight somehow opinio...\n",
       "                              ...                        \n",
       "1293    felt life year thought race headache thought b...\n",
       "1294    time family value life fine danger truth risk ...\n",
       "1295    dont afterlife stay night afterlife hell athei...\n",
       "1296    thats month moment mother textbook christian m...\n",
       "1297           wan someone cry hour sorry anyone pain way\n",
       "Name: NN, Length: 1283, dtype: object"
      ]
     },
     "execution_count": 105,
     "metadata": {},
     "output_type": "execute_result"
    }
   ],
   "source": [
    "df_nouns = df_pos['NN'].apply(lambda x: ' '.join(x))\n",
    "df_nouns"
   ]
  },
  {
   "cell_type": "markdown",
   "metadata": {
    "heading_collapsed": true,
    "hidden": true
   },
   "source": [
    "### Converting Data to Corpus"
   ]
  },
  {
   "cell_type": "code",
   "execution_count": 106,
   "metadata": {
    "hidden": true
   },
   "outputs": [
    {
     "data": {
      "text/html": [
       "<div>\n",
       "<style scoped>\n",
       "    .dataframe tbody tr th:only-of-type {\n",
       "        vertical-align: middle;\n",
       "    }\n",
       "\n",
       "    .dataframe tbody tr th {\n",
       "        vertical-align: top;\n",
       "    }\n",
       "\n",
       "    .dataframe thead th {\n",
       "        text-align: right;\n",
       "    }\n",
       "</style>\n",
       "<table border=\"1\" class=\"dataframe\">\n",
       "  <thead>\n",
       "    <tr style=\"text-align: right;\">\n",
       "      <th></th>\n",
       "      <th>ab</th>\n",
       "      <th>abdomen</th>\n",
       "      <th>ability</th>\n",
       "      <th>abortion</th>\n",
       "      <th>absence</th>\n",
       "      <th>absolute</th>\n",
       "      <th>abuse</th>\n",
       "      <th>abuser</th>\n",
       "      <th>abusinghurt</th>\n",
       "      <th>abusive</th>\n",
       "      <th>...</th>\n",
       "      <th>zap</th>\n",
       "      <th>zero</th>\n",
       "      <th>zimbabwe</th>\n",
       "      <th>ziplock</th>\n",
       "      <th>zombie</th>\n",
       "      <th>zone</th>\n",
       "      <th>zoo</th>\n",
       "      <th>zoom</th>\n",
       "      <th>zopiclon</th>\n",
       "      <th>última</th>\n",
       "    </tr>\n",
       "  </thead>\n",
       "  <tbody>\n",
       "    <tr>\n",
       "      <td>0</td>\n",
       "      <td>0</td>\n",
       "      <td>0</td>\n",
       "      <td>0</td>\n",
       "      <td>0</td>\n",
       "      <td>0</td>\n",
       "      <td>0</td>\n",
       "      <td>0</td>\n",
       "      <td>0</td>\n",
       "      <td>0</td>\n",
       "      <td>0</td>\n",
       "      <td>...</td>\n",
       "      <td>0</td>\n",
       "      <td>0</td>\n",
       "      <td>0</td>\n",
       "      <td>0</td>\n",
       "      <td>0</td>\n",
       "      <td>0</td>\n",
       "      <td>0</td>\n",
       "      <td>0</td>\n",
       "      <td>0</td>\n",
       "      <td>0</td>\n",
       "    </tr>\n",
       "    <tr>\n",
       "      <td>1</td>\n",
       "      <td>0</td>\n",
       "      <td>0</td>\n",
       "      <td>0</td>\n",
       "      <td>0</td>\n",
       "      <td>0</td>\n",
       "      <td>0</td>\n",
       "      <td>0</td>\n",
       "      <td>0</td>\n",
       "      <td>0</td>\n",
       "      <td>0</td>\n",
       "      <td>...</td>\n",
       "      <td>0</td>\n",
       "      <td>0</td>\n",
       "      <td>0</td>\n",
       "      <td>0</td>\n",
       "      <td>0</td>\n",
       "      <td>0</td>\n",
       "      <td>0</td>\n",
       "      <td>0</td>\n",
       "      <td>0</td>\n",
       "      <td>0</td>\n",
       "    </tr>\n",
       "    <tr>\n",
       "      <td>2</td>\n",
       "      <td>0</td>\n",
       "      <td>0</td>\n",
       "      <td>0</td>\n",
       "      <td>0</td>\n",
       "      <td>0</td>\n",
       "      <td>0</td>\n",
       "      <td>0</td>\n",
       "      <td>0</td>\n",
       "      <td>0</td>\n",
       "      <td>0</td>\n",
       "      <td>...</td>\n",
       "      <td>0</td>\n",
       "      <td>0</td>\n",
       "      <td>0</td>\n",
       "      <td>0</td>\n",
       "      <td>0</td>\n",
       "      <td>0</td>\n",
       "      <td>0</td>\n",
       "      <td>0</td>\n",
       "      <td>0</td>\n",
       "      <td>0</td>\n",
       "    </tr>\n",
       "    <tr>\n",
       "      <td>3</td>\n",
       "      <td>0</td>\n",
       "      <td>0</td>\n",
       "      <td>0</td>\n",
       "      <td>0</td>\n",
       "      <td>0</td>\n",
       "      <td>0</td>\n",
       "      <td>0</td>\n",
       "      <td>0</td>\n",
       "      <td>0</td>\n",
       "      <td>0</td>\n",
       "      <td>...</td>\n",
       "      <td>0</td>\n",
       "      <td>0</td>\n",
       "      <td>0</td>\n",
       "      <td>0</td>\n",
       "      <td>0</td>\n",
       "      <td>0</td>\n",
       "      <td>0</td>\n",
       "      <td>0</td>\n",
       "      <td>0</td>\n",
       "      <td>0</td>\n",
       "    </tr>\n",
       "    <tr>\n",
       "      <td>4</td>\n",
       "      <td>0</td>\n",
       "      <td>0</td>\n",
       "      <td>0</td>\n",
       "      <td>0</td>\n",
       "      <td>0</td>\n",
       "      <td>0</td>\n",
       "      <td>0</td>\n",
       "      <td>0</td>\n",
       "      <td>0</td>\n",
       "      <td>0</td>\n",
       "      <td>...</td>\n",
       "      <td>0</td>\n",
       "      <td>0</td>\n",
       "      <td>0</td>\n",
       "      <td>0</td>\n",
       "      <td>0</td>\n",
       "      <td>0</td>\n",
       "      <td>0</td>\n",
       "      <td>0</td>\n",
       "      <td>0</td>\n",
       "      <td>0</td>\n",
       "    </tr>\n",
       "    <tr>\n",
       "      <td>...</td>\n",
       "      <td>...</td>\n",
       "      <td>...</td>\n",
       "      <td>...</td>\n",
       "      <td>...</td>\n",
       "      <td>...</td>\n",
       "      <td>...</td>\n",
       "      <td>...</td>\n",
       "      <td>...</td>\n",
       "      <td>...</td>\n",
       "      <td>...</td>\n",
       "      <td>...</td>\n",
       "      <td>...</td>\n",
       "      <td>...</td>\n",
       "      <td>...</td>\n",
       "      <td>...</td>\n",
       "      <td>...</td>\n",
       "      <td>...</td>\n",
       "      <td>...</td>\n",
       "      <td>...</td>\n",
       "      <td>...</td>\n",
       "      <td>...</td>\n",
       "    </tr>\n",
       "    <tr>\n",
       "      <td>1293</td>\n",
       "      <td>0</td>\n",
       "      <td>0</td>\n",
       "      <td>0</td>\n",
       "      <td>0</td>\n",
       "      <td>0</td>\n",
       "      <td>0</td>\n",
       "      <td>0</td>\n",
       "      <td>0</td>\n",
       "      <td>0</td>\n",
       "      <td>0</td>\n",
       "      <td>...</td>\n",
       "      <td>0</td>\n",
       "      <td>0</td>\n",
       "      <td>0</td>\n",
       "      <td>0</td>\n",
       "      <td>0</td>\n",
       "      <td>0</td>\n",
       "      <td>0</td>\n",
       "      <td>0</td>\n",
       "      <td>0</td>\n",
       "      <td>0</td>\n",
       "    </tr>\n",
       "    <tr>\n",
       "      <td>1294</td>\n",
       "      <td>0</td>\n",
       "      <td>0</td>\n",
       "      <td>0</td>\n",
       "      <td>0</td>\n",
       "      <td>0</td>\n",
       "      <td>0</td>\n",
       "      <td>0</td>\n",
       "      <td>0</td>\n",
       "      <td>0</td>\n",
       "      <td>0</td>\n",
       "      <td>...</td>\n",
       "      <td>0</td>\n",
       "      <td>0</td>\n",
       "      <td>0</td>\n",
       "      <td>0</td>\n",
       "      <td>0</td>\n",
       "      <td>0</td>\n",
       "      <td>0</td>\n",
       "      <td>0</td>\n",
       "      <td>0</td>\n",
       "      <td>0</td>\n",
       "    </tr>\n",
       "    <tr>\n",
       "      <td>1295</td>\n",
       "      <td>0</td>\n",
       "      <td>0</td>\n",
       "      <td>0</td>\n",
       "      <td>0</td>\n",
       "      <td>0</td>\n",
       "      <td>0</td>\n",
       "      <td>0</td>\n",
       "      <td>0</td>\n",
       "      <td>0</td>\n",
       "      <td>0</td>\n",
       "      <td>...</td>\n",
       "      <td>0</td>\n",
       "      <td>0</td>\n",
       "      <td>0</td>\n",
       "      <td>0</td>\n",
       "      <td>0</td>\n",
       "      <td>0</td>\n",
       "      <td>0</td>\n",
       "      <td>0</td>\n",
       "      <td>0</td>\n",
       "      <td>0</td>\n",
       "    </tr>\n",
       "    <tr>\n",
       "      <td>1296</td>\n",
       "      <td>0</td>\n",
       "      <td>0</td>\n",
       "      <td>0</td>\n",
       "      <td>0</td>\n",
       "      <td>0</td>\n",
       "      <td>0</td>\n",
       "      <td>0</td>\n",
       "      <td>0</td>\n",
       "      <td>0</td>\n",
       "      <td>0</td>\n",
       "      <td>...</td>\n",
       "      <td>0</td>\n",
       "      <td>0</td>\n",
       "      <td>0</td>\n",
       "      <td>0</td>\n",
       "      <td>0</td>\n",
       "      <td>0</td>\n",
       "      <td>0</td>\n",
       "      <td>0</td>\n",
       "      <td>0</td>\n",
       "      <td>0</td>\n",
       "    </tr>\n",
       "    <tr>\n",
       "      <td>1297</td>\n",
       "      <td>0</td>\n",
       "      <td>0</td>\n",
       "      <td>0</td>\n",
       "      <td>0</td>\n",
       "      <td>0</td>\n",
       "      <td>0</td>\n",
       "      <td>0</td>\n",
       "      <td>0</td>\n",
       "      <td>0</td>\n",
       "      <td>0</td>\n",
       "      <td>...</td>\n",
       "      <td>0</td>\n",
       "      <td>0</td>\n",
       "      <td>0</td>\n",
       "      <td>0</td>\n",
       "      <td>0</td>\n",
       "      <td>0</td>\n",
       "      <td>0</td>\n",
       "      <td>0</td>\n",
       "      <td>0</td>\n",
       "      <td>0</td>\n",
       "    </tr>\n",
       "  </tbody>\n",
       "</table>\n",
       "<p>1283 rows × 3905 columns</p>\n",
       "</div>"
      ],
      "text/plain": [
       "      ab  abdomen  ability  abortion  absence  absolute  abuse  abuser  \\\n",
       "0      0        0        0         0        0         0      0       0   \n",
       "1      0        0        0         0        0         0      0       0   \n",
       "2      0        0        0         0        0         0      0       0   \n",
       "3      0        0        0         0        0         0      0       0   \n",
       "4      0        0        0         0        0         0      0       0   \n",
       "...   ..      ...      ...       ...      ...       ...    ...     ...   \n",
       "1293   0        0        0         0        0         0      0       0   \n",
       "1294   0        0        0         0        0         0      0       0   \n",
       "1295   0        0        0         0        0         0      0       0   \n",
       "1296   0        0        0         0        0         0      0       0   \n",
       "1297   0        0        0         0        0         0      0       0   \n",
       "\n",
       "      abusinghurt  abusive  ...  zap  zero  zimbabwe  ziplock  zombie  zone  \\\n",
       "0               0        0  ...    0     0         0        0       0     0   \n",
       "1               0        0  ...    0     0         0        0       0     0   \n",
       "2               0        0  ...    0     0         0        0       0     0   \n",
       "3               0        0  ...    0     0         0        0       0     0   \n",
       "4               0        0  ...    0     0         0        0       0     0   \n",
       "...           ...      ...  ...  ...   ...       ...      ...     ...   ...   \n",
       "1293            0        0  ...    0     0         0        0       0     0   \n",
       "1294            0        0  ...    0     0         0        0       0     0   \n",
       "1295            0        0  ...    0     0         0        0       0     0   \n",
       "1296            0        0  ...    0     0         0        0       0     0   \n",
       "1297            0        0  ...    0     0         0        0       0     0   \n",
       "\n",
       "      zoo  zoom  zopiclon  última  \n",
       "0       0     0         0       0  \n",
       "1       0     0         0       0  \n",
       "2       0     0         0       0  \n",
       "3       0     0         0       0  \n",
       "4       0     0         0       0  \n",
       "...   ...   ...       ...     ...  \n",
       "1293    0     0         0       0  \n",
       "1294    0     0         0       0  \n",
       "1295    0     0         0       0  \n",
       "1296    0     0         0       0  \n",
       "1297    0     0         0       0  \n",
       "\n",
       "[1283 rows x 3905 columns]"
      ]
     },
     "execution_count": 106,
     "metadata": {},
     "output_type": "execute_result"
    }
   ],
   "source": [
    "# Re-add the additional stop words since we are recreating the document-term matrix\n",
    "add_stop_words = ['i', 'im', 'thing','dont','year','time','day','way',\n",
    "                 'que','eu','edge','fuck']\n",
    "stop_words = text.ENGLISH_STOP_WORDS.union(add_stop_words)\n",
    "\n",
    "df_noun = df_pos\n",
    "# Recreate a document-term matrix with only nouns\n",
    "cvn = CountVectorizer(stop_words=stop_words,max_df=.8)\n",
    "data_cvn = cvn.fit_transform(df_nouns)\n",
    "data_dtmn = pd.DataFrame(data_cvn.toarray(), columns=cvn.get_feature_names())\n",
    "data_dtmn.index = df_nouns.index\n",
    "data_dtmn\n"
   ]
  },
  {
   "cell_type": "code",
   "execution_count": 107,
   "metadata": {
    "hidden": true
   },
   "outputs": [],
   "source": [
    "# Create the gensim corpus\n",
    "corpusn = matutils.Sparse2Corpus(scipy.sparse.csr_matrix(data_dtmn.transpose()))\n",
    "pickle.dump(corpusn,open('pickles/corpusn.pkl','wb'))\n",
    "dictionary = pickle.load(open('pickles/dictionary.pkl','rb'))\n",
    "# Create the vocabulary dictionary\n",
    "# id2wordn = dict((v, k) for k, v in cvn.vocabulary_.items())"
   ]
  },
  {
   "cell_type": "markdown",
   "metadata": {
    "hidden": true
   },
   "source": [
    "### Topic Modelling"
   ]
  },
  {
   "cell_type": "markdown",
   "metadata": {
    "heading_collapsed": true,
    "hidden": true
   },
   "source": [
    "#### Base Model"
   ]
  },
  {
   "cell_type": "code",
   "execution_count": 108,
   "metadata": {
    "hidden": true
   },
   "outputs": [
    {
     "data": {
      "text/plain": [
       "[(0,\n",
       "  '0.042*\"insecure\" + 0.027*\"aspect\" + 0.024*\"patio\" + 0.017*\"addiction\" + 0.015*\"naked\" + 0.012*\"overcome\" + 0.011*\"every\" + 0.011*\"paying\" + 0.010*\"distracted\" + 0.009*\"hinder\"'),\n",
       " (1,\n",
       "  '0.016*\"naked\" + 0.015*\"paying\" + 0.012*\"insecure\" + 0.011*\"patio\" + 0.010*\"overcome\" + 0.009*\"dysphoria\" + 0.009*\"everlasting\" + 0.009*\"finished\" + 0.008*\"law\" + 0.007*\"distracted\"'),\n",
       " (2,\n",
       "  '0.008*\"manipulative\" + 0.003*\"washing\" + 0.003*\"wash\" + 0.003*\"anytime\" + 0.002*\"extract\" + 0.002*\"sideways\" + 0.002*\"acknowledge\" + 0.002*\"torment\" + 0.002*\"sing\" + 0.002*\"draw\"'),\n",
       " (3,\n",
       "  '0.005*\"assignment\" + 0.004*\"continues\" + 0.002*\"ineffective\" + 0.002*\"controversial\" + 0.002*\"obliged\" + 0.002*\"abuse\" + 0.002*\"silly\" + 0.002*\"confession\" + 0.002*\"finger\" + 0.002*\"onexmayb\"'),\n",
       " (4,\n",
       "  '0.005*\"share\" + 0.004*\"happily\" + 0.003*\"suffice\" + 0.003*\"asking\" + 0.003*\"previous\" + 0.003*\"againmy\" + 0.003*\"cane\" + 0.003*\"antidepressant\" + 0.003*\"none\" + 0.003*\"online\"')]"
      ]
     },
     "execution_count": 108,
     "metadata": {},
     "output_type": "execute_result"
    }
   ],
   "source": [
    "# 5 topics\n",
    "ldan = models.LdaModel(corpus=corpusn, num_topics=5, id2word=dictionary, passes=100)\n",
    "ldan.print_topics()"
   ]
  },
  {
   "cell_type": "code",
   "execution_count": 110,
   "metadata": {
    "hidden": true
   },
   "outputs": [
    {
     "data": {
      "text/plain": [
       "0.7374951469464308"
      ]
     },
     "execution_count": 110,
     "metadata": {},
     "output_type": "execute_result"
    }
   ],
   "source": [
    "coherence_score = models.CoherenceModel(model=ldan, texts=df, dictionary=dictionary, coherence='c_v').get_coherence()\n",
    "coherence_score"
   ]
  },
  {
   "cell_type": "markdown",
   "metadata": {
    "hidden": true
   },
   "source": [
    "#### Hyperparameter Tuning"
   ]
  },
  {
   "cell_type": "code",
   "execution_count": 111,
   "metadata": {
    "hidden": true
   },
   "outputs": [
    {
     "name": "stdout",
     "output_type": "stream",
     "text": [
      "Using default topics range:  range(3, 5)\n",
      "Using default alpha list:  [0.01, 0.31, 0.61, 0.9099999999999999, 'symmetric', 'asymmetric']\n",
      "Using default beta list:  [0.01, 0.31, 0.61, 0.9099999999999999, 'symmetric']\n"
     ]
    },
    {
     "data": {
      "application/vnd.jupyter.widget-view+json": {
       "model_id": "b2e58cd95f864f5db3ec77e0c4e4cd25",
       "version_major": 2,
       "version_minor": 0
      },
      "text/plain": [
       "HBox(children=(HTML(value=''), FloatProgress(value=0.0, max=60.0), HTML(value='')))"
      ]
     },
     "metadata": {},
     "output_type": "display_data"
    },
    {
     "name": "stdout",
     "output_type": "stream",
     "text": [
      "\n"
     ]
    },
    {
     "data": {
      "text/html": [
       "<div>\n",
       "<style scoped>\n",
       "    .dataframe tbody tr th:only-of-type {\n",
       "        vertical-align: middle;\n",
       "    }\n",
       "\n",
       "    .dataframe tbody tr th {\n",
       "        vertical-align: top;\n",
       "    }\n",
       "\n",
       "    .dataframe thead th {\n",
       "        text-align: right;\n",
       "    }\n",
       "</style>\n",
       "<table border=\"1\" class=\"dataframe\">\n",
       "  <thead>\n",
       "    <tr style=\"text-align: right;\">\n",
       "      <th></th>\n",
       "      <th>Topics</th>\n",
       "      <th>Alpha</th>\n",
       "      <th>Beta</th>\n",
       "      <th>Coherence</th>\n",
       "    </tr>\n",
       "  </thead>\n",
       "  <tbody>\n",
       "    <tr>\n",
       "      <td>12</td>\n",
       "      <td>3</td>\n",
       "      <td>0.61</td>\n",
       "      <td>0.61</td>\n",
       "      <td>0.725080</td>\n",
       "    </tr>\n",
       "    <tr>\n",
       "      <td>0</td>\n",
       "      <td>3</td>\n",
       "      <td>0.01</td>\n",
       "      <td>0.01</td>\n",
       "      <td>0.746978</td>\n",
       "    </tr>\n",
       "    <tr>\n",
       "      <td>37</td>\n",
       "      <td>4</td>\n",
       "      <td>0.31</td>\n",
       "      <td>0.61</td>\n",
       "      <td>0.717637</td>\n",
       "    </tr>\n",
       "    <tr>\n",
       "      <td>46</td>\n",
       "      <td>4</td>\n",
       "      <td>0.91</td>\n",
       "      <td>0.31</td>\n",
       "      <td>0.741374</td>\n",
       "    </tr>\n",
       "    <tr>\n",
       "      <td>15</td>\n",
       "      <td>3</td>\n",
       "      <td>0.91</td>\n",
       "      <td>0.01</td>\n",
       "      <td>0.754010</td>\n",
       "    </tr>\n",
       "  </tbody>\n",
       "</table>\n",
       "</div>"
      ],
      "text/plain": [
       "    Topics Alpha  Beta  Coherence\n",
       "12       3  0.61  0.61   0.725080\n",
       "0        3  0.01  0.01   0.746978\n",
       "37       4  0.31  0.61   0.717637\n",
       "46       4  0.91  0.31   0.741374\n",
       "15       3  0.91  0.01   0.754010"
      ]
     },
     "execution_count": 111,
     "metadata": {},
     "output_type": "execute_result"
    }
   ],
   "source": [
    "model_results = pd.DataFrame(grid_search_tuning(corpusn,dictionary))\n",
    "model_results.sample(5)"
   ]
  },
  {
   "cell_type": "code",
   "execution_count": 112,
   "metadata": {
    "hidden": true
   },
   "outputs": [
    {
     "data": {
      "text/html": [
       "<div>\n",
       "<style scoped>\n",
       "    .dataframe tbody tr th:only-of-type {\n",
       "        vertical-align: middle;\n",
       "    }\n",
       "\n",
       "    .dataframe tbody tr th {\n",
       "        vertical-align: top;\n",
       "    }\n",
       "\n",
       "    .dataframe thead th {\n",
       "        text-align: right;\n",
       "    }\n",
       "</style>\n",
       "<table border=\"1\" class=\"dataframe\">\n",
       "  <thead>\n",
       "    <tr style=\"text-align: right;\">\n",
       "      <th></th>\n",
       "      <th>Topics</th>\n",
       "      <th>Alpha</th>\n",
       "      <th>Beta</th>\n",
       "      <th>Coherence</th>\n",
       "    </tr>\n",
       "  </thead>\n",
       "  <tbody>\n",
       "    <tr>\n",
       "      <td>5</td>\n",
       "      <td>3</td>\n",
       "      <td>0.31</td>\n",
       "      <td>0.01</td>\n",
       "      <td>0.771386</td>\n",
       "    </tr>\n",
       "    <tr>\n",
       "      <td>50</td>\n",
       "      <td>4</td>\n",
       "      <td>symmetric</td>\n",
       "      <td>0.01</td>\n",
       "      <td>0.769907</td>\n",
       "    </tr>\n",
       "    <tr>\n",
       "      <td>10</td>\n",
       "      <td>3</td>\n",
       "      <td>0.61</td>\n",
       "      <td>0.01</td>\n",
       "      <td>0.769027</td>\n",
       "    </tr>\n",
       "    <tr>\n",
       "      <td>35</td>\n",
       "      <td>4</td>\n",
       "      <td>0.31</td>\n",
       "      <td>0.01</td>\n",
       "      <td>0.759974</td>\n",
       "    </tr>\n",
       "    <tr>\n",
       "      <td>25</td>\n",
       "      <td>3</td>\n",
       "      <td>asymmetric</td>\n",
       "      <td>0.01</td>\n",
       "      <td>0.759753</td>\n",
       "    </tr>\n",
       "  </tbody>\n",
       "</table>\n",
       "</div>"
      ],
      "text/plain": [
       "    Topics       Alpha  Beta  Coherence\n",
       "5        3        0.31  0.01   0.771386\n",
       "50       4   symmetric  0.01   0.769907\n",
       "10       3        0.61  0.01   0.769027\n",
       "35       4        0.31  0.01   0.759974\n",
       "25       3  asymmetric  0.01   0.759753"
      ]
     },
     "execution_count": 112,
     "metadata": {},
     "output_type": "execute_result"
    }
   ],
   "source": [
    "top_models = model_results.sort_values('Coherence',ascending=False).head(5)\n",
    "# tuning_results['Group'] = tuning_results[['Alpha','Beta']].apply(lambda x: ', '.join(x.astype(str)), axis=1)\n",
    "# sns.lineplot(x='Topics', y='Coherence', data=tuning_results, hue='Group')\n",
    "top_models"
   ]
  },
  {
   "cell_type": "markdown",
   "metadata": {
    "hidden": true
   },
   "source": [
    "#### Results and Visualization"
   ]
  },
  {
   "cell_type": "code",
   "execution_count": 116,
   "metadata": {
    "hidden": true
   },
   "outputs": [
    {
     "data": {
      "text/plain": [
       "[(0,\n",
       "  '0.016*\"naked\" + 0.015*\"aspect\" + 0.014*\"insecure\" + 0.014*\"previous\" + 0.013*\"addiction\" + 0.012*\"hinder\" + 0.012*\"overcome\" + 0.011*\"paying\" + 0.011*\"patio\" + 0.010*\"tran\"'),\n",
       " (1,\n",
       "  '0.055*\"insecure\" + 0.030*\"patio\" + 0.026*\"aspect\" + 0.019*\"naked\" + 0.013*\"distracted\" + 0.013*\"overcome\" + 0.013*\"addiction\" + 0.012*\"every\" + 0.012*\"paying\" + 0.011*\"greatest\"'),\n",
       " (2,\n",
       "  '0.034*\"insecure\" + 0.024*\"aspect\" + 0.023*\"patio\" + 0.020*\"finished\" + 0.016*\"addiction\" + 0.013*\"paying\" + 0.012*\"su\" + 0.012*\"expectancy\" + 0.011*\"denture\" + 0.009*\"humiliated\"')]"
      ]
     },
     "execution_count": 116,
     "metadata": {},
     "output_type": "execute_result"
    }
   ],
   "source": [
    "# Best Performing Topic\n",
    "[num_topics, alpha, eta] = top_models.iloc[0][['Topics','Alpha','Beta']]\n",
    "\n",
    "ldan = models.LdaModel(corpus=corpusn, id2word=dictionary, num_topics=num_topics, passes=100, alpha=alpha, eta=eta)\n",
    "ldan.save('models/ldan.gensim')\n",
    "ldan.print_topics()"
   ]
  },
  {
   "cell_type": "code",
   "execution_count": 148,
   "metadata": {
    "hidden": true
   },
   "outputs": [
    {
     "data": {
      "text/plain": [
       "0.7567000421981204"
      ]
     },
     "execution_count": 148,
     "metadata": {},
     "output_type": "execute_result"
    }
   ],
   "source": [
    "coherence_score = models.CoherenceModel(model=ldan, texts=df, dictionary=dictionary, coherence='c_v').get_coherence()\n",
    "coherence_score"
   ]
  },
  {
   "cell_type": "code",
   "execution_count": 129,
   "metadata": {
    "hidden": true
   },
   "outputs": [
    {
     "data": {
      "text/html": [
       "\n",
       "<link rel=\"stylesheet\" type=\"text/css\" href=\"https://cdn.rawgit.com/bmabey/pyLDAvis/files/ldavis.v1.0.0.css\">\n",
       "\n",
       "\n",
       "<div id=\"ldavis_el81647457733847796586747\"></div>\n",
       "<script type=\"text/javascript\">\n",
       "\n",
       "var ldavis_el81647457733847796586747_data = {\"mdsDat\": {\"x\": [-0.09518489775198549, -0.03991864345725185, 0.1351035412092373], \"y\": [0.09796277833957939, -0.12889620446181857, 0.03093342612223921], \"topics\": [1, 2, 3], \"cluster\": [1, 1, 1], \"Freq\": [37.60565185546875, 35.83851623535156, 26.555828094482422]}, \"tinfo\": {\"Category\": [\"Default\", \"Default\", \"Default\", \"Default\", \"Default\", \"Default\", \"Default\", \"Default\", \"Default\", \"Default\", \"Default\", \"Default\", \"Default\", \"Default\", \"Default\", \"Default\", \"Default\", \"Default\", \"Default\", \"Default\", \"Default\", \"Default\", \"Default\", \"Default\", \"Default\", \"Default\", \"Default\", \"Default\", \"Default\", \"Default\", \"Topic1\", \"Topic1\", \"Topic1\", \"Topic1\", \"Topic1\", \"Topic1\", \"Topic1\", \"Topic1\", \"Topic1\", \"Topic1\", \"Topic1\", \"Topic1\", \"Topic1\", \"Topic1\", \"Topic1\", \"Topic1\", \"Topic1\", \"Topic1\", \"Topic1\", \"Topic1\", \"Topic1\", \"Topic1\", \"Topic1\", \"Topic1\", \"Topic1\", \"Topic1\", \"Topic1\", \"Topic1\", \"Topic1\", \"Topic1\", \"Topic1\", \"Topic1\", \"Topic1\", \"Topic1\", \"Topic1\", \"Topic1\", \"Topic1\", \"Topic1\", \"Topic1\", \"Topic1\", \"Topic1\", \"Topic1\", \"Topic1\", \"Topic1\", \"Topic1\", \"Topic1\", \"Topic1\", \"Topic1\", \"Topic1\", \"Topic1\", \"Topic1\", \"Topic1\", \"Topic1\", \"Topic1\", \"Topic1\", \"Topic1\", \"Topic1\", \"Topic1\", \"Topic1\", \"Topic1\", \"Topic1\", \"Topic1\", \"Topic1\", \"Topic1\", \"Topic1\", \"Topic1\", \"Topic1\", \"Topic1\", \"Topic1\", \"Topic1\", \"Topic1\", \"Topic1\", \"Topic1\", \"Topic1\", \"Topic1\", \"Topic2\", \"Topic2\", \"Topic2\", \"Topic2\", \"Topic2\", \"Topic2\", \"Topic2\", \"Topic2\", \"Topic2\", \"Topic2\", \"Topic2\", \"Topic2\", \"Topic2\", \"Topic2\", \"Topic2\", \"Topic2\", \"Topic2\", \"Topic2\", \"Topic2\", \"Topic2\", \"Topic2\", \"Topic2\", \"Topic2\", \"Topic2\", \"Topic2\", \"Topic2\", \"Topic2\", \"Topic2\", \"Topic2\", \"Topic2\", \"Topic2\", \"Topic2\", \"Topic2\", \"Topic2\", \"Topic2\", \"Topic2\", \"Topic2\", \"Topic2\", \"Topic2\", \"Topic2\", \"Topic2\", \"Topic2\", \"Topic2\", \"Topic2\", \"Topic2\", \"Topic2\", \"Topic2\", \"Topic2\", \"Topic2\", \"Topic2\", \"Topic2\", \"Topic2\", \"Topic2\", \"Topic2\", \"Topic2\", \"Topic2\", \"Topic2\", \"Topic2\", \"Topic2\", \"Topic2\", \"Topic2\", \"Topic2\", \"Topic2\", \"Topic2\", \"Topic2\", \"Topic2\", \"Topic2\", \"Topic2\", \"Topic2\", \"Topic2\", \"Topic2\", \"Topic2\", \"Topic2\", \"Topic3\", \"Topic3\", \"Topic3\", \"Topic3\", \"Topic3\", \"Topic3\", \"Topic3\", \"Topic3\", \"Topic3\", \"Topic3\", \"Topic3\", \"Topic3\", \"Topic3\", \"Topic3\", \"Topic3\", \"Topic3\", \"Topic3\", \"Topic3\", \"Topic3\", \"Topic3\", \"Topic3\", \"Topic3\", \"Topic3\", \"Topic3\", \"Topic3\", \"Topic3\", \"Topic3\", \"Topic3\", \"Topic3\", \"Topic3\", \"Topic3\", \"Topic3\", \"Topic3\", \"Topic3\", \"Topic3\", \"Topic3\", \"Topic3\", \"Topic3\", \"Topic3\", \"Topic3\", \"Topic3\", \"Topic3\", \"Topic3\", \"Topic3\", \"Topic3\", \"Topic3\", \"Topic3\", \"Topic3\", \"Topic3\", \"Topic3\", \"Topic3\", \"Topic3\", \"Topic3\", \"Topic3\", \"Topic3\", \"Topic3\", \"Topic3\", \"Topic3\", \"Topic3\", \"Topic3\", \"Topic3\", \"Topic3\", \"Topic3\", \"Topic3\", \"Topic3\", \"Topic3\", \"Topic3\", \"Topic3\", \"Topic3\", \"Topic3\", \"Topic3\", \"Topic3\"], \"Freq\": [967.0, 92.0, 240.0, 107.0, 600.0, 188.0, 80.0, 105.0, 214.0, 177.0, 191.0, 102.0, 104.0, 611.0, 64.0, 185.0, 52.0, 132.0, 76.0, 28.0, 75.0, 216.0, 53.0, 31.0, 30.0, 24.0, 65.0, 58.0, 18.0, 204.0, 28.92043113708496, 15.960463523864746, 14.962496757507324, 13.965682029724121, 12.96860122680664, 11.971586227416992, 10.9751615524292, 10.974931716918945, 9.977684020996094, 9.976503372192383, 9.977479934692383, 8.981510162353516, 8.980249404907227, 8.980164527893066, 8.979842185974121, 9.972189903259277, 7.983957290649414, 7.983885765075684, 7.983364105224609, 6.9874138832092285, 6.986799716949463, 6.987008094787598, 6.986604690551758, 6.986066818237305, 6.9858078956604, 5.9904584884643555, 5.990175247192383, 5.9902167320251465, 5.990116596221924, 5.990015029907227, 30.12401580810547, 18.597915649414062, 28.513517379760742, 25.447711944580078, 46.45598220825195, 15.915055274963379, 146.4214630126953, 26.801836013793945, 36.897972106933594, 52.530426025390625, 43.98518753051758, 97.99444580078125, 52.469608306884766, 28.47188377380371, 74.71080780029297, 35.63594055175781, 44.82419967651367, 28.748729705810547, 71.1033935546875, 131.90631103515625, 68.81058502197266, 79.32294464111328, 44.62466812133789, 81.43666076660156, 110.6009292602539, 75.4203872680664, 41.66514587402344, 83.95648956298828, 104.30855560302734, 170.58038330078125, 102.41455078125, 125.9852066040039, 137.75115966796875, 121.21931457519531, 163.3115997314453, 51.44586181640625, 77.4769515991211, 55.14965057373047, 119.98729705810547, 148.3800811767578, 58.17272186279297, 64.89535522460938, 54.72267150878906, 56.961883544921875, 54.03707504272461, 18.845285415649414, 13.888051986694336, 13.887632369995117, 11.904770851135254, 10.9138765335083, 10.911917686462402, 9.922313690185547, 9.920316696166992, 8.930924415588379, 8.930380821228027, 8.930341720581055, 8.930343627929688, 7.938568592071533, 7.937587738037109, 6.948331356048584, 6.9475321769714355, 6.9475297927856445, 6.9471917152404785, 7.933590412139893, 6.944293022155762, 5.9569315910339355, 5.956423759460449, 5.9562835693359375, 5.956475734710693, 5.956038475036621, 5.956014633178711, 5.955938339233398, 5.955953121185303, 5.955061435699463, 5.954442024230957, 30.5789794921875, 93.43086242675781, 17.595905303955078, 19.672260284423828, 23.268062591552734, 561.260986328125, 26.556671142578125, 26.98257827758789, 39.005943298339844, 46.327396392822266, 303.69671630859375, 33.968345642089844, 25.752243041992188, 111.97323608398438, 25.49445343017578, 137.09825134277344, 262.10577392578125, 192.93963623046875, 52.120399475097656, 124.10902404785156, 102.27650451660156, 47.98370361328125, 98.3122787475586, 106.5611343383789, 75.77110290527344, 134.37594604492188, 33.90990447998047, 80.35844421386719, 91.29273986816406, 132.5998077392578, 119.50540924072266, 47.51846694946289, 74.54242706298828, 78.64376831054688, 45.390079498291016, 69.93275451660156, 35.07627868652344, 52.93968200683594, 47.430850982666016, 50.99465560913086, 40.805259704589844, 47.47066116333008, 44.858192443847656, 92.0172119140625, 18.805200576782227, 13.858442306518555, 9.901949882507324, 9.89658260345459, 7.922708988189697, 6.933771133422852, 6.933084011077881, 5.943992614746094, 5.944220066070557, 5.943251132965088, 5.943755626678467, 5.943737030029297, 4.955600738525391, 4.9550251960754395, 4.9547247886657715, 4.954403877258301, 4.954038143157959, 3.966276168823242, 3.9660046100616455, 3.965888261795044, 3.965808391571045, 3.9652836322784424, 3.965200662612915, 3.9651763439178467, 3.965177297592163, 3.965930223464966, 3.9647819995880127, 3.9647324085235596, 3.9653384685516357, 3.9648847579956055, 22.128334045410156, 6.6073222160339355, 9.770943641662598, 152.0547637939453, 13.203899383544922, 66.52489471435547, 12.98220443725586, 51.137115478515625, 12.848000526428223, 45.97417068481445, 88.93394470214844, 29.404455184936523, 85.96793365478516, 22.676210403442383, 55.6800537109375, 185.85264587402344, 34.71010971069336, 258.31097412109375, 176.45884704589844, 52.07036590576172, 52.799705505371094, 36.85248565673828, 120.81443786621094, 61.98992919921875, 71.01140594482422, 47.61214828491211, 98.84014129638672, 30.479829788208008, 27.70496368408203, 68.9696273803711, 33.68696975708008, 54.030479431152344, 56.521976470947266, 64.95397186279297, 69.37786102294922, 45.704036712646484, 49.595703125, 41.94944763183594, 63.640350341796875, 44.5008659362793, 41.22288131713867], \"Term\": [\"insecure\", \"su\", \"finished\", \"downer\", \"patio\", \"previous\", \"easing\", \"extreme\", \"guarantee\", \"expectancy\", \"humiliated\", \"kick\", \"opposite\", \"aspect\", \"acknowledge\", \"denture\", \"happily\", \"learned\", \"wash\", \"boring\", \"hammer\", \"hinder\", \"continues\", \"trail\", \"turning\", \"liverpool\", \"still\", \"incoherent\", \"privilege\", \"greatest\", \"boring\", \"manipulative\", \"suffice\", \"absolutely\", \"innocent\", \"else\", \"teenager\", \"belong\", \"shutting\", \"third\", \"truth\", \"gon\", \"fling\", \"liver\", \"iii\", \"heartbreak\", \"avidly\", \"canada\", \"look\", \"early\", \"graft\", \"wouldve\", \"small\", \"motion\", \"effect\", \"after\", \"creepy\", \"mostly\", \"batch\", \"discount\", \"turning\", \"solid\", \"consultation\", \"air\", \"happily\", \"convinced\", \"previous\", \"badly\", \"againmy\", \"acknowledge\", \"continues\", \"learned\", \"still\", \"spun\", \"none\", \"schedule\", \"incoherent\", \"handling\", \"kick\", \"hinder\", \"opposite\", \"irritating\", \"orworkyou\", \"compare\", \"tran\", \"affected\", \"nah\", \"j\", \"guarantee\", \"naked\", \"law\", \"overcome\", \"addiction\", \"paying\", \"aspect\", \"landlord\", \"dysphoria\", \"king\", \"patio\", \"insecure\", \"romantic\", \"distracted\", \"denture\", \"every\", \"everlasting\", \"lighthead\", \"colored\", \"anytime\", \"extend\", \"breathe\", \"decline\", \"officially\", \"grade\", \"straight\", \"hurt\", \"shattered\", \"sole\", \"whisky\", \"doctrine\", \"honest\", \"meet\", \"presume\", \"patronizing\", \"intelligence\", \"outlet\", \"regularly\", \"interact\", \"argument\", \"h\", \"ridicule\", \"internet\", \"wood\", \"swear\", \"toddler\", \"dislike\", \"trail\", \"downer\", \"piling\", \"dirt\", \"leech\", \"insecure\", \"existing\", \"xd\", \"anywhere\", \"inevitable\", \"patio\", \"situation\", \"invite\", \"greatest\", \"dreaming\", \"distracted\", \"aspect\", \"naked\", \"skinned\", \"every\", \"everlasting\", \"hammer\", \"humiliated\", \"guarantee\", \"romantic\", \"overcome\", \"admitted\", \"modest\", \"tran\", \"addiction\", \"paying\", \"solution\", \"dysphoria\", \"law\", \"ineedmywif\", \"hinder\", \"behind\", \"quitesimilar\", \"cane\", \"expectancy\", \"cancer\", \"finished\", \"denture\", \"su\", \"privilege\", \"posted\", \"country\", \"scared\", \"longer\", \"guess\", \"christmas\", \"story\", \"discovered\", \"clothes\", \"cute\", \"counseling\", \"ignored\", \"gash\", \"seriousness\", \"jt\", \"keeping\", \"hotel\", \"personally\", \"opinion\", \"thats\", \"exchange\", \"noisepleas\", \"resource\", \"depend\", \"put\", \"see\", \"terrified\", \"eso\", \"emotional\", \"liverpool\", \"seat\", \"wrong\", \"finished\", \"confusion\", \"extreme\", \"wherever\", \"easing\", \"drown\", \"wash\", \"expectancy\", \"tear\", \"denture\", \"universidad\", \"verbal\", \"aspect\", \"loser\", \"insecure\", \"patio\", \"wont\", \"local\", \"wind\", \"addiction\", \"quitesimilar\", \"humiliated\", \"assignment\", \"paying\", \"thai\", \"mad\", \"every\", \"able\", \"modest\", \"greatest\", \"distracted\", \"overcome\", \"j\", \"dysphoria\", \"affected\", \"naked\", \"law\", \"everlasting\"], \"Total\": [967.0, 92.0, 240.0, 107.0, 600.0, 188.0, 80.0, 105.0, 214.0, 177.0, 191.0, 102.0, 104.0, 611.0, 64.0, 185.0, 52.0, 132.0, 76.0, 28.0, 75.0, 216.0, 53.0, 31.0, 30.0, 24.0, 65.0, 58.0, 18.0, 204.0, 28.940311431884766, 15.980271339416504, 14.982315063476562, 13.985489845275879, 12.988409996032715, 11.99139404296875, 10.994969367980957, 10.994746208190918, 9.997491836547852, 9.99631118774414, 9.997289657592773, 9.001317977905273, 9.000057220458984, 9.000186920166016, 8.999926567077637, 9.996743202209473, 8.003765106201172, 8.003693580627441, 8.003173828125, 7.007221698760986, 7.006607532501221, 7.006816387176514, 7.006412982940674, 7.005882263183594, 7.0058770179748535, 6.010266304016113, 6.009983062744141, 6.0100250244140625, 6.009924411773682, 6.009822845458984, 30.92901039123535, 18.967071533203125, 29.926931381225586, 26.93671989440918, 52.818260192871094, 16.96895980834961, 188.18492126464844, 29.91208839416504, 42.855247497558594, 64.73678588867188, 53.8092041015625, 132.39324951171875, 65.73023986816406, 33.892757415771484, 106.51617431640625, 44.820404052734375, 58.77117919921875, 34.88726806640625, 102.54084014892578, 216.86244201660156, 104.51087188720703, 124.35354614257812, 61.73362731933594, 136.25509643554688, 216.7442626953125, 133.21047973632812, 60.73138427734375, 159.02749633789062, 214.7495880126953, 427.1603698730469, 225.55918884277344, 329.739013671875, 391.1654052734375, 339.56488037109375, 611.27001953125, 89.48563385009766, 201.61508178710938, 110.34827423095703, 600.1428833007812, 967.9520263671875, 150.0233917236328, 266.94757080078125, 185.54879760742188, 250.04052734375, 197.53646850585938, 18.865148544311523, 13.907916069030762, 13.90749740600586, 11.92463493347168, 10.933740615844727, 10.932230949401855, 9.942177772521973, 9.941858291625977, 8.950787544250488, 8.950243949890137, 8.950204849243164, 8.950213432312012, 7.958488941192627, 7.958185195922852, 6.968194484710693, 6.967395782470703, 6.967446804046631, 6.967228412628174, 7.958091735839844, 6.966874122619629, 5.976794719696045, 5.976287364959717, 5.976146697998047, 5.976339817047119, 5.9759016036987305, 5.9758782386779785, 5.975801467895508, 5.975817680358887, 5.9749250411987305, 5.975429534912109, 31.74982261657715, 107.17816925048828, 18.870323181152344, 21.833492279052734, 26.78830337524414, 967.9520263671875, 31.752666473388672, 33.72161102294922, 51.586212158203125, 64.4587631225586, 600.1428833007812, 46.62957763671875, 33.71878433227539, 204.34304809570312, 33.71840286254883, 266.94757080078125, 611.27001953125, 427.1603698730469, 83.31242370605469, 250.04052734375, 197.53646850585938, 75.5291519165039, 191.34686279296875, 214.7495880126953, 150.0233917236328, 329.739013671875, 50.61943435668945, 176.6235809326172, 216.7442626953125, 391.1654052734375, 339.56488037109375, 86.31784057617188, 201.61508178710938, 225.55918884277344, 91.32135772705078, 216.86244201660156, 58.652469635009766, 156.7758331298828, 127.1187973022461, 177.515625, 102.30554962158203, 240.85557556152344, 185.54879760742188, 92.03751373291016, 18.82514762878418, 13.878329277038574, 9.921833992004395, 9.916467666625977, 7.942593574523926, 6.953655242919922, 6.952969551086426, 5.963877201080322, 5.964106559753418, 5.963135242462158, 5.96364164352417, 5.963696479797363, 4.975484848022461, 4.974909782409668, 4.974608898162842, 4.9742889404296875, 4.973934650421143, 3.9861605167388916, 3.985888957977295, 3.9857726097106934, 3.9856927394866943, 3.985167980194092, 3.9850850105285645, 3.985060691833496, 3.9850621223449707, 3.9858200550079346, 3.984666347503662, 3.984616756439209, 3.985227584838867, 3.9847757816314697, 24.78024673461914, 6.954126358032227, 10.911442756652832, 240.85557556152344, 15.876615524291992, 105.14544677734375, 15.878766059875488, 80.38788604736328, 15.868682861328125, 76.37652587890625, 177.515625, 47.59031677246094, 185.54879760742188, 35.69862365722656, 117.06175231933594, 611.27001953125, 66.48786163330078, 967.9520263671875, 600.1428833007812, 114.18402862548828, 119.09681701660156, 74.44938659667969, 391.1654052734375, 156.7758331298828, 191.34686279296875, 110.16987609863281, 339.56488037109375, 59.55747985839844, 52.61267852783203, 250.04052734375, 77.39016723632812, 176.6235809326172, 204.34304809570312, 266.94757080078125, 329.739013671875, 159.02749633789062, 201.61508178710938, 133.21047973632812, 427.1603698730469, 225.55918884277344, 197.53646850585938], \"loglift\": [30.0, 29.0, 28.0, 27.0, 26.0, 25.0, 24.0, 23.0, 22.0, 21.0, 20.0, 19.0, 18.0, 17.0, 16.0, 15.0, 14.0, 13.0, 12.0, 11.0, 10.0, 9.0, 8.0, 7.0, 6.0, 5.0, 4.0, 3.0, 2.0, 1.0, 0.9772999882698059, 0.9768000245094299, 0.9767000079154968, 0.9765999913215637, 0.9764999747276306, 0.9764000177383423, 0.9761999845504761, 0.9761999845504761, 0.9760000109672546, 0.9760000109672546, 0.9760000109672546, 0.9757999777793884, 0.9757999777793884, 0.9757999777793884, 0.9757999777793884, 0.975600004196167, 0.9754999876022339, 0.9754999876022339, 0.9754999876022339, 0.9751999974250793, 0.9751999974250793, 0.9751999974250793, 0.9751999974250793, 0.9751999974250793, 0.9750999808311462, 0.9746999740600586, 0.9746999740600586, 0.9746999740600586, 0.9746999740600586, 0.9746999740600586, 0.9516000151634216, 0.9584000110626221, 0.9296000003814697, 0.9211999773979187, 0.8496999740600586, 0.9139000177383423, 0.7271000146865845, 0.8682000041007996, 0.8282999992370605, 0.76910001039505, 0.7764000296592712, 0.6771000027656555, 0.7526999711990356, 0.8036999702453613, 0.6233000159263611, 0.7487000226974487, 0.707099974155426, 0.784500002861023, 0.6118999719619751, 0.48080000281333923, 0.5601000189781189, 0.5284000039100647, 0.6535000205039978, 0.4632999897003174, 0.3052000105381012, 0.4092000126838684, 0.6011999845504761, 0.3391999900341034, 0.25589999556541443, 0.060100000351667404, 0.18850000202655792, 0.01590000092983246, -0.065700002014637, -0.052000001072883606, -0.3418999910354614, 0.4244999885559082, 0.02160000056028366, 0.28439998626708984, -0.6317999958992004, -0.8974000215530396, 0.03060000017285347, -0.43630000948905945, -0.24300000071525574, -0.5012000203132629, -0.3181999921798706, 1.0250999927520752, 1.0247000455856323, 1.0247000455856323, 1.0245000123977661, 1.0242999792099, 1.0242999792099, 1.0240999460220337, 1.0240000486373901, 1.023900032043457, 1.023900032043457, 1.023900032043457, 1.023900032043457, 1.0235999822616577, 1.0235999822616577, 1.023300051689148, 1.023300051689148, 1.023300051689148, 1.023300051689148, 1.0231000185012817, 1.0228999853134155, 1.0227999687194824, 1.0227999687194824, 1.0227999687194824, 1.0227999687194824, 1.0227999687194824, 1.0227999687194824, 1.0227999687194824, 1.0227999687194824, 1.0227999687194824, 1.0226000547409058, 0.9886000156402588, 0.8888999819755554, 0.9562000036239624, 0.9218999743461609, 0.8852999806404114, 0.4812000095844269, 0.8475000262260437, 0.8032000064849854, 0.7465999722480774, 0.695900022983551, 0.3449999988079071, 0.7092999815940857, 0.756600022315979, 0.4246000051498413, 0.7465999722480774, 0.3598000109195709, 0.1793999969959259, 0.2313999980688095, 0.5570999979972839, 0.3257000148296356, 0.367900013923645, 0.5724999904632568, 0.3601999878883362, 0.3253999948501587, 0.34310001134872437, 0.12849999964237213, 0.6255000233650208, 0.2386000007390976, 0.1615000069141388, -0.05559999868273735, -0.018200000748038292, 0.4291999936103821, 0.031199999153614044, -0.027499999850988388, 0.32710000872612, -0.10559999942779541, 0.5120000243186951, -0.05950000137090683, 0.040300000458955765, -0.22120000422000885, 0.10700000077486038, -0.5978999733924866, -0.3937000036239624, 1.325700044631958, 1.3249000310897827, 1.3244999647140503, 1.3238999843597412, 1.3238999843597412, 1.3234000205993652, 1.323099970817566, 1.323099970817566, 1.32260000705719, 1.32260000705719, 1.32260000705719, 1.32260000705719, 1.32260000705719, 1.3219000101089478, 1.3219000101089478, 1.3219000101089478, 1.3219000101089478, 1.3219000101089478, 1.3208999633789062, 1.3208999633789062, 1.3208999633789062, 1.3208999633789062, 1.3208999633789062, 1.3208999633789062, 1.3208999633789062, 1.3208999633789062, 1.3208999633789062, 1.3208999633789062, 1.3208999633789062, 1.3208999633789062, 1.3208999633789062, 1.2127000093460083, 1.2747999429702759, 1.215499997138977, 0.8659999966621399, 1.1416000127792358, 0.8682000041007996, 1.124500036239624, 0.8736000061035156, 1.114799976348877, 0.8183000087738037, 0.6348000168800354, 0.8443999886512756, 0.5565999746322632, 0.8720999956130981, 0.5827999711036682, 0.13529999554157257, 0.6758999824523926, 0.004900000058114529, 0.10180000215768814, 0.5407000184059143, 0.512499988079071, 0.6226999759674072, 0.1509999930858612, 0.39809998869895935, 0.33469998836517334, 0.4869999885559082, 0.09179999679327011, 0.656000018119812, 0.6845999956130981, 0.03799999877810478, 0.4941999912261963, 0.14139999449253082, 0.040800001472234726, -0.08749999850988388, -0.23280000686645508, 0.07900000363588333, -0.07649999856948853, 0.1704999953508377, -0.578000009059906, -0.2971999943256378, -0.2409999966621399], \"logprob\": [30.0, 29.0, 28.0, 27.0, 26.0, 25.0, 24.0, 23.0, 22.0, 21.0, 20.0, 19.0, 18.0, 17.0, 16.0, 15.0, 14.0, 13.0, 12.0, 11.0, 10.0, 9.0, 8.0, 7.0, 6.0, 5.0, 4.0, 3.0, 2.0, 1.0, -5.920599937438965, -6.514999866485596, -6.579599857330322, -6.648499965667725, -6.722599983215332, -6.802599906921387, -6.889500141143799, -6.889500141143799, -6.984799861907959, -6.984899997711182, -6.984799861907959, -7.090000152587891, -7.090099811553955, -7.090099811553955, -7.090199947357178, -6.985300064086914, -7.207699775695801, -7.207699775695801, -7.207799911499023, -7.341000080108643, -7.341100215911865, -7.341100215911865, -7.341100215911865, -7.34119987487793, -7.341300010681152, -7.494999885559082, -7.494999885559082, -7.494999885559082, -7.494999885559082, -7.494999885559082, -5.879799842834473, -6.362100124359131, -5.934800148010254, -6.048500061035156, -5.446599960327148, -6.517899990081787, -4.298600196838379, -5.996699810028076, -5.677000045776367, -5.323699951171875, -5.501299858093262, -4.700200080871582, -5.324900150299072, -5.936200141906738, -4.971499919891357, -5.7118000984191895, -5.482399940490723, -5.926499843597412, -5.020999908447266, -4.4029998779296875, -5.053800106048584, -4.911600112915039, -5.4868998527526855, -4.885300159454346, -4.57919979095459, -4.962100028991699, -5.555500030517578, -4.854800224304199, -4.637800216674805, -4.145899772644043, -4.656099796295166, -4.448999881744385, -4.3597002029418945, -4.487500190734863, -4.189499855041504, -5.344600200653076, -4.935200214385986, -5.275100231170654, -4.497799873352051, -4.285399913787842, -5.221700191497803, -5.112400054931641, -5.282899856567383, -5.242800235748291, -5.295499801635742, -6.3007001876831055, -6.605999946594238, -6.605999946594238, -6.7600998878479, -6.8470001220703125, -6.8471999168396, -6.942200183868408, -6.942399978637695, -7.047500133514404, -7.047500133514404, -7.047599792480469, -7.047599792480469, -7.165299892425537, -7.16540002822876, -7.298500061035156, -7.298600196838379, -7.298600196838379, -7.298699855804443, -7.165900230407715, -7.299099922180176, -7.452400207519531, -7.452499866485596, -7.452600002288818, -7.452499866485596, -7.452600002288818, -7.452600002288818, -7.452600002288818, -7.452600002288818, -7.4527997970581055, -7.452899932861328, -5.816699981689453, -4.69980001449585, -6.36929988861084, -6.257800102233887, -6.089900016784668, -2.9068000316619873, -5.957699775695801, -5.941800117492676, -5.573299884796143, -5.401299953460693, -3.5209999084472656, -5.711599826812744, -5.988500118255615, -4.518700122833252, -5.998499870300293, -4.316299915313721, -3.668299913406372, -3.974600076675415, -5.283400058746338, -4.415800094604492, -4.609300136566162, -5.366099834442139, -4.648900032043457, -4.568299770355225, -4.909299850463867, -4.336400032043457, -5.7133002281188965, -4.850500106811523, -4.722899913787842, -4.349699974060059, -4.45359992980957, -5.375899791717529, -4.925600051879883, -4.872099876403809, -5.4217000007629395, -4.989500045776367, -5.679500102996826, -5.267899990081787, -5.377699851989746, -5.305300235748291, -5.528200149536133, -5.3769001960754395, -5.433499813079834, -4.415299892425537, -6.0030999183654785, -6.308300018310547, -6.644499778747559, -6.644999980926514, -6.867499828338623, -7.000800132751465, -7.000899791717529, -7.154900074005127, -7.154799938201904, -7.15500020980835, -7.154900074005127, -7.154900074005127, -7.336699962615967, -7.3368000984191895, -7.336900234222412, -7.336999893188477, -7.336999893188477, -7.5594000816345215, -7.559500217437744, -7.559500217437744, -7.559500217437744, -7.559700012207031, -7.559700012207031, -7.559700012207031, -7.559700012207031, -7.559500217437744, -7.559800148010254, -7.559800148010254, -7.559599876403809, -7.559800148010254, -5.840400218963623, -7.049099922180176, -6.657800197601318, -3.9130001068115234, -6.3566999435424805, -4.739699840545654, -6.373700141906738, -5.002699851989746, -6.383999824523926, -5.1092000007629395, -4.4492998123168945, -5.556099891662598, -4.48330020904541, -5.815899848937988, -4.917600154876709, -3.7123000621795654, -5.390200138092041, -3.3831000328063965, -3.7641000747680664, -4.984600067138672, -4.970699787139893, -5.3302998542785645, -4.14300012588501, -4.810299873352051, -4.6743998527526855, -5.074100017547607, -4.343699932098389, -5.520199775695801, -5.615600109100342, -4.70359992980957, -5.420100212097168, -4.947700023651123, -4.902599811553955, -4.763599872589111, -4.697700023651123, -5.114999771118164, -5.033299922943115, -5.200799942016602, -4.783999919891357, -5.14169979095459, -5.218200206756592]}, \"token.table\": {\"Topic\": [1, 2, 3, 1, 1, 3, 1, 2, 3, 1, 2, 3, 1, 2, 3, 1, 1, 2, 3, 1, 2, 2, 1, 2, 3, 2, 1, 2, 3, 1, 2, 3, 1, 1, 3, 1, 1, 2, 1, 1, 2, 1, 1, 2, 3, 1, 2, 3, 3, 3, 2, 1, 2, 3, 1, 3, 1, 2, 3, 1, 2, 1, 2, 3, 3, 1, 3, 2, 1, 2, 3, 3, 2, 3, 1, 3, 2, 1, 2, 3, 2, 1, 2, 2, 3, 1, 2, 3, 1, 2, 3, 1, 1, 3, 1, 1, 3, 3, 1, 2, 3, 1, 2, 3, 3, 1, 2, 3, 1, 2, 3, 2, 1, 2, 3, 1, 2, 3, 1, 3, 1, 2, 1, 1, 2, 3, 1, 2, 3, 3, 2, 1, 2, 1, 2, 1, 3, 1, 1, 2, 3, 2, 3, 1, 2, 3, 2, 3, 1, 1, 2, 1, 2, 3, 1, 2, 3, 1, 1, 2, 3, 2, 2, 2, 2, 3, 1, 2, 3, 1, 2, 3, 3, 3, 1, 2, 1, 2, 3, 1, 2, 3, 1, 2, 3, 1, 2, 3, 2, 3, 2, 1, 1, 3, 1, 2, 3, 3, 1, 1, 2, 3, 1, 2, 3, 1, 2, 1, 2, 3, 1, 1, 1, 2, 3, 1, 2, 3, 3, 1, 2, 3, 2, 3, 1, 2, 1, 2, 3, 2, 1, 2, 3, 1, 2, 3, 2, 1, 2, 3, 3, 1, 2, 3, 2, 1, 2, 3, 3, 3, 1, 2, 3, 2, 3, 2, 1, 2, 3, 3, 1, 3, 3, 3, 3, 2, 1, 1, 2, 3, 1, 2, 3, 1, 2, 1, 1, 2, 3, 1, 2, 1, 2, 3, 3, 2, 3, 1, 2, 1, 2, 3, 1, 3, 1, 2, 3, 3, 1, 2, 2, 3, 1, 2, 3, 1, 1, 2, 1, 2, 3, 1, 2, 3, 1, 2, 3, 1, 3, 2, 1, 2, 3, 1, 2, 3, 2, 1, 2, 3, 2, 3], \"Freq\": [0.23258768022060394, 0.3230384588241577, 0.4393323063850403, 1.0010374784469604, 0.8186998963356018, 0.18536601960659027, 0.3527919352054596, 0.3400096297264099, 0.30933207273483276, 0.1580420732498169, 0.6716787815093994, 0.1580420732498169, 0.5630187392234802, 0.12011066824197769, 0.31529051065444946, 0.9982918500900269, 0.8633714914321899, 0.046668730676174164, 0.09333746135234833, 0.928101122379303, 0.03712404519319534, 1.0066512823104858, 0.07754009962081909, 0.756015956401825, 0.15508019924163818, 1.0039913654327393, 0.26665791869163513, 0.4286158084869385, 0.3042845129966736, 0.31769120693206787, 0.25415295362472534, 0.4356907904148102, 0.9995296001434326, 0.9026451110839844, 0.10029389709234238, 0.9983486533164978, 0.40918993949890137, 0.5967352986335754, 1.0004777908325195, 1.002062439918518, 1.0060601234436035, 0.9995385408401489, 0.37143635749816895, 0.4007602632045746, 0.23459137976169586, 0.3618662357330322, 0.36973288655281067, 0.2595996856689453, 1.0067640542984009, 1.006182074546814, 1.00662100315094, 0.5944731831550598, 0.22017525136470795, 0.1761402040719986, 0.18895715475082397, 0.8188143372535706, 0.9690268635749817, 0.03341471776366234, 0.03341471776366234, 0.8177039623260498, 0.18584181368350983, 0.9428980946540833, 0.0589311309158802, 1.0060874223709106, 1.0078781843185425, 0.9983389377593994, 1.0060967206954956, 1.0061990022659302, 0.2964179813861847, 0.24252380430698395, 0.46348991990089417, 1.0037484169006348, 0.916023850440979, 0.0916023850440979, 0.9983655214309692, 1.0060182809829712, 1.004111886024475, 0.24349351227283478, 0.5132094025611877, 0.24349351227283478, 1.0052542686462402, 0.13062360882759094, 0.8677140474319458, 0.7414348721504211, 0.2372591644525528, 0.06301720440387726, 0.12603440880775452, 0.8192236423492432, 0.3819158673286438, 0.3719959855079651, 0.24799731373786926, 0.9989693760871887, 0.36075088381767273, 0.6344239711761475, 0.9991611242294312, 1.0007176399230957, 1.003820538520813, 1.0037068128585815, 0.2733672559261322, 0.516360342502594, 0.2075566053390503, 0.22796304523944855, 0.4959196150302887, 0.2759552597999573, 1.003721833229065, 0.0629868358373642, 0.8503223061561584, 0.1259736716747284, 0.21406565606594086, 0.28729864954948425, 0.5013642907142639, 1.0063201189041138, 0.285319060087204, 0.08559571951627731, 0.6372125744819641, 0.17022649943828583, 0.19513769447803497, 0.631083607673645, 0.999993622303009, 1.005043387413025, 0.9998535513877869, 1.0058481693267822, 0.9990569353103638, 0.1761743277311325, 0.5480979084968567, 0.27894270420074463, 0.4842849671840668, 0.4982547461986542, 0.018626345321536064, 1.006664752960205, 1.0039589405059814, 0.3707177937030792, 0.6355162262916565, 0.8312488198280334, 0.1719825118780136, 0.8709109425544739, 0.1135970801115036, 1.0003257989883423, 0.608680784702301, 0.32278525829315186, 0.06916826963424683, 1.0045644044876099, 1.003471851348877, 0.11497444659471512, 0.5121589303016663, 0.37105390429496765, 1.0055592060089111, 1.004927158355713, 1.0000081062316895, 0.7656814455986023, 0.2382120043039322, 0.25185784697532654, 0.492765337228775, 0.25185784697532654, 0.06205517798662186, 0.7136345505714417, 0.2327069193124771, 1.0008922815322876, 0.15290014445781708, 0.5795741677284241, 0.26654213666915894, 1.0052660703659058, 1.0039677619934082, 1.004036545753479, 0.7710835337638855, 0.2372564822435379, 0.6352854371070862, 0.19299811124801636, 0.1688733547925949, 0.5282105207443237, 0.18235839903354645, 0.2892581522464752, 1.0051687955856323, 1.0052404403686523, 0.6924070715904236, 0.3023185729980469, 0.49842193722724915, 0.353426456451416, 0.14499546587467194, 0.5699238777160645, 0.12292475998401642, 0.3017244040966034, 0.45220947265625, 0.35024067759513855, 0.19950418174266815, 0.740218997001648, 0.12085208296775818, 0.1435118466615677, 0.8585836887359619, 0.1493189036846161, 1.0071481466293335, 0.9999792575836182, 0.12106417119503021, 0.8878039121627808, 0.31906813383102417, 0.24349936842918396, 0.445016086101532, 1.0072276592254639, 0.9996034502983093, 0.28576645255088806, 0.18048407137393951, 0.5264118909835815, 0.3421228528022766, 0.13304777443408966, 0.5321910977363586, 1.001234531402588, 1.004679560661316, 0.23779384791851044, 0.4529406428337097, 0.30573493242263794, 0.9983319640159607, 0.9991604089736938, 0.6915699243545532, 0.27992117404937744, 0.03293190151453018, 0.4003180265426636, 0.4518209397792816, 0.14982663094997406, 1.0037426948547363, 0.7041184306144714, 0.2534826397895813, 0.046941228210926056, 1.005815863609314, 1.0035696029663086, 0.6602184176445007, 0.3444617688655853, 0.7289382219314575, 0.19438351690769196, 0.08099313825368881, 1.0047547817230225, 0.38212040066719055, 0.4063819944858551, 0.20925641059875488, 0.1999523788690567, 0.5065460205078125, 0.2932634949684143, 1.0047036409378052, 0.35633838176727295, 0.35339343547821045, 0.29154959321022034, 1.003540277481079, 0.05299326404929161, 0.9538787603378296, 1.008767008781433, 1.0046721696853638, 0.7758325934410095, 0.12753413617610931, 0.09565059840679169, 1.0092881917953491, 1.003557562828064, 0.26789844036102295, 0.3380623161792755, 0.39546912908554077, 1.0038825273513794, 1.0037487745285034, 1.0040326118469238, 0.386606365442276, 0.5065876841545105, 0.10665003210306168, 1.0084235668182373, 0.8032056093215942, 0.20080140233039856, 1.006596565246582, 1.0038481950759888, 1.0051041841506958, 1.0055636167526245, 1.0002509355545044, 0.08578246086835861, 0.7291509509086609, 0.17156492173671722, 0.10802710801362991, 0.6241565942764282, 0.26406624913215637, 0.9990847110748291, 1.005562663078308, 1.001736044883728, 0.17377635836601257, 0.5560843348503113, 0.26645708084106445, 0.8261352181434631, 0.1475241482257843, 0.7911123037338257, 0.030427396297454834, 0.1673506796360016, 1.0060569047927856, 1.0054981708526611, 0.9995924234390259, 1.0011804103851318, 1.0040466785430908, 0.14708875119686127, 0.25215214490890503, 0.6093676686286926, 1.000457525253296, 1.0038607120513916, 0.3358100354671478, 0.15111452341079712, 0.5037150382995605, 1.0035896301269531, 1.0003690719604492, 1.0041966438293457, 0.97638338804245, 0.031496237963438034, 0.5121243000030518, 0.4198496341705322, 0.06920598447322845, 1.0002710819244385, 0.9699631333351135, 0.032332103699445724, 0.1400614231824875, 0.22409828007221222, 0.6442825198173523, 0.2477324903011322, 0.2733599841594696, 0.4783799946308136, 0.24876753985881805, 0.14402331411838531, 0.6022793054580688, 0.18893155455589294, 0.8187034130096436, 1.0052160024642944, 0.34923055768013, 0.16118332743644714, 0.4969819188117981, 0.3941006362438202, 0.14888246357440948, 0.45540520548820496, 1.0040494203567505, 0.9990271925926208, 0.09164690971374512, 0.9164690971374512, 0.8006734848022461, 0.2075820118188858], \"Term\": [\"able\", \"able\", \"able\", \"absolutely\", \"acknowledge\", \"acknowledge\", \"addiction\", \"addiction\", \"addiction\", \"admitted\", \"admitted\", \"admitted\", \"affected\", \"affected\", \"affected\", \"after\", \"againmy\", \"againmy\", \"againmy\", \"air\", \"air\", \"anytime\", \"anywhere\", \"anywhere\", \"anywhere\", \"argument\", \"aspect\", \"aspect\", \"aspect\", \"assignment\", \"assignment\", \"assignment\", \"avidly\", \"badly\", \"badly\", \"batch\", \"behind\", \"behind\", \"belong\", \"boring\", \"breathe\", \"canada\", \"cancer\", \"cancer\", \"cancer\", \"cane\", \"cane\", \"cane\", \"christmas\", \"clothes\", \"colored\", \"compare\", \"compare\", \"compare\", \"confusion\", \"confusion\", \"consultation\", \"consultation\", \"consultation\", \"continues\", \"continues\", \"convinced\", \"convinced\", \"counseling\", \"country\", \"creepy\", \"cute\", \"decline\", \"denture\", \"denture\", \"denture\", \"depend\", \"dirt\", \"dirt\", \"discount\", \"discovered\", \"dislike\", \"distracted\", \"distracted\", \"distracted\", \"doctrine\", \"downer\", \"downer\", \"dreaming\", \"dreaming\", \"drown\", \"drown\", \"drown\", \"dysphoria\", \"dysphoria\", \"dysphoria\", \"early\", \"easing\", \"easing\", \"effect\", \"else\", \"emotional\", \"eso\", \"everlasting\", \"everlasting\", \"everlasting\", \"every\", \"every\", \"every\", \"exchange\", \"existing\", \"existing\", \"existing\", \"expectancy\", \"expectancy\", \"expectancy\", \"extend\", \"extreme\", \"extreme\", \"extreme\", \"finished\", \"finished\", \"finished\", \"fling\", \"gash\", \"gon\", \"grade\", \"graft\", \"greatest\", \"greatest\", \"greatest\", \"guarantee\", \"guarantee\", \"guarantee\", \"guess\", \"h\", \"hammer\", \"hammer\", \"handling\", \"handling\", \"happily\", \"happily\", \"heartbreak\", \"hinder\", \"hinder\", \"hinder\", \"honest\", \"hotel\", \"humiliated\", \"humiliated\", \"humiliated\", \"hurt\", \"ignored\", \"iii\", \"incoherent\", \"incoherent\", \"ineedmywif\", \"ineedmywif\", \"ineedmywif\", \"inevitable\", \"inevitable\", \"inevitable\", \"innocent\", \"insecure\", \"insecure\", \"insecure\", \"intelligence\", \"interact\", \"internet\", \"invite\", \"invite\", \"irritating\", \"irritating\", \"irritating\", \"j\", \"j\", \"j\", \"jt\", \"keeping\", \"kick\", \"kick\", \"king\", \"king\", \"king\", \"landlord\", \"landlord\", \"landlord\", \"law\", \"law\", \"law\", \"learned\", \"learned\", \"learned\", \"leech\", \"leech\", \"lighthead\", \"liver\", \"liverpool\", \"liverpool\", \"local\", \"local\", \"local\", \"longer\", \"look\", \"loser\", \"loser\", \"loser\", \"mad\", \"mad\", \"mad\", \"manipulative\", \"meet\", \"modest\", \"modest\", \"modest\", \"mostly\", \"motion\", \"nah\", \"nah\", \"nah\", \"naked\", \"naked\", \"naked\", \"noisepleas\", \"none\", \"none\", \"none\", \"officially\", \"opinion\", \"opposite\", \"opposite\", \"orworkyou\", \"orworkyou\", \"orworkyou\", \"outlet\", \"overcome\", \"overcome\", \"overcome\", \"patio\", \"patio\", \"patio\", \"patronizing\", \"paying\", \"paying\", \"paying\", \"personally\", \"piling\", \"piling\", \"posted\", \"presume\", \"previous\", \"previous\", \"previous\", \"privilege\", \"put\", \"quitesimilar\", \"quitesimilar\", \"quitesimilar\", \"regularly\", \"resource\", \"ridicule\", \"romantic\", \"romantic\", \"romantic\", \"scared\", \"schedule\", \"schedule\", \"seat\", \"see\", \"seriousness\", \"shattered\", \"shutting\", \"situation\", \"situation\", \"situation\", \"skinned\", \"skinned\", \"skinned\", \"small\", \"sole\", \"solid\", \"solution\", \"solution\", \"solution\", \"spun\", \"spun\", \"still\", \"still\", \"still\", \"story\", \"straight\", \"su\", \"suffice\", \"swear\", \"tear\", \"tear\", \"tear\", \"teenager\", \"terrified\", \"thai\", \"thai\", \"thai\", \"thats\", \"third\", \"toddler\", \"trail\", \"trail\", \"tran\", \"tran\", \"tran\", \"truth\", \"turning\", \"turning\", \"universidad\", \"universidad\", \"universidad\", \"verbal\", \"verbal\", \"verbal\", \"wash\", \"wash\", \"wash\", \"wherever\", \"wherever\", \"whisky\", \"wind\", \"wind\", \"wind\", \"wont\", \"wont\", \"wont\", \"wood\", \"wouldve\", \"wrong\", \"wrong\", \"xd\", \"xd\"]}, \"R\": 30, \"lambda.step\": 0.01, \"plot.opts\": {\"xlab\": \"PC1\", \"ylab\": \"PC2\"}, \"topic.order\": [1, 2, 3]};\n",
       "\n",
       "function LDAvis_load_lib(url, callback){\n",
       "  var s = document.createElement('script');\n",
       "  s.src = url;\n",
       "  s.async = true;\n",
       "  s.onreadystatechange = s.onload = callback;\n",
       "  s.onerror = function(){console.warn(\"failed to load library \" + url);};\n",
       "  document.getElementsByTagName(\"head\")[0].appendChild(s);\n",
       "}\n",
       "\n",
       "if(typeof(LDAvis) !== \"undefined\"){\n",
       "   // already loaded: just create the visualization\n",
       "   !function(LDAvis){\n",
       "       new LDAvis(\"#\" + \"ldavis_el81647457733847796586747\", ldavis_el81647457733847796586747_data);\n",
       "   }(LDAvis);\n",
       "}else if(typeof define === \"function\" && define.amd){\n",
       "   // require.js is available: use it to load d3/LDAvis\n",
       "   require.config({paths: {d3: \"https://cdnjs.cloudflare.com/ajax/libs/d3/3.5.5/d3.min\"}});\n",
       "   require([\"d3\"], function(d3){\n",
       "      window.d3 = d3;\n",
       "      LDAvis_load_lib(\"https://cdn.rawgit.com/bmabey/pyLDAvis/files/ldavis.v1.0.0.js\", function(){\n",
       "        new LDAvis(\"#\" + \"ldavis_el81647457733847796586747\", ldavis_el81647457733847796586747_data);\n",
       "      });\n",
       "    });\n",
       "}else{\n",
       "    // require.js not available: dynamically load d3 & LDAvis\n",
       "    LDAvis_load_lib(\"https://cdnjs.cloudflare.com/ajax/libs/d3/3.5.5/d3.min.js\", function(){\n",
       "         LDAvis_load_lib(\"https://cdn.rawgit.com/bmabey/pyLDAvis/files/ldavis.v1.0.0.js\", function(){\n",
       "                 new LDAvis(\"#\" + \"ldavis_el81647457733847796586747\", ldavis_el81647457733847796586747_data);\n",
       "            })\n",
       "         });\n",
       "}\n",
       "</script>"
      ],
      "text/plain": [
       "<IPython.core.display.HTML object>"
      ]
     },
     "execution_count": 129,
     "metadata": {},
     "output_type": "execute_result"
    }
   ],
   "source": [
    "ldan_display = pyLDAvis.gensim.prepare(ldan, corpusn, dictionary, sort_topics=False)\n",
    "\n",
    "pyLDAvis.save_html(ldan_display, 'html/vis_ldan.html')\n",
    "pyLDAvis.display(ldan_display)"
   ]
  },
  {
   "cell_type": "markdown",
   "metadata": {
    "heading_collapsed": true
   },
   "source": [
    "## Topic Modeling - Attempt #3 (Nouns and Adjectives)"
   ]
  },
  {
   "cell_type": "markdown",
   "metadata": {
    "heading_collapsed": true,
    "hidden": true
   },
   "source": [
    "### Reading Data"
   ]
  },
  {
   "cell_type": "code",
   "execution_count": 118,
   "metadata": {
    "hidden": true
   },
   "outputs": [
    {
     "data": {
      "text/plain": [
       "0       hate holiday season nothing everyone hate hate...\n",
       "1                                dm discord help cofactor\n",
       "2       depression deal anxiety therapy way lowest dos...\n",
       "3       nothing fog time memory picture feeling moment...\n",
       "4       sister mom anything today fight somehow opinio...\n",
       "                              ...                        \n",
       "1293    felt life year thought race headache thought b...\n",
       "1294    time family value life fine danger truth risk ...\n",
       "1295    dont afterlife stay night afterlife hell athei...\n",
       "1296    thats month moment mother textbook christian m...\n",
       "1297    wan someone cry hour sorry anyone pain way eve...\n",
       "Length: 1283, dtype: object"
      ]
     },
     "execution_count": 118,
     "metadata": {},
     "output_type": "execute_result"
    }
   ],
   "source": [
    "data_nouns_adj = (df_pos['NN'] + df_pos['JJ']).apply(lambda x: ' '.join(x))\n",
    "data_nouns_adj"
   ]
  },
  {
   "cell_type": "code",
   "execution_count": 119,
   "metadata": {
    "hidden": true
   },
   "outputs": [
    {
     "data": {
      "text/html": [
       "<div>\n",
       "<style scoped>\n",
       "    .dataframe tbody tr th:only-of-type {\n",
       "        vertical-align: middle;\n",
       "    }\n",
       "\n",
       "    .dataframe tbody tr th {\n",
       "        vertical-align: top;\n",
       "    }\n",
       "\n",
       "    .dataframe thead th {\n",
       "        text-align: right;\n",
       "    }\n",
       "</style>\n",
       "<table border=\"1\" class=\"dataframe\">\n",
       "  <thead>\n",
       "    <tr style=\"text-align: right;\">\n",
       "      <th></th>\n",
       "      <th>aaa</th>\n",
       "      <th>ab</th>\n",
       "      <th>abandon</th>\n",
       "      <th>abandoned</th>\n",
       "      <th>abdomen</th>\n",
       "      <th>abdominal</th>\n",
       "      <th>ability</th>\n",
       "      <th>able</th>\n",
       "      <th>aborted</th>\n",
       "      <th>abortion</th>\n",
       "      <th>...</th>\n",
       "      <th>zap</th>\n",
       "      <th>zero</th>\n",
       "      <th>zimbabwe</th>\n",
       "      <th>ziplock</th>\n",
       "      <th>zombie</th>\n",
       "      <th>zone</th>\n",
       "      <th>zoo</th>\n",
       "      <th>zoom</th>\n",
       "      <th>zopiclon</th>\n",
       "      <th>última</th>\n",
       "    </tr>\n",
       "  </thead>\n",
       "  <tbody>\n",
       "    <tr>\n",
       "      <td>0</td>\n",
       "      <td>0</td>\n",
       "      <td>0</td>\n",
       "      <td>0</td>\n",
       "      <td>0</td>\n",
       "      <td>0</td>\n",
       "      <td>0</td>\n",
       "      <td>0</td>\n",
       "      <td>0</td>\n",
       "      <td>0</td>\n",
       "      <td>0</td>\n",
       "      <td>...</td>\n",
       "      <td>0</td>\n",
       "      <td>0</td>\n",
       "      <td>0</td>\n",
       "      <td>0</td>\n",
       "      <td>0</td>\n",
       "      <td>0</td>\n",
       "      <td>0</td>\n",
       "      <td>0</td>\n",
       "      <td>0</td>\n",
       "      <td>0</td>\n",
       "    </tr>\n",
       "    <tr>\n",
       "      <td>1</td>\n",
       "      <td>0</td>\n",
       "      <td>0</td>\n",
       "      <td>0</td>\n",
       "      <td>0</td>\n",
       "      <td>0</td>\n",
       "      <td>0</td>\n",
       "      <td>0</td>\n",
       "      <td>0</td>\n",
       "      <td>0</td>\n",
       "      <td>0</td>\n",
       "      <td>...</td>\n",
       "      <td>0</td>\n",
       "      <td>0</td>\n",
       "      <td>0</td>\n",
       "      <td>0</td>\n",
       "      <td>0</td>\n",
       "      <td>0</td>\n",
       "      <td>0</td>\n",
       "      <td>0</td>\n",
       "      <td>0</td>\n",
       "      <td>0</td>\n",
       "    </tr>\n",
       "    <tr>\n",
       "      <td>2</td>\n",
       "      <td>0</td>\n",
       "      <td>0</td>\n",
       "      <td>0</td>\n",
       "      <td>0</td>\n",
       "      <td>0</td>\n",
       "      <td>0</td>\n",
       "      <td>0</td>\n",
       "      <td>0</td>\n",
       "      <td>0</td>\n",
       "      <td>0</td>\n",
       "      <td>...</td>\n",
       "      <td>0</td>\n",
       "      <td>0</td>\n",
       "      <td>0</td>\n",
       "      <td>0</td>\n",
       "      <td>0</td>\n",
       "      <td>0</td>\n",
       "      <td>0</td>\n",
       "      <td>0</td>\n",
       "      <td>0</td>\n",
       "      <td>0</td>\n",
       "    </tr>\n",
       "    <tr>\n",
       "      <td>3</td>\n",
       "      <td>0</td>\n",
       "      <td>0</td>\n",
       "      <td>0</td>\n",
       "      <td>0</td>\n",
       "      <td>0</td>\n",
       "      <td>0</td>\n",
       "      <td>0</td>\n",
       "      <td>0</td>\n",
       "      <td>0</td>\n",
       "      <td>0</td>\n",
       "      <td>...</td>\n",
       "      <td>0</td>\n",
       "      <td>0</td>\n",
       "      <td>0</td>\n",
       "      <td>0</td>\n",
       "      <td>0</td>\n",
       "      <td>0</td>\n",
       "      <td>0</td>\n",
       "      <td>0</td>\n",
       "      <td>0</td>\n",
       "      <td>0</td>\n",
       "    </tr>\n",
       "    <tr>\n",
       "      <td>4</td>\n",
       "      <td>0</td>\n",
       "      <td>0</td>\n",
       "      <td>0</td>\n",
       "      <td>0</td>\n",
       "      <td>0</td>\n",
       "      <td>0</td>\n",
       "      <td>0</td>\n",
       "      <td>0</td>\n",
       "      <td>0</td>\n",
       "      <td>0</td>\n",
       "      <td>...</td>\n",
       "      <td>0</td>\n",
       "      <td>0</td>\n",
       "      <td>0</td>\n",
       "      <td>0</td>\n",
       "      <td>0</td>\n",
       "      <td>0</td>\n",
       "      <td>0</td>\n",
       "      <td>0</td>\n",
       "      <td>0</td>\n",
       "      <td>0</td>\n",
       "    </tr>\n",
       "    <tr>\n",
       "      <td>...</td>\n",
       "      <td>...</td>\n",
       "      <td>...</td>\n",
       "      <td>...</td>\n",
       "      <td>...</td>\n",
       "      <td>...</td>\n",
       "      <td>...</td>\n",
       "      <td>...</td>\n",
       "      <td>...</td>\n",
       "      <td>...</td>\n",
       "      <td>...</td>\n",
       "      <td>...</td>\n",
       "      <td>...</td>\n",
       "      <td>...</td>\n",
       "      <td>...</td>\n",
       "      <td>...</td>\n",
       "      <td>...</td>\n",
       "      <td>...</td>\n",
       "      <td>...</td>\n",
       "      <td>...</td>\n",
       "      <td>...</td>\n",
       "      <td>...</td>\n",
       "    </tr>\n",
       "    <tr>\n",
       "      <td>1293</td>\n",
       "      <td>0</td>\n",
       "      <td>0</td>\n",
       "      <td>0</td>\n",
       "      <td>0</td>\n",
       "      <td>0</td>\n",
       "      <td>0</td>\n",
       "      <td>0</td>\n",
       "      <td>0</td>\n",
       "      <td>0</td>\n",
       "      <td>0</td>\n",
       "      <td>...</td>\n",
       "      <td>0</td>\n",
       "      <td>0</td>\n",
       "      <td>0</td>\n",
       "      <td>0</td>\n",
       "      <td>0</td>\n",
       "      <td>0</td>\n",
       "      <td>0</td>\n",
       "      <td>0</td>\n",
       "      <td>0</td>\n",
       "      <td>0</td>\n",
       "    </tr>\n",
       "    <tr>\n",
       "      <td>1294</td>\n",
       "      <td>0</td>\n",
       "      <td>0</td>\n",
       "      <td>0</td>\n",
       "      <td>0</td>\n",
       "      <td>0</td>\n",
       "      <td>0</td>\n",
       "      <td>0</td>\n",
       "      <td>1</td>\n",
       "      <td>0</td>\n",
       "      <td>0</td>\n",
       "      <td>...</td>\n",
       "      <td>0</td>\n",
       "      <td>0</td>\n",
       "      <td>0</td>\n",
       "      <td>0</td>\n",
       "      <td>0</td>\n",
       "      <td>0</td>\n",
       "      <td>0</td>\n",
       "      <td>0</td>\n",
       "      <td>0</td>\n",
       "      <td>0</td>\n",
       "    </tr>\n",
       "    <tr>\n",
       "      <td>1295</td>\n",
       "      <td>0</td>\n",
       "      <td>0</td>\n",
       "      <td>0</td>\n",
       "      <td>0</td>\n",
       "      <td>0</td>\n",
       "      <td>0</td>\n",
       "      <td>0</td>\n",
       "      <td>0</td>\n",
       "      <td>0</td>\n",
       "      <td>0</td>\n",
       "      <td>...</td>\n",
       "      <td>0</td>\n",
       "      <td>0</td>\n",
       "      <td>0</td>\n",
       "      <td>0</td>\n",
       "      <td>0</td>\n",
       "      <td>0</td>\n",
       "      <td>0</td>\n",
       "      <td>0</td>\n",
       "      <td>0</td>\n",
       "      <td>0</td>\n",
       "    </tr>\n",
       "    <tr>\n",
       "      <td>1296</td>\n",
       "      <td>0</td>\n",
       "      <td>0</td>\n",
       "      <td>0</td>\n",
       "      <td>0</td>\n",
       "      <td>0</td>\n",
       "      <td>0</td>\n",
       "      <td>0</td>\n",
       "      <td>0</td>\n",
       "      <td>0</td>\n",
       "      <td>0</td>\n",
       "      <td>...</td>\n",
       "      <td>0</td>\n",
       "      <td>0</td>\n",
       "      <td>0</td>\n",
       "      <td>0</td>\n",
       "      <td>0</td>\n",
       "      <td>0</td>\n",
       "      <td>0</td>\n",
       "      <td>0</td>\n",
       "      <td>0</td>\n",
       "      <td>0</td>\n",
       "    </tr>\n",
       "    <tr>\n",
       "      <td>1297</td>\n",
       "      <td>0</td>\n",
       "      <td>0</td>\n",
       "      <td>0</td>\n",
       "      <td>0</td>\n",
       "      <td>0</td>\n",
       "      <td>0</td>\n",
       "      <td>0</td>\n",
       "      <td>0</td>\n",
       "      <td>0</td>\n",
       "      <td>0</td>\n",
       "      <td>...</td>\n",
       "      <td>0</td>\n",
       "      <td>0</td>\n",
       "      <td>0</td>\n",
       "      <td>0</td>\n",
       "      <td>0</td>\n",
       "      <td>0</td>\n",
       "      <td>0</td>\n",
       "      <td>0</td>\n",
       "      <td>0</td>\n",
       "      <td>0</td>\n",
       "    </tr>\n",
       "  </tbody>\n",
       "</table>\n",
       "<p>1283 rows × 5459 columns</p>\n",
       "</div>"
      ],
      "text/plain": [
       "      aaa  ab  abandon  abandoned  abdomen  abdominal  ability  able  aborted  \\\n",
       "0       0   0        0          0        0          0        0     0        0   \n",
       "1       0   0        0          0        0          0        0     0        0   \n",
       "2       0   0        0          0        0          0        0     0        0   \n",
       "3       0   0        0          0        0          0        0     0        0   \n",
       "4       0   0        0          0        0          0        0     0        0   \n",
       "...   ...  ..      ...        ...      ...        ...      ...   ...      ...   \n",
       "1293    0   0        0          0        0          0        0     0        0   \n",
       "1294    0   0        0          0        0          0        0     1        0   \n",
       "1295    0   0        0          0        0          0        0     0        0   \n",
       "1296    0   0        0          0        0          0        0     0        0   \n",
       "1297    0   0        0          0        0          0        0     0        0   \n",
       "\n",
       "      abortion  ...  zap  zero  zimbabwe  ziplock  zombie  zone  zoo  zoom  \\\n",
       "0            0  ...    0     0         0        0       0     0    0     0   \n",
       "1            0  ...    0     0         0        0       0     0    0     0   \n",
       "2            0  ...    0     0         0        0       0     0    0     0   \n",
       "3            0  ...    0     0         0        0       0     0    0     0   \n",
       "4            0  ...    0     0         0        0       0     0    0     0   \n",
       "...        ...  ...  ...   ...       ...      ...     ...   ...  ...   ...   \n",
       "1293         0  ...    0     0         0        0       0     0    0     0   \n",
       "1294         0  ...    0     0         0        0       0     0    0     0   \n",
       "1295         0  ...    0     0         0        0       0     0    0     0   \n",
       "1296         0  ...    0     0         0        0       0     0    0     0   \n",
       "1297         0  ...    0     0         0        0       0     0    0     0   \n",
       "\n",
       "      zopiclon  última  \n",
       "0            0       0  \n",
       "1            0       0  \n",
       "2            0       0  \n",
       "3            0       0  \n",
       "4            0       0  \n",
       "...        ...     ...  \n",
       "1293         0       0  \n",
       "1294         0       0  \n",
       "1295         0       0  \n",
       "1296         0       0  \n",
       "1297         0       0  \n",
       "\n",
       "[1283 rows x 5459 columns]"
      ]
     },
     "execution_count": 119,
     "metadata": {},
     "output_type": "execute_result"
    }
   ],
   "source": [
    "# Create a new document-term matrix using nouns and adjectives\n",
    "# Re-add the additional stop words since we are recreating the document-term matrix\n",
    "add_stop_words = ['i', 'im', 'thing','dont','year','time','day','way',\n",
    "                 'que','eu','edge','ive','fuck']\n",
    "stop_words = text.ENGLISH_STOP_WORDS.union(add_stop_words)\n",
    "\n",
    "\n",
    "# Create a new document-term matrix using only nouns and adjectives, also remove common words with max_df\n",
    "cvna = CountVectorizer(stop_words=stop_words, max_df=.8)\n",
    "data_cvna = cvna.fit_transform(data_nouns_adj)\n",
    "data_dtmna = pd.DataFrame(data_cvna.toarray(), columns=cvna.get_feature_names())\n",
    "data_dtmna.index = data_nouns_adj.index\n",
    "data_dtmna"
   ]
  },
  {
   "cell_type": "markdown",
   "metadata": {
    "heading_collapsed": true,
    "hidden": true
   },
   "source": [
    "### Converting Data into Corpus"
   ]
  },
  {
   "cell_type": "code",
   "execution_count": 120,
   "metadata": {
    "hidden": true
   },
   "outputs": [],
   "source": [
    "# Create the gensim corpus\n",
    "corpusna = matutils.Sparse2Corpus(scipy.sparse.csr_matrix(data_dtmna.transpose()))\n",
    "pickle.dump(corpusna,open('pickles/corpusna.pkl','wb'))\n",
    "# Create the vocabulary dictionary\n",
    "# id2wordna = dict((v, k) for k, v in cvna.vocabulary_.items())\n",
    "dictionary = pickle.load(open('pickles/dictionary.pkl','rb'))"
   ]
  },
  {
   "cell_type": "markdown",
   "metadata": {
    "heading_collapsed": true,
    "hidden": true
   },
   "source": [
    "### Topic Modelling"
   ]
  },
  {
   "cell_type": "markdown",
   "metadata": {
    "heading_collapsed": true,
    "hidden": true
   },
   "source": [
    "#### Base Model"
   ]
  },
  {
   "cell_type": "code",
   "execution_count": 121,
   "metadata": {
    "hidden": true
   },
   "outputs": [
    {
     "data": {
      "text/plain": [
       "[(0,\n",
       "  '0.010*\"through\" + 0.006*\"intimidating\" + 0.004*\"fully\" + 0.003*\"crowley\" + 0.003*\"suffocation\" + 0.003*\"august\" + 0.003*\"tendency\" + 0.003*\"essay\" + 0.003*\"lifestyle\" + 0.003*\"than\"'),\n",
       " (1,\n",
       "  '0.005*\"meaninglessly\" + 0.004*\"c\" + 0.003*\"best\" + 0.003*\"stem\" + 0.003*\"obligation\" + 0.003*\"cervix\" + 0.003*\"careonexloveonex\" + 0.002*\"august\" + 0.002*\"creepy\" + 0.002*\"skinny\"'),\n",
       " (2,\n",
       "  '0.003*\"deadline\" + 0.002*\"chosen\" + 0.002*\"frequent\" + 0.002*\"doctrine\" + 0.002*\"reality\" + 0.002*\"big\" + 0.002*\"favorite\" + 0.002*\"insane\" + 0.002*\"obligation\" + 0.002*\"smack\"'),\n",
       " (3,\n",
       "  '0.025*\"through\" + 0.022*\"essay\" + 0.016*\"confiding\" + 0.015*\"owe\" + 0.013*\"bewith\" + 0.009*\"kick\" + 0.009*\"august\" + 0.009*\"food\" + 0.008*\"alcohol\" + 0.007*\"disgusted\"'),\n",
       " (4,\n",
       "  '0.011*\"owe\" + 0.009*\"confiding\" + 0.006*\"quality\" + 0.006*\"falling\" + 0.006*\"food\" + 0.005*\"alcohol\" + 0.005*\"parasite\" + 0.005*\"exercise\" + 0.005*\"through\" + 0.004*\"meaninglessly\"')]"
      ]
     },
     "execution_count": 121,
     "metadata": {},
     "output_type": "execute_result"
    }
   ],
   "source": [
    "# 5 topics\n",
    "ldana = models.LdaModel(corpus=corpusna, num_topics=5, id2word=dictionary, passes=100)\n",
    "ldana.print_topics()"
   ]
  },
  {
   "cell_type": "code",
   "execution_count": 123,
   "metadata": {
    "hidden": true
   },
   "outputs": [
    {
     "data": {
      "text/plain": [
       "0.768450452055951"
      ]
     },
     "execution_count": 123,
     "metadata": {},
     "output_type": "execute_result"
    }
   ],
   "source": [
    "coherence_score = models.CoherenceModel(model=ldana, texts=df, dictionary=dictionary, coherence='c_v').get_coherence()\n",
    "coherence_score"
   ]
  },
  {
   "cell_type": "markdown",
   "metadata": {
    "hidden": true
   },
   "source": [
    "#### Hyperparameter Tuning"
   ]
  },
  {
   "cell_type": "code",
   "execution_count": 125,
   "metadata": {
    "hidden": true
   },
   "outputs": [
    {
     "name": "stdout",
     "output_type": "stream",
     "text": [
      "Using default topics range:  range(3, 5)\n",
      "Using default alpha list:  [0.01, 0.31, 0.61, 0.9099999999999999, 'symmetric', 'asymmetric']\n",
      "Using default beta list:  [0.01, 0.31, 0.61, 0.9099999999999999, 'symmetric']\n"
     ]
    },
    {
     "data": {
      "application/vnd.jupyter.widget-view+json": {
       "model_id": "f540a2e2cc364e5a916b3d3610e85634",
       "version_major": 2,
       "version_minor": 0
      },
      "text/plain": [
       "HBox(children=(HTML(value=''), FloatProgress(value=0.0, max=60.0), HTML(value='')))"
      ]
     },
     "metadata": {},
     "output_type": "display_data"
    },
    {
     "name": "stdout",
     "output_type": "stream",
     "text": [
      "\n"
     ]
    },
    {
     "data": {
      "text/html": [
       "<div>\n",
       "<style scoped>\n",
       "    .dataframe tbody tr th:only-of-type {\n",
       "        vertical-align: middle;\n",
       "    }\n",
       "\n",
       "    .dataframe tbody tr th {\n",
       "        vertical-align: top;\n",
       "    }\n",
       "\n",
       "    .dataframe thead th {\n",
       "        text-align: right;\n",
       "    }\n",
       "</style>\n",
       "<table border=\"1\" class=\"dataframe\">\n",
       "  <thead>\n",
       "    <tr style=\"text-align: right;\">\n",
       "      <th></th>\n",
       "      <th>Topics</th>\n",
       "      <th>Alpha</th>\n",
       "      <th>Beta</th>\n",
       "      <th>Coherence</th>\n",
       "    </tr>\n",
       "  </thead>\n",
       "  <tbody>\n",
       "    <tr>\n",
       "      <td>43</td>\n",
       "      <td>4</td>\n",
       "      <td>0.61</td>\n",
       "      <td>0.91</td>\n",
       "      <td>0.769076</td>\n",
       "    </tr>\n",
       "    <tr>\n",
       "      <td>46</td>\n",
       "      <td>4</td>\n",
       "      <td>0.91</td>\n",
       "      <td>0.31</td>\n",
       "      <td>0.788735</td>\n",
       "    </tr>\n",
       "    <tr>\n",
       "      <td>4</td>\n",
       "      <td>3</td>\n",
       "      <td>0.01</td>\n",
       "      <td>symmetric</td>\n",
       "      <td>0.790750</td>\n",
       "    </tr>\n",
       "    <tr>\n",
       "      <td>49</td>\n",
       "      <td>4</td>\n",
       "      <td>0.91</td>\n",
       "      <td>symmetric</td>\n",
       "      <td>0.782652</td>\n",
       "    </tr>\n",
       "    <tr>\n",
       "      <td>33</td>\n",
       "      <td>4</td>\n",
       "      <td>0.01</td>\n",
       "      <td>0.91</td>\n",
       "      <td>0.765045</td>\n",
       "    </tr>\n",
       "  </tbody>\n",
       "</table>\n",
       "</div>"
      ],
      "text/plain": [
       "    Topics Alpha       Beta  Coherence\n",
       "43       4  0.61       0.91   0.769076\n",
       "46       4  0.91       0.31   0.788735\n",
       "4        3  0.01  symmetric   0.790750\n",
       "49       4  0.91  symmetric   0.782652\n",
       "33       4  0.01       0.91   0.765045"
      ]
     },
     "execution_count": 125,
     "metadata": {},
     "output_type": "execute_result"
    }
   ],
   "source": [
    "model_results = pd.DataFrame(grid_search_tuning(corpusna,dictionary))\n",
    "model_results.sample(5)"
   ]
  },
  {
   "cell_type": "code",
   "execution_count": 126,
   "metadata": {
    "hidden": true
   },
   "outputs": [
    {
     "data": {
      "text/html": [
       "<div>\n",
       "<style scoped>\n",
       "    .dataframe tbody tr th:only-of-type {\n",
       "        vertical-align: middle;\n",
       "    }\n",
       "\n",
       "    .dataframe tbody tr th {\n",
       "        vertical-align: top;\n",
       "    }\n",
       "\n",
       "    .dataframe thead th {\n",
       "        text-align: right;\n",
       "    }\n",
       "</style>\n",
       "<table border=\"1\" class=\"dataframe\">\n",
       "  <thead>\n",
       "    <tr style=\"text-align: right;\">\n",
       "      <th></th>\n",
       "      <th>Topics</th>\n",
       "      <th>Alpha</th>\n",
       "      <th>Beta</th>\n",
       "      <th>Coherence</th>\n",
       "    </tr>\n",
       "  </thead>\n",
       "  <tbody>\n",
       "    <tr>\n",
       "      <td>2</td>\n",
       "      <td>3</td>\n",
       "      <td>0.01</td>\n",
       "      <td>0.61</td>\n",
       "      <td>0.801836</td>\n",
       "    </tr>\n",
       "    <tr>\n",
       "      <td>25</td>\n",
       "      <td>3</td>\n",
       "      <td>asymmetric</td>\n",
       "      <td>0.01</td>\n",
       "      <td>0.799555</td>\n",
       "    </tr>\n",
       "    <tr>\n",
       "      <td>10</td>\n",
       "      <td>3</td>\n",
       "      <td>0.61</td>\n",
       "      <td>0.01</td>\n",
       "      <td>0.797320</td>\n",
       "    </tr>\n",
       "    <tr>\n",
       "      <td>20</td>\n",
       "      <td>3</td>\n",
       "      <td>symmetric</td>\n",
       "      <td>0.01</td>\n",
       "      <td>0.797040</td>\n",
       "    </tr>\n",
       "    <tr>\n",
       "      <td>0</td>\n",
       "      <td>3</td>\n",
       "      <td>0.01</td>\n",
       "      <td>0.01</td>\n",
       "      <td>0.796487</td>\n",
       "    </tr>\n",
       "  </tbody>\n",
       "</table>\n",
       "</div>"
      ],
      "text/plain": [
       "    Topics       Alpha  Beta  Coherence\n",
       "2        3        0.01  0.61   0.801836\n",
       "25       3  asymmetric  0.01   0.799555\n",
       "10       3        0.61  0.01   0.797320\n",
       "20       3   symmetric  0.01   0.797040\n",
       "0        3        0.01  0.01   0.796487"
      ]
     },
     "execution_count": 126,
     "metadata": {},
     "output_type": "execute_result"
    }
   ],
   "source": [
    "top_models = model_results.sort_values('Coherence',ascending=False).head(5)\n",
    "# tuning_results['Group'] = tuning_results[['Alpha','Beta']].apply(lambda x: ', '.join(x.astype(str)), axis=1)\n",
    "# sns.lineplot(x='Topics', y='Coherence', data=tuning_results, hue='Group')\n",
    "top_models"
   ]
  },
  {
   "cell_type": "markdown",
   "metadata": {
    "hidden": true
   },
   "source": [
    "#### Results and Visualization"
   ]
  },
  {
   "cell_type": "code",
   "execution_count": 127,
   "metadata": {
    "hidden": true
   },
   "outputs": [
    {
     "data": {
      "text/plain": [
       "[(0,\n",
       "  '0.022*\"through\" + 0.018*\"essay\" + 0.014*\"confiding\" + 0.013*\"owe\" + 0.011*\"bewith\" + 0.008*\"august\" + 0.008*\"kick\" + 0.008*\"food\" + 0.007*\"alcohol\" + 0.006*\"falling\"'),\n",
       " (1,\n",
       "  '0.003*\"abyssand\" + 0.002*\"formatting\" + 0.002*\"damaged\" + 0.002*\"alike\" + 0.002*\"grampa\" + 0.001*\"disappointment\" + 0.001*\"decline\" + 0.001*\"crap\" + 0.001*\"decided\" + 0.001*\"massive\"'),\n",
       " (2,\n",
       "  '0.003*\"lifestyle\" + 0.002*\"queria\" + 0.002*\"consume\" + 0.001*\"gor\" + 0.001*\"truth\" + 0.001*\"received\" + 0.001*\"stupidthank\" + 0.001*\"punto\" + 0.001*\"frequent\" + 0.001*\"amfightingyou\"')]"
      ]
     },
     "execution_count": 127,
     "metadata": {},
     "output_type": "execute_result"
    }
   ],
   "source": [
    "# Best Performing Topic\n",
    "[num_topics, alpha, eta] = top_models.iloc[0][['Topics','Alpha','Beta']]\n",
    "\n",
    "ldana = models.LdaModel(corpus=corpusna, id2word=dictionary, num_topics=num_topics, passes=100, alpha=alpha, eta=eta)\n",
    "ldana.save('models/ldana.gensim')\n",
    "ldana.print_topics()"
   ]
  },
  {
   "cell_type": "code",
   "execution_count": 149,
   "metadata": {
    "hidden": true
   },
   "outputs": [
    {
     "data": {
      "text/plain": [
       "0.779118077836082"
      ]
     },
     "execution_count": 149,
     "metadata": {},
     "output_type": "execute_result"
    }
   ],
   "source": [
    "coherence_score = models.CoherenceModel(model=ldana, texts=df, dictionary=dictionary, coherence='c_v').get_coherence()\n",
    "coherence_score"
   ]
  },
  {
   "cell_type": "code",
   "execution_count": 128,
   "metadata": {
    "hidden": true
   },
   "outputs": [
    {
     "data": {
      "text/html": [
       "\n",
       "<link rel=\"stylesheet\" type=\"text/css\" href=\"https://cdn.rawgit.com/bmabey/pyLDAvis/files/ldavis.v1.0.0.css\">\n",
       "\n",
       "\n",
       "<div id=\"ldavis_el81647400360403150874886\"></div>\n",
       "<script type=\"text/javascript\">\n",
       "\n",
       "var ldavis_el81647400360403150874886_data = {\"mdsDat\": {\"x\": [0.18985942833454583, -0.09097226165268976, -0.09888716668185614], \"y\": [0.0008071410762228741, -0.029445613889035084, 0.02863847281281238], \"topics\": [1, 2, 3], \"cluster\": [1, 1, 1], \"Freq\": [93.88392639160156, 3.657068967819214, 2.459005355834961]}, \"tinfo\": {\"Category\": [\"Default\", \"Default\", \"Default\", \"Default\", \"Default\", \"Default\", \"Default\", \"Default\", \"Default\", \"Default\", \"Default\", \"Default\", \"Default\", \"Default\", \"Default\", \"Default\", \"Default\", \"Default\", \"Default\", \"Default\", \"Default\", \"Default\", \"Default\", \"Default\", \"Default\", \"Default\", \"Default\", \"Default\", \"Default\", \"Default\", \"Topic1\", \"Topic1\", \"Topic1\", \"Topic1\", \"Topic1\", \"Topic1\", \"Topic1\", \"Topic1\", \"Topic1\", \"Topic1\", \"Topic1\", \"Topic1\", \"Topic1\", \"Topic1\", \"Topic1\", \"Topic1\", \"Topic1\", \"Topic1\", \"Topic1\", \"Topic1\", \"Topic1\", \"Topic1\", \"Topic1\", \"Topic1\", \"Topic1\", \"Topic1\", \"Topic1\", \"Topic1\", \"Topic1\", \"Topic1\", \"Topic1\", \"Topic1\", \"Topic1\", \"Topic1\", \"Topic1\", \"Topic1\", \"Topic2\", \"Topic2\", \"Topic2\", \"Topic2\", \"Topic2\", \"Topic2\", \"Topic2\", \"Topic2\", \"Topic2\", \"Topic2\", \"Topic2\", \"Topic2\", \"Topic2\", \"Topic2\", \"Topic2\", \"Topic2\", \"Topic2\", \"Topic2\", \"Topic2\", \"Topic2\", \"Topic2\", \"Topic2\", \"Topic2\", \"Topic2\", \"Topic2\", \"Topic2\", \"Topic2\", \"Topic2\", \"Topic2\", \"Topic2\", \"Topic2\", \"Topic2\", \"Topic2\", \"Topic2\", \"Topic2\", \"Topic2\", \"Topic2\", \"Topic2\", \"Topic2\", \"Topic2\", \"Topic2\", \"Topic2\", \"Topic2\", \"Topic2\", \"Topic2\", \"Topic2\", \"Topic2\", \"Topic2\", \"Topic2\", \"Topic2\", \"Topic2\", \"Topic2\", \"Topic2\", \"Topic3\", \"Topic3\", \"Topic3\", \"Topic3\", \"Topic3\", \"Topic3\", \"Topic3\", \"Topic3\", \"Topic3\", \"Topic3\", \"Topic3\", \"Topic3\", \"Topic3\", \"Topic3\", \"Topic3\", \"Topic3\", \"Topic3\", \"Topic3\", \"Topic3\", \"Topic3\", \"Topic3\", \"Topic3\", \"Topic3\", \"Topic3\", \"Topic3\", \"Topic3\", \"Topic3\", \"Topic3\", \"Topic3\", \"Topic3\", \"Topic3\", \"Topic3\", \"Topic3\", \"Topic3\", \"Topic3\", \"Topic3\", \"Topic3\", \"Topic3\", \"Topic3\", \"Topic3\", \"Topic3\", \"Topic3\", \"Topic3\", \"Topic3\", \"Topic3\", \"Topic3\", \"Topic3\", \"Topic3\", \"Topic3\", \"Topic3\", \"Topic3\", \"Topic3\", \"Topic3\", \"Topic3\"], \"Freq\": [51.0, 96.0, 17.0, 56.0, 62.0, 16.0, 42.0, 16.0, 20.0, 24.0, 17.0, 35.0, 20.0, 87.0, 24.0, 31.0, 21.0, 48.0, 9.0, 37.0, 38.0, 21.0, 11.0, 22.0, 7.0, 886.0, 28.0, 12.0, 19.0, 17.0, 885.6554565429688, 549.5062255859375, 727.6088256835938, 434.13177490234375, 576.7678833007812, 257.2839050292969, 313.27777099609375, 237.3177490234375, 307.69244384765625, 223.68312072753906, 211.8846893310547, 206.4754180908203, 218.16603088378906, 210.8297119140625, 290.26104736328125, 196.4097442626953, 220.7477264404297, 199.05445861816406, 200.88462829589844, 187.31472778320312, 309.9566955566406, 208.0076904296875, 166.49655151367188, 162.86428833007812, 160.14453125, 145.63133239746094, 141.1378936767578, 147.44015502929688, 138.3882293701172, 138.3975067138672, 241.6508026123047, 195.1168975830078, 184.26992797851562, 175.06436157226562, 186.32223510742188, 168.23377990722656, 2.4930009841918945, 1.7145949602127075, 1.4687901735305786, 1.697244644165039, 1.6892296075820923, 1.4522877931594849, 1.7306400537490845, 1.4259082078933716, 1.1953608989715576, 1.1841857433319092, 1.1822677850723267, 1.1800121068954468, 1.1798039674758911, 1.1769014596939087, 4.665353298187256, 0.9450921416282654, 0.9450921416282654, 0.9450921416282654, 1.1586536169052124, 0.9418686032295227, 1.1572868824005127, 0.939769983291626, 0.9380950331687927, 1.1438179016113281, 0.9282658100128174, 0.9238438010215759, 0.9238438010215759, 1.1271584033966064, 0.9137007594108582, 0.9124228358268738, 1.4302009344100952, 1.6349115371704102, 3.693877696990967, 1.3370513916015625, 1.6997156143188477, 1.383610725402832, 2.437654495239258, 1.8209350109100342, 1.5916029214859009, 1.1644604206085205, 3.1096925735473633, 1.3882651329040527, 1.6696140766143799, 1.3806325197219849, 1.7430574893951416, 1.311547875404358, 1.3969604969024658, 1.4058148860931396, 1.247924566268921, 1.417724847793579, 1.442622423171997, 1.2813847064971924, 1.2581980228424072, 3.220820665359497, 1.2694919109344482, 0.8996063470840454, 0.8986271023750305, 1.0645562410354614, 0.8929417729377747, 0.867803692817688, 0.7044379711151123, 0.7044379711151123, 0.7044379711151123, 0.7044379711151123, 0.7044379711151123, 0.7044373750686646, 0.7034695148468018, 0.6977111101150513, 0.8554631471633911, 0.6928268671035767, 0.6800547242164612, 0.6667817234992981, 0.5092710852622986, 0.5092710852622986, 0.5092710852622986, 0.5092710852622986, 0.5092710852622986, 0.5092710852622986, 0.5092710852622986, 0.5092710852622986, 0.5092710852622986, 0.5092710852622986, 0.5092710852622986, 0.5092710852622986, 0.5092710852622986, 0.5092710852622986, 0.5092710852622986, 1.6149744987487793, 0.643854558467865, 1.0267525911331177, 0.6730536222457886, 0.7044379711151123, 1.187766671180725, 1.9445528984069824, 0.8287382125854492, 0.704439640045166, 1.107332706451416, 0.7425010800361633, 1.4293221235275269, 1.003100872039795, 0.8465942740440369, 0.9936532378196716, 0.8930047154426575, 0.7754994630813599, 0.8973836302757263, 0.7348148822784424, 0.7044419646263123], \"Term\": [\"damaged\", \"decline\", \"formatting\", \"continued\", \"skinny\", \"gor\", \"genius\", \"grampa\", \"calculated\", \"abyss\", \"ready\", \"preferred\", \"mixed\", \"smack\", \"rarely\", \"fragile\", \"stem\", \"resemblance\", \"queria\", \"rule\", \"slashing\", \"making\", \"praying\", \"nh\", \"abyssand\", \"through\", \"convey\", \"embarrassing\", \"year\", \"distraction\", \"through\", \"owe\", \"essay\", \"bewith\", \"confiding\", \"falling\", \"august\", \"disgusted\", \"food\", \"alright\", \"doctrine\", \"reanimate\", \"unbiased\", \"regard\", \"alcohol\", \"reserved\", \"bunch\", \"intimidating\", \"awayid\", \"limited\", \"kick\", \"quality\", \"unhealthy\", \"ucat\", \"cat\", \"coo\", \"intrusive\", \"bean\", \"utter\", \"salesman\", \"solve\", \"meaninglessly\", \"universal\", \"poverty\", \"irl\", \"marketable\", \"alike\", \"decided\", \"skins\", \"japan\", \"guide\", \"tomorrow\", \"crap\", \"escape\", \"alone\", \"bowie\", \"dry\", \"saturday\", \"failure\", \"anticipated\", \"abyssand\", \"push\", \"wed\", \"desensit\", \"childhood\", \"ethic\", \"slicing\", \"stubborn\", \"letting\", \"angled\", \"pill\", \"decompose\", \"threatening\", \"growing\", \"interfere\", \"hawaii\", \"faced\", \"oreilly\", \"formatting\", \"reverberating\", \"massive\", \"middle\", \"grampa\", \"disappointment\", \"hell\", \"earlier\", \"damaged\", \"bark\", \"calculated\", \"university\", \"decline\", \"ow\", \"mixed\", \"abyss\", \"mundane\", \"genius\", \"skinny\", \"embarrassing\", \"smack\", \"lifestyle\", \"truth\", \"resource\", \"related\", \"punto\", \"middleclass\", \"sponsor\", \"climbing\", \"endocrine\", \"party\", \"practiced\", \"six\", \"everybody\", \"legging\", \"name\", \"numbness\", \"awake\", \"cash\", \"plastic\", \"interaction\", \"prius\", \"inscribed\", \"inferiority\", \"candle\", \"commit\", \"ducking\", \"philosopher\", \"swom\", \"defeated\", \"threaten\", \"respectable\", \"invisible\", \"outerblock\", \"window\", \"consume\", \"photography\", \"frequent\", \"humid\", \"grateful\", \"received\", \"queria\", \"cap\", \"cynical\", \"stupidthank\", \"posting\", \"gor\", \"amfightingyou\", \"sorrowful\", \"ready\", \"praying\", \"institution\", \"continued\", \"verbally\", \"remotely\"], \"Total\": [51.0, 96.0, 17.0, 56.0, 62.0, 16.0, 42.0, 16.0, 20.0, 24.0, 17.0, 35.0, 20.0, 87.0, 24.0, 31.0, 21.0, 48.0, 9.0, 37.0, 38.0, 21.0, 11.0, 22.0, 7.0, 886.0, 28.0, 12.0, 19.0, 17.0, 886.1194458007812, 549.8129272460938, 728.108642578125, 434.4604797363281, 577.3281860351562, 257.5893859863281, 313.6596374511719, 237.62322998046875, 308.1083984375, 223.99618530273438, 212.1927490234375, 206.77809143066406, 218.49606323242188, 211.16725158691406, 290.73992919921875, 196.73548889160156, 221.122314453125, 199.39376831054688, 201.22842407226562, 187.6461944580078, 310.5150451660156, 208.3907470703125, 166.80747985839844, 163.18017578125, 160.45774841308594, 145.94000244140625, 141.43736267089844, 147.75546264648438, 138.69305419921875, 138.7036895751953, 242.2777099609375, 195.5540771484375, 184.6915283203125, 175.52301025390625, 186.93821716308594, 168.83383178710938, 3.244549036026001, 2.441856622695923, 2.141446352005005, 2.483703136444092, 2.5031378269195557, 2.1810007095336914, 2.6192967891693115, 2.244887351989746, 1.9073070287704468, 1.9340630769729614, 1.9388822317123413, 1.9443223476409912, 1.9448193311691284, 1.951852560043335, 7.8680338859558105, 1.6177482604980469, 1.6177482604980469, 1.6177482604980469, 1.9966541528701782, 1.6254392862319946, 1.9995603561401367, 1.6304534673690796, 1.6344674825668335, 2.0319976806640625, 1.6581028699874878, 1.6687294244766235, 1.6687294244766235, 2.072969913482666, 1.693304419517517, 1.6970535516738892, 2.7063581943511963, 3.542405843734741, 17.718219757080078, 3.3691728115081787, 6.103605270385742, 4.161915302276611, 16.984949111938477, 8.528629302978516, 6.371400356292725, 2.8875010013580322, 51.554630279541016, 6.872862815856934, 20.571828842163086, 8.390570640563965, 96.7163314819336, 6.23757266998291, 20.410036087036133, 24.977941513061523, 4.496425151824951, 42.194305419921875, 62.995887756347656, 12.525646209716797, 87.92605590820312, 4.029290199279785, 2.0762810707092285, 1.6129379272460938, 1.616390585899353, 1.9162209033966064, 1.6366069316864014, 1.7267130613327026, 1.417769432067871, 1.417769432067871, 1.417769432067871, 1.417769432067871, 1.417769432067871, 1.4177706241607666, 1.4211848974227905, 1.4416601657867432, 1.7713477611541748, 1.4590877294540405, 1.504872441291809, 1.5527055263519287, 1.2226026058197021, 1.2226026058197021, 1.2226026058197021, 1.2226026058197021, 1.2226026058197021, 1.2226026058197021, 1.2226026058197021, 1.2226026058197021, 1.2226026058197021, 1.2226026058197021, 1.2226026058197021, 1.2226026058197021, 1.2226026058197021, 1.2226026058197021, 1.2226026058197021, 4.442448616027832, 1.6357015371322632, 2.9594945907592773, 1.7917938232421875, 1.952775001525879, 4.186656475067139, 9.198524475097656, 2.7746739387512207, 2.3210599422454834, 8.110252380371094, 3.0882060527801514, 16.006103515625, 7.549889087677002, 6.334920883178711, 17.26490020751953, 11.585926055908203, 5.691349029541016, 56.82331848144531, 10.422033309936523, 3.2282843589782715], \"loglift\": [30.0, 29.0, 28.0, 27.0, 26.0, 25.0, 24.0, 23.0, 22.0, 21.0, 20.0, 19.0, 18.0, 17.0, 16.0, 15.0, 14.0, 13.0, 12.0, 11.0, 10.0, 9.0, 8.0, 7.0, 6.0, 5.0, 4.0, 3.0, 2.0, 1.0, 0.06260000169277191, 0.06260000169277191, 0.06239999830722809, 0.06239999830722809, 0.06210000067949295, 0.061900001019239426, 0.061900001019239426, 0.061799999326467514, 0.061799999326467514, 0.0617000013589859, 0.0617000013589859, 0.06159999966621399, 0.06159999966621399, 0.061500001698732376, 0.061500001698732376, 0.061500001698732376, 0.061400000005960464, 0.061400000005960464, 0.061400000005960464, 0.06129999831318855, 0.06129999831318855, 0.06129999831318855, 0.06120000034570694, 0.06120000034570694, 0.06120000034570694, 0.061000000685453415, 0.061000000685453415, 0.061000000685453415, 0.0608999989926815, 0.0608999989926815, 0.060499999672174454, 0.0608999989926815, 0.06080000102519989, 0.060499999672174454, 0.05979999899864197, 0.05959999933838844, 3.0450000762939453, 2.954900026321411, 2.93149995803833, 2.927799940109253, 2.9151999950408936, 2.901900053024292, 2.8940999507904053, 2.8547000885009766, 2.8413000106811523, 2.8178999423980713, 2.813800096511841, 2.8090999126434326, 2.8087000846862793, 2.8025999069213867, 2.785900115966797, 2.7709999084472656, 2.7709999084472656, 2.7709999084472656, 2.7643001079559326, 2.7627999782562256, 2.761699914932251, 2.757499933242798, 2.7532999515533447, 2.7339000701904297, 2.7283999919891357, 2.7172000408172607, 2.7172000408172607, 2.699199914932251, 2.6916000843048096, 2.687999963760376, 2.6707000732421875, 2.5353000164031982, 1.7405999898910522, 2.3842999935150146, 2.030100107192993, 2.207200050354004, 1.3672000169754028, 1.7644000053405762, 1.9213999509811401, 2.400399923324585, 0.5004000067710876, 1.7089999914169312, 0.7972000241279602, 1.5039000511169434, -0.7075999975204468, 1.7490999698638916, 0.626800000667572, 0.4311000108718872, 2.026700019836426, -0.08470000326633453, -0.46810001134872437, 1.0286999940872192, -0.9383000135421753, 3.4814999103546143, 3.2135000228881836, 3.1215999126434326, 3.118299961090088, 3.1175999641418457, 3.099600076675415, 3.017400026321411, 3.00600004196167, 3.00600004196167, 3.00600004196167, 3.00600004196167, 3.00600004196167, 3.00600004196167, 3.00219988822937, 2.9797000885009766, 2.97760009765625, 2.960599899291992, 2.911099910736084, 2.860100030899048, 2.829699993133545, 2.829699993133545, 2.829699993133545, 2.829699993133545, 2.829699993133545, 2.829699993133545, 2.829699993133545, 2.829699993133545, 2.829699993133545, 2.829699993133545, 2.829699993133545, 2.829699993133545, 2.829699993133545, 2.829699993133545, 2.829699993133545, 2.69350004196167, 2.773099899291992, 2.6468000411987305, 2.726300001144409, 2.685800075531006, 2.4456000328063965, 2.151400089263916, 2.496999979019165, 2.513000011444092, 1.7142000198364258, 2.280100107192993, 1.2896000146865845, 1.687000036239624, 1.6928000450134277, 0.8503999710083008, 1.1425000429153442, 1.7122000455856323, -0.44279998540878296, 1.0534000396728516, 2.1830999851226807], \"logprob\": [30.0, 29.0, 28.0, 27.0, 26.0, 25.0, 24.0, 23.0, 22.0, 21.0, 20.0, 19.0, 18.0, 17.0, 16.0, 15.0, 14.0, 13.0, 12.0, 11.0, 10.0, 9.0, 8.0, 7.0, 6.0, 5.0, 4.0, 3.0, 2.0, 1.0, -3.8341000080108643, -4.311399936676025, -4.030700206756592, -4.547100067138672, -4.263000011444092, -5.070300102233887, -4.8734002113342285, -5.151000022888184, -4.891300201416016, -5.21019983291626, -5.264400005340576, -5.290299892425537, -5.235199928283691, -5.269400119781494, -4.949699878692627, -5.340199947357178, -5.223400115966797, -5.326900005340576, -5.317699909210205, -5.387700080871582, -4.883999824523926, -5.282899856567383, -5.505499839782715, -5.527500152587891, -5.544400215148926, -5.639400005340576, -5.6707000732421875, -5.626999855041504, -5.690400123596191, -5.690299987792969, -5.132999897003174, -5.346799850463867, -5.4039998054504395, -5.4552998542785645, -5.39300012588501, -5.495100021362305, -6.461599826812744, -6.835899829864502, -6.990600109100342, -6.8460001945495605, -6.850800037384033, -7.0019001960754395, -6.826600074768066, -7.020199775695801, -7.196599960327148, -7.205999851226807, -7.207600116729736, -7.209499835968018, -7.209700107574463, -7.212200164794922, -5.83489990234375, -7.43149995803833, -7.43149995803833, -7.43149995803833, -7.227799892425537, -7.434899806976318, -7.229000091552734, -7.43720006942749, -7.439000129699707, -7.240699768066406, -7.44950008392334, -7.4542999267578125, -7.4542999267578125, -7.255300045013428, -7.4653000831604, -7.466700077056885, -7.017199993133545, -6.883500099182129, -6.068399906158447, -7.08459997177124, -6.844600200653076, -7.0503997802734375, -6.484000205993652, -6.775700092315674, -6.910299777984619, -7.222799777984619, -6.240499973297119, -7.046999931335449, -6.862500190734863, -7.052499771118164, -6.819399833679199, -7.103799819946289, -7.0406999588012695, -7.03439998626709, -7.153600215911865, -7.026000022888184, -7.008600234985352, -7.127099990844727, -7.145400047302246, -5.808499813079834, -6.739500045776367, -7.083899974822998, -7.085000038146973, -6.915599822998047, -7.091400146484375, -7.119900226593018, -7.328499794006348, -7.328499794006348, -7.328499794006348, -7.328499794006348, -7.328499794006348, -7.328499794006348, -7.329899787902832, -7.338099956512451, -7.134300231933594, -7.345099925994873, -7.363699913024902, -7.383399963378906, -7.652900218963623, -7.652900218963623, -7.652900218963623, -7.652900218963623, -7.652900218963623, -7.652900218963623, -7.652900218963623, -7.652900218963623, -7.652900218963623, -7.652900218963623, -7.652900218963623, -7.652900218963623, -7.652900218963623, -7.652900218963623, -7.652900218963623, -6.498799800872803, -7.418399810791016, -6.951700210571289, -7.374100208282471, -7.328499794006348, -6.806099891662598, -6.3130998611450195, -7.165999889373779, -7.328499794006348, -6.876200199127197, -7.275899887084961, -6.6209001541137695, -6.974999904632568, -7.144700050354004, -6.984499931335449, -7.091300010681152, -7.232399940490723, -7.086400032043457, -7.286300182342529, -7.328499794006348]}, \"token.table\": {\"Topic\": [1, 2, 1, 2, 1, 1, 2, 1, 2, 1, 1, 3, 1, 2, 1, 2, 1, 1, 3, 1, 1, 2, 1, 1, 1, 2, 1, 1, 2, 1, 3, 1, 3, 1, 3, 1, 1, 2, 1, 3, 1, 3, 1, 1, 3, 1, 3, 1, 2, 1, 1, 2, 1, 3, 1, 2, 1, 2, 1, 2, 1, 2, 1, 3, 1, 2, 1, 2, 1, 1, 3, 1, 1, 2, 1, 3, 1, 2, 1, 2, 1, 3, 1, 2, 1, 1, 2, 1, 3, 1, 2, 1, 2, 1, 1, 1, 2, 1, 3, 1, 3, 1, 2, 1, 3, 1, 2, 1, 2, 3, 1, 2, 1, 2, 1, 2, 1, 2, 1, 3, 1, 3, 1, 3, 1, 3, 1, 3, 1, 2, 1, 1, 1, 3, 1, 1, 2, 1, 1, 3, 1, 2, 1, 3, 1, 1, 3, 1, 1, 2, 1, 1, 2, 1, 3, 1, 2, 1, 2, 1, 3, 1, 2, 1, 3, 1, 2, 1, 3, 1, 2, 1, 1, 3, 1, 3, 1, 3, 1, 2, 1, 3, 1, 3, 1, 1, 3, 1, 3, 1, 3, 1, 3, 1, 3, 1, 2, 1, 1, 3, 1, 2, 1, 2, 3, 1, 1, 3, 1, 1, 3, 1, 3, 1, 2, 1, 1, 3, 1, 3, 1, 2, 1, 2, 1, 1, 2, 1, 3, 1, 2, 1, 2, 1, 3, 1, 2, 1, 2, 1, 2, 1, 3, 1, 3, 1, 2, 1, 2, 1, 3, 1, 3, 1, 3, 1, 2, 1, 1, 2, 1, 3, 1, 1, 1, 1, 1, 2, 1, 1, 2, 3, 1, 2, 1, 3, 1, 3], \"Freq\": [0.9208124876022339, 0.04003532603383064, 0.38128966093063354, 0.6354827880859375, 0.9974550008773804, 0.30820924043655396, 0.6164184808731079, 0.5242994427680969, 0.5242994427680969, 1.0000170469284058, 0.7947136759757996, 0.13245227932929993, 0.49212655425071716, 0.49212655425071716, 0.5123337507247925, 0.5123337507247925, 0.9978969693183899, 0.68535977602005, 0.68535977602005, 0.9988648295402527, 0.7274988889694214, 0.14549978077411652, 0.9948870539665222, 0.998940110206604, 0.5170462131500244, 0.5170462131500244, 0.9994468688964844, 0.9235931634902954, 0.09722033143043518, 0.8179272413253784, 0.8179272413253784, 0.7208054065704346, 0.3604027032852173, 0.6645081639289856, 0.6645081639289856, 0.997147262096405, 0.5008378624916077, 0.5008378624916077, 0.7053332924842834, 0.7053332924842834, 0.8179272413253784, 0.8179272413253784, 0.9994315505027771, 0.6753032803535461, 0.45020216703414917, 0.9855108857154846, 0.017598409205675125, 0.9706283807754517, 0.034665297716856, 1.0004111528396606, 0.38178184628486633, 0.7635636925697327, 0.43083763122558594, 0.43083763122558594, 0.9310511946678162, 0.05819069966673851, 0.40952444076538086, 0.8190488815307617, 0.9822539687156677, 0.020679030567407608, 0.599258303642273, 0.599258303642273, 0.8179272413253784, 0.8179272413253784, 0.6181431412696838, 0.6181431412696838, 0.82076495885849, 0.23450426757335663, 0.9973772168159485, 0.9753636121749878, 0.05737432837486267, 0.999091625213623, 0.5157610774040222, 0.5157610774040222, 0.8179272413253784, 0.8179272413253784, 0.6926404237747192, 0.3463202118873596, 0.8781982064247131, 0.07983619719743729, 0.7053332924842834, 0.7053332924842834, 0.4454566538333893, 0.4454566538333893, 0.9998508095741272, 0.6152182817459106, 0.6152182817459106, 0.7053326964378357, 0.7053326964378357, 0.3695002496242523, 0.3695002496242523, 0.5141865611076355, 0.5141865611076355, 0.9977118968963623, 0.9996481537818909, 0.7901471257209778, 0.22575631737709045, 0.9599374532699585, 0.0319979153573513, 0.6757910847663879, 0.33789554238319397, 0.9716951251029968, 0.02369988150894642, 0.8746663331985474, 0.06247616559267044, 0.8242591619491577, 0.11775130778551102, 0.5120917558670044, 0.5120917558670044, 0.5120917558670044, 0.48239967226982117, 0.48239967226982117, 0.3994985818862915, 0.798997163772583, 0.5892565846443176, 0.5892565846443176, 0.7847568392753601, 0.31390273571014404, 0.5580999255180359, 0.5580999255180359, 0.8179272413253784, 0.8179272413253784, 0.8179272413253784, 0.8179272413253784, 0.8785263299942017, 0.17570526897907257, 0.8179272413253784, 0.8179272413253784, 0.5905612707138062, 0.5905612707138062, 0.9980251789093018, 0.9969077110290527, 0.8179272413253784, 0.8179272413253784, 0.9949811100959778, 0.40262460708618164, 0.8052492141723633, 0.9983413219451904, 0.7036381959915161, 0.7036381959915161, 0.6118200421333313, 0.6118200421333313, 0.24818266928195953, 0.7445480227470398, 0.9965563416481018, 0.961658239364624, 0.04579325020313263, 0.9950612187385559, 0.655350387096405, 0.3276751935482025, 0.997166633605957, 0.7208219766616821, 0.24027399718761444, 0.6110202670097351, 0.6110202670097351, 0.930914580821991, 0.048995502293109894, 0.6671966910362244, 0.22239889204502106, 0.6936447620391846, 0.6936447620391846, 0.9417428374290466, 0.04484489560127258, 0.5645418763160706, 0.5645418763160706, 0.5645880699157715, 0.5645880699157715, 0.8179272413253784, 0.8179272413253784, 0.8015938401222229, 0.1603187769651413, 1.000340223312378, 0.7053332924842834, 0.7053332924842834, 0.8179272413253784, 0.8179272413253784, 0.6113584637641907, 0.6113584637641907, 0.6030988693237305, 0.6030988693237305, 0.644037127494812, 0.644037127494812, 0.647625207901001, 0.3238126039505005, 0.9970203042030334, 0.7053332924842834, 0.7053332924842834, 0.9494277834892273, 0.08631161600351334, 0.974748969078064, 0.027849970385432243, 0.8179272413253784, 0.8179272413253784, 0.5218604803085327, 0.5218604803085327, 0.6181431412696838, 0.6181431412696838, 0.9981249570846558, 0.760991632938385, 0.21742618083953857, 0.9384667277336121, 0.04080290347337723, 0.9267357587814331, 0.05792098492383957, 0.05792098492383957, 0.9962370991706848, 0.7165622711181641, 0.2388540804386139, 0.9992079734802246, 0.6186623573303223, 0.6186623573303223, 0.6195241212844849, 0.30976206064224243, 0.9709490537643433, 0.02065849117934704, 0.9962615370750427, 0.6199866533279419, 0.6199866533279419, 0.8179272413253784, 0.8179272413253784, 0.5936174988746643, 0.29680874943733215, 0.9790468215942383, 0.02646072581410408, 0.9949266910552979, 0.5143179893493652, 0.5143179893493652, 0.7053332924842834, 0.7053332924842834, 0.9683171510696411, 0.015874052420258522, 0.4669741094112396, 0.4669741094112396, 0.9686986804008484, 0.026181045919656754, 0.5001099109649658, 0.5001099109649658, 0.9894677996635437, 0.011373193003237247, 0.9988537430763245, 0.004127494990825653, 0.7892758250236511, 0.15785516798496246, 0.579135000705719, 0.579135000705719, 0.9311748743057251, 0.046558745205402374, 0.6133263111114502, 0.6133263111114502, 0.863105058670044, 0.12330072373151779, 0.8179272413253784, 0.8179272413253784, 0.8179272413253784, 0.8179272413253784, 0.599258303642273, 0.599258303642273, 0.9998651742935181, 0.45850512385368347, 0.45850512385368347, 0.4816303551197052, 0.4816303551197052, 0.9988958239555359, 0.9977296590805054, 0.9951592087745667, 0.9962557554244995, 0.8342698216438293, 0.11918140202760696, 0.9950029850006104, 0.8635550737380981, 0.09595056623220444, 0.09595056623220444, 0.6181431412696838, 0.6181431412696838, 0.8179272413253784, 0.8179272413253784, 0.9852755665779114, 0.05185660719871521], \"Term\": [\"abyss\", \"abyss\", \"abyssand\", \"abyssand\", \"alcohol\", \"alike\", \"alike\", \"alone\", \"alone\", \"alright\", \"amfightingyou\", \"amfightingyou\", \"angled\", \"angled\", \"anticipated\", \"anticipated\", \"august\", \"awake\", \"awake\", \"awayid\", \"bark\", \"bark\", \"bean\", \"bewith\", \"bowie\", \"bowie\", \"bunch\", \"calculated\", \"calculated\", \"candle\", \"candle\", \"cap\", \"cap\", \"cash\", \"cash\", \"cat\", \"childhood\", \"childhood\", \"climbing\", \"climbing\", \"commit\", \"commit\", \"confiding\", \"consume\", \"consume\", \"continued\", \"continued\", \"convey\", \"convey\", \"coo\", \"crap\", \"crap\", \"cynical\", \"cynical\", \"damaged\", \"damaged\", \"decided\", \"decided\", \"decline\", \"decline\", \"decompose\", \"decompose\", \"defeated\", \"defeated\", \"desensit\", \"desensit\", \"disappointment\", \"disappointment\", \"disgusted\", \"distraction\", \"distraction\", \"doctrine\", \"dry\", \"dry\", \"ducking\", \"ducking\", \"earlier\", \"earlier\", \"embarrassing\", \"embarrassing\", \"endocrine\", \"endocrine\", \"escape\", \"escape\", \"essay\", \"ethic\", \"ethic\", \"everybody\", \"everybody\", \"faced\", \"faced\", \"failure\", \"failure\", \"falling\", \"food\", \"formatting\", \"formatting\", \"fragile\", \"fragile\", \"frequent\", \"frequent\", \"genius\", \"genius\", \"gor\", \"gor\", \"grampa\", \"grampa\", \"grateful\", \"grateful\", \"grateful\", \"growing\", \"growing\", \"guide\", \"guide\", \"hawaii\", \"hawaii\", \"hell\", \"hell\", \"humid\", \"humid\", \"inferiority\", \"inferiority\", \"inscribed\", \"inscribed\", \"institution\", \"institution\", \"interaction\", \"interaction\", \"interfere\", \"interfere\", \"intimidating\", \"intrusive\", \"invisible\", \"invisible\", \"irl\", \"japan\", \"japan\", \"kick\", \"legging\", \"legging\", \"letting\", \"letting\", \"lifestyle\", \"lifestyle\", \"limited\", \"making\", \"making\", \"marketable\", \"massive\", \"massive\", \"meaninglessly\", \"middle\", \"middle\", \"middleclass\", \"middleclass\", \"mixed\", \"mixed\", \"mundane\", \"mundane\", \"name\", \"name\", \"nh\", \"nh\", \"numbness\", \"numbness\", \"oreilly\", \"oreilly\", \"outerblock\", \"outerblock\", \"ow\", \"ow\", \"owe\", \"party\", \"party\", \"philosopher\", \"philosopher\", \"photography\", \"photography\", \"pill\", \"pill\", \"plastic\", \"plastic\", \"posting\", \"posting\", \"poverty\", \"practiced\", \"practiced\", \"praying\", \"praying\", \"preferred\", \"preferred\", \"prius\", \"prius\", \"punto\", \"punto\", \"push\", \"push\", \"quality\", \"queria\", \"queria\", \"rarely\", \"rarely\", \"ready\", \"ready\", \"ready\", \"reanimate\", \"received\", \"received\", \"regard\", \"related\", \"related\", \"remotely\", \"remotely\", \"resemblance\", \"resemblance\", \"reserved\", \"resource\", \"resource\", \"respectable\", \"respectable\", \"reverberating\", \"reverberating\", \"rule\", \"rule\", \"salesman\", \"saturday\", \"saturday\", \"six\", \"six\", \"skinny\", \"skinny\", \"skins\", \"skins\", \"slashing\", \"slashing\", \"slicing\", \"slicing\", \"smack\", \"smack\", \"solve\", \"solve\", \"sorrowful\", \"sorrowful\", \"sponsor\", \"sponsor\", \"stem\", \"stem\", \"stubborn\", \"stubborn\", \"stupidthank\", \"stupidthank\", \"swom\", \"swom\", \"threaten\", \"threaten\", \"threatening\", \"threatening\", \"through\", \"tomorrow\", \"tomorrow\", \"truth\", \"truth\", \"ucat\", \"unbiased\", \"unhealthy\", \"universal\", \"university\", \"university\", \"utter\", \"verbally\", \"verbally\", \"verbally\", \"wed\", \"wed\", \"window\", \"window\", \"year\", \"year\"]}, \"R\": 30, \"lambda.step\": 0.01, \"plot.opts\": {\"xlab\": \"PC1\", \"ylab\": \"PC2\"}, \"topic.order\": [1, 2, 3]};\n",
       "\n",
       "function LDAvis_load_lib(url, callback){\n",
       "  var s = document.createElement('script');\n",
       "  s.src = url;\n",
       "  s.async = true;\n",
       "  s.onreadystatechange = s.onload = callback;\n",
       "  s.onerror = function(){console.warn(\"failed to load library \" + url);};\n",
       "  document.getElementsByTagName(\"head\")[0].appendChild(s);\n",
       "}\n",
       "\n",
       "if(typeof(LDAvis) !== \"undefined\"){\n",
       "   // already loaded: just create the visualization\n",
       "   !function(LDAvis){\n",
       "       new LDAvis(\"#\" + \"ldavis_el81647400360403150874886\", ldavis_el81647400360403150874886_data);\n",
       "   }(LDAvis);\n",
       "}else if(typeof define === \"function\" && define.amd){\n",
       "   // require.js is available: use it to load d3/LDAvis\n",
       "   require.config({paths: {d3: \"https://cdnjs.cloudflare.com/ajax/libs/d3/3.5.5/d3.min\"}});\n",
       "   require([\"d3\"], function(d3){\n",
       "      window.d3 = d3;\n",
       "      LDAvis_load_lib(\"https://cdn.rawgit.com/bmabey/pyLDAvis/files/ldavis.v1.0.0.js\", function(){\n",
       "        new LDAvis(\"#\" + \"ldavis_el81647400360403150874886\", ldavis_el81647400360403150874886_data);\n",
       "      });\n",
       "    });\n",
       "}else{\n",
       "    // require.js not available: dynamically load d3 & LDAvis\n",
       "    LDAvis_load_lib(\"https://cdnjs.cloudflare.com/ajax/libs/d3/3.5.5/d3.min.js\", function(){\n",
       "         LDAvis_load_lib(\"https://cdn.rawgit.com/bmabey/pyLDAvis/files/ldavis.v1.0.0.js\", function(){\n",
       "                 new LDAvis(\"#\" + \"ldavis_el81647400360403150874886\", ldavis_el81647400360403150874886_data);\n",
       "            })\n",
       "         });\n",
       "}\n",
       "</script>"
      ],
      "text/plain": [
       "<IPython.core.display.HTML object>"
      ]
     },
     "execution_count": 128,
     "metadata": {},
     "output_type": "execute_result"
    }
   ],
   "source": [
    "ldana_display = pyLDAvis.gensim.prepare(ldana, corpusna, dictionary, sort_topics=False)\n",
    "\n",
    "pyLDAvis.save_html(ldana_display, 'html/vis_ldana.html')\n",
    "pyLDAvis.display(ldana_display)"
   ]
  },
  {
   "cell_type": "markdown",
   "metadata": {
    "heading_collapsed": true
   },
   "source": [
    "## Topic Modeling - Attempt #4 (Nouns and Verbs)"
   ]
  },
  {
   "cell_type": "markdown",
   "metadata": {
    "heading_collapsed": true,
    "hidden": true
   },
   "source": [
    "### Reading Data"
   ]
  },
  {
   "cell_type": "code",
   "execution_count": 132,
   "metadata": {
    "hidden": true
   },
   "outputs": [
    {
     "data": {
      "text/plain": [
       "0       hate holiday season nothing everyone hate hate...\n",
       "1                  dm discord help cofactor add want talk\n",
       "2       depression deal anxiety therapy way lowest dos...\n",
       "3       nothing fog time memory picture feeling moment...\n",
       "4       sister mom anything today fight somehow opinio...\n",
       "                              ...                        \n",
       "1293    felt life year thought race headache thought b...\n",
       "1294    time family value life fine danger truth risk ...\n",
       "1295    dont afterlife stay night afterlife hell athei...\n",
       "1296    thats month moment mother textbook christian m...\n",
       "1297    wan someone cry hour sorry anyone pain way die...\n",
       "Length: 1283, dtype: object"
      ]
     },
     "execution_count": 132,
     "metadata": {},
     "output_type": "execute_result"
    }
   ],
   "source": [
    "data_nouns_vbs = (df_pos['NN'] + df_pos['VB']).apply(lambda x: ' '.join(x))\n",
    "data_nouns_vbs"
   ]
  },
  {
   "cell_type": "code",
   "execution_count": 136,
   "metadata": {
    "hidden": true
   },
   "outputs": [
    {
     "data": {
      "text/html": [
       "<div>\n",
       "<style scoped>\n",
       "    .dataframe tbody tr th:only-of-type {\n",
       "        vertical-align: middle;\n",
       "    }\n",
       "\n",
       "    .dataframe tbody tr th {\n",
       "        vertical-align: top;\n",
       "    }\n",
       "\n",
       "    .dataframe thead th {\n",
       "        text-align: right;\n",
       "    }\n",
       "</style>\n",
       "<table border=\"1\" class=\"dataframe\">\n",
       "  <thead>\n",
       "    <tr style=\"text-align: right;\">\n",
       "      <th></th>\n",
       "      <th>ab</th>\n",
       "      <th>abandon</th>\n",
       "      <th>abandoned</th>\n",
       "      <th>abdomen</th>\n",
       "      <th>ability</th>\n",
       "      <th>aborted</th>\n",
       "      <th>abortion</th>\n",
       "      <th>absconded</th>\n",
       "      <th>absence</th>\n",
       "      <th>absolute</th>\n",
       "      <th>...</th>\n",
       "      <th>zero</th>\n",
       "      <th>zimbabwe</th>\n",
       "      <th>ziplock</th>\n",
       "      <th>zombie</th>\n",
       "      <th>zone</th>\n",
       "      <th>zoning</th>\n",
       "      <th>zoo</th>\n",
       "      <th>zoom</th>\n",
       "      <th>zopiclon</th>\n",
       "      <th>última</th>\n",
       "    </tr>\n",
       "  </thead>\n",
       "  <tbody>\n",
       "    <tr>\n",
       "      <td>0</td>\n",
       "      <td>0</td>\n",
       "      <td>0</td>\n",
       "      <td>0</td>\n",
       "      <td>0</td>\n",
       "      <td>0</td>\n",
       "      <td>0</td>\n",
       "      <td>0</td>\n",
       "      <td>0</td>\n",
       "      <td>0</td>\n",
       "      <td>0</td>\n",
       "      <td>...</td>\n",
       "      <td>0</td>\n",
       "      <td>0</td>\n",
       "      <td>0</td>\n",
       "      <td>0</td>\n",
       "      <td>0</td>\n",
       "      <td>0</td>\n",
       "      <td>0</td>\n",
       "      <td>0</td>\n",
       "      <td>0</td>\n",
       "      <td>0</td>\n",
       "    </tr>\n",
       "    <tr>\n",
       "      <td>1</td>\n",
       "      <td>0</td>\n",
       "      <td>0</td>\n",
       "      <td>0</td>\n",
       "      <td>0</td>\n",
       "      <td>0</td>\n",
       "      <td>0</td>\n",
       "      <td>0</td>\n",
       "      <td>0</td>\n",
       "      <td>0</td>\n",
       "      <td>0</td>\n",
       "      <td>...</td>\n",
       "      <td>0</td>\n",
       "      <td>0</td>\n",
       "      <td>0</td>\n",
       "      <td>0</td>\n",
       "      <td>0</td>\n",
       "      <td>0</td>\n",
       "      <td>0</td>\n",
       "      <td>0</td>\n",
       "      <td>0</td>\n",
       "      <td>0</td>\n",
       "    </tr>\n",
       "    <tr>\n",
       "      <td>2</td>\n",
       "      <td>0</td>\n",
       "      <td>0</td>\n",
       "      <td>0</td>\n",
       "      <td>0</td>\n",
       "      <td>0</td>\n",
       "      <td>0</td>\n",
       "      <td>0</td>\n",
       "      <td>0</td>\n",
       "      <td>0</td>\n",
       "      <td>0</td>\n",
       "      <td>...</td>\n",
       "      <td>0</td>\n",
       "      <td>0</td>\n",
       "      <td>0</td>\n",
       "      <td>0</td>\n",
       "      <td>0</td>\n",
       "      <td>0</td>\n",
       "      <td>0</td>\n",
       "      <td>0</td>\n",
       "      <td>0</td>\n",
       "      <td>0</td>\n",
       "    </tr>\n",
       "    <tr>\n",
       "      <td>3</td>\n",
       "      <td>0</td>\n",
       "      <td>0</td>\n",
       "      <td>0</td>\n",
       "      <td>0</td>\n",
       "      <td>0</td>\n",
       "      <td>0</td>\n",
       "      <td>0</td>\n",
       "      <td>0</td>\n",
       "      <td>0</td>\n",
       "      <td>0</td>\n",
       "      <td>...</td>\n",
       "      <td>0</td>\n",
       "      <td>0</td>\n",
       "      <td>0</td>\n",
       "      <td>0</td>\n",
       "      <td>0</td>\n",
       "      <td>0</td>\n",
       "      <td>0</td>\n",
       "      <td>0</td>\n",
       "      <td>0</td>\n",
       "      <td>0</td>\n",
       "    </tr>\n",
       "    <tr>\n",
       "      <td>4</td>\n",
       "      <td>0</td>\n",
       "      <td>0</td>\n",
       "      <td>0</td>\n",
       "      <td>0</td>\n",
       "      <td>0</td>\n",
       "      <td>0</td>\n",
       "      <td>0</td>\n",
       "      <td>0</td>\n",
       "      <td>0</td>\n",
       "      <td>0</td>\n",
       "      <td>...</td>\n",
       "      <td>0</td>\n",
       "      <td>0</td>\n",
       "      <td>0</td>\n",
       "      <td>0</td>\n",
       "      <td>0</td>\n",
       "      <td>0</td>\n",
       "      <td>0</td>\n",
       "      <td>0</td>\n",
       "      <td>0</td>\n",
       "      <td>0</td>\n",
       "    </tr>\n",
       "    <tr>\n",
       "      <td>...</td>\n",
       "      <td>...</td>\n",
       "      <td>...</td>\n",
       "      <td>...</td>\n",
       "      <td>...</td>\n",
       "      <td>...</td>\n",
       "      <td>...</td>\n",
       "      <td>...</td>\n",
       "      <td>...</td>\n",
       "      <td>...</td>\n",
       "      <td>...</td>\n",
       "      <td>...</td>\n",
       "      <td>...</td>\n",
       "      <td>...</td>\n",
       "      <td>...</td>\n",
       "      <td>...</td>\n",
       "      <td>...</td>\n",
       "      <td>...</td>\n",
       "      <td>...</td>\n",
       "      <td>...</td>\n",
       "      <td>...</td>\n",
       "      <td>...</td>\n",
       "    </tr>\n",
       "    <tr>\n",
       "      <td>1293</td>\n",
       "      <td>0</td>\n",
       "      <td>0</td>\n",
       "      <td>0</td>\n",
       "      <td>0</td>\n",
       "      <td>0</td>\n",
       "      <td>0</td>\n",
       "      <td>0</td>\n",
       "      <td>0</td>\n",
       "      <td>0</td>\n",
       "      <td>0</td>\n",
       "      <td>...</td>\n",
       "      <td>0</td>\n",
       "      <td>0</td>\n",
       "      <td>0</td>\n",
       "      <td>0</td>\n",
       "      <td>0</td>\n",
       "      <td>0</td>\n",
       "      <td>0</td>\n",
       "      <td>0</td>\n",
       "      <td>0</td>\n",
       "      <td>0</td>\n",
       "    </tr>\n",
       "    <tr>\n",
       "      <td>1294</td>\n",
       "      <td>0</td>\n",
       "      <td>0</td>\n",
       "      <td>0</td>\n",
       "      <td>0</td>\n",
       "      <td>0</td>\n",
       "      <td>0</td>\n",
       "      <td>0</td>\n",
       "      <td>0</td>\n",
       "      <td>0</td>\n",
       "      <td>0</td>\n",
       "      <td>...</td>\n",
       "      <td>0</td>\n",
       "      <td>0</td>\n",
       "      <td>0</td>\n",
       "      <td>0</td>\n",
       "      <td>0</td>\n",
       "      <td>0</td>\n",
       "      <td>0</td>\n",
       "      <td>0</td>\n",
       "      <td>0</td>\n",
       "      <td>0</td>\n",
       "    </tr>\n",
       "    <tr>\n",
       "      <td>1295</td>\n",
       "      <td>0</td>\n",
       "      <td>0</td>\n",
       "      <td>0</td>\n",
       "      <td>0</td>\n",
       "      <td>0</td>\n",
       "      <td>0</td>\n",
       "      <td>0</td>\n",
       "      <td>0</td>\n",
       "      <td>0</td>\n",
       "      <td>0</td>\n",
       "      <td>...</td>\n",
       "      <td>0</td>\n",
       "      <td>0</td>\n",
       "      <td>0</td>\n",
       "      <td>0</td>\n",
       "      <td>0</td>\n",
       "      <td>0</td>\n",
       "      <td>0</td>\n",
       "      <td>0</td>\n",
       "      <td>0</td>\n",
       "      <td>0</td>\n",
       "    </tr>\n",
       "    <tr>\n",
       "      <td>1296</td>\n",
       "      <td>0</td>\n",
       "      <td>0</td>\n",
       "      <td>0</td>\n",
       "      <td>0</td>\n",
       "      <td>0</td>\n",
       "      <td>0</td>\n",
       "      <td>0</td>\n",
       "      <td>0</td>\n",
       "      <td>0</td>\n",
       "      <td>0</td>\n",
       "      <td>...</td>\n",
       "      <td>0</td>\n",
       "      <td>0</td>\n",
       "      <td>0</td>\n",
       "      <td>0</td>\n",
       "      <td>0</td>\n",
       "      <td>0</td>\n",
       "      <td>0</td>\n",
       "      <td>0</td>\n",
       "      <td>0</td>\n",
       "      <td>0</td>\n",
       "    </tr>\n",
       "    <tr>\n",
       "      <td>1297</td>\n",
       "      <td>0</td>\n",
       "      <td>0</td>\n",
       "      <td>0</td>\n",
       "      <td>0</td>\n",
       "      <td>0</td>\n",
       "      <td>0</td>\n",
       "      <td>0</td>\n",
       "      <td>0</td>\n",
       "      <td>0</td>\n",
       "      <td>0</td>\n",
       "      <td>...</td>\n",
       "      <td>0</td>\n",
       "      <td>0</td>\n",
       "      <td>0</td>\n",
       "      <td>0</td>\n",
       "      <td>0</td>\n",
       "      <td>0</td>\n",
       "      <td>0</td>\n",
       "      <td>0</td>\n",
       "      <td>0</td>\n",
       "      <td>0</td>\n",
       "    </tr>\n",
       "  </tbody>\n",
       "</table>\n",
       "<p>1283 rows × 5137 columns</p>\n",
       "</div>"
      ],
      "text/plain": [
       "      ab  abandon  abandoned  abdomen  ability  aborted  abortion  absconded  \\\n",
       "0      0        0          0        0        0        0         0          0   \n",
       "1      0        0          0        0        0        0         0          0   \n",
       "2      0        0          0        0        0        0         0          0   \n",
       "3      0        0          0        0        0        0         0          0   \n",
       "4      0        0          0        0        0        0         0          0   \n",
       "...   ..      ...        ...      ...      ...      ...       ...        ...   \n",
       "1293   0        0          0        0        0        0         0          0   \n",
       "1294   0        0          0        0        0        0         0          0   \n",
       "1295   0        0          0        0        0        0         0          0   \n",
       "1296   0        0          0        0        0        0         0          0   \n",
       "1297   0        0          0        0        0        0         0          0   \n",
       "\n",
       "      absence  absolute  ...  zero  zimbabwe  ziplock  zombie  zone  zoning  \\\n",
       "0           0         0  ...     0         0        0       0     0       0   \n",
       "1           0         0  ...     0         0        0       0     0       0   \n",
       "2           0         0  ...     0         0        0       0     0       0   \n",
       "3           0         0  ...     0         0        0       0     0       0   \n",
       "4           0         0  ...     0         0        0       0     0       0   \n",
       "...       ...       ...  ...   ...       ...      ...     ...   ...     ...   \n",
       "1293        0         0  ...     0         0        0       0     0       0   \n",
       "1294        0         0  ...     0         0        0       0     0       0   \n",
       "1295        0         0  ...     0         0        0       0     0       0   \n",
       "1296        0         0  ...     0         0        0       0     0       0   \n",
       "1297        0         0  ...     0         0        0       0     0       0   \n",
       "\n",
       "      zoo  zoom  zopiclon  última  \n",
       "0       0     0         0       0  \n",
       "1       0     0         0       0  \n",
       "2       0     0         0       0  \n",
       "3       0     0         0       0  \n",
       "4       0     0         0       0  \n",
       "...   ...   ...       ...     ...  \n",
       "1293    0     0         0       0  \n",
       "1294    0     0         0       0  \n",
       "1295    0     0         0       0  \n",
       "1296    0     0         0       0  \n",
       "1297    0     0         0       0  \n",
       "\n",
       "[1283 rows x 5137 columns]"
      ]
     },
     "execution_count": 136,
     "metadata": {},
     "output_type": "execute_result"
    }
   ],
   "source": [
    "# Create a new document-term matrix using only nouns and verbs\n",
    "# Re-add the additional stop words since we are recreating the document-term matrix\n",
    "add_stop_words = ['i', 'im', 'thing','dont','year','time','day','way',\n",
    "                 'que','eu','edge','ive','fuck','make','want','know','try']\n",
    "stop_words = text.ENGLISH_STOP_WORDS.union(add_stop_words)\n",
    "\n",
    "\n",
    "# Create a new document-term matrix using only nouns and verbs, also remove common words with max_df\n",
    "cvnv = CountVectorizer(stop_words=stop_words, max_df=.8)\n",
    "data_cvnv = cvnv.fit_transform(data_nouns_vbs)\n",
    "data_dtmnv = pd.DataFrame(data_cvnv.toarray(), columns=cvnv.get_feature_names())\n",
    "data_dtmnv.index = data_nouns_vbs.index\n",
    "data_dtmnv"
   ]
  },
  {
   "cell_type": "markdown",
   "metadata": {
    "heading_collapsed": true,
    "hidden": true
   },
   "source": [
    "### Converting Data into Corpus"
   ]
  },
  {
   "cell_type": "code",
   "execution_count": 137,
   "metadata": {
    "hidden": true
   },
   "outputs": [],
   "source": [
    "# Create the gensim corpus\n",
    "corpusnv = matutils.Sparse2Corpus(scipy.sparse.csr_matrix(data_dtmnv.transpose()))\n",
    "pickle.dump(corpusnv,open('pickles/corpusnv.pkl','wb'))\n",
    "\n",
    "# Create the vocabulary dictionary\n",
    "# id2wordna = dict((v, k) for k, v in cvnai.vocabulary_.items())\n",
    "dictionary = pickle.load(open('pickles/dictionary.pkl','rb'))"
   ]
  },
  {
   "cell_type": "markdown",
   "metadata": {
    "heading_collapsed": true,
    "hidden": true
   },
   "source": [
    "### Topic Modelling"
   ]
  },
  {
   "cell_type": "markdown",
   "metadata": {
    "heading_collapsed": true,
    "hidden": true
   },
   "source": [
    "#### Base Model"
   ]
  },
  {
   "cell_type": "code",
   "execution_count": 138,
   "metadata": {
    "hidden": true
   },
   "outputs": [
    {
     "name": "stdout",
     "output_type": "stream",
     "text": [
      "\n"
     ]
    },
    {
     "data": {
      "text/plain": [
       "[(0,\n",
       "  '0.020*\"apologies\" + 0.017*\"fired\" + 0.017*\"satan\" + 0.015*\"signed\" + 0.012*\"truth\" + 0.011*\"apart\" + 0.010*\"workalso\" + 0.009*\"unstoppable\" + 0.009*\"blaze\" + 0.009*\"forcing\"'),\n",
       " (1,\n",
       "  '0.003*\"negativity\" + 0.003*\"everynight\" + 0.002*\"food\" + 0.002*\"coconut\" + 0.002*\"killing\" + 0.002*\"bleeding\" + 0.002*\"wave\" + 0.002*\"try\" + 0.002*\"despair\" + 0.002*\"saved\"'),\n",
       " (2,\n",
       "  '0.004*\"forcing\" + 0.003*\"honestly\" + 0.003*\"punch\" + 0.003*\"pandemic\" + 0.002*\"changed\" + 0.002*\"valuable\" + 0.002*\"giant\" + 0.002*\"gay\" + 0.002*\"embarrassment\" + 0.002*\"chosen\"'),\n",
       " (3,\n",
       "  '0.034*\"apologies\" + 0.029*\"fired\" + 0.025*\"blaze\" + 0.023*\"satan\" + 0.019*\"nasty\" + 0.015*\"apart\" + 0.012*\"denial\" + 0.011*\"sleep\" + 0.011*\"british\" + 0.010*\"terrifying\"'),\n",
       " (4,\n",
       "  '0.028*\"satan\" + 0.019*\"apologies\" + 0.015*\"french\" + 0.012*\"purse\" + 0.009*\"anime\" + 0.007*\"explain\" + 0.006*\"compassionate\" + 0.006*\"usual\" + 0.006*\"unstoppable\" + 0.006*\"socalled\"')]"
      ]
     },
     "execution_count": 138,
     "metadata": {},
     "output_type": "execute_result"
    }
   ],
   "source": [
    "# 5 topics\n",
    "ldanv = models.LdaModel(corpus=corpusnv, num_topics=5, id2word=dictionary, passes=100)\n",
    "ldanv.save('models/ldanv5.gensim')\n",
    "\n",
    "ldanv.print_topics()"
   ]
  },
  {
   "cell_type": "code",
   "execution_count": 141,
   "metadata": {
    "hidden": true
   },
   "outputs": [
    {
     "data": {
      "text/plain": [
       "0.7479183563829153"
      ]
     },
     "execution_count": 141,
     "metadata": {},
     "output_type": "execute_result"
    }
   ],
   "source": [
    "coherence_score = models.CoherenceModel(model=ldanv, texts=df, dictionary=dictionary, coherence='c_v').get_coherence()\n",
    "coherence_score"
   ]
  },
  {
   "cell_type": "markdown",
   "metadata": {
    "heading_collapsed": true,
    "hidden": true
   },
   "source": [
    "#### Hyperparameter Tuning"
   ]
  },
  {
   "cell_type": "code",
   "execution_count": 143,
   "metadata": {
    "hidden": true
   },
   "outputs": [
    {
     "name": "stdout",
     "output_type": "stream",
     "text": [
      "Using default topics range:  range(3, 5)\n",
      "Using default alpha list:  [0.01, 0.31, 0.61, 0.9099999999999999, 'symmetric', 'asymmetric']\n",
      "Using default beta list:  [0.01, 0.31, 0.61, 0.9099999999999999, 'symmetric']\n"
     ]
    },
    {
     "data": {
      "application/vnd.jupyter.widget-view+json": {
       "model_id": "289fdb020591401584b458b2b22f0d29",
       "version_major": 2,
       "version_minor": 0
      },
      "text/plain": [
       "HBox(children=(HTML(value=''), FloatProgress(value=0.0, max=60.0), HTML(value='')))"
      ]
     },
     "metadata": {},
     "output_type": "display_data"
    },
    {
     "name": "stdout",
     "output_type": "stream",
     "text": [
      "\n"
     ]
    },
    {
     "data": {
      "text/html": [
       "<div>\n",
       "<style scoped>\n",
       "    .dataframe tbody tr th:only-of-type {\n",
       "        vertical-align: middle;\n",
       "    }\n",
       "\n",
       "    .dataframe tbody tr th {\n",
       "        vertical-align: top;\n",
       "    }\n",
       "\n",
       "    .dataframe thead th {\n",
       "        text-align: right;\n",
       "    }\n",
       "</style>\n",
       "<table border=\"1\" class=\"dataframe\">\n",
       "  <thead>\n",
       "    <tr style=\"text-align: right;\">\n",
       "      <th></th>\n",
       "      <th>Topics</th>\n",
       "      <th>Alpha</th>\n",
       "      <th>Beta</th>\n",
       "      <th>Coherence</th>\n",
       "    </tr>\n",
       "  </thead>\n",
       "  <tbody>\n",
       "    <tr>\n",
       "      <td>46</td>\n",
       "      <td>4</td>\n",
       "      <td>0.91</td>\n",
       "      <td>0.31</td>\n",
       "      <td>0.756755</td>\n",
       "    </tr>\n",
       "    <tr>\n",
       "      <td>26</td>\n",
       "      <td>3</td>\n",
       "      <td>asymmetric</td>\n",
       "      <td>0.31</td>\n",
       "      <td>0.777255</td>\n",
       "    </tr>\n",
       "    <tr>\n",
       "      <td>34</td>\n",
       "      <td>4</td>\n",
       "      <td>0.01</td>\n",
       "      <td>symmetric</td>\n",
       "      <td>0.734850</td>\n",
       "    </tr>\n",
       "    <tr>\n",
       "      <td>14</td>\n",
       "      <td>3</td>\n",
       "      <td>0.61</td>\n",
       "      <td>symmetric</td>\n",
       "      <td>0.774225</td>\n",
       "    </tr>\n",
       "    <tr>\n",
       "      <td>0</td>\n",
       "      <td>3</td>\n",
       "      <td>0.01</td>\n",
       "      <td>0.01</td>\n",
       "      <td>0.778727</td>\n",
       "    </tr>\n",
       "  </tbody>\n",
       "</table>\n",
       "</div>"
      ],
      "text/plain": [
       "    Topics       Alpha       Beta  Coherence\n",
       "46       4        0.91       0.31   0.756755\n",
       "26       3  asymmetric       0.31   0.777255\n",
       "34       4        0.01  symmetric   0.734850\n",
       "14       3        0.61  symmetric   0.774225\n",
       "0        3        0.01       0.01   0.778727"
      ]
     },
     "execution_count": 143,
     "metadata": {},
     "output_type": "execute_result"
    }
   ],
   "source": [
    "model_results = pd.DataFrame(grid_search_tuning(corpusnv,dictionary))\n",
    "model_results.sample(5)"
   ]
  },
  {
   "cell_type": "code",
   "execution_count": 144,
   "metadata": {
    "hidden": true
   },
   "outputs": [
    {
     "data": {
      "text/html": [
       "<div>\n",
       "<style scoped>\n",
       "    .dataframe tbody tr th:only-of-type {\n",
       "        vertical-align: middle;\n",
       "    }\n",
       "\n",
       "    .dataframe tbody tr th {\n",
       "        vertical-align: top;\n",
       "    }\n",
       "\n",
       "    .dataframe thead th {\n",
       "        text-align: right;\n",
       "    }\n",
       "</style>\n",
       "<table border=\"1\" class=\"dataframe\">\n",
       "  <thead>\n",
       "    <tr style=\"text-align: right;\">\n",
       "      <th></th>\n",
       "      <th>Topics</th>\n",
       "      <th>Alpha</th>\n",
       "      <th>Beta</th>\n",
       "      <th>Coherence</th>\n",
       "    </tr>\n",
       "  </thead>\n",
       "  <tbody>\n",
       "    <tr>\n",
       "      <td>10</td>\n",
       "      <td>3</td>\n",
       "      <td>0.61</td>\n",
       "      <td>0.01</td>\n",
       "      <td>0.781840</td>\n",
       "    </tr>\n",
       "    <tr>\n",
       "      <td>0</td>\n",
       "      <td>3</td>\n",
       "      <td>0.01</td>\n",
       "      <td>0.01</td>\n",
       "      <td>0.778727</td>\n",
       "    </tr>\n",
       "    <tr>\n",
       "      <td>26</td>\n",
       "      <td>3</td>\n",
       "      <td>asymmetric</td>\n",
       "      <td>0.31</td>\n",
       "      <td>0.777255</td>\n",
       "    </tr>\n",
       "    <tr>\n",
       "      <td>15</td>\n",
       "      <td>3</td>\n",
       "      <td>0.91</td>\n",
       "      <td>0.01</td>\n",
       "      <td>0.777236</td>\n",
       "    </tr>\n",
       "    <tr>\n",
       "      <td>20</td>\n",
       "      <td>3</td>\n",
       "      <td>symmetric</td>\n",
       "      <td>0.01</td>\n",
       "      <td>0.777075</td>\n",
       "    </tr>\n",
       "  </tbody>\n",
       "</table>\n",
       "</div>"
      ],
      "text/plain": [
       "    Topics       Alpha  Beta  Coherence\n",
       "10       3        0.61  0.01   0.781840\n",
       "0        3        0.01  0.01   0.778727\n",
       "26       3  asymmetric  0.31   0.777255\n",
       "15       3        0.91  0.01   0.777236\n",
       "20       3   symmetric  0.01   0.777075"
      ]
     },
     "execution_count": 144,
     "metadata": {},
     "output_type": "execute_result"
    }
   ],
   "source": [
    "top_models = model_results.sort_values('Coherence',ascending=False).head(5)\n",
    "# tuning_results['Group'] = tuning_results[['Alpha','Beta']].apply(lambda x: ', '.join(x.astype(str)), axis=1)\n",
    "# sns.lineplot(x='Topics', y='Coherence', data=tuning_results, hue='Group')\n",
    "top_models"
   ]
  },
  {
   "cell_type": "markdown",
   "metadata": {
    "heading_collapsed": true,
    "hidden": true
   },
   "source": [
    "#### Resutls and Visualization"
   ]
  },
  {
   "cell_type": "code",
   "execution_count": 145,
   "metadata": {
    "hidden": true
   },
   "outputs": [
    {
     "data": {
      "text/plain": [
       "[(0,\n",
       "  '0.062*\"apologies\" + 0.032*\"satan\" + 0.025*\"signed\" + 0.023*\"fired\" + 0.023*\"nasty\" + 0.017*\"sleep\" + 0.017*\"apart\" + 0.016*\"blaze\" + 0.014*\"terrifying\" + 0.014*\"usual\"'),\n",
       " (1,\n",
       "  '0.026*\"satan\" + 0.022*\"blaze\" + 0.018*\"fired\" + 0.016*\"denial\" + 0.014*\"british\" + 0.013*\"workalso\" + 0.011*\"apologies\" + 0.011*\"anime\" + 0.009*\"signed\" + 0.009*\"purse\"'),\n",
       " (2,\n",
       "  '0.017*\"fired\" + 0.012*\"unstoppable\" + 0.012*\"apart\" + 0.011*\"trick\" + 0.011*\"cultist\" + 0.011*\"satan\" + 0.010*\"granola\" + 0.009*\"truth\" + 0.009*\"stick\" + 0.008*\"burned\"')]"
      ]
     },
     "execution_count": 145,
     "metadata": {},
     "output_type": "execute_result"
    }
   ],
   "source": [
    "# Best Performing Topic\n",
    "[num_topics, alpha, eta] = top_models.iloc[0][['Topics','Alpha','Beta']]\n",
    "\n",
    "ldanv = models.LdaModel(corpus=corpusnv, id2word=dictionary, num_topics=num_topics, passes=100, alpha=alpha, eta=eta)\n",
    "ldanv.save('models/ldanv.gensim')\n",
    "ldanv.print_topics()"
   ]
  },
  {
   "cell_type": "code",
   "execution_count": 150,
   "metadata": {
    "hidden": true
   },
   "outputs": [
    {
     "data": {
      "text/plain": [
       "0.7621945356404113"
      ]
     },
     "execution_count": 150,
     "metadata": {},
     "output_type": "execute_result"
    }
   ],
   "source": [
    "coherence_score = models.CoherenceModel(model=ldanv, texts=df, dictionary=dictionary, coherence='c_v').get_coherence()\n",
    "coherence_score"
   ]
  },
  {
   "cell_type": "code",
   "execution_count": 146,
   "metadata": {
    "hidden": true
   },
   "outputs": [
    {
     "data": {
      "text/html": [
       "\n",
       "<link rel=\"stylesheet\" type=\"text/css\" href=\"https://cdn.rawgit.com/bmabey/pyLDAvis/files/ldavis.v1.0.0.css\">\n",
       "\n",
       "\n",
       "<div id=\"ldavis_el81646812508889374937820\"></div>\n",
       "<script type=\"text/javascript\">\n",
       "\n",
       "var ldavis_el81646812508889374937820_data = {\"mdsDat\": {\"x\": [-0.05743071217495529, -0.10771326063958912, 0.16514397281454435], \"y\": [-0.14764321833006452, 0.12043530015550793, 0.0272079181745566], \"topics\": [1, 2, 3], \"cluster\": [1, 1, 1], \"Freq\": [31.017662048339844, 26.860916137695312, 42.121421813964844]}, \"tinfo\": {\"Category\": [\"Default\", \"Default\", \"Default\", \"Default\", \"Default\", \"Default\", \"Default\", \"Default\", \"Default\", \"Default\", \"Default\", \"Default\", \"Default\", \"Default\", \"Default\", \"Default\", \"Default\", \"Default\", \"Default\", \"Default\", \"Default\", \"Default\", \"Default\", \"Default\", \"Default\", \"Default\", \"Default\", \"Default\", \"Default\", \"Default\", \"Topic1\", \"Topic1\", \"Topic1\", \"Topic1\", \"Topic1\", \"Topic1\", \"Topic1\", \"Topic1\", \"Topic1\", \"Topic1\", \"Topic1\", \"Topic1\", \"Topic1\", \"Topic1\", \"Topic1\", \"Topic1\", \"Topic1\", \"Topic1\", \"Topic1\", \"Topic1\", \"Topic1\", \"Topic1\", \"Topic1\", \"Topic1\", \"Topic1\", \"Topic1\", \"Topic1\", \"Topic1\", \"Topic1\", \"Topic1\", \"Topic1\", \"Topic1\", \"Topic1\", \"Topic1\", \"Topic1\", \"Topic1\", \"Topic1\", \"Topic1\", \"Topic1\", \"Topic1\", \"Topic1\", \"Topic1\", \"Topic1\", \"Topic1\", \"Topic1\", \"Topic1\", \"Topic1\", \"Topic1\", \"Topic1\", \"Topic1\", \"Topic1\", \"Topic1\", \"Topic1\", \"Topic1\", \"Topic1\", \"Topic1\", \"Topic1\", \"Topic1\", \"Topic1\", \"Topic1\", \"Topic1\", \"Topic1\", \"Topic1\", \"Topic1\", \"Topic1\", \"Topic1\", \"Topic1\", \"Topic1\", \"Topic1\", \"Topic1\", \"Topic1\", \"Topic1\", \"Topic1\", \"Topic1\", \"Topic1\", \"Topic1\", \"Topic1\", \"Topic2\", \"Topic2\", \"Topic2\", \"Topic2\", \"Topic2\", \"Topic2\", \"Topic2\", \"Topic2\", \"Topic2\", \"Topic2\", \"Topic2\", \"Topic2\", \"Topic2\", \"Topic2\", \"Topic2\", \"Topic2\", \"Topic2\", \"Topic2\", \"Topic2\", \"Topic2\", \"Topic2\", \"Topic2\", \"Topic2\", \"Topic2\", \"Topic2\", \"Topic2\", \"Topic2\", \"Topic2\", \"Topic2\", \"Topic2\", \"Topic2\", \"Topic2\", \"Topic2\", \"Topic2\", \"Topic2\", \"Topic2\", \"Topic2\", \"Topic2\", \"Topic2\", \"Topic2\", \"Topic2\", \"Topic2\", \"Topic2\", \"Topic2\", \"Topic2\", \"Topic2\", \"Topic2\", \"Topic2\", \"Topic2\", \"Topic2\", \"Topic2\", \"Topic2\", \"Topic2\", \"Topic2\", \"Topic2\", \"Topic2\", \"Topic2\", \"Topic2\", \"Topic2\", \"Topic2\", \"Topic2\", \"Topic2\", \"Topic2\", \"Topic2\", \"Topic2\", \"Topic2\", \"Topic2\", \"Topic2\", \"Topic2\", \"Topic2\", \"Topic2\", \"Topic2\", \"Topic2\", \"Topic2\", \"Topic2\", \"Topic2\", \"Topic2\", \"Topic2\", \"Topic2\", \"Topic2\", \"Topic2\", \"Topic2\", \"Topic2\", \"Topic2\", \"Topic2\", \"Topic2\", \"Topic2\", \"Topic2\", \"Topic3\", \"Topic3\", \"Topic3\", \"Topic3\", \"Topic3\", \"Topic3\", \"Topic3\", \"Topic3\", \"Topic3\", \"Topic3\", \"Topic3\", \"Topic3\", \"Topic3\", \"Topic3\", \"Topic3\", \"Topic3\", \"Topic3\", \"Topic3\", \"Topic3\", \"Topic3\", \"Topic3\", \"Topic3\", \"Topic3\", \"Topic3\", \"Topic3\", \"Topic3\", \"Topic3\", \"Topic3\", \"Topic3\", \"Topic3\", \"Topic3\", \"Topic3\", \"Topic3\", \"Topic3\", \"Topic3\", \"Topic3\", \"Topic3\", \"Topic3\", \"Topic3\", \"Topic3\", \"Topic3\", \"Topic3\", \"Topic3\", \"Topic3\", \"Topic3\", \"Topic3\", \"Topic3\", \"Topic3\", \"Topic3\", \"Topic3\", \"Topic3\", \"Topic3\", \"Topic3\", \"Topic3\", \"Topic3\", \"Topic3\", \"Topic3\", \"Topic3\", \"Topic3\", \"Topic3\", \"Topic3\", \"Topic3\", \"Topic3\", \"Topic3\", \"Topic3\", \"Topic3\", \"Topic3\", \"Topic3\", \"Topic3\", \"Topic3\", \"Topic3\", \"Topic3\", \"Topic3\", \"Topic3\", \"Topic3\"], \"Freq\": [1149.0, 391.0, 215.0, 226.0, 546.0, 971.0, 602.0, 334.0, 340.0, 118.0, 102.0, 351.0, 134.0, 107.0, 253.0, 85.0, 125.0, 420.0, 193.0, 110.0, 259.0, 192.0, 228.0, 367.0, 67.0, 220.0, 388.0, 60.0, 157.0, 279.0, 21.84303855895996, 18.866249084472656, 15.885270118713379, 13.903020858764648, 12.90882396697998, 11.915769577026367, 9.933135986328125, 9.933032989501953, 9.931215286254883, 10.920892715454102, 9.93010425567627, 9.929471969604492, 8.939876556396484, 8.938557624816895, 15.86693286895752, 8.93541431427002, 7.945457458496094, 7.944000720977783, 10.913494110107422, 7.941573143005371, 7.942334175109863, 6.954777717590332, 6.954380989074707, 6.953929424285889, 6.953963756561279, 6.95124626159668, 6.953382968902588, 6.953085899353027, 6.948830604553223, 5.963611602783203, 116.09484100341797, 100.13359069824219, 18.773509979248047, 10.896696090698242, 8.91021728515625, 21.5365047454834, 9.875056266784668, 8.90738582611084, 7.930752754211426, 43.82411193847656, 195.95974731445312, 323.3439025878906, 876.28759765625, 32.84882354736328, 243.28875732421875, 354.511474609375, 37.610260009765625, 23.945125579833984, 95.13892364501953, 46.39079284667969, 154.72381591796875, 204.16786193847656, 451.73260498046875, 107.90330505371094, 26.744951248168945, 185.56947326660156, 36.29155731201172, 27.045541763305664, 240.20040893554688, 111.4970474243164, 331.1451721191406, 136.40322875976562, 100.49726867675781, 178.59857177734375, 229.65060424804688, 66.2657241821289, 138.33987426757812, 102.4561767578125, 124.26665496826172, 72.8629150390625, 82.63277435302734, 93.1333999633789, 79.38443756103516, 111.8170166015625, 97.02593994140625, 104.49100494384766, 80.32129669189453, 22.004770278930664, 16.996742248535156, 12.005546569824219, 11.005887031555176, 12.002080917358398, 11.005541801452637, 10.005813598632812, 10.005266189575195, 10.004850387573242, 9.001960754394531, 18.977096557617188, 9.002581596374512, 8.00655746459961, 8.005992889404297, 8.006136894226074, 8.005910873413086, 8.005529403686523, 8.004538536071777, 8.004467964172363, 8.002263069152832, 8.00478744506836, 8.004448890686035, 8.004888534545898, 10.994573593139648, 9.996919631958008, 8.003249168395996, 9.997304916381836, 7.006951332092285, 7.006807327270508, 7.004460334777832, 16.949668884277344, 8.00130558013916, 7.994606971740723, 12.901984214782715, 8.97423267364502, 23.764368057250977, 15.452860832214355, 11.73606014251709, 73.00269317626953, 10.764513969421387, 27.23285484313965, 28.42793846130371, 36.86945724487305, 35.529022216796875, 84.0664291381836, 11.499218940734863, 31.72660255432129, 15.626311302185059, 16.376880645751953, 20.219921112060547, 28.439958572387695, 24.182180404663086, 18.430299758911133, 175.66744995117188, 38.882171630859375, 268.3710021972656, 28.117238998413086, 63.346622467041016, 90.75102996826172, 40.540245056152344, 196.5322265625, 165.92112731933594, 96.64463806152344, 315.6500549316406, 60.9557991027832, 104.90201568603516, 76.73511505126953, 75.2483139038086, 41.43351364135742, 130.1361541748047, 219.45101928710938, 46.95970153808594, 75.26041412353516, 104.59256744384766, 73.86405944824219, 59.73399353027344, 88.24343872070312, 60.504119873046875, 78.16592407226562, 70.18976593017578, 109.8674545288086, 133.1831817626953, 66.09709930419922, 62.59140396118164, 50.7767448425293, 76.48921203613281, 68.79463195800781, 62.997440338134766, 215.1063995361328, 67.72571563720703, 60.75587844848633, 32.86955261230469, 31.875041961669922, 29.881851196289062, 28.886882781982422, 27.889455795288086, 25.89884376525879, 22.910425186157227, 21.915122985839844, 19.923490524291992, 19.92254638671875, 19.92352867126465, 18.926301956176758, 26.884937286376953, 21.910564422607422, 17.933876037597656, 17.932981491088867, 17.93177604675293, 17.93183135986328, 24.894577026367188, 16.9371395111084, 17.925506591796875, 13.946139335632324, 13.948397636413574, 12.95328140258789, 13.945828437805176, 12.951367378234863, 12.950915336608887, 106.65769958496094, 59.50444412231445, 132.4376220703125, 21.880382537841797, 15.931177139282227, 52.4338264465332, 118.9976577758789, 191.28456115722656, 207.5800018310547, 44.34988021850586, 155.91061401367188, 233.8055877685547, 31.03964614868164, 164.51300048828125, 91.80660247802734, 44.2550048828125, 36.22678756713867, 96.015869140625, 53.97170639038086, 30.21485710144043, 87.41859436035156, 98.82051849365234, 124.0913314819336, 57.985939025878906, 95.955322265625, 136.4540557861328, 60.69865417480469, 93.20713806152344, 334.5670471191406, 223.61932373046875, 118.36177825927734, 178.35910034179688, 63.352237701416016, 83.73890686035156, 110.20359802246094, 139.10227966308594, 88.4417953491211, 122.1498794555664, 110.81494140625, 204.408935546875, 119.71390533447266, 110.98282623291016, 140.43580627441406, 104.83802032470703, 94.14775848388672], \"Term\": [\"apologies\", \"nasty\", \"trick\", \"usual\", \"signed\", \"satan\", \"blaze\", \"british\", \"sleep\", \"technically\", \"extent\", \"anime\", \"medic\", \"brag\", \"cultist\", \"stretch\", \"survive\", \"denial\", \"burned\", \"explain\", \"french\", \"compassionate\", \"granola\", \"terrifying\", \"philippine\", \"purse\", \"workalso\", \"grant\", \"vessel\", \"apologise\", \"abused\", \"closure\", \"earth\", \"socializing\", \"lottery\", \"five\", \"fund\", \"tanked\", \"garcia\", \"boyfriend\", \"uncalled\", \"officially\", \"guilt\", \"terribly\", \"revision\", \"poking\", \"circumstance\", \"title\", \"shoot\", \"mile\", \"alcoholic\", \"needing\", \"paranoid\", \"step\", \"twi\", \"alley\", \"bonkers\", \"governor\", \"awake\", \"department\", \"technically\", \"extent\", \"effectively\", \"steam\", \"plenty\", \"parole\", \"stigma\", \"desired\", \"work\", \"rope\", \"usual\", \"nasty\", \"apologies\", \"cocaine\", \"sleep\", \"signed\", \"review\", \"big\", \"spontaneous\", \"incest\", \"french\", \"terrifying\", \"satan\", \"exact\", \"useful\", \"anime\", \"twice\", \"hungry\", \"apart\", \"legacy\", \"fired\", \"apologise\", \"countless\", \"truth\", \"blaze\", \"fellow\", \"british\", \"chosen\", \"lem\", \"coconut\", \"spoken\", \"zombie\", \"compassionate\", \"workalso\", \"forcing\", \"denial\", \"purse\", \"surfing\", \"exhaust\", \"gazing\", \"intend\", \"guess\", \"cl\", \"themselves\", \"assemble\", \"degree\", \"promotion\", \"devastate\", \"confidence\", \"ly\", \"isolated\", \"redact\", \"ask\", \"reindeer\", \"past\", \"shave\", \"headspace\", \"ice\", \"againmy\", \"muslim\", \"corrupted\", \"smaller\", \"imminent\", \"ruined\", \"add\", \"ablaze\", \"profound\", \"tod\", \"telephone\", \"worth\", \"unemployment\", \"nursing\", \"ditch\", \"employer\", \"keep\", \"stretch\", \"considerable\", \"dizzy\", \"unwilling\", \"studied\", \"spotworthless\", \"explain\", \"una\", \"shelter\", \"mommy\", \"ed\", \"anythingi\", \"openly\", \"horrifying\", \"avidly\", \"british\", \"university\", \"blaze\", \"broken\", \"urge\", \"vessel\", \"changed\", \"denial\", \"workalso\", \"compassionate\", \"satan\", \"texas\", \"purse\", \"missing\", \"unfaithful\", \"mood\", \"anime\", \"fired\", \"famine\", \"intentionally\", \"forcing\", \"sex\", \"mentally\", \"apologise\", \"base\", \"emma\", \"neck\", \"signed\", \"apologies\", \"skipping\", \"obligated\", \"quarantine\", \"apart\", \"terrifying\", \"truth\", \"trick\", \"philippine\", \"grant\", \"fly\", \"alberta\", \"taught\", \"suffer\", \"slitting\", \"til\", \"posting\", \"everything\", \"prec\", \"testament\", \"scare\", \"mall\", \"fucking\", \"overcome\", \"revive\", \"deductible\", \"recovered\", \"absorbed\", \"xx\", \"income\", \"ear\", \"euthanasia\", \"dissolve\", \"cover\", \"snap\", \"pig\", \"probly\", \"brag\", \"great\", \"medic\", \"uncle\", \"waist\", \"scheme\", \"survive\", \"granola\", \"cultist\", \"lmaoooo\", \"burned\", \"unstoppable\", \"college\", \"stick\", \"right\", \"everynight\", \"temperature\", \"uber\", \"planet\", \"stay\", \"railroad\", \"hpid\", \"skipping\", \"excited\", \"envisioning\", \"emma\", \"uninevit\", \"attorney\", \"fired\", \"apart\", \"singing\", \"truth\", \"composition\", \"thread\", \"chosen\", \"forcing\", \"stopped\", \"lem\", \"zombie\", \"satan\", \"denial\", \"workalso\", \"apologies\", \"blaze\", \"terrifying\"], \"Total\": [1149.0, 391.0, 215.0, 226.0, 546.0, 971.0, 602.0, 334.0, 340.0, 118.0, 102.0, 351.0, 134.0, 107.0, 253.0, 85.0, 125.0, 420.0, 193.0, 110.0, 259.0, 192.0, 228.0, 367.0, 67.0, 220.0, 388.0, 60.0, 157.0, 279.0, 21.863237380981445, 18.886207580566406, 15.906083106994629, 13.922980308532715, 12.928788185119629, 11.93637466430664, 9.953095436096191, 9.952991485595703, 9.951176643371582, 10.943707466125488, 9.951587677001953, 9.951070785522461, 8.95983600616455, 8.958879470825195, 15.905929565429688, 8.957447052001953, 7.965427875518799, 7.964188575744629, 10.942485809326172, 7.963465690612793, 7.965032577514648, 6.974736213684082, 6.974353790283203, 6.973903179168701, 6.973952770233154, 6.97126579284668, 6.973466873168945, 6.973206996917725, 6.971166610717773, 5.983570098876953, 118.15178680419922, 102.27015686035156, 18.884424209594727, 10.943306922912598, 8.958187103271484, 21.86298370361328, 9.951399803161621, 8.957910537719727, 7.965234279632568, 46.68567657470703, 226.44082641601562, 391.40557861328125, 1149.9066162109375, 35.78010177612305, 340.9283752441406, 546.0380249023438, 44.7426872253418, 27.829147338867188, 139.22523498535156, 61.64396667480469, 259.49554443359375, 367.1102600097656, 971.7916259765625, 175.05528259277344, 32.825374603271484, 351.48358154296875, 47.70676803588867, 33.79664611816406, 540.3089599609375, 204.86569213867188, 885.1632080078125, 279.77398681640625, 188.07981872558594, 419.9551086425781, 602.859619140625, 110.47199249267578, 334.89300537109375, 218.8074493408203, 297.5920104980469, 136.33399963378906, 190.1571044921875, 252.87074279785156, 192.3576202392578, 388.7209777832031, 340.72076416015625, 420.73712158203125, 220.27294921875, 22.024669647216797, 17.023468017578125, 12.025432586669922, 11.025774002075195, 12.02379035949707, 11.02547550201416, 10.025700569152832, 10.025167465209961, 10.024815559387207, 9.022439002990723, 19.022945404052734, 9.024439811706543, 8.026442527770996, 8.025877952575684, 8.026021957397461, 8.025795936584473, 8.025415420532227, 8.024423599243164, 8.02435302734375, 8.022171020507812, 8.024739265441895, 8.024420738220215, 8.024995803833008, 11.022480964660645, 10.022534370422363, 8.023860931396484, 10.024892807006836, 7.02683687210083, 7.0266923904418945, 7.024347305297852, 17.023025512695312, 8.024283409118652, 8.023407936096191, 13.022932052612305, 9.02418041229248, 25.01654624938965, 16.018564224243164, 12.021905899047852, 85.96499633789062, 11.022831916809082, 30.010635375976562, 32.00710678100586, 42.98350143432617, 41.98691940307617, 110.8471450805664, 12.019856452941895, 37.99626159667969, 17.01585578918457, 18.016651153564453, 23.011327743530273, 34.97601318359375, 29.002357482910156, 21.010759353637695, 334.89300537109375, 52.91763687133789, 602.859619140625, 35.989620208740234, 99.77874755859375, 157.62269592285156, 56.9516716003418, 420.73712158203125, 388.7209777832031, 192.3576202392578, 971.7916259765625, 105.71961212158203, 220.27294921875, 149.61431884765625, 146.5948944091797, 63.88536071777344, 351.48358154296875, 885.1632080078125, 84.79359436035156, 191.4355926513672, 340.72076416015625, 189.3689422607422, 134.6517333984375, 279.77398681640625, 141.5267333984375, 243.24349975585938, 196.323974609375, 546.0380249023438, 1149.9066162109375, 202.4175567626953, 178.36399841308594, 120.68521118164062, 540.3089599609375, 367.1102600097656, 419.9551086425781, 215.140869140625, 67.74627685546875, 60.77581787109375, 32.89002990722656, 31.89497184753418, 29.901796340942383, 28.90681266784668, 27.90988540649414, 25.9189453125, 22.93035316467285, 21.935075759887695, 19.943416595458984, 19.942480087280273, 19.943498611450195, 18.946449279785156, 26.914226531982422, 21.934722900390625, 17.95380210876465, 17.95290756225586, 17.951704025268555, 17.95177459716797, 24.92301368713379, 16.95706558227539, 17.950788497924805, 13.96606731414795, 13.968414306640625, 12.973206520080566, 13.967284202575684, 12.971294403076172, 12.970843315124512, 107.58565521240234, 59.777984619140625, 134.48025512695312, 21.935028076171875, 15.959573745727539, 53.80887985229492, 125.48772430419922, 228.1295928955078, 253.85235595703125, 47.83949279785156, 193.10693359375, 306.72509765625, 32.88348388671875, 215.0474395751953, 118.53174591064453, 50.84211349487305, 40.87510681152344, 133.39340209960938, 66.70791625976562, 32.8805046081543, 126.59429168701172, 150.55703735351562, 202.4175567626953, 75.7473373413086, 149.41452026367188, 243.24349975585938, 81.66165924072266, 148.31338500976562, 885.1632080078125, 540.3089599609375, 215.08221435546875, 419.9551086425781, 87.64839935302734, 137.43751525878906, 218.8074493408203, 340.72076416015625, 161.33399963378906, 297.5920104980469, 252.87074279785156, 971.7916259765625, 420.73712158203125, 388.7209777832031, 1149.9066162109375, 602.859619140625, 367.1102600097656], \"loglift\": [30.0, 29.0, 28.0, 27.0, 26.0, 25.0, 24.0, 23.0, 22.0, 21.0, 20.0, 19.0, 18.0, 17.0, 16.0, 15.0, 14.0, 13.0, 12.0, 11.0, 10.0, 9.0, 8.0, 7.0, 6.0, 5.0, 4.0, 3.0, 2.0, 1.0, 1.169700026512146, 1.169600009918213, 1.1692999601364136, 1.1691999435424805, 1.169100046157837, 1.1689000129699707, 1.1685999631881714, 1.1685999631881714, 1.1685999631881714, 1.1684999465942383, 1.1684999465942383, 1.1684000492095947, 1.1684000492095947, 1.1683000326156616, 1.1682000160217285, 1.1682000160217285, 1.1680999994277954, 1.1680999994277954, 1.1679999828338623, 1.1678999662399292, 1.167799949645996, 1.1677000522613525, 1.1677000522613525, 1.1677000522613525, 1.1677000522613525, 1.1677000522613525, 1.1677000522613525, 1.1677000522613525, 1.1674000024795532, 1.1672999858856201, 1.1531000137329102, 1.1495000123977661, 1.1647000312805176, 1.1663000583648682, 1.1651999950408936, 1.1555999517440796, 1.1628999710083008, 1.1649999618530273, 1.1663000583648682, 1.1073999404907227, 1.0260000228881836, 0.9796000123023987, 0.8988999724388123, 1.0851000547409058, 0.8331999778747559, 0.7386999726295471, 0.996999979019165, 1.020300030708313, 0.789900004863739, 0.8863000273704529, 0.6535000205039978, 0.583899974822998, 0.40459999442100525, 0.6866999864578247, 0.9657999873161316, 0.5318999886512756, 0.8970999717712402, 0.9477999806404114, 0.35989999771118164, 0.5623000264167786, 0.1873999983072281, 0.4521999955177307, 0.5439000129699707, 0.3156000077724457, 0.20550000667572021, 0.659500002861023, 0.2865000069141388, 0.41190001368522644, 0.2973000109195709, 0.5440999865531921, 0.33719998598098755, 0.17180000245571136, 0.2856000065803528, -0.07540000230073929, -0.08550000190734863, -0.2222999930381775, 0.16179999709129333, 1.313599944114685, 1.3128999471664429, 1.3128000497817993, 1.3127000331878662, 1.3127000331878662, 1.3127000331878662, 1.3125, 1.3125, 1.3125, 1.3121999502182007, 1.3121000528335571, 1.3121000528335571, 1.312000036239624, 1.312000036239624, 1.312000036239624, 1.312000036239624, 1.312000036239624, 1.312000036239624, 1.312000036239624, 1.312000036239624, 1.312000036239624, 1.312000036239624, 1.312000036239624, 1.312000036239624, 1.311900019645691, 1.311900019645691, 1.3116999864578247, 1.3116999864578247, 1.3116999864578247, 1.3116999864578247, 1.3101999759674072, 1.3115999698638916, 1.3108999729156494, 1.3051999807357788, 1.308899998664856, 1.263100028038025, 1.278499960899353, 1.2904000282287598, 1.1511000394821167, 1.2907999753952026, 1.2173999547958374, 1.1958999633789062, 1.1611000299453735, 1.1475000381469727, 1.0379999876022339, 1.2702000141143799, 1.1341999769210815, 1.2293000221252441, 1.219099998474121, 1.1851999759674072, 1.1075999736785889, 1.132699966430664, 1.183500051498413, 0.6693000197410583, 1.0062999725341797, 0.5052000284194946, 1.0677000284194946, 0.8601999878883362, 0.7623999714851379, 0.9746000170707703, 0.5533000230789185, 0.46309998631477356, 0.6262000203132629, 0.1899999976158142, 0.7638999819755554, 0.572700023651123, 0.6467999815940857, 0.647599995136261, 0.8815000057220459, 0.32089999318122864, -0.08009999990463257, 0.7235999703407288, 0.38089999556541443, 0.13349999487400055, 0.37299999594688416, 0.5016999840736389, 0.16060000658035278, 0.46470001339912415, 0.179299995303154, 0.2858999967575073, -0.2888999879360199, -0.8411999940872192, 0.19529999792575836, 0.267300009727478, 0.4487999975681305, -0.640500009059906, -0.36000001430511475, -0.5825999975204468, 0.8644999861717224, 0.864300012588501, 0.864300012588501, 0.8640000224113464, 0.8640000224113464, 0.8639000058174133, 0.8639000058174133, 0.8639000058174133, 0.8637999892234802, 0.8636999726295471, 0.8636999726295471, 0.8636000156402588, 0.8636000156402588, 0.8636000156402588, 0.8634999990463257, 0.8634999990463257, 0.8634999990463257, 0.8634999990463257, 0.8634999990463257, 0.8634999990463257, 0.8634999990463257, 0.8634999990463257, 0.8633999824523926, 0.8632000088691711, 0.8632000088691711, 0.8632000088691711, 0.863099992275238, 0.863099992275238, 0.863099992275238, 0.863099992275238, 0.8560000061988831, 0.8600000143051147, 0.8493000268936157, 0.8621000051498413, 0.8628000020980835, 0.838699996471405, 0.8115000128746033, 0.6884999871253967, 0.6633999943733215, 0.7889000177383423, 0.6506999731063843, 0.5932000279426575, 0.8069000244140625, 0.5967000126838684, 0.6090999841690063, 0.7258999943733215, 0.7439000010490417, 0.5357999801635742, 0.6528000235557556, 0.7800999879837036, 0.4943000078201294, 0.44359999895095825, 0.37529999017715454, 0.5974000096321106, 0.42179998755455017, 0.2865000069141388, 0.5680000185966492, 0.4000999927520752, -0.10830000042915344, -0.01759999990463257, 0.267300009727478, 0.008299999870359898, 0.5400000214576721, 0.36910000443458557, 0.17880000174045563, -0.031199999153614044, 0.26350000500679016, -0.02590000070631504, 0.03959999978542328, -0.6944000124931335, -0.392300009727478, -0.3889000117778778, -1.2381000518798828, -0.8847000002861023, -0.49619999527931213], \"logprob\": [30.0, 29.0, 28.0, 27.0, 26.0, 25.0, 24.0, 23.0, 22.0, 21.0, 20.0, 19.0, 18.0, 17.0, 16.0, 15.0, 14.0, 13.0, 12.0, 11.0, 10.0, 9.0, 8.0, 7.0, 6.0, 5.0, 4.0, 3.0, 2.0, 1.0, -6.479000091552734, -6.6255998611450195, -6.797500133514404, -6.930799961090088, -7.005000114440918, -7.085100173950195, -7.267099857330322, -7.267099857330322, -7.267199993133545, -7.172299861907959, -7.267399787902832, -7.267399787902832, -7.372399806976318, -7.372600078582764, -6.798699855804443, -7.372900009155273, -7.490300178527832, -7.490499973297119, -7.172900199890137, -7.490799903869629, -7.490699768066406, -7.623499870300293, -7.623600006103516, -7.623600006103516, -7.623600006103516, -7.624000072479248, -7.623700141906738, -7.623700141906738, -7.6244001388549805, -7.777299880981445, -4.808499813079834, -4.956399917602539, -6.630499839782715, -7.174499988555908, -7.375699996948242, -6.493199825286865, -7.272900104522705, -7.376100063323975, -7.492199897766113, -5.782700061798096, -4.284999847412109, -3.7841999530792236, -2.7871999740600586, -6.071000099182129, -4.068699836730957, -3.692199945449829, -5.935699939727783, -6.387199878692627, -5.007599830627441, -5.725800037384033, -4.521299839019775, -4.24399995803833, -3.4498000144958496, -4.881700038909912, -6.276599884033203, -4.3394999504089355, -5.97130012512207, -6.265399932861328, -4.081500053405762, -4.848899841308594, -3.7604000568389893, -4.647299766540527, -4.9527997970581055, -4.377799987792969, -4.126399993896484, -5.36929988861084, -4.633200168609619, -4.933499813079834, -4.740499973297119, -5.274400234222412, -5.148499965667725, -5.028900146484375, -5.188600063323975, -4.846099853515625, -4.98799991607666, -4.91379976272583, -5.1768999099731445, -6.3277997970581055, -6.585999965667725, -6.933700084686279, -7.020599842071533, -6.934000015258789, -7.020599842071533, -7.115900039672852, -7.115900039672852, -7.116000175476074, -7.22160005569458, -6.475800037384033, -7.221499919891357, -7.338799953460693, -7.338900089263916, -7.338799953460693, -7.338900089263916, -7.338900089263916, -7.339000225067139, -7.339000225067139, -7.339300155639648, -7.339000225067139, -7.339000225067139, -7.339000225067139, -7.021599769592285, -7.116799831390381, -7.339200019836426, -7.116700172424316, -7.472099781036377, -7.4721999168396, -7.472499847412109, -6.588799953460693, -7.339399814605713, -7.3403000831604, -6.861700057983398, -7.224699974060059, -6.250899791717529, -6.681300163269043, -6.956399917602539, -5.128600120544434, -7.042799949645996, -6.11460018157959, -6.071700096130371, -5.811699867248535, -5.848700046539307, -4.987400054931641, -6.976799964904785, -5.961900234222412, -6.670100212097168, -6.623199939727783, -6.412399768829346, -6.071300029754639, -6.233399868011475, -6.505099773406982, -4.250500202178955, -5.758500099182129, -3.82669997215271, -6.082699775695801, -5.270400047302246, -4.910900115966797, -5.716800212860107, -4.138199806213379, -4.307499885559082, -4.8480000495910645, -3.664400100708008, -5.308899879455566, -4.765999794006348, -5.078700065612793, -5.098299980163574, -5.695000171661377, -4.55049991607666, -4.027900218963623, -5.569799900054932, -5.098100185394287, -4.769000053405762, -5.116799831390381, -5.329100131988525, -4.938899993896484, -5.316299915313721, -5.060200214385986, -5.167799949645996, -4.719799995422363, -4.527299880981445, -5.22790002822876, -5.282400131225586, -5.491600036621094, -5.081900119781494, -5.187900066375732, -5.276000022888184, -4.497799873352051, -5.653500080108643, -5.7621002197265625, -6.376399993896484, -6.407100200653076, -6.471700191497803, -6.505499839782715, -6.5406999588012695, -6.614699840545654, -6.737299919128418, -6.781799793243408, -6.876999855041504, -6.877099990844727, -6.876999855041504, -6.928400039672852, -6.577400207519531, -6.7820000648498535, -6.9822001457214355, -6.9822998046875, -6.982399940490723, -6.982399940490723, -6.654300212860107, -7.039400100708008, -6.982699871063232, -7.233699798583984, -7.23360013961792, -7.307600021362305, -7.233799934387207, -7.307700157165527, -7.307799816131592, -5.1992998123168945, -5.782899856567383, -4.982800006866455, -6.783299922943115, -7.1006999015808105, -5.90939998626709, -5.089799880981445, -4.615200042724609, -4.533400058746338, -6.0767998695373535, -4.8196001052856445, -4.414400100708008, -6.433700084686279, -4.765900135040283, -5.3491997718811035, -6.078999996185303, -6.279099941253662, -5.3043999671936035, -5.880499839782715, -6.460599899291992, -5.398200035095215, -5.275599956512451, -5.047900199890137, -5.808700084686279, -5.304999828338623, -4.952899932861328, -5.763000011444092, -5.334099769592285, -4.056099891662598, -4.459000110626221, -5.095200061798096, -4.685100078582764, -5.720200061798096, -5.441199779510498, -5.166600227355957, -4.933700084686279, -5.386600017547607, -5.063700199127197, -5.161099910736084, -4.548799991607666, -5.083799839019775, -5.159599781036377, -4.924200057983398, -5.2164998054504395, -5.324100017547607]}, \"token.table\": {\"Topic\": [2, 3, 1, 2, 2, 3, 1, 1, 1, 2, 3, 2, 3, 1, 2, 3, 1, 2, 3, 1, 2, 3, 2, 2, 1, 2, 3, 2, 3, 1, 1, 2, 3, 1, 3, 1, 2, 3, 1, 1, 2, 3, 1, 2, 3, 2, 3, 1, 3, 2, 3, 1, 2, 3, 1, 2, 1, 1, 2, 1, 2, 3, 1, 3, 1, 2, 3, 1, 2, 3, 2, 2, 2, 1, 2, 3, 3, 1, 2, 3, 3, 2, 1, 2, 3, 1, 1, 2, 3, 2, 3, 2, 3, 3, 1, 2, 3, 1, 1, 2, 3, 2, 3, 1, 2, 3, 3, 2, 3, 3, 1, 2, 3, 1, 2, 3, 2, 1, 2, 3, 1, 3, 1, 2, 3, 1, 2, 3, 1, 2, 3, 1, 3, 1, 2, 3, 1, 2, 3, 3, 1, 1, 2, 1, 1, 2, 3, 3, 3, 2, 1, 2, 2, 3, 1, 2, 3, 1, 2, 3, 2, 2, 1, 2, 3, 3, 2, 1, 2, 3, 2, 2, 1, 2, 3, 1, 2, 3, 2, 3, 1, 2, 3, 2, 3, 1, 2, 3, 1, 1, 2, 3, 2, 3, 1, 2, 3, 2, 1, 2, 3, 1, 2, 3, 1, 2, 1, 2, 3, 1, 1, 2, 3, 3, 1, 1, 2, 3, 3, 1, 3, 1, 1, 3, 3, 3, 2, 2, 1, 2, 3, 1, 2, 3, 1, 2, 3, 3, 2, 2, 1, 2, 1, 3, 1, 2, 3, 1, 3, 2, 1, 2, 3, 3, 2, 3, 1, 2, 3, 2, 2, 3, 1, 1, 2, 3, 1, 2, 3, 1, 2, 3, 1, 2, 3, 3, 2, 3, 1, 1, 2, 3, 1, 2, 3, 1, 2, 3, 1, 3, 1, 1, 1, 2, 3, 1, 1, 2, 3, 2, 3, 1, 2, 3, 3, 2, 1, 3, 1, 3, 1, 3, 2, 2, 3, 1, 1, 2, 3, 3, 1, 2, 3, 2, 1, 2, 3, 3, 1, 2, 3, 1, 2, 3, 1, 1, 3, 1, 2, 3, 1, 2, 1, 3, 2, 1, 2, 3, 1, 2, 3, 1, 2, 1, 2, 3, 2, 3, 1, 2, 3, 1, 2, 1, 3, 1, 2, 3, 3, 1, 1, 2, 3, 2, 3, 1, 2, 3], \"Freq\": [0.9962012767791748, 1.0026863813400269, 1.0062553882598877, 0.9961808323860168, 0.9969567060470581, 1.0032929182052612, 1.0043901205062866, 1.0041217803955078, 0.5291854739189148, 0.36986079812049866, 0.10242298990488052, 0.869137167930603, 0.13037057220935822, 0.44419029355049133, 0.14066025614738464, 0.4145776033401489, 0.76180100440979, 0.11566156893968582, 0.12174901366233826, 0.48610666394233704, 0.3145396113395691, 0.19658724963665009, 0.9967858791351318, 0.9974895715713501, 0.2966690957546234, 0.07416727393865585, 0.6270506381988525, 0.8567039370536804, 0.142783984541893, 1.004136085510254, 0.3391585350036621, 0.43101397156715393, 0.2331714928150177, 0.8624051213264465, 0.1437341868877411, 0.3815150260925293, 0.44454795122146606, 0.1741698980331421, 1.0038049221038818, 1.0051438808441162, 0.009294919669628143, 0.9945563673973083, 0.41207191348075867, 0.5255410075187683, 0.0627065971493721, 0.7780020833015442, 0.22228631377220154, 0.19160369038581848, 0.8078425526618958, 0.7199086546897888, 0.2809399664402008, 0.4661632776260376, 0.027421370148658752, 0.5027251243591309, 1.0043402910232544, 0.997689425945282, 1.0060251951217651, 0.9223003387451172, 0.08384548872709274, 0.5354496836662292, 0.2053779661655426, 0.25672245025634766, 0.0608208067715168, 0.942722499370575, 0.41069337725639343, 0.5042690634727478, 0.08317840844392776, 0.17113831639289856, 0.10268299281597137, 0.7187809348106384, 0.9972918033599854, 0.9979286789894104, 0.9979604482650757, 0.5316891670227051, 0.21799255907535553, 0.2498939037322998, 1.0020653009414673, 0.16938979923725128, 0.015757190063595772, 0.8193739056587219, 1.0026230812072754, 0.9975245594978333, 0.24718523025512695, 0.4682258665561676, 0.2852137088775635, 1.0027458667755127, 1.004698634147644, 0.9987937808036804, 1.0022612810134888, 0.9593650698661804, 0.03997354209423065, 0.899681031703949, 0.09996455907821655, 1.0027414560317993, 1.0059044361114502, 0.888067364692688, 0.111008420586586, 1.006120204925537, 0.11922209709882736, 0.3206663429737091, 0.5591105222702026, 0.9364135265350342, 0.062427569180727005, 0.19409090280532837, 0.16731974482536316, 0.6425078511238098, 1.0024296045303345, 0.13768114149570465, 0.8654242753982544, 1.0029598474502563, 0.6169479489326477, 0.15994946658611298, 0.22849924862384796, 0.06600891798734665, 0.17162320017814636, 0.7657034993171692, 0.99862140417099, 0.16238577663898468, 0.757800281047821, 0.08119288831949234, 0.9778023362159729, 0.01955604739487171, 0.24766021966934204, 0.5542871356010437, 0.20048683881759644, 0.5974364876747131, 0.28061410784721375, 0.12672895193099976, 0.3739423453807831, 0.24741199612617493, 0.3784612715244293, 1.0053303241729736, 1.0033435821533203, 0.28469058871269226, 0.30817022919654846, 0.4079586863517761, 0.5973127484321594, 0.05395083129405975, 0.3506803810596466, 1.0031869411468506, 1.0047125816345215, 1.0049062967300415, 0.9978851079940796, 1.0038422346115112, 0.06136862561106682, 0.10081988573074341, 0.8372434377670288, 1.0036886930465698, 1.0037139654159546, 0.9980213642120361, 1.004482626914978, 0.9972363114356995, 0.8275189399719238, 0.17239977419376373, 0.053136009722948074, 0.29224804043769836, 0.6575580835342407, 0.7988958358764648, 0.029588734731078148, 0.1775324046611786, 0.9969171285629272, 0.997026264667511, 0.7462206482887268, 0.11355531215667725, 0.12977750599384308, 1.0025320053100586, 0.997662365436554, 0.16193436086177826, 0.3917766809463501, 0.4440135657787323, 0.9967756867408752, 0.9981778264045715, 0.541818380355835, 0.06833745539188385, 0.38561850786209106, 0.416677862405777, 0.171375572681427, 0.40995723009109497, 0.06270969659090042, 0.9197421669960022, 1.0055079460144043, 0.9967055916786194, 1.002826452255249, 0.014872071333229542, 0.9815567135810852, 0.13367818295955658, 0.4455939531326294, 0.42331427335739136, 1.0045877695083618, 0.20719942450523376, 0.5146566033363342, 0.2807217836380005, 0.9402994513511658, 0.05876871570944786, 0.2034894973039627, 0.641774594783783, 0.15653038024902344, 0.9968852400779724, 0.8252309560775757, 0.043433208018541336, 0.1302996277809143, 0.2699619233608246, 0.35655349493026733, 0.3718343675136566, 1.0036221742630005, 0.9973204731941223, 0.30275169014930725, 0.35321030020713806, 0.34760376811027527, 1.004917025566101, 0.17154613137245178, 0.8005486726760864, 0.02859102375805378, 1.0029759407043457, 1.003677248954773, 1.0062670707702637, 0.9969563484191895, 1.003745198249817, 1.0022130012512207, 0.194879412651062, 0.8094991445541382, 1.0046675205230713, 1.0047506093978882, 1.0030373334884644, 1.0028371810913086, 1.0022478103637695, 0.9965338706970215, 0.9975129961967468, 0.3631857633590698, 0.47668132185935974, 0.15889377892017365, 0.11600427329540253, 0.42258697748184204, 0.4640170931816101, 0.07109325379133224, 0.2369775027036667, 0.6872347593307495, 1.002690315246582, 0.9967578053474426, 0.9968331456184387, 0.8493008017539978, 0.15645015239715576, 1.0059142112731934, 1.0025731325149536, 0.1265483796596527, 0.09280214458703995, 0.7761633992195129, 0.9424732327461243, 0.06425953656435013, 0.997516930103302, 0.4651202857494354, 0.3251726031303406, 0.20992153882980347, 1.0028331279754639, 0.018584292382001877, 0.9663832187652588, 0.274596244096756, 0.3907715678215027, 0.3326839208602905, 0.9969651103019714, 0.8421881198883057, 0.1579102724790573, 1.0052560567855835, 0.6501379013061523, 0.2014511674642563, 0.15017269551753998, 0.2836124897003174, 0.16737785935401917, 0.5486274361610413, 0.05928339436650276, 0.32605868577957153, 0.6125950813293457, 0.7127596735954285, 0.08506185561418533, 0.1994553804397583, 1.003228783607483, 0.9977516531944275, 1.0023423433303833, 1.0055317878723145, 0.43648120760917664, 0.2471640557050705, 0.3155285716056824, 0.6823475360870361, 0.16519993543624878, 0.15083472430706024, 0.047633882611989975, 0.8574098944664001, 0.09526776522397995, 0.09123947471380234, 0.9123947620391846, 1.0051805973052979, 1.0037420988082886, 0.18600547313690186, 0.046501368284225464, 0.7672725915908813, 1.0048837661743164, 0.2727261483669281, 0.17975132167339325, 0.5454522967338562, 0.8491828441619873, 0.15122434496879578, 0.09305895864963531, 0.8607953786849976, 0.04652947932481766, 1.0032236576080322, 0.9988799095153809, 0.04781344160437584, 0.9482999444007874, 1.004723072052002, 1.003284215927124, 0.981787919998169, 0.016927378252148628, 0.9969737529754639, 0.12232384085655212, 0.8807316422462463, 1.0045899152755737, 0.5556913614273071, 0.18795442581176758, 0.2560538649559021, 1.0028842687606812, 0.3310644030570984, 0.5769979357719421, 0.09458982944488525, 0.9974365234375, 0.23283308744430542, 0.15279671549797058, 0.6111868619918823, 1.0031272172927856, 1.0044965744018555, 0.9986473917961121, 0.9993452429771423, 0.42623603343963623, 0.15001603960990906, 0.4238548278808594, 1.0037349462509155, 0.7546098828315735, 0.23057524859905243, 0.2398919314146042, 0.04497973620891571, 0.7196757793426514, 0.08319567143917084, 0.915152370929718, 1.0048648118972778, 1.0029619932174683, 0.9982390999794006, 0.26603928208351135, 0.5116140246391296, 0.21828864514827728, 0.18368473649024963, 0.07347389310598373, 0.746984601020813, 0.26456207036972046, 0.7369943857192993, 0.14671117067337036, 0.09128695726394653, 0.7628981471061707, 0.8748056888580322, 0.12497224658727646, 0.27059870958328247, 0.631397008895874, 0.09019956737756729, 0.8225343823432922, 0.18278542160987854, 0.8655682802200317, 0.13248494267463684, 0.22839350998401642, 0.5773280262947083, 0.19667218625545502, 1.0025330781936646, 1.0043647289276123, 0.2881244122982025, 0.42704153060913086, 0.28555187582969666, 0.997082531452179, 1.0030889511108398, 0.3677768409252167, 0.19377489387989044, 0.4389594495296478], \"Term\": [\"ablaze\", \"absorbed\", \"abused\", \"add\", \"againmy\", \"alberta\", \"alcoholic\", \"alley\", \"anime\", \"anime\", \"anime\", \"anythingi\", \"anythingi\", \"apart\", \"apart\", \"apart\", \"apologies\", \"apologies\", \"apologies\", \"apologise\", \"apologise\", \"apologise\", \"ask\", \"assemble\", \"attorney\", \"attorney\", \"attorney\", \"avidly\", \"avidly\", \"awake\", \"base\", \"base\", \"base\", \"big\", \"big\", \"blaze\", \"blaze\", \"blaze\", \"bonkers\", \"boyfriend\", \"brag\", \"brag\", \"british\", \"british\", \"british\", \"broken\", \"broken\", \"burned\", \"burned\", \"changed\", \"changed\", \"chosen\", \"chosen\", \"chosen\", \"circumstance\", \"cl\", \"closure\", \"cocaine\", \"cocaine\", \"coconut\", \"coconut\", \"coconut\", \"college\", \"college\", \"compassionate\", \"compassionate\", \"compassionate\", \"composition\", \"composition\", \"composition\", \"confidence\", \"considerable\", \"corrupted\", \"countless\", \"countless\", \"countless\", \"cover\", \"cultist\", \"cultist\", \"cultist\", \"deductible\", \"degree\", \"denial\", \"denial\", \"denial\", \"department\", \"desired\", \"devastate\", \"dissolve\", \"ditch\", \"ditch\", \"dizzy\", \"dizzy\", \"ear\", \"earth\", \"ed\", \"ed\", \"effectively\", \"emma\", \"emma\", \"emma\", \"employer\", \"employer\", \"envisioning\", \"envisioning\", \"envisioning\", \"euthanasia\", \"everynight\", \"everynight\", \"everything\", \"exact\", \"exact\", \"exact\", \"excited\", \"excited\", \"excited\", \"exhaust\", \"explain\", \"explain\", \"explain\", \"extent\", \"extent\", \"famine\", \"famine\", \"famine\", \"fellow\", \"fellow\", \"fellow\", \"fired\", \"fired\", \"fired\", \"five\", \"fly\", \"forcing\", \"forcing\", \"forcing\", \"french\", \"french\", \"french\", \"fucking\", \"fund\", \"garcia\", \"gazing\", \"governor\", \"granola\", \"granola\", \"granola\", \"grant\", \"great\", \"guess\", \"guilt\", \"headspace\", \"horrifying\", \"horrifying\", \"hpid\", \"hpid\", \"hpid\", \"hungry\", \"hungry\", \"hungry\", \"ice\", \"imminent\", \"incest\", \"incest\", \"incest\", \"income\", \"intend\", \"intentionally\", \"intentionally\", \"intentionally\", \"isolated\", \"keep\", \"legacy\", \"legacy\", \"legacy\", \"lem\", \"lem\", \"lem\", \"lmaoooo\", \"lmaoooo\", \"lottery\", \"ly\", \"mall\", \"medic\", \"medic\", \"mentally\", \"mentally\", \"mentally\", \"mile\", \"missing\", \"missing\", \"missing\", \"mommy\", \"mommy\", \"mood\", \"mood\", \"mood\", \"muslim\", \"nasty\", \"nasty\", \"nasty\", \"neck\", \"neck\", \"neck\", \"needing\", \"nursing\", \"obligated\", \"obligated\", \"obligated\", \"officially\", \"openly\", \"openly\", \"openly\", \"overcome\", \"paranoid\", \"parole\", \"past\", \"philippine\", \"pig\", \"planet\", \"planet\", \"plenty\", \"poking\", \"posting\", \"prec\", \"probly\", \"profound\", \"promotion\", \"purse\", \"purse\", \"purse\", \"quarantine\", \"quarantine\", \"quarantine\", \"railroad\", \"railroad\", \"railroad\", \"recovered\", \"redact\", \"reindeer\", \"review\", \"review\", \"revision\", \"revive\", \"right\", \"right\", \"right\", \"rope\", \"rope\", \"ruined\", \"satan\", \"satan\", \"satan\", \"scare\", \"scheme\", \"scheme\", \"sex\", \"sex\", \"sex\", \"shave\", \"shelter\", \"shelter\", \"shoot\", \"signed\", \"signed\", \"signed\", \"singing\", \"singing\", \"singing\", \"skipping\", \"skipping\", \"skipping\", \"sleep\", \"sleep\", \"sleep\", \"slitting\", \"smaller\", \"snap\", \"socializing\", \"spoken\", \"spoken\", \"spoken\", \"spontaneous\", \"spontaneous\", \"spontaneous\", \"spotworthless\", \"spotworthless\", \"spotworthless\", \"stay\", \"stay\", \"steam\", \"step\", \"stick\", \"stick\", \"stick\", \"stigma\", \"stopped\", \"stopped\", \"stopped\", \"stretch\", \"stretch\", \"studied\", \"studied\", \"studied\", \"suffer\", \"surfing\", \"survive\", \"survive\", \"tanked\", \"taught\", \"technically\", \"technically\", \"telephone\", \"temperature\", \"temperature\", \"terribly\", \"terrifying\", \"terrifying\", \"terrifying\", \"testament\", \"texas\", \"texas\", \"texas\", \"themselves\", \"thread\", \"thread\", \"thread\", \"til\", \"title\", \"tod\", \"trick\", \"truth\", \"truth\", \"truth\", \"twi\", \"twice\", \"twice\", \"uber\", \"uber\", \"uber\", \"una\", \"una\", \"uncalled\", \"uncle\", \"unemployment\", \"unfaithful\", \"unfaithful\", \"unfaithful\", \"uninevit\", \"uninevit\", \"uninevit\", \"university\", \"university\", \"unstoppable\", \"unstoppable\", \"unstoppable\", \"unwilling\", \"unwilling\", \"urge\", \"urge\", \"urge\", \"useful\", \"useful\", \"usual\", \"usual\", \"vessel\", \"vessel\", \"vessel\", \"waist\", \"work\", \"workalso\", \"workalso\", \"workalso\", \"worth\", \"xx\", \"zombie\", \"zombie\", \"zombie\"]}, \"R\": 30, \"lambda.step\": 0.01, \"plot.opts\": {\"xlab\": \"PC1\", \"ylab\": \"PC2\"}, \"topic.order\": [1, 2, 3]};\n",
       "\n",
       "function LDAvis_load_lib(url, callback){\n",
       "  var s = document.createElement('script');\n",
       "  s.src = url;\n",
       "  s.async = true;\n",
       "  s.onreadystatechange = s.onload = callback;\n",
       "  s.onerror = function(){console.warn(\"failed to load library \" + url);};\n",
       "  document.getElementsByTagName(\"head\")[0].appendChild(s);\n",
       "}\n",
       "\n",
       "if(typeof(LDAvis) !== \"undefined\"){\n",
       "   // already loaded: just create the visualization\n",
       "   !function(LDAvis){\n",
       "       new LDAvis(\"#\" + \"ldavis_el81646812508889374937820\", ldavis_el81646812508889374937820_data);\n",
       "   }(LDAvis);\n",
       "}else if(typeof define === \"function\" && define.amd){\n",
       "   // require.js is available: use it to load d3/LDAvis\n",
       "   require.config({paths: {d3: \"https://cdnjs.cloudflare.com/ajax/libs/d3/3.5.5/d3.min\"}});\n",
       "   require([\"d3\"], function(d3){\n",
       "      window.d3 = d3;\n",
       "      LDAvis_load_lib(\"https://cdn.rawgit.com/bmabey/pyLDAvis/files/ldavis.v1.0.0.js\", function(){\n",
       "        new LDAvis(\"#\" + \"ldavis_el81646812508889374937820\", ldavis_el81646812508889374937820_data);\n",
       "      });\n",
       "    });\n",
       "}else{\n",
       "    // require.js not available: dynamically load d3 & LDAvis\n",
       "    LDAvis_load_lib(\"https://cdnjs.cloudflare.com/ajax/libs/d3/3.5.5/d3.min.js\", function(){\n",
       "         LDAvis_load_lib(\"https://cdn.rawgit.com/bmabey/pyLDAvis/files/ldavis.v1.0.0.js\", function(){\n",
       "                 new LDAvis(\"#\" + \"ldavis_el81646812508889374937820\", ldavis_el81646812508889374937820_data);\n",
       "            })\n",
       "         });\n",
       "}\n",
       "</script>"
      ],
      "text/plain": [
       "<IPython.core.display.HTML object>"
      ]
     },
     "execution_count": 146,
     "metadata": {},
     "output_type": "execute_result"
    }
   ],
   "source": [
    "ldanv_display = pyLDAvis.gensim.prepare(ldanv, corpusnv, dictionary, sort_topics=False)\n",
    "\n",
    "pyLDAvis.save_html(ldanv_display, 'html/vis_ldanv.html')\n",
    "pyLDAvis.display(ldanv_display)"
   ]
  },
  {
   "cell_type": "markdown",
   "metadata": {},
   "source": [
    "# ---------------------------------------------------------------------------------------------------------------------------------------"
   ]
  },
  {
   "cell_type": "markdown",
   "metadata": {},
   "source": [
    "## Inspection of Results"
   ]
  },
  {
   "cell_type": "markdown",
   "metadata": {},
   "source": [
    "| Corpus | Tuning | Number of Topics | Alpha | Beta | Number of Passes | Coherence Score |\n",
    "| :-: | :-: | :-: | :-: | :-: | :-: | :-: |\n",
    "| Full | No | 5 | - | - | 50 | 0.7560|\n",
    "| **Full** | **Yes**| **3** | **symmetric** | **0.01** | **100** | **`0.7910`** |\n",
    "| Nouns | No | 5 | - | - | 50 | 0.7375 |\n",
    "| Nouns | Yes | 3 | 0.31 | 0.01 | 100 | 0.7567 |\n",
    "| Nouns + Adjective | No | 5 | - | - | 50 | 0.7685 |\n",
    "| Nouns + Adjective | Yes | 3 | 0.01 | 0.61\t| 100 | 0.7791 |\n",
    "| Nouns + Verbs | No | 5 | - | - | 50 | 0.7479 |\n",
    "| Nouns + Verbs | Yes | 3 | 0.61 | 0.01 | 100 | 0.7622 |"
   ]
  },
  {
   "cell_type": "markdown",
   "metadata": {},
   "source": [
    "# ---------------------------------------------------------------------------------------------------------------------------------------"
   ]
  },
  {
   "cell_type": "markdown",
   "metadata": {},
   "source": [
    "# Identify Topics in Each Suicidal Notes"
   ]
  },
  {
   "cell_type": "code",
   "execution_count": 151,
   "metadata": {},
   "outputs": [
    {
     "data": {
      "text/plain": [
       "[(0,\n",
       "  '0.026*\"magic\" + 0.019*\"rob\" + 0.013*\"base\" + 0.012*\"seekers\" + 0.011*\"fading\" + 0.011*\"blacklist\" + 0.009*\"aide\" + 0.008*\"theyre\" + 0.008*\"cite\" + 0.008*\"rot\"'),\n",
       " (1,\n",
       "  '0.015*\"magic\" + 0.013*\"gifted\" + 0.012*\"rob\" + 0.011*\"theyre\" + 0.011*\"monitor\" + 0.010*\"base\" + 0.009*\"fading\" + 0.008*\"incarnate\" + 0.007*\"fiend\" + 0.007*\"insist\"'),\n",
       " (2,\n",
       "  '0.024*\"blacklist\" + 0.021*\"base\" + 0.019*\"magic\" + 0.018*\"rob\" + 0.017*\"seekers\" + 0.016*\"aide\" + 0.012*\"barking\" + 0.011*\"fiend\" + 0.011*\"everlasting\" + 0.009*\"chase\"')]"
      ]
     },
     "execution_count": 151,
     "metadata": {},
     "output_type": "execute_result"
    }
   ],
   "source": [
    "# Choose the best and make sense model\n",
    "\n",
    "Lda_model = models.ldamodel.LdaModel.load('models/lda.gensim')\n",
    "Lda_model.show_topics()"
   ]
  },
  {
   "cell_type": "code",
   "execution_count": 153,
   "metadata": {},
   "outputs": [
    {
     "data": {
      "text/html": [
       "<div>\n",
       "<style scoped>\n",
       "    .dataframe tbody tr th:only-of-type {\n",
       "        vertical-align: middle;\n",
       "    }\n",
       "\n",
       "    .dataframe tbody tr th {\n",
       "        vertical-align: top;\n",
       "    }\n",
       "\n",
       "    .dataframe thead th {\n",
       "        text-align: right;\n",
       "    }\n",
       "</style>\n",
       "<table border=\"1\" class=\"dataframe\">\n",
       "  <thead>\n",
       "    <tr style=\"text-align: right;\">\n",
       "      <th></th>\n",
       "      <th>text</th>\n",
       "      <th>topic</th>\n",
       "    </tr>\n",
       "  </thead>\n",
       "  <tbody>\n",
       "    <tr>\n",
       "      <td>0</td>\n",
       "      <td>[fucking, hate, holiday, season, first, thanks...</td>\n",
       "      <td>2</td>\n",
       "    </tr>\n",
       "    <tr>\n",
       "      <td>1</td>\n",
       "      <td>[dm, add, discord, want, help, talk, cofactor]</td>\n",
       "      <td>0</td>\n",
       "    </tr>\n",
       "    <tr>\n",
       "      <td>2</td>\n",
       "      <td>[nearly, always, battled, depression, got, old...</td>\n",
       "      <td>0</td>\n",
       "    </tr>\n",
       "    <tr>\n",
       "      <td>3</td>\n",
       "      <td>[future, nothing, impenetrable, fog, look, bac...</td>\n",
       "      <td>0</td>\n",
       "    </tr>\n",
       "    <tr>\n",
       "      <td>4</td>\n",
       "      <td>[always, fighting, sister, always, lash, mom, ...</td>\n",
       "      <td>0</td>\n",
       "    </tr>\n",
       "    <tr>\n",
       "      <td>...</td>\n",
       "      <td>...</td>\n",
       "      <td>...</td>\n",
       "    </tr>\n",
       "    <tr>\n",
       "      <td>1293</td>\n",
       "      <td>[since, felt, depressed, almost, took, life, w...</td>\n",
       "      <td>0</td>\n",
       "    </tr>\n",
       "    <tr>\n",
       "      <td>1294</td>\n",
       "      <td>[nt, know, reaching, time, seem, appropriate, ...</td>\n",
       "      <td>0</td>\n",
       "    </tr>\n",
       "    <tr>\n",
       "      <td>1295</td>\n",
       "      <td>[dont, believe, afterlife, stay, night, fear, ...</td>\n",
       "      <td>2</td>\n",
       "    </tr>\n",
       "    <tr>\n",
       "      <td>1296</td>\n",
       "      <td>[nt, think, actually, kill, thats, scared, nt,...</td>\n",
       "      <td>0</td>\n",
       "    </tr>\n",
       "    <tr>\n",
       "      <td>1297</td>\n",
       "      <td>[wan, na, die, badly, everytim, hear, someone,...</td>\n",
       "      <td>2</td>\n",
       "    </tr>\n",
       "  </tbody>\n",
       "</table>\n",
       "<p>1283 rows × 2 columns</p>\n",
       "</div>"
      ],
      "text/plain": [
       "                                                   text  topic\n",
       "0     [fucking, hate, holiday, season, first, thanks...      2\n",
       "1        [dm, add, discord, want, help, talk, cofactor]      0\n",
       "2     [nearly, always, battled, depression, got, old...      0\n",
       "3     [future, nothing, impenetrable, fog, look, bac...      0\n",
       "4     [always, fighting, sister, always, lash, mom, ...      0\n",
       "...                                                 ...    ...\n",
       "1293  [since, felt, depressed, almost, took, life, w...      0\n",
       "1294  [nt, know, reaching, time, seem, appropriate, ...      0\n",
       "1295  [dont, believe, afterlife, stay, night, fear, ...      2\n",
       "1296  [nt, think, actually, kill, thats, scared, nt,...      0\n",
       "1297  [wan, na, die, badly, everytim, hear, someone,...      2\n",
       "\n",
       "[1283 rows x 2 columns]"
      ]
     },
     "execution_count": 153,
     "metadata": {},
     "output_type": "execute_result"
    }
   ],
   "source": [
    "# Let's take a look at which topics each transcript contains\n",
    "corpus_transformed = Lda_model[corpus]\n",
    "post_lists = data_dtmn.index\n",
    "# zipped = zip([a for [(a,b)] in corpus_transformed])\n",
    "# list(zip([a for [(a,b)] in corpus_transformed], term_lists))\n",
    "topics = []\n",
    "for ele in corpus_transformed:\n",
    "    topic = max(ele, key = lambda x:x[1])[0]\n",
    "    topics.append(topic)\n",
    "# print(topics)\n",
    "topic_df = pd.DataFrame({'text':df, 'topic': topics})\n",
    "topic_df\n"
   ]
  },
  {
   "cell_type": "code",
   "execution_count": 154,
   "metadata": {},
   "outputs": [
    {
     "data": {
      "text/plain": [
       "2    0.495713\n",
       "0    0.415433\n",
       "1    0.088854\n",
       "Name: topic, dtype: float64"
      ]
     },
     "execution_count": 154,
     "metadata": {},
     "output_type": "execute_result"
    }
   ],
   "source": [
    "# percentage of the topic\n",
    "topic_counts =topic_df['topic'].value_counts(normalize=True)\n",
    "topic_counts"
   ]
  },
  {
   "cell_type": "code",
   "execution_count": 178,
   "metadata": {},
   "outputs": [
    {
     "data": {
      "image/png": "[encoded data removed]",
      "text/plain": [
       "<Figure size 504x504 with 1 Axes>"
      ]
     },
     "metadata": {},
     "output_type": "display_data"
    }
   ],
   "source": [
    "# piechart\n",
    "title = 'Suicidal Posts by Topics'\n",
    "colors = (\"deeppink\",\"turquoise\",\"dodgerblue\",\"gold\",\"mediumaquamarine\")\n",
    "plt.pie(topic_counts, labels = topic_counts.index, autopct='%1.0f%%',colors=colors) #,textprops = dict(color =\"grey\"))\n",
    "fig = plt.gcf()\n",
    "plt.title(title)\n",
    "fig.set_size_inches(7,7)"
   ]
  },
  {
   "cell_type": "markdown",
   "metadata": {},
   "source": [
    "# Insight : Emotions in Topics"
   ]
  },
  {
   "cell_type": "code",
   "execution_count": 158,
   "metadata": {},
   "outputs": [],
   "source": [
    "# save file\n",
    "topic_post = pd.DataFrame(topic_df[['text','topic']])\n",
    "topic_post.to_pickle('pickles/topic.pkl')"
   ]
  },
  {
   "cell_type": "code",
   "execution_count": 159,
   "metadata": {},
   "outputs": [],
   "source": [
    "# Read file\n",
    "# emotion by counts\n",
    "emotion = pd.read_pickle('pickles/emotion.pkl')\n",
    "\n",
    "# emotions by scores\n",
    "emotion_score = pd.read_pickle('pickles/emotion_score.pkl')\n",
    "\n",
    "# topic file\n",
    "topic = pd.read_pickle('pickles/topic.pkl')"
   ]
  },
  {
   "cell_type": "markdown",
   "metadata": {},
   "source": [
    "## Emotions by domain"
   ]
  },
  {
   "cell_type": "code",
   "execution_count": 160,
   "metadata": {},
   "outputs": [
    {
     "data": {
      "text/html": [
       "<div>\n",
       "<style scoped>\n",
       "    .dataframe tbody tr th:only-of-type {\n",
       "        vertical-align: middle;\n",
       "    }\n",
       "\n",
       "    .dataframe tbody tr th {\n",
       "        vertical-align: top;\n",
       "    }\n",
       "\n",
       "    .dataframe thead th {\n",
       "        text-align: right;\n",
       "    }\n",
       "</style>\n",
       "<table border=\"1\" class=\"dataframe\">\n",
       "  <thead>\n",
       "    <tr style=\"text-align: right;\">\n",
       "      <th></th>\n",
       "      <th>Text</th>\n",
       "      <th>Topic</th>\n",
       "      <th>Emotion</th>\n",
       "    </tr>\n",
       "  </thead>\n",
       "  <tbody>\n",
       "    <tr>\n",
       "      <td>0</td>\n",
       "      <td>[fucking, hate, holiday, season, first, thanks...</td>\n",
       "      <td>2</td>\n",
       "      <td>Sadness</td>\n",
       "    </tr>\n",
       "    <tr>\n",
       "      <td>1</td>\n",
       "      <td>[dm, add, discord, want, help, talk, cofactor]</td>\n",
       "      <td>0</td>\n",
       "      <td>Anger</td>\n",
       "    </tr>\n",
       "    <tr>\n",
       "      <td>2</td>\n",
       "      <td>[nearly, always, battled, depression, got, old...</td>\n",
       "      <td>0</td>\n",
       "      <td>Fear</td>\n",
       "    </tr>\n",
       "    <tr>\n",
       "      <td>3</td>\n",
       "      <td>[future, nothing, impenetrable, fog, look, bac...</td>\n",
       "      <td>0</td>\n",
       "      <td>Sadness</td>\n",
       "    </tr>\n",
       "    <tr>\n",
       "      <td>4</td>\n",
       "      <td>[always, fighting, sister, always, lash, mom, ...</td>\n",
       "      <td>0</td>\n",
       "      <td>Anger</td>\n",
       "    </tr>\n",
       "    <tr>\n",
       "      <td>...</td>\n",
       "      <td>...</td>\n",
       "      <td>...</td>\n",
       "      <td>...</td>\n",
       "    </tr>\n",
       "    <tr>\n",
       "      <td>1293</td>\n",
       "      <td>[since, felt, depressed, almost, took, life, w...</td>\n",
       "      <td>0</td>\n",
       "      <td>Anger</td>\n",
       "    </tr>\n",
       "    <tr>\n",
       "      <td>1294</td>\n",
       "      <td>[nt, know, reaching, time, seem, appropriate, ...</td>\n",
       "      <td>0</td>\n",
       "      <td>Fear</td>\n",
       "    </tr>\n",
       "    <tr>\n",
       "      <td>1295</td>\n",
       "      <td>[dont, believe, afterlife, stay, night, fear, ...</td>\n",
       "      <td>2</td>\n",
       "      <td>Fear</td>\n",
       "    </tr>\n",
       "    <tr>\n",
       "      <td>1296</td>\n",
       "      <td>[nt, think, actually, kill, thats, scared, nt,...</td>\n",
       "      <td>0</td>\n",
       "      <td>Fear</td>\n",
       "    </tr>\n",
       "    <tr>\n",
       "      <td>1297</td>\n",
       "      <td>[wan, na, die, badly, everytim, hear, someone,...</td>\n",
       "      <td>2</td>\n",
       "      <td>Sadness</td>\n",
       "    </tr>\n",
       "  </tbody>\n",
       "</table>\n",
       "<p>1283 rows × 3 columns</p>\n",
       "</div>"
      ],
      "text/plain": [
       "                                                   Text  Topic  Emotion\n",
       "0     [fucking, hate, holiday, season, first, thanks...      2  Sadness\n",
       "1        [dm, add, discord, want, help, talk, cofactor]      0    Anger\n",
       "2     [nearly, always, battled, depression, got, old...      0     Fear\n",
       "3     [future, nothing, impenetrable, fog, look, bac...      0  Sadness\n",
       "4     [always, fighting, sister, always, lash, mom, ...      0    Anger\n",
       "...                                                 ...    ...      ...\n",
       "1293  [since, felt, depressed, almost, took, life, w...      0    Anger\n",
       "1294  [nt, know, reaching, time, seem, appropriate, ...      0     Fear\n",
       "1295  [dont, believe, afterlife, stay, night, fear, ...      2     Fear\n",
       "1296  [nt, think, actually, kill, thats, scared, nt,...      0     Fear\n",
       "1297  [wan, na, die, badly, everytim, hear, someone,...      2  Sadness\n",
       "\n",
       "[1283 rows x 3 columns]"
      ]
     },
     "execution_count": 160,
     "metadata": {},
     "output_type": "execute_result"
    }
   ],
   "source": [
    "topic_emo = pd.concat([topic,emotion],axis=1)\n",
    "topic_emo.rename(columns={\"text\":\"Text\",\"topic\":\"Topic\",\"domain_emotion_by_count\": \"Emotion\"}, inplace=True)\n",
    "topic_emo"
   ]
  },
  {
   "cell_type": "code",
   "execution_count": 161,
   "metadata": {},
   "outputs": [
    {
     "data": {
      "text/html": [
       "<div>\n",
       "<style scoped>\n",
       "    .dataframe tbody tr th:only-of-type {\n",
       "        vertical-align: middle;\n",
       "    }\n",
       "\n",
       "    .dataframe tbody tr th {\n",
       "        vertical-align: top;\n",
       "    }\n",
       "\n",
       "    .dataframe thead th {\n",
       "        text-align: right;\n",
       "    }\n",
       "</style>\n",
       "<table border=\"1\" class=\"dataframe\">\n",
       "  <thead>\n",
       "    <tr style=\"text-align: right;\">\n",
       "      <th>Emotion</th>\n",
       "      <th>Anger</th>\n",
       "      <th>Disgust</th>\n",
       "      <th>Fear</th>\n",
       "      <th>Sadness</th>\n",
       "      <th>Surprise</th>\n",
       "    </tr>\n",
       "    <tr>\n",
       "      <th>Topic</th>\n",
       "      <th></th>\n",
       "      <th></th>\n",
       "      <th></th>\n",
       "      <th></th>\n",
       "      <th></th>\n",
       "    </tr>\n",
       "  </thead>\n",
       "  <tbody>\n",
       "    <tr>\n",
       "      <td>0</td>\n",
       "      <td>78</td>\n",
       "      <td>13</td>\n",
       "      <td>173</td>\n",
       "      <td>232</td>\n",
       "      <td>37</td>\n",
       "    </tr>\n",
       "    <tr>\n",
       "      <td>1</td>\n",
       "      <td>30</td>\n",
       "      <td>2</td>\n",
       "      <td>29</td>\n",
       "      <td>48</td>\n",
       "      <td>5</td>\n",
       "    </tr>\n",
       "    <tr>\n",
       "      <td>2</td>\n",
       "      <td>113</td>\n",
       "      <td>20</td>\n",
       "      <td>184</td>\n",
       "      <td>279</td>\n",
       "      <td>40</td>\n",
       "    </tr>\n",
       "  </tbody>\n",
       "</table>\n",
       "</div>"
      ],
      "text/plain": [
       "Emotion  Anger  Disgust  Fear  Sadness  Surprise\n",
       "Topic                                           \n",
       "0           78       13   173      232        37\n",
       "1           30        2    29       48         5\n",
       "2          113       20   184      279        40"
      ]
     },
     "execution_count": 161,
     "metadata": {},
     "output_type": "execute_result"
    }
   ],
   "source": [
    "topic_emo = topic_emo[['Topic','Emotion']]\n",
    "summary = topic_emo.groupby(['Topic','Emotion']).size().unstack()\n",
    "summary"
   ]
  },
  {
   "cell_type": "code",
   "execution_count": 162,
   "metadata": {},
   "outputs": [
    {
     "data": {
      "text/html": [
       "<div>\n",
       "<style scoped>\n",
       "    .dataframe tbody tr th:only-of-type {\n",
       "        vertical-align: middle;\n",
       "    }\n",
       "\n",
       "    .dataframe tbody tr th {\n",
       "        vertical-align: top;\n",
       "    }\n",
       "\n",
       "    .dataframe thead th {\n",
       "        text-align: right;\n",
       "    }\n",
       "</style>\n",
       "<table border=\"1\" class=\"dataframe\">\n",
       "  <thead>\n",
       "    <tr style=\"text-align: right;\">\n",
       "      <th>Emotion</th>\n",
       "      <th>Anger</th>\n",
       "      <th>Disgust</th>\n",
       "      <th>Fear</th>\n",
       "      <th>Sadness</th>\n",
       "      <th>Surprise</th>\n",
       "    </tr>\n",
       "    <tr>\n",
       "      <th>Topic</th>\n",
       "      <th></th>\n",
       "      <th></th>\n",
       "      <th></th>\n",
       "      <th></th>\n",
       "      <th></th>\n",
       "    </tr>\n",
       "  </thead>\n",
       "  <tbody>\n",
       "    <tr>\n",
       "      <td>0</td>\n",
       "      <td>0.146341</td>\n",
       "      <td>0.024390</td>\n",
       "      <td>0.324578</td>\n",
       "      <td>0.435272</td>\n",
       "      <td>0.069418</td>\n",
       "    </tr>\n",
       "    <tr>\n",
       "      <td>1</td>\n",
       "      <td>0.263158</td>\n",
       "      <td>0.017544</td>\n",
       "      <td>0.254386</td>\n",
       "      <td>0.421053</td>\n",
       "      <td>0.043860</td>\n",
       "    </tr>\n",
       "    <tr>\n",
       "      <td>2</td>\n",
       "      <td>0.177673</td>\n",
       "      <td>0.031447</td>\n",
       "      <td>0.289308</td>\n",
       "      <td>0.438679</td>\n",
       "      <td>0.062893</td>\n",
       "    </tr>\n",
       "  </tbody>\n",
       "</table>\n",
       "</div>"
      ],
      "text/plain": [
       "Emotion     Anger   Disgust      Fear   Sadness  Surprise\n",
       "Topic                                                    \n",
       "0        0.146341  0.024390  0.324578  0.435272  0.069418\n",
       "1        0.263158  0.017544  0.254386  0.421053  0.043860\n",
       "2        0.177673  0.031447  0.289308  0.438679  0.062893"
      ]
     },
     "execution_count": 162,
     "metadata": {},
     "output_type": "execute_result"
    }
   ],
   "source": [
    "summary1 = topic_emo.groupby('Topic')['Emotion'].value_counts(normalize=True).unstack()\n",
    "summary1\n"
   ]
  },
  {
   "cell_type": "code",
   "execution_count": 163,
   "metadata": {},
   "outputs": [
    {
     "data": {
      "text/html": [
       "<div>\n",
       "<style scoped>\n",
       "    .dataframe tbody tr th:only-of-type {\n",
       "        vertical-align: middle;\n",
       "    }\n",
       "\n",
       "    .dataframe tbody tr th {\n",
       "        vertical-align: top;\n",
       "    }\n",
       "\n",
       "    .dataframe thead th {\n",
       "        text-align: right;\n",
       "    }\n",
       "</style>\n",
       "<table border=\"1\" class=\"dataframe\">\n",
       "  <thead>\n",
       "    <tr style=\"text-align: right;\">\n",
       "      <th>Emotion</th>\n",
       "      <th>Sadness</th>\n",
       "      <th>Fear</th>\n",
       "      <th>Anger</th>\n",
       "      <th>Surprise</th>\n",
       "      <th>Disgust</th>\n",
       "    </tr>\n",
       "    <tr>\n",
       "      <th>Topic</th>\n",
       "      <th></th>\n",
       "      <th></th>\n",
       "      <th></th>\n",
       "      <th></th>\n",
       "      <th></th>\n",
       "    </tr>\n",
       "  </thead>\n",
       "  <tbody>\n",
       "    <tr>\n",
       "      <td>0</td>\n",
       "      <td>0.435272</td>\n",
       "      <td>0.324578</td>\n",
       "      <td>0.146341</td>\n",
       "      <td>0.069418</td>\n",
       "      <td>0.024390</td>\n",
       "    </tr>\n",
       "    <tr>\n",
       "      <td>1</td>\n",
       "      <td>0.421053</td>\n",
       "      <td>0.254386</td>\n",
       "      <td>0.263158</td>\n",
       "      <td>0.043860</td>\n",
       "      <td>0.017544</td>\n",
       "    </tr>\n",
       "    <tr>\n",
       "      <td>2</td>\n",
       "      <td>0.438679</td>\n",
       "      <td>0.289308</td>\n",
       "      <td>0.177673</td>\n",
       "      <td>0.062893</td>\n",
       "      <td>0.031447</td>\n",
       "    </tr>\n",
       "  </tbody>\n",
       "</table>\n",
       "</div>"
      ],
      "text/plain": [
       "Emotion   Sadness      Fear     Anger  Surprise   Disgust\n",
       "Topic                                                    \n",
       "0        0.435272  0.324578  0.146341  0.069418  0.024390\n",
       "1        0.421053  0.254386  0.263158  0.043860  0.017544\n",
       "2        0.438679  0.289308  0.177673  0.062893  0.031447"
      ]
     },
     "execution_count": 163,
     "metadata": {},
     "output_type": "execute_result"
    }
   ],
   "source": [
    "summary1 = summary1[['Sadness',\"Fear\",\"Anger\",\"Surprise\",\"Disgust\"]]\n",
    "summary1"
   ]
  },
  {
   "cell_type": "code",
   "execution_count": 164,
   "metadata": {},
   "outputs": [
    {
     "data": {
      "text/plain": [
       "Text(0, 0.5, 'Percentage (%)')"
      ]
     },
     "execution_count": 164,
     "metadata": {},
     "output_type": "execute_result"
    },
    {
     "data": {
      "image/png": "[encoded data removed]",
      "text/plain": [
       "<Figure size 720x360 with 1 Axes>"
      ]
     },
     "metadata": {
      "needs_background": "light"
     },
     "output_type": "display_data"
    }
   ],
   "source": [
    "#stack barplot\n",
    "colors = (\"powderblue\",\"thistle\",\"lightcoral\",\"khaki\",\"mediumaquamarine\")\n",
    "\n",
    "ax = summary1.apply(lambda x: x*100/sum(x), axis=1).plot(kind=\"bar\", stacked=True, figsize=(10,5), width=0.8, color=colors)\n",
    "\n",
    "for p in ax.patches:\n",
    "    width, height = p.get_width(), p.get_height()\n",
    "    x, y = p.get_xy() \n",
    "    ax.text(x+width/2, \n",
    "            y+height/2, \n",
    "            '{:.0f} %'.format(height), \n",
    "            horizontalalignment='left', \n",
    "            verticalalignment='center')\n",
    "    \n",
    "plt.title(\"Emotions in Topics\")\n",
    "plt.xlabel(\"Topic\")\n",
    "plt.ylabel(\"Percentage (%)\")"
   ]
  },
  {
   "cell_type": "markdown",
   "metadata": {},
   "source": [
    "## Emotions by Score"
   ]
  },
  {
   "cell_type": "code",
   "execution_count": 165,
   "metadata": {},
   "outputs": [
    {
     "data": {
      "text/html": [
       "<div>\n",
       "<style scoped>\n",
       "    .dataframe tbody tr th:only-of-type {\n",
       "        vertical-align: middle;\n",
       "    }\n",
       "\n",
       "    .dataframe tbody tr th {\n",
       "        vertical-align: top;\n",
       "    }\n",
       "\n",
       "    .dataframe thead th {\n",
       "        text-align: right;\n",
       "    }\n",
       "</style>\n",
       "<table border=\"1\" class=\"dataframe\">\n",
       "  <thead>\n",
       "    <tr style=\"text-align: right;\">\n",
       "      <th></th>\n",
       "      <th>Text</th>\n",
       "      <th>Topic</th>\n",
       "      <th>Emotion</th>\n",
       "    </tr>\n",
       "  </thead>\n",
       "  <tbody>\n",
       "    <tr>\n",
       "      <td>0</td>\n",
       "      <td>[fucking, hate, holiday, season, first, thanks...</td>\n",
       "      <td>2</td>\n",
       "      <td>Sadness</td>\n",
       "    </tr>\n",
       "    <tr>\n",
       "      <td>1</td>\n",
       "      <td>[dm, add, discord, want, help, talk, cofactor]</td>\n",
       "      <td>0</td>\n",
       "      <td>Anger</td>\n",
       "    </tr>\n",
       "    <tr>\n",
       "      <td>2</td>\n",
       "      <td>[nearly, always, battled, depression, got, old...</td>\n",
       "      <td>0</td>\n",
       "      <td>Fear</td>\n",
       "    </tr>\n",
       "    <tr>\n",
       "      <td>3</td>\n",
       "      <td>[future, nothing, impenetrable, fog, look, bac...</td>\n",
       "      <td>0</td>\n",
       "      <td>Sadness</td>\n",
       "    </tr>\n",
       "    <tr>\n",
       "      <td>4</td>\n",
       "      <td>[always, fighting, sister, always, lash, mom, ...</td>\n",
       "      <td>0</td>\n",
       "      <td>Anger</td>\n",
       "    </tr>\n",
       "    <tr>\n",
       "      <td>...</td>\n",
       "      <td>...</td>\n",
       "      <td>...</td>\n",
       "      <td>...</td>\n",
       "    </tr>\n",
       "    <tr>\n",
       "      <td>1293</td>\n",
       "      <td>[since, felt, depressed, almost, took, life, w...</td>\n",
       "      <td>0</td>\n",
       "      <td>Sadness</td>\n",
       "    </tr>\n",
       "    <tr>\n",
       "      <td>1294</td>\n",
       "      <td>[nt, know, reaching, time, seem, appropriate, ...</td>\n",
       "      <td>0</td>\n",
       "      <td>Fear</td>\n",
       "    </tr>\n",
       "    <tr>\n",
       "      <td>1295</td>\n",
       "      <td>[dont, believe, afterlife, stay, night, fear, ...</td>\n",
       "      <td>2</td>\n",
       "      <td>Fear</td>\n",
       "    </tr>\n",
       "    <tr>\n",
       "      <td>1296</td>\n",
       "      <td>[nt, think, actually, kill, thats, scared, nt,...</td>\n",
       "      <td>0</td>\n",
       "      <td>Fear</td>\n",
       "    </tr>\n",
       "    <tr>\n",
       "      <td>1297</td>\n",
       "      <td>[wan, na, die, badly, everytim, hear, someone,...</td>\n",
       "      <td>2</td>\n",
       "      <td>Sadness</td>\n",
       "    </tr>\n",
       "  </tbody>\n",
       "</table>\n",
       "<p>1283 rows × 3 columns</p>\n",
       "</div>"
      ],
      "text/plain": [
       "                                                   Text  Topic  Emotion\n",
       "0     [fucking, hate, holiday, season, first, thanks...      2  Sadness\n",
       "1        [dm, add, discord, want, help, talk, cofactor]      0    Anger\n",
       "2     [nearly, always, battled, depression, got, old...      0     Fear\n",
       "3     [future, nothing, impenetrable, fog, look, bac...      0  Sadness\n",
       "4     [always, fighting, sister, always, lash, mom, ...      0    Anger\n",
       "...                                                 ...    ...      ...\n",
       "1293  [since, felt, depressed, almost, took, life, w...      0  Sadness\n",
       "1294  [nt, know, reaching, time, seem, appropriate, ...      0     Fear\n",
       "1295  [dont, believe, afterlife, stay, night, fear, ...      2     Fear\n",
       "1296  [nt, think, actually, kill, thats, scared, nt,...      0     Fear\n",
       "1297  [wan, na, die, badly, everytim, hear, someone,...      2  Sadness\n",
       "\n",
       "[1283 rows x 3 columns]"
      ]
     },
     "execution_count": 165,
     "metadata": {},
     "output_type": "execute_result"
    }
   ],
   "source": [
    "topic_emo_score = pd.concat([topic,emotion_score],axis=1)\n",
    "topic_emo_score.rename(columns={\"text\":\"Text\",\"topic\":\"Topic\",\"domain_emotion_by_score\": \"Emotion\"}, inplace=True)\n",
    "topic_emo_score"
   ]
  },
  {
   "cell_type": "code",
   "execution_count": 166,
   "metadata": {},
   "outputs": [
    {
     "data": {
      "text/html": [
       "<div>\n",
       "<style scoped>\n",
       "    .dataframe tbody tr th:only-of-type {\n",
       "        vertical-align: middle;\n",
       "    }\n",
       "\n",
       "    .dataframe tbody tr th {\n",
       "        vertical-align: top;\n",
       "    }\n",
       "\n",
       "    .dataframe thead th {\n",
       "        text-align: right;\n",
       "    }\n",
       "</style>\n",
       "<table border=\"1\" class=\"dataframe\">\n",
       "  <thead>\n",
       "    <tr style=\"text-align: right;\">\n",
       "      <th>Emotion</th>\n",
       "      <th>Anger</th>\n",
       "      <th>Disgust</th>\n",
       "      <th>Fear</th>\n",
       "      <th>Sadness</th>\n",
       "      <th>Surprise</th>\n",
       "    </tr>\n",
       "    <tr>\n",
       "      <th>Topic</th>\n",
       "      <th></th>\n",
       "      <th></th>\n",
       "      <th></th>\n",
       "      <th></th>\n",
       "      <th></th>\n",
       "    </tr>\n",
       "  </thead>\n",
       "  <tbody>\n",
       "    <tr>\n",
       "      <td>0</td>\n",
       "      <td>78</td>\n",
       "      <td>13</td>\n",
       "      <td>173</td>\n",
       "      <td>232</td>\n",
       "      <td>37</td>\n",
       "    </tr>\n",
       "    <tr>\n",
       "      <td>1</td>\n",
       "      <td>30</td>\n",
       "      <td>2</td>\n",
       "      <td>29</td>\n",
       "      <td>48</td>\n",
       "      <td>5</td>\n",
       "    </tr>\n",
       "    <tr>\n",
       "      <td>2</td>\n",
       "      <td>113</td>\n",
       "      <td>20</td>\n",
       "      <td>184</td>\n",
       "      <td>279</td>\n",
       "      <td>40</td>\n",
       "    </tr>\n",
       "  </tbody>\n",
       "</table>\n",
       "</div>"
      ],
      "text/plain": [
       "Emotion  Anger  Disgust  Fear  Sadness  Surprise\n",
       "Topic                                           \n",
       "0           78       13   173      232        37\n",
       "1           30        2    29       48         5\n",
       "2          113       20   184      279        40"
      ]
     },
     "execution_count": 166,
     "metadata": {},
     "output_type": "execute_result"
    }
   ],
   "source": [
    "topic_emo_score = topic_emo_score[['Topic','Emotion']]\n",
    "summary2 = topic_emo.groupby(['Topic','Emotion']).size().unstack()\n",
    "summary2"
   ]
  },
  {
   "cell_type": "code",
   "execution_count": 167,
   "metadata": {},
   "outputs": [
    {
     "data": {
      "text/html": [
       "<div>\n",
       "<style scoped>\n",
       "    .dataframe tbody tr th:only-of-type {\n",
       "        vertical-align: middle;\n",
       "    }\n",
       "\n",
       "    .dataframe tbody tr th {\n",
       "        vertical-align: top;\n",
       "    }\n",
       "\n",
       "    .dataframe thead th {\n",
       "        text-align: right;\n",
       "    }\n",
       "</style>\n",
       "<table border=\"1\" class=\"dataframe\">\n",
       "  <thead>\n",
       "    <tr style=\"text-align: right;\">\n",
       "      <th>Emotion</th>\n",
       "      <th>Anger</th>\n",
       "      <th>Disgust</th>\n",
       "      <th>Fear</th>\n",
       "      <th>Sadness</th>\n",
       "      <th>Surprise</th>\n",
       "    </tr>\n",
       "    <tr>\n",
       "      <th>Topic</th>\n",
       "      <th></th>\n",
       "      <th></th>\n",
       "      <th></th>\n",
       "      <th></th>\n",
       "      <th></th>\n",
       "    </tr>\n",
       "  </thead>\n",
       "  <tbody>\n",
       "    <tr>\n",
       "      <td>0</td>\n",
       "      <td>0.106942</td>\n",
       "      <td>0.018762</td>\n",
       "      <td>0.397749</td>\n",
       "      <td>0.446529</td>\n",
       "      <td>0.030019</td>\n",
       "    </tr>\n",
       "    <tr>\n",
       "      <td>1</td>\n",
       "      <td>0.245614</td>\n",
       "      <td>0.043860</td>\n",
       "      <td>0.245614</td>\n",
       "      <td>0.429825</td>\n",
       "      <td>0.035088</td>\n",
       "    </tr>\n",
       "    <tr>\n",
       "      <td>2</td>\n",
       "      <td>0.116352</td>\n",
       "      <td>0.036164</td>\n",
       "      <td>0.323899</td>\n",
       "      <td>0.487421</td>\n",
       "      <td>0.036164</td>\n",
       "    </tr>\n",
       "  </tbody>\n",
       "</table>\n",
       "</div>"
      ],
      "text/plain": [
       "Emotion     Anger   Disgust      Fear   Sadness  Surprise\n",
       "Topic                                                    \n",
       "0        0.106942  0.018762  0.397749  0.446529  0.030019\n",
       "1        0.245614  0.043860  0.245614  0.429825  0.035088\n",
       "2        0.116352  0.036164  0.323899  0.487421  0.036164"
      ]
     },
     "execution_count": 167,
     "metadata": {},
     "output_type": "execute_result"
    }
   ],
   "source": [
    "summary3 = topic_emo_score.groupby('Topic')['Emotion'].value_counts(normalize=True).unstack()\n",
    "summary3\n"
   ]
  },
  {
   "cell_type": "code",
   "execution_count": 168,
   "metadata": {},
   "outputs": [
    {
     "data": {
      "text/html": [
       "<div>\n",
       "<style scoped>\n",
       "    .dataframe tbody tr th:only-of-type {\n",
       "        vertical-align: middle;\n",
       "    }\n",
       "\n",
       "    .dataframe tbody tr th {\n",
       "        vertical-align: top;\n",
       "    }\n",
       "\n",
       "    .dataframe thead th {\n",
       "        text-align: right;\n",
       "    }\n",
       "</style>\n",
       "<table border=\"1\" class=\"dataframe\">\n",
       "  <thead>\n",
       "    <tr style=\"text-align: right;\">\n",
       "      <th>Emotion</th>\n",
       "      <th>Sadness</th>\n",
       "      <th>Fear</th>\n",
       "      <th>Anger</th>\n",
       "      <th>Surprise</th>\n",
       "      <th>Disgust</th>\n",
       "    </tr>\n",
       "    <tr>\n",
       "      <th>Topic</th>\n",
       "      <th></th>\n",
       "      <th></th>\n",
       "      <th></th>\n",
       "      <th></th>\n",
       "      <th></th>\n",
       "    </tr>\n",
       "  </thead>\n",
       "  <tbody>\n",
       "    <tr>\n",
       "      <td>0</td>\n",
       "      <td>0.446529</td>\n",
       "      <td>0.397749</td>\n",
       "      <td>0.106942</td>\n",
       "      <td>0.030019</td>\n",
       "      <td>0.018762</td>\n",
       "    </tr>\n",
       "    <tr>\n",
       "      <td>1</td>\n",
       "      <td>0.429825</td>\n",
       "      <td>0.245614</td>\n",
       "      <td>0.245614</td>\n",
       "      <td>0.035088</td>\n",
       "      <td>0.043860</td>\n",
       "    </tr>\n",
       "    <tr>\n",
       "      <td>2</td>\n",
       "      <td>0.487421</td>\n",
       "      <td>0.323899</td>\n",
       "      <td>0.116352</td>\n",
       "      <td>0.036164</td>\n",
       "      <td>0.036164</td>\n",
       "    </tr>\n",
       "  </tbody>\n",
       "</table>\n",
       "</div>"
      ],
      "text/plain": [
       "Emotion   Sadness      Fear     Anger  Surprise   Disgust\n",
       "Topic                                                    \n",
       "0        0.446529  0.397749  0.106942  0.030019  0.018762\n",
       "1        0.429825  0.245614  0.245614  0.035088  0.043860\n",
       "2        0.487421  0.323899  0.116352  0.036164  0.036164"
      ]
     },
     "execution_count": 168,
     "metadata": {},
     "output_type": "execute_result"
    }
   ],
   "source": [
    "summary3 = summary3[['Sadness',\"Fear\",\"Anger\",\"Surprise\",\"Disgust\"]]\n",
    "summary3"
   ]
  },
  {
   "cell_type": "code",
   "execution_count": 169,
   "metadata": {},
   "outputs": [
    {
     "data": {
      "text/plain": [
       "Text(0, 0.5, 'Percentage (%)')"
      ]
     },
     "execution_count": 169,
     "metadata": {},
     "output_type": "execute_result"
    },
    {
     "data": {
      "image/png": "[encoded data removed]",
      "text/plain": [
       "<Figure size 720x360 with 1 Axes>"
      ]
     },
     "metadata": {
      "needs_background": "light"
     },
     "output_type": "display_data"
    }
   ],
   "source": [
    "#stack barplot\n",
    "colors = (\"powderblue\",\"thistle\",\"lightcoral\",\"khaki\",\"mediumaquamarine\")\n",
    "\n",
    "ax = summary3.apply(lambda x: x*100/sum(x), axis=1).plot(kind=\"bar\", stacked=True, figsize=(10,5), width=0.8, color=colors)\n",
    "\n",
    "for p in ax.patches:\n",
    "    width, height = p.get_width(), p.get_height()\n",
    "    x, y = p.get_xy() \n",
    "    ax.text(x+width/2, \n",
    "            y+height/2, \n",
    "            '{:.0f} %'.format(height), \n",
    "            horizontalalignment='left', \n",
    "            verticalalignment='center')\n",
    "    \n",
    "plt.title(\"Emotions in Topics\")\n",
    "plt.xlabel(\"Topic\")\n",
    "plt.ylabel(\"Percentage (%)\")"
   ]
  },
  {
   "cell_type": "markdown",
   "metadata": {},
   "source": [
    "## Export Results"
   ]
  },
  {
   "cell_type": "code",
   "execution_count": 171,
   "metadata": {},
   "outputs": [
    {
     "name": "stderr",
     "output_type": "stream",
     "text": [
      "[NbConvertApp] Converting notebook 4. Topic Modelling.ipynb to html_ch\n",
      "[NbConvertApp] Writing 716466 bytes to .\\html\\4. Topic Modelling.html\n"
     ]
    }
   ],
   "source": [
    "# User this line to save to html\n",
    "!jupyter nbconvert --to html_ch --output-dir='.\\html' \"4. Topic Modelling.ipynb\""
   ]
  },
  {
   "cell_type": "markdown",
   "metadata": {},
   "source": [
    "# ----------------------------------------------END----------------------------------------------------------"
   ]
  },
  {
   "cell_type": "code",
   "execution_count": null,
   "metadata": {},
   "outputs": [],
   "source": []
  }
 ],
 "metadata": {
  "kernelspec": {
   "display_name": "Python 3",
   "language": "python",
   "name": "python3"
  },
  "language_info": {
   "codemirror_mode": {
    "name": "ipython",
    "version": 3
   },
   "file_extension": ".py",
   "mimetype": "text/x-python",
   "name": "python",
   "nbconvert_exporter": "python",
   "pygments_lexer": "ipython3",
   "version": "3.7.4"
  }
 },
 "nbformat": 4,
 "nbformat_minor": 2
}
