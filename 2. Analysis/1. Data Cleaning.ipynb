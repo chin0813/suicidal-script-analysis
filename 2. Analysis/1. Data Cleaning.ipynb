{
 "cells": [
  {
   "cell_type": "markdown",
   "metadata": {},
   "source": [
    "# <span style='color:blue'> CDS 522 Text and Speech Analytics Project : </span>\n",
    "## <span style='color:blue'> Text Analytics for Suicidal Thoughts </span>\n",
    "\n",
    "**Prepared by: \n",
    "Chin Yi Xiang,\n",
    "Ling Hui Ting**"
   ]
  },
  {
   "cell_type": "markdown",
   "metadata": {
    "heading_collapsed": true
   },
   "source": [
    "## Import Required Packages"
   ]
  },
  {
   "cell_type": "code",
   "execution_count": 1,
   "metadata": {
    "code_folding": [],
    "hidden": true
   },
   "outputs": [],
   "source": [
    "# import required packages\n",
    "#warnings :)\n",
    "import warnings\n",
    "warnings.filterwarnings('ignore')\n",
    "\n",
    "# for df purpose\n",
    "import pandas as pd\n",
    "import numpy as np\n",
    "from tqdm.auto import tqdm\n",
    "tqdm.pandas()\n",
    "\n",
    "# for text processing\n",
    "import nltk\n",
    "import re\n",
    "import string\n",
    "from autocorrect import Speller\n",
    "\n",
    "\n",
    "# for graph plotting / visualisation\n",
    "import matplotlib.pyplot as plt\n",
    "import seaborn as sns\n",
    "%matplotlib inline\n",
    "from wordcloud import WordCloud, STOPWORDS, ImageColorGenerator\n",
    "\n",
    "#for storing intermediate results\n",
    "import pickle\n",
    "\n",
    "# for notebook function\n",
    "from IPython.display import display, clear_output\n",
    "import time"
   ]
  },
  {
   "cell_type": "markdown",
   "metadata": {},
   "source": [
    "## Data Cleaning"
   ]
  },
  {
   "cell_type": "markdown",
   "metadata": {},
   "source": [
    "* Getting Data\n",
    "* Combine Data\n",
    "* Treating Missing/Duplicate Values"
   ]
  },
  {
   "cell_type": "markdown",
   "metadata": {
    "heading_collapsed": true
   },
   "source": [
    "### Getting the Data"
   ]
  },
  {
   "cell_type": "markdown",
   "metadata": {
    "hidden": true
   },
   "source": [
    "* Scraping data from subreddit: Suicidal_Thoughts\n",
    "* Download from Kaggle : Suicide Notes"
   ]
  },
  {
   "cell_type": "code",
   "execution_count": 2,
   "metadata": {
    "hidden": true,
    "jupyter": {
     "source_hidden": true
    }
   },
   "outputs": [],
   "source": [
    "reddit =pd.read_csv('data/post_data.csv', header= 0)\n",
    "kaggle = pd.read_csv('data/kaggle_test.csv')"
   ]
  },
  {
   "cell_type": "code",
   "execution_count": 3,
   "metadata": {
    "hidden": true,
    "jupyter": {
     "source_hidden": true
    }
   },
   "outputs": [
    {
     "data": {
      "text/html": [
       "<div>\n",
       "<style scoped>\n",
       "    .dataframe tbody tr th:only-of-type {\n",
       "        vertical-align: middle;\n",
       "    }\n",
       "\n",
       "    .dataframe tbody tr th {\n",
       "        vertical-align: top;\n",
       "    }\n",
       "\n",
       "    .dataframe thead th {\n",
       "        text-align: right;\n",
       "    }\n",
       "</style>\n",
       "<table border=\"1\" class=\"dataframe\">\n",
       "  <thead>\n",
       "    <tr style=\"text-align: right;\">\n",
       "      <th></th>\n",
       "      <th>id</th>\n",
       "      <th>url</th>\n",
       "      <th>url_id</th>\n",
       "      <th>url_title</th>\n",
       "      <th>author</th>\n",
       "      <th>upvote_ratio</th>\n",
       "      <th>score</th>\n",
       "      <th>time_created</th>\n",
       "      <th>num_gold</th>\n",
       "      <th>num_comments</th>\n",
       "      <th>category</th>\n",
       "      <th>text</th>\n",
       "      <th>main_link</th>\n",
       "      <th>flairs</th>\n",
       "    </tr>\n",
       "  </thead>\n",
       "  <tbody>\n",
       "    <tr>\n",
       "      <td>0</td>\n",
       "      <td>1</td>\n",
       "      <td>https://www.reddit.com/r/Suicidal_Thoughts/com...</td>\n",
       "      <td>k1gid0</td>\n",
       "      <td>guess_i_got_it</td>\n",
       "      <td>ayu5hh</td>\n",
       "      <td>0.95</td>\n",
       "      <td>18</td>\n",
       "      <td>2020-11-26 22:53:11</td>\n",
       "      <td>0</td>\n",
       "      <td>0</td>\n",
       "      <td>NaN</td>\n",
       "      <td>NaN</td>\n",
       "      <td>NaN</td>\n",
       "      <td>NaN</td>\n",
       "    </tr>\n",
       "    <tr>\n",
       "      <td>1</td>\n",
       "      <td>2</td>\n",
       "      <td>https://www.reddit.com/r/memes/comments/k1daj2...</td>\n",
       "      <td>k1daj2</td>\n",
       "      <td>hold_the_fuck_up</td>\n",
       "      <td>yosuf123321</td>\n",
       "      <td>0.90</td>\n",
       "      <td>24882</td>\n",
       "      <td>2020-11-26 18:58:41</td>\n",
       "      <td>0</td>\n",
       "      <td>194</td>\n",
       "      <td>NaN</td>\n",
       "      <td>NaN</td>\n",
       "      <td>NaN</td>\n",
       "      <td>NaN</td>\n",
       "    </tr>\n",
       "  </tbody>\n",
       "</table>\n",
       "</div>"
      ],
      "text/plain": [
       "   id                                                url  url_id  \\\n",
       "0   1  https://www.reddit.com/r/Suicidal_Thoughts/com...  k1gid0   \n",
       "1   2  https://www.reddit.com/r/memes/comments/k1daj2...  k1daj2   \n",
       "\n",
       "          url_title       author  upvote_ratio  score         time_created  \\\n",
       "0    guess_i_got_it       ayu5hh          0.95     18  2020-11-26 22:53:11   \n",
       "1  hold_the_fuck_up  yosuf123321          0.90  24882  2020-11-26 18:58:41   \n",
       "\n",
       "   num_gold  num_comments  category text main_link  flairs  \n",
       "0         0             0       NaN  NaN       NaN     NaN  \n",
       "1         0           194       NaN  NaN       NaN     NaN  "
      ]
     },
     "execution_count": 3,
     "metadata": {},
     "output_type": "execute_result"
    }
   ],
   "source": [
    "reddit.head(2)"
   ]
  },
  {
   "cell_type": "code",
   "execution_count": 4,
   "metadata": {
    "hidden": true,
    "jupyter": {
     "source_hidden": true
    }
   },
   "outputs": [
    {
     "data": {
      "text/html": [
       "<div>\n",
       "<style scoped>\n",
       "    .dataframe tbody tr th:only-of-type {\n",
       "        vertical-align: middle;\n",
       "    }\n",
       "\n",
       "    .dataframe tbody tr th {\n",
       "        vertical-align: top;\n",
       "    }\n",
       "\n",
       "    .dataframe thead th {\n",
       "        text-align: right;\n",
       "    }\n",
       "</style>\n",
       "<table border=\"1\" class=\"dataframe\">\n",
       "  <thead>\n",
       "    <tr style=\"text-align: right;\">\n",
       "      <th></th>\n",
       "      <th>id</th>\n",
       "      <th>text</th>\n",
       "    </tr>\n",
       "  </thead>\n",
       "  <tbody>\n",
       "    <tr>\n",
       "      <td>0</td>\n",
       "      <td>1</td>\n",
       "      <td>I have to put this in writing somehow so I sti...</td>\n",
       "    </tr>\n",
       "    <tr>\n",
       "      <td>1</td>\n",
       "      <td>2</td>\n",
       "      <td>I've made my peace with the fact that I'm goin...</td>\n",
       "    </tr>\n",
       "  </tbody>\n",
       "</table>\n",
       "</div>"
      ],
      "text/plain": [
       "   id                                               text\n",
       "0   1  I have to put this in writing somehow so I sti...\n",
       "1   2  I've made my peace with the fact that I'm goin..."
      ]
     },
     "execution_count": 4,
     "metadata": {},
     "output_type": "execute_result"
    }
   ],
   "source": [
    "kaggle.head(2)"
   ]
  },
  {
   "cell_type": "markdown",
   "metadata": {},
   "source": [
    "### Combine the file "
   ]
  },
  {
   "cell_type": "markdown",
   "metadata": {},
   "source": [
    "* Combine df from Kaggle and Subreddit"
   ]
  },
  {
   "cell_type": "code",
   "execution_count": 5,
   "metadata": {
    "jupyter": {
     "source_hidden": true
    }
   },
   "outputs": [
    {
     "data": {
      "text/plain": [
       "0                                                     NaN\n",
       "1                                                     NaN\n",
       "2       I fucking HATE the holiday season. First is Th...\n",
       "3       Dm me here or add me on discord if you want to...\n",
       "4                                                     NaN\n",
       "                              ...                        \n",
       "1485    Since I was 9 I felt depressed and almost took...\n",
       "1486    I don't know why I'm reaching out now of all t...\n",
       "1487    I dont believe in an afterlife, but i stay up ...\n",
       "1488    I don't think I actually will kill myself, but...\n",
       "1489    I wanna die so badly but everytime I hear abou...\n",
       "Name: text, Length: 1490, dtype: object"
      ]
     },
     "execution_count": 5,
     "metadata": {},
     "output_type": "execute_result"
    }
   ],
   "source": [
    "df = reddit['text'].append(kaggle['text'], ignore_index=True)\n",
    "df"
   ]
  },
  {
   "cell_type": "markdown",
   "metadata": {
    "heading_collapsed": true
   },
   "source": [
    "### Treating Missing/Duplicate values"
   ]
  },
  {
   "cell_type": "markdown",
   "metadata": {
    "hidden": true
   },
   "source": [
    "* Remove missing values\n",
    "* Remove duplicate"
   ]
  },
  {
   "cell_type": "code",
   "execution_count": 6,
   "metadata": {
    "code_folding": [],
    "hidden": true,
    "jupyter": {
     "source_hidden": true
    }
   },
   "outputs": [
    {
     "name": "stdout",
     "output_type": "stream",
     "text": [
      "Missing value : 189\n",
      "Original Size : (1490,)\n",
      "After Processed Size : (1298,)\n"
     ]
    },
    {
     "data": {
      "text/plain": [
       "0       I fucking HATE the holiday season. First is Th...\n",
       "1       Dm me here or add me on discord if you want to...\n",
       "2       I'm nearly 40 and have always battled depressi...\n",
       "3       My future is nothing more than an impenetrable...\n",
       "4       I am always fighting with my sisters and they ...\n",
       "                              ...                        \n",
       "1293    Since I was 9 I felt depressed and almost took...\n",
       "1294    I don't know why I'm reaching out now of all t...\n",
       "1295    I dont believe in an afterlife, but i stay up ...\n",
       "1296    I don't think I actually will kill myself, but...\n",
       "1297    I wanna die so badly but everytime I hear abou...\n",
       "Name: text, Length: 1298, dtype: object"
      ]
     },
     "execution_count": 6,
     "metadata": {},
     "output_type": "execute_result"
    }
   ],
   "source": [
    "# missing values\n",
    "missing = df.isna().sum()\n",
    "print(f\"Missing value : {missing}\")\n",
    "print(f\"Original Size : {df.shape}\")\n",
    "\n",
    "# Drop missing values\n",
    "drop_na = df.dropna().reset_index(drop=True)\n",
    "df = drop_na\n",
    "\n",
    "# Drop duplicate texts\n",
    "drop_dup = df.drop_duplicates(keep='first', inplace=False).reset_index(drop=True)\n",
    "\n",
    "print(f\"After Processed Size : {drop_dup.shape}\")\n",
    "df = drop_dup\n",
    "df"
   ]
  },
  {
   "cell_type": "markdown",
   "metadata": {},
   "source": [
    "## Text Cleaning"
   ]
  },
  {
   "cell_type": "markdown",
   "metadata": {},
   "source": [
    "* Tokenization and Cleaning\n",
    "* Spell Check and Correction"
   ]
  },
  {
   "cell_type": "markdown",
   "metadata": {
    "heading_collapsed": true
   },
   "source": [
    "### Detailed Steps"
   ]
  },
  {
   "cell_type": "markdown",
   "metadata": {
    "hidden": true
   },
   "source": [
    "* Tokenization and Cleaning\n",
    "    * Tokenize\n",
    "        * Convert text to lower case\n",
    "        * Tokenize text into list\n",
    "    * Clean\n",
    "        * Remove punctuation\n",
    "        * Remove non-alphabetical tokens\n",
    "        * Remove empty tokens\n",
    "    * Remove stop words\n",
    "    * Lemmatization\n",
    "    * Removing posts with less than n tokens\n",
    "* Spell Check and Correction\n",
    "    * Identify non-dict words\n",
    "    * Automatic Spelling Correction\n",
    "    * Manual Annotation"
   ]
  },
  {
   "cell_type": "markdown",
   "metadata": {
    "heading_collapsed": true
   },
   "source": [
    "### Defining Text Cleaner Class"
   ]
  },
  {
   "cell_type": "code",
   "execution_count": 37,
   "metadata": {
    "code_folding": [
     1,
     4,
     5,
     31,
     34,
     37,
     40,
     43,
     46,
     49,
     52,
     56,
     61,
     67,
     74,
     85,
     97,
     109,
     145
    ],
    "hidden": true
   },
   "outputs": [
    {
     "name": "stdout",
     "output_type": "stream",
     "text": [
      "Custom Stop Words: 0. Use \"cleaner.custom_stop\" to see existing custom stop words.\n",
      "Custom Dictionary: 0. Use \"cleaner.custom_dict\" to see existing custom dictionary.\n",
      "Custom Translation: 1848. Use \"cleaner.custom_translate\" to see existing custom translation.\n"
     ]
    }
   ],
   "source": [
    "# Apply cleaning techniques\n",
    "def print_bold(text):\n",
    "    text_bold = '\\x1b[1;30;47m'+text+ '\\x1b[0m'\n",
    "    print(text_bold)\n",
    "class TextCleaner:\n",
    "    def __init__(self,custom_stop=set(),custom_stop_path='pickles/custom_stop.pkl',\n",
    "                 custom_translate={},custom_translate_path='pickles/custom_translate.pkl',\n",
    "                custom_dict=set(),custom_dict_path='pickles/custom_dict.pkl'):\n",
    "        if custom_stop_path:\n",
    "            self.custom_stop_path = custom_stop_path\n",
    "            try:\n",
    "                self.custom_stop = pickle.load(open(custom_stop_path,'rb'))\n",
    "            except Exception as e:\n",
    "                self.custom_stop = None\n",
    "                print('TextCleaner: Unable to load pickle: ',custom_stop_path)\n",
    "        if custom_translate_path:\n",
    "            self.custom_translate_path = custom_translate_path\n",
    "            try:\n",
    "                self.custom_translate = pickle.load(open(custom_translate_path,'rb'))\n",
    "            except Exception as e:\n",
    "                self.custom_translate = None\n",
    "                print('TextCleaner: Unable to load pickle: ',custom_translate_path)\n",
    "        if custom_dict_path:\n",
    "            self.custom_dict_path = custom_dict_path\n",
    "            try:\n",
    "                self.custom_dict = pickle.load(open(custom_dict_path,'rb'))\n",
    "            except Exception as e:\n",
    "                self.custom_dict = None\n",
    "        self.custom_stop = self.custom_stop or custom_stop\n",
    "        self.custom_translate = self.custom_translate or custom_translate\n",
    "        self.custom_dict = self.custom_dict or custom_dict\n",
    "    def save(self):\n",
    "        pickle.dump(self.custom_stop,open(self.custom_stop_path,'wb'))\n",
    "        pickle.dump(self.custom_translate,open(self.custom_translate_path,'wb'))\n",
    "    def update_custom_stop(self,new_list):\n",
    "        self.custom_stop.update(new_list)\n",
    "        self.save()\n",
    "    def update_custom_translate(self,new_dict):\n",
    "        self.custom_translate.update(new_dict)\n",
    "        self.save()\n",
    "    def update_custom_dict(self,new_list):\n",
    "        self.custom_dict.update(new_list)\n",
    "        self.save()\n",
    "    def clear_custom_stop(self):\n",
    "        self.custom_stop = set()\n",
    "        self.save()\n",
    "    def clear_custom_translate(self):\n",
    "        self.custom_translate={}\n",
    "        self.save()\n",
    "    def clear_custom_dict(self):\n",
    "        self.custom_dict = set()\n",
    "        self.save()\n",
    "    def tokenize(self,text):\n",
    "        word_tokenize = nltk.tokenize.word_tokenize\n",
    "        text = text.lower()\n",
    "        return word_tokenize(text)\n",
    "    def clean_tokens(self,tokens):\n",
    "        tokens = [re.sub('[%s]' % re.escape(string.punctuation), '', text) for text in tokens]   #remove punctuations\n",
    "        tokens = [t for t in tokens if re.match(r'[^\\W\\d]*$', t)] # remove non-alphabetical tokens\n",
    "        tokens = [text for text in tokens if text!='']  #remove empty tokens\n",
    "        return tokens\n",
    "    def remove_stop_words(self,tokens):\n",
    "        stopset = set(nltk.corpus.stopwords.words('english'))\n",
    "        stopset.update(self.custom_stop)\n",
    "        new_tokens = []\n",
    "        for t in tokens:\n",
    "            if type(t) == str:\n",
    "                if t not in stopset:\n",
    "                    new_tokens.append(t)\n",
    "            elif (len(t) > 0):\n",
    "                new_tokens.append(self.remove_stop_words(t))\n",
    "            else:\n",
    "                print('Invalid value: ',t)\n",
    "        return new_tokens\n",
    "    def lemmatize(self, tokens):\n",
    "        lemmatizer = nltk.stem.wordnet.WordNetLemmatizer()\n",
    "        new_tokens = []\n",
    "        for t in tokens:\n",
    "            if type(t) == str:\n",
    "                new_tokens.append(lemmatizer.lemmatize(t))\n",
    "            elif (len(t) > 0):\n",
    "                new_tokens.append(self.lemmatize(t))\n",
    "            else:\n",
    "                print('Invalid value: ',t)\n",
    "        return new_tokens\n",
    "    def translate(self,tokens):\n",
    "        new_tokens = []\n",
    "        for t in tokens:\n",
    "            if type(t) == str:\n",
    "                if t in self.custom_translate:\n",
    "                    t = self.custom_translate[t]\n",
    "                new_tokens.append(t)\n",
    "            elif (len(t) > 0):\n",
    "                new_tokens.append(self.translate(t))\n",
    "            else:\n",
    "                print('Invalid value: ',t)\n",
    "        return new_tokens\n",
    "    def token_count(self,tokens, counts={}):\n",
    "        for t in tokens:\n",
    "            if type(t) == str:\n",
    "                if t in counts:\n",
    "                    counts[t] += 1\n",
    "                else:\n",
    "                    counts[t] = 1\n",
    "            elif (len(t) > 0):\n",
    "                counts = self.token_count(t, counts)\n",
    "            else:\n",
    "                print('Invalid value: ',t)\n",
    "        return counts\n",
    "    def perform_clean(self,series,min_tokens=2,show_intermediate=False):\n",
    "        print_bold('Tokenizing...')\n",
    "        series = series.progress_apply(self.tokenize)\n",
    "        if show_intermediate:\n",
    "            print('After Tokenize\\n', series)\n",
    "        \n",
    "        print_bold('Cleaning Tokens...')\n",
    "        series = series.progress_apply(self.clean_tokens)\n",
    "        if show_intermediate:\n",
    "            print('After Clean\\n',series)\n",
    "\n",
    "        print_bold('Removing Stop Words...')\n",
    "        series = series.progress_apply(self.remove_stop_words)\n",
    "        if show_intermediate:\n",
    "            print('\\nAfter Stopword Removal\\n ', series)\n",
    "\n",
    "        print_bold('Lemmatizing...')\n",
    "        series = series.progress_apply(self.lemmatize)\n",
    "        if show_intermediate:\n",
    "            print('\\nAfter Lemmatization\\n',series)\n",
    "            \n",
    "        print_bold('Translating...')\n",
    "        series = series.progress_apply(self.translate)\n",
    "        if show_intermediate:\n",
    "            print('\\nAfter Translation\\n',series)\n",
    "\n",
    "        #remove posts with less than n tokens\n",
    "        min_tokens = 2\n",
    "        print_bold('Removing posts with less than %s words...' % min_tokens)\n",
    "        series_count = series.apply(len)\n",
    "        series,series_removed = series[series_count >= min_tokens], series[series_count < min_tokens]\n",
    "        print('%s posts removed:' % len(series_removed))\n",
    "        print(series_removed)\n",
    "        if show_intermediate:\n",
    "            print('\\nAfter removing posts\\n',series)\n",
    "        return series   \n",
    "    def non_dict(self, tokens, min_occurrence=5):\n",
    "        dict_words = set(nltk.corpus.words.words())\n",
    "        dict_words.update(set(i for i in nltk.corpus.wordnet.words()))\n",
    "        dict_words.update(self.custom_dict)\n",
    "#         print('total dict words: ',len(dict_words))\n",
    "        non_dict_words = []\n",
    "        word_counts = self.token_count(tokens,counts={})\n",
    "        for (k,v) in word_counts.items():\n",
    "            if k not in dict_words and v >= min_occurrence:\n",
    "                non_dict_words.append((k,v))\n",
    "        non_dict_words.sort(key=lambda x: x[1], reverse=True)\n",
    "        return non_dict_words\n",
    "        \n",
    "cleaner = TextCleaner()\n",
    "print('Custom Stop Words: %s. Use \"cleaner.custom_stop\" to see existing custom stop words.' % len(cleaner.custom_stop))\n",
    "print('Custom Dictionary: %s. Use \"cleaner.custom_dict\" to see existing custom dictionary.' % len(cleaner.custom_dict))\n",
    "print('Custom Translation: %s. Use \"cleaner.custom_translate\" to see existing custom translation.' % len(cleaner.custom_translate))"
   ]
  },
  {
   "cell_type": "code",
   "execution_count": 39,
   "metadata": {
    "hidden": true
   },
   "outputs": [],
   "source": [
    "# use this to clean custom_translate / custom_stopword / custom_dict\n",
    "# cleaner.clear_custom_translate()\n",
    "# cleaner.clear_custom_stop()\n",
    "# cleaner.clear_custom_dict()"
   ]
  },
  {
   "cell_type": "markdown",
   "metadata": {
    "heading_collapsed": true
   },
   "source": [
    "### Tokenization and Cleaning Text"
   ]
  },
  {
   "cell_type": "code",
   "execution_count": 10,
   "metadata": {
    "hidden": true
   },
   "outputs": [
    {
     "name": "stdout",
     "output_type": "stream",
     "text": [
      "\u001b[1;30;47mTokenizing...\u001b[0m\n"
     ]
    },
    {
     "data": {
      "application/vnd.jupyter.widget-view+json": {
       "model_id": "29d089db94dd455a98e1543baaebbb7d",
       "version_major": 2,
       "version_minor": 0
      },
      "text/plain": [
       "HBox(children=(HTML(value=''), FloatProgress(value=0.0, max=1298.0), HTML(value='')))"
      ]
     },
     "metadata": {},
     "output_type": "display_data"
    },
    {
     "name": "stdout",
     "output_type": "stream",
     "text": [
      "\n",
      "\u001b[1;30;47mCleaning Tokens...\u001b[0m\n"
     ]
    },
    {
     "data": {
      "application/vnd.jupyter.widget-view+json": {
       "model_id": "346cf3fe2a414edf809f08a3e25ff57f",
       "version_major": 2,
       "version_minor": 0
      },
      "text/plain": [
       "HBox(children=(HTML(value=''), FloatProgress(value=0.0, max=1298.0), HTML(value='')))"
      ]
     },
     "metadata": {},
     "output_type": "display_data"
    },
    {
     "name": "stdout",
     "output_type": "stream",
     "text": [
      "\n",
      "\u001b[1;30;47mRemoving Stop Words...\u001b[0m\n"
     ]
    },
    {
     "data": {
      "application/vnd.jupyter.widget-view+json": {
       "model_id": "894349300a3e486298bd5f5a19cff775",
       "version_major": 2,
       "version_minor": 0
      },
      "text/plain": [
       "HBox(children=(HTML(value=''), FloatProgress(value=0.0, max=1298.0), HTML(value='')))"
      ]
     },
     "metadata": {},
     "output_type": "display_data"
    },
    {
     "name": "stdout",
     "output_type": "stream",
     "text": [
      "\n",
      "\u001b[1;30;47mLemmatizing...\u001b[0m\n"
     ]
    },
    {
     "data": {
      "application/vnd.jupyter.widget-view+json": {
       "model_id": "d9e361b24dc14cfab5c9d42a35e697c7",
       "version_major": 2,
       "version_minor": 0
      },
      "text/plain": [
       "HBox(children=(HTML(value=''), FloatProgress(value=0.0, max=1298.0), HTML(value='')))"
      ]
     },
     "metadata": {},
     "output_type": "display_data"
    },
    {
     "name": "stdout",
     "output_type": "stream",
     "text": [
      "\n",
      "\u001b[1;30;47mRemoving posts with less than 2 words...\u001b[0m\n",
      "15 posts removed:\n",
      "57       [please]\n",
      "200        [http]\n",
      "323        [http]\n",
      "439     [removed]\n",
      "447        [hate]\n",
      "509       [thank]\n",
      "512       [title]\n",
      "652       [going]\n",
      "692        [dont]\n",
      "760        [done]\n",
      "860     [goodbye]\n",
      "923        [http]\n",
      "1186        [fun]\n",
      "1190           []\n",
      "1286           []\n",
      "Name: text, dtype: object\n"
     ]
    },
    {
     "data": {
      "text/plain": [
       "0       [fucking, hate, holiday, season, first, thanks...\n",
       "1        [dm, add, discord, want, help, talk, youfactors]\n",
       "2       [nearly, always, battled, depression, got, old...\n",
       "3       [future, nothing, impenetrable, fog, look, bac...\n",
       "4       [always, fighting, sister, always, lash, mom, ...\n",
       "                              ...                        \n",
       "1293    [since, felt, depressed, almost, took, life, w...\n",
       "1294    [nt, know, reaching, time, seems, appropriate,...\n",
       "1295    [dont, believe, afterlife, stay, night, fearin...\n",
       "1296    [nt, think, actually, kill, thats, scared, nt,...\n",
       "1297    [wan, na, die, badly, everytime, hear, someone...\n",
       "Name: text, Length: 1283, dtype: object"
      ]
     },
     "execution_count": 10,
     "metadata": {},
     "output_type": "execute_result"
    }
   ],
   "source": [
    "df_test = cleaner.perform_clean(df) #min_tokens = 2, show_intermediate = False\n",
    "df_test"
   ]
  },
  {
   "cell_type": "markdown",
   "metadata": {
    "heading_collapsed": true
   },
   "source": [
    "### Spell Check and Correction"
   ]
  },
  {
   "cell_type": "markdown",
   "metadata": {
    "heading_collapsed": true,
    "hidden": true
   },
   "source": [
    "#### Identify Non-Dictionary words"
   ]
  },
  {
   "cell_type": "markdown",
   "metadata": {
    "hidden": true
   },
   "source": [
    "Dictionary are combined from two corpus in nltk library:\n",
    "1. nltk.corpus.words\n",
    "2. nltk.corpus.wornet"
   ]
  },
  {
   "cell_type": "code",
   "execution_count": 35,
   "metadata": {
    "code_folding": [
     0
    ],
    "hidden": true
   },
   "outputs": [
    {
     "name": "stdout",
     "output_type": "stream",
     "text": [
      "\u001b[1;30;47mChecking Non-dictionary Words...\u001b[0m\n",
      "Non-Dictionary words found:  2289\n",
      "Statistic Description for Non-Dictionary words\n",
      "--------------------\n",
      "             count\n",
      "count  2289.000000\n",
      "mean      1.954128\n",
      "std       5.917195\n",
      "min       1.000000\n",
      "25%       1.000000\n",
      "50%       1.000000\n",
      "75%       1.000000\n",
      "max     172.000000\n"
     ]
    },
    {
     "data": {
      "image/png": "[encoded data removed]",
      "text/plain": [
       "<Figure size 864x432 with 1 Axes>"
      ]
     },
     "metadata": {
      "needs_background": "light"
     },
     "output_type": "display_data"
    }
   ],
   "source": [
    "def check_non_dict(input_series):\n",
    "    print_bold('Checking Non-dictionary Words...')\n",
    "    non_dict = cleaner.non_dict(input_series,min_occurrence = 1)\n",
    "    print('Non-Dictionary words found: ',len(non_dict))\n",
    "    non_dict_df = pd.DataFrame(non_dict,columns=['word','count'])\n",
    "    print('Statistic Description for Non-Dictionary words')\n",
    "    print('-'*20)\n",
    "    print(non_dict_df.describe())\n",
    "    bins_set = [\n",
    "        #(lower, upper, step),\n",
    "        (0,10,1),\n",
    "        (10,20,2),\n",
    "        (20,50,5),\n",
    "        (50,100,10),\n",
    "        (100,450,50)\n",
    "    ]\n",
    "    bins = []\n",
    "    for (l,u,s) in bins_set:\n",
    "        bins = bins + list(range(l,u,s))\n",
    "#     print(bins)\n",
    "    ax = non_dict_df.plot.hist(figsize=(12,6),xlim=[0,400],bins=bins)\n",
    "    ax.set_yscale('log')\n",
    "    ax.set_title('Density Plot of Non-Dict Words')\n",
    "    return non_dict\n",
    "non_dict = check_non_dict(df_test)"
   ]
  },
  {
   "cell_type": "code",
   "execution_count": 55,
   "metadata": {
    "hidden": true
   },
   "outputs": [
    {
     "data": {
      "text/plain": [
       "[('started', 172),\n",
       " ('seems', 89),\n",
       " ('others', 84),\n",
       " ('happened', 70),\n",
       " ('died', 68),\n",
       " ('asked', 67),\n",
       " ('called', 66),\n",
       " ('fucked', 55),\n",
       " ('talked', 37),\n",
       " ('failed', 35)]"
      ]
     },
     "execution_count": 55,
     "metadata": {},
     "output_type": "execute_result"
    }
   ],
   "source": [
    "# Inspect non_dict (first 10 elements)\n",
    "non_dict[:10]"
   ]
  },
  {
   "cell_type": "markdown",
   "metadata": {
    "heading_collapsed": true,
    "hidden": true
   },
   "source": [
    "#### Auto Correction"
   ]
  },
  {
   "cell_type": "code",
   "execution_count": 40,
   "metadata": {
    "hidden": true
   },
   "outputs": [
    {
     "name": "stdout",
     "output_type": "stream",
     "text": [
      "\u001b[1;30;47mAuto Correcting...\u001b[0m\n"
     ]
    },
    {
     "data": {
      "application/vnd.jupyter.widget-view+json": {
       "model_id": "2f83c08e35a5413882773e74972717ae",
       "version_major": 2,
       "version_minor": 0
      },
      "text/plain": [
       "HBox(children=(HTML(value=''), FloatProgress(value=0.0, max=2289.0), HTML(value='')))"
      ]
     },
     "metadata": {},
     "output_type": "display_data"
    },
    {
     "name": "stdout",
     "output_type": "stream",
     "text": [
      "\n",
      "Auto Corrected: 1848/2289\n",
      "\u001b[1;30;47mTokenizing...\u001b[0m\n"
     ]
    },
    {
     "data": {
      "application/vnd.jupyter.widget-view+json": {
       "model_id": "8eb2a07e4a37476492f4423ada5a0ca3",
       "version_major": 2,
       "version_minor": 0
      },
      "text/plain": [
       "HBox(children=(HTML(value=''), FloatProgress(value=0.0, max=1298.0), HTML(value='')))"
      ]
     },
     "metadata": {},
     "output_type": "display_data"
    },
    {
     "name": "stdout",
     "output_type": "stream",
     "text": [
      "\n",
      "\u001b[1;30;47mCleaning Tokens...\u001b[0m\n"
     ]
    },
    {
     "data": {
      "application/vnd.jupyter.widget-view+json": {
       "model_id": "ebf63bb6f0374ac79dd6439f1e21311e",
       "version_major": 2,
       "version_minor": 0
      },
      "text/plain": [
       "HBox(children=(HTML(value=''), FloatProgress(value=0.0, max=1298.0), HTML(value='')))"
      ]
     },
     "metadata": {},
     "output_type": "display_data"
    },
    {
     "name": "stdout",
     "output_type": "stream",
     "text": [
      "\n",
      "\u001b[1;30;47mRemoving Stop Words...\u001b[0m\n"
     ]
    },
    {
     "data": {
      "application/vnd.jupyter.widget-view+json": {
       "model_id": "59e15714611b44379fff58e372dfc1f0",
       "version_major": 2,
       "version_minor": 0
      },
      "text/plain": [
       "HBox(children=(HTML(value=''), FloatProgress(value=0.0, max=1298.0), HTML(value='')))"
      ]
     },
     "metadata": {},
     "output_type": "display_data"
    },
    {
     "name": "stdout",
     "output_type": "stream",
     "text": [
      "\n",
      "\u001b[1;30;47mLemmatizing...\u001b[0m\n"
     ]
    },
    {
     "data": {
      "application/vnd.jupyter.widget-view+json": {
       "model_id": "cd2d6e1c426e4835894bf47bbd8a2b94",
       "version_major": 2,
       "version_minor": 0
      },
      "text/plain": [
       "HBox(children=(HTML(value=''), FloatProgress(value=0.0, max=1298.0), HTML(value='')))"
      ]
     },
     "metadata": {},
     "output_type": "display_data"
    },
    {
     "name": "stdout",
     "output_type": "stream",
     "text": [
      "\n",
      "\u001b[1;30;47mTranslating...\u001b[0m\n"
     ]
    },
    {
     "data": {
      "application/vnd.jupyter.widget-view+json": {
       "model_id": "78dc503d592547b6b47ed958f9c8e85a",
       "version_major": 2,
       "version_minor": 0
      },
      "text/plain": [
       "HBox(children=(HTML(value=''), FloatProgress(value=0.0, max=1298.0), HTML(value='')))"
      ]
     },
     "metadata": {},
     "output_type": "display_data"
    },
    {
     "name": "stdout",
     "output_type": "stream",
     "text": [
      "\n",
      "\u001b[1;30;47mRemoving posts with less than 2 words...\u001b[0m\n",
      "15 posts removed:\n",
      "57       [please]\n",
      "200        [http]\n",
      "323        [http]\n",
      "439     [removed]\n",
      "447        [hate]\n",
      "509       [thank]\n",
      "512       [title]\n",
      "652       [going]\n",
      "692        [dont]\n",
      "760        [done]\n",
      "860     [goodbye]\n",
      "923        [http]\n",
      "1186        [fun]\n",
      "1190           []\n",
      "1286           []\n",
      "Name: text, dtype: object\n",
      "\u001b[1;30;47mChecking Non-dictionary Words...\u001b[0m\n",
      "Non-Dictionary words found:  957\n",
      "Statistic Description for Non-Dictionary words\n",
      "--------------------\n",
      "            count\n",
      "count  957.000000\n",
      "mean     2.411703\n",
      "std     12.955015\n",
      "min      1.000000\n",
      "25%      1.000000\n",
      "50%      1.000000\n",
      "75%      2.000000\n",
      "max    379.000000\n"
     ]
    },
    {
     "data": {
      "image/png": "[encoded data removed]",
      "text/plain": [
       "<Figure size 864x432 with 1 Axes>"
      ]
     },
     "metadata": {
      "needs_background": "light"
     },
     "output_type": "display_data"
    }
   ],
   "source": [
    "spell = Speller()\n",
    "stemmer = nltk.stem.snowball.SnowballStemmer(\"english\")\n",
    "update_translate = {}\n",
    "print_bold('Auto Correcting...')\n",
    "for (word, count) in tqdm(non_dict):\n",
    "    new_word = spell(stemmer.stem(word))\n",
    "    if new_word != word:\n",
    "        update_translate[word] = new_word\n",
    "cleaner.update_custom_translate(update_translate)\n",
    "print('Auto Corrected: %s/%s' % (len(update_translate),len(non_dict)))\n",
    "test_df2 = cleaner.perform_clean(df)\n",
    "non_dict2 = check_non_dict(test_df2)"
   ]
  },
  {
   "cell_type": "code",
   "execution_count": 58,
   "metadata": {
    "hidden": true
   },
   "outputs": [
    {
     "name": "stdout",
     "output_type": "stream",
     "text": [
      "started ---> start\n",
      "seems ---> seem\n",
      "others ---> other\n",
      "happened ---> happen\n",
      "died ---> die\n",
      "asked ---> ask\n",
      "called ---> call\n",
      "fucked ---> fuck\n",
      "talked ---> talk\n",
      "failed ---> fail\n"
     ]
    }
   ],
   "source": [
    "#inspect autocorrect changes (up to 10 entries)\n",
    "n = 10\n",
    "i = 0\n",
    "for (k,v) in update_translate.items():\n",
    "    if i >= n:\n",
    "        break\n",
    "    print('%s ---> %s' %(k,v))\n",
    "    i += 1"
   ]
  },
  {
   "cell_type": "code",
   "execution_count": 59,
   "metadata": {
    "hidden": true
   },
   "outputs": [
    {
     "data": {
      "text/plain": [
       "[('im', 379),\n",
       " ('ive', 72),\n",
       " ('idk', 72),\n",
       " ('reddit', 41),\n",
       " ('etc', 37),\n",
       " ('became', 27),\n",
       " ('que', 27),\n",
       " ('bf', 23),\n",
       " ('cuz', 22),\n",
       " ('everytim', 19)]"
      ]
     },
     "execution_count": 59,
     "metadata": {},
     "output_type": "execute_result"
    }
   ],
   "source": [
    "#inspect new non-dict words (up to 10 entries)\n",
    "non_dict2[0:10]"
   ]
  },
  {
   "cell_type": "markdown",
   "metadata": {
    "heading_collapsed": true,
    "hidden": true
   },
   "source": [
    "#### Manual Correction"
   ]
  },
  {
   "cell_type": "code",
   "execution_count": 44,
   "metadata": {
    "code_folding": [
     1
    ],
    "hidden": true
   },
   "outputs": [],
   "source": [
    "# define mannual correct function\n",
    "def manual_correct(non_dict):\n",
    "    print_bold('Manual Spelling Correction')\n",
    "    instruction = '''\n",
    "    Key in spelling correction and press [Enter] to update custom_translate\n",
    "    use \\exit to stop and save\n",
    "    use \\stop to add the word to custom stop list\n",
    "    use \\dict to add the word to custom dictionary\n",
    "    ''' + '-'*30\n",
    "    prev_print = None\n",
    "    manual_translate = {}\n",
    "    manual_stop = []\n",
    "    manual_dict = []\n",
    "    for (word, count) in non_dict:\n",
    "        clear_output(wait=True)\n",
    "        print(instruction)\n",
    "        time.sleep(0.1)\n",
    "        if prev_print:\n",
    "            print(prev_print)\n",
    "            time.sleep(0.1)\n",
    "        user_input = input('Correction for (freq: %s) %s: ' % (count,word))\n",
    "        if user_input == '\\exit':\n",
    "            break\n",
    "        elif user_input == '\\stop':\n",
    "            manual_stop.append(word)\n",
    "        elif user_input == '\\dict':\n",
    "            manual_dict.append(word)\n",
    "        elif user_input == '':\n",
    "            continue\n",
    "        else:\n",
    "            manual_translate[word] = user_input.strip()\n",
    "        prev_print = 'Correction for (freq: %s) %s: ' % (count,word) + user_input\n",
    "    cleaner.update_custom_translate(manual_translate)\n",
    "    cleaner.update_custom_stop(manual_stop)\n",
    "    cleaner.update_custom_dict(manual_dict)\n",
    "    print('Updated Correction: ',len(manual_translate))\n",
    "    print(manual_translate)\n",
    "    print('-'*30)\n",
    "    print('Updated Stop Words: ',len(manual_stop))\n",
    "    print(manual_stop)\n",
    "    print('-'*30)\n",
    "    print('Update Dictionary: ',len(manual_dict))\n",
    "    print(manual_dict)\n",
    "    print('-'*30)"
   ]
  },
  {
   "cell_type": "code",
   "execution_count": 47,
   "metadata": {
    "code_folding": [],
    "hidden": true
   },
   "outputs": [
    {
     "name": "stdout",
     "output_type": "stream",
     "text": [
      "\n",
      "    Key in spelling correction and press [Enter] to update custom_translate\n",
      "    use \\exit to stop and save\n",
      "    use \\stop to add the word to custom stop list\n",
      "    use \\dict to add the word to custom dictionary\n",
      "    ------------------------------\n",
      "Correction for (freq: 3) nowi: \\stop\n",
      "Correction for (freq: 3) pre: \\exit\n",
      "Updated Correction:  22\n",
      "{'everytim': 'everytime', 'uni': 'university', 'dr': 'doctor', 'noone': 'none', 'fck': 'fuck', 'hardest': 'hard', 'pls': 'please', 'soo': 'so', 'manipul': 'manipulate', 'por': 'poor', 'ppl': 'people', 'blew': 'blow', 'app': 'application', 'died': 'die', 'louder': 'loud', 'reli': 'rely', 'deeper': 'deep', 'refs': 'reference', 'recaps': '\\\\recap', 'darkest': 'dark', 'smallest': 'small', 'fullest': 'full'}\n",
      "------------------------------\n",
      "Updated Stop Words:  49\n",
      "['im', 'ive', 'idk', 'reddit', 'etc', 'que', 'cuz', 'lol', 'alot', 'df', 'subreddit', 'tbh', 'couldnt', 'shes', 'iti', 'isnt', 'não', 'wtf', 'btw', 'haha', 'yall', 'atleast', 'snapchat', 'youtube', 'trex', 'é', 'bpd', 'hid', 'sorta', 'tw', 'ayo', 'abt', 'pero', 'ofcorse', 'pra', 'iam', 'tran', 'tldr', 'hacer', 'todo', 'thru', 'clonazepam', 'subid', 'yknow', 'ups', 'eap', 'muito', 'ou', 'nowi']\n",
      "------------------------------\n",
      "Update Dictionary:  7\n",
      "['hotline', 'anytime', 'selfharm', 'homeschool', 'crumbs', 'overlink', 'videogame']\n",
      "------------------------------\n",
      "\u001b[1;30;47mTokenizing...\u001b[0m\n"
     ]
    },
    {
     "data": {
      "application/vnd.jupyter.widget-view+json": {
       "model_id": "9b67690afa54471abe55379001b6d6eb",
       "version_major": 2,
       "version_minor": 0
      },
      "text/plain": [
       "HBox(children=(HTML(value=''), FloatProgress(value=0.0, max=1298.0), HTML(value='')))"
      ]
     },
     "metadata": {},
     "output_type": "display_data"
    },
    {
     "name": "stdout",
     "output_type": "stream",
     "text": [
      "\n",
      "\u001b[1;30;47mCleaning Tokens...\u001b[0m\n"
     ]
    },
    {
     "data": {
      "application/vnd.jupyter.widget-view+json": {
       "model_id": "d9579b1cc5304effbb551fd19e1f538b",
       "version_major": 2,
       "version_minor": 0
      },
      "text/plain": [
       "HBox(children=(HTML(value=''), FloatProgress(value=0.0, max=1298.0), HTML(value='')))"
      ]
     },
     "metadata": {},
     "output_type": "display_data"
    },
    {
     "name": "stdout",
     "output_type": "stream",
     "text": [
      "\n",
      "\u001b[1;30;47mRemoving Stop Words...\u001b[0m\n"
     ]
    },
    {
     "data": {
      "application/vnd.jupyter.widget-view+json": {
       "model_id": "1184e06204ae4758b282912e1d578fa7",
       "version_major": 2,
       "version_minor": 0
      },
      "text/plain": [
       "HBox(children=(HTML(value=''), FloatProgress(value=0.0, max=1298.0), HTML(value='')))"
      ]
     },
     "metadata": {},
     "output_type": "display_data"
    },
    {
     "name": "stdout",
     "output_type": "stream",
     "text": [
      "\n",
      "\u001b[1;30;47mLemmatizing...\u001b[0m\n"
     ]
    },
    {
     "data": {
      "application/vnd.jupyter.widget-view+json": {
       "model_id": "07827403ac7c45649eab512ed15f7675",
       "version_major": 2,
       "version_minor": 0
      },
      "text/plain": [
       "HBox(children=(HTML(value=''), FloatProgress(value=0.0, max=1298.0), HTML(value='')))"
      ]
     },
     "metadata": {},
     "output_type": "display_data"
    },
    {
     "name": "stdout",
     "output_type": "stream",
     "text": [
      "\n",
      "\u001b[1;30;47mTranslating...\u001b[0m\n"
     ]
    },
    {
     "data": {
      "application/vnd.jupyter.widget-view+json": {
       "model_id": "b91a3a28e1604fddb1ab132324da2579",
       "version_major": 2,
       "version_minor": 0
      },
      "text/plain": [
       "HBox(children=(HTML(value=''), FloatProgress(value=0.0, max=1298.0), HTML(value='')))"
      ]
     },
     "metadata": {},
     "output_type": "display_data"
    },
    {
     "name": "stdout",
     "output_type": "stream",
     "text": [
      "\n",
      "\u001b[1;30;47mRemoving posts with less than 2 words...\u001b[0m\n",
      "15 posts removed:\n",
      "57       [please]\n",
      "200        [http]\n",
      "323        [http]\n",
      "439     [removed]\n",
      "447        [hate]\n",
      "509       [thank]\n",
      "512       [title]\n",
      "652       [going]\n",
      "692        [dont]\n",
      "760        [done]\n",
      "860     [goodbye]\n",
      "923        [http]\n",
      "1186        [fun]\n",
      "1190           []\n",
      "1286           []\n",
      "Name: text, dtype: object\n",
      "\u001b[1;30;47mChecking Non-dictionary Words...\u001b[0m\n",
      "Non-Dictionary words found:  888\n",
      "Statistic Description for Non-Dictionary words\n",
      "--------------------\n",
      "            count\n",
      "count  888.000000\n",
      "mean     1.263514\n",
      "std      0.837628\n",
      "min      1.000000\n",
      "25%      1.000000\n",
      "50%      1.000000\n",
      "75%      1.000000\n",
      "max     19.000000\n"
     ]
    },
    {
     "data": {
      "image/png": "[encoded data removed]",
      "text/plain": [
       "<Figure size 864x432 with 1 Axes>"
      ]
     },
     "metadata": {
      "needs_background": "light"
     },
     "output_type": "display_data"
    }
   ],
   "source": [
    "# for recursive correction purpose\n",
    "try:\n",
    "    non_dict3\n",
    "except NameError:\n",
    "    non_dict3 = None\n",
    "if non_dict3 is None:\n",
    "    non_dict3 = non_dict2\n",
    "    \n",
    "# start manual correction\n",
    "manual_correct(non_dict3)\n",
    "test_df3 = cleaner.perform_clean(df)\n",
    "non_dict3 = check_non_dict(test_df3)"
   ]
  },
  {
   "cell_type": "markdown",
   "metadata": {
    "hidden": true
   },
   "source": [
    "repeat manual correction to annotate more data"
   ]
  },
  {
   "cell_type": "markdown",
   "metadata": {
    "heading_collapsed": true
   },
   "source": [
    "### Results"
   ]
  },
  {
   "cell_type": "code",
   "execution_count": 48,
   "metadata": {
    "hidden": true
   },
   "outputs": [
    {
     "data": {
      "text/plain": [
       "0       [fucking, hate, holiday, season, first, thanks...\n",
       "1          [dm, add, discord, want, help, talk, cofactor]\n",
       "2       [nearly, always, battled, depression, got, old...\n",
       "3       [future, nothing, impenetrable, fog, look, bac...\n",
       "4       [always, fighting, sister, always, lash, mom, ...\n",
       "                              ...                        \n",
       "1293    [since, felt, depressed, almost, took, life, w...\n",
       "1294    [nt, know, reaching, time, seem, appropriate, ...\n",
       "1295    [dont, believe, afterlife, stay, night, fear, ...\n",
       "1296    [nt, think, actually, kill, thats, scared, nt,...\n",
       "1297    [wan, na, die, badly, everytim, hear, someone,...\n",
       "Name: text, Length: 1283, dtype: object"
      ]
     },
     "execution_count": 48,
     "metadata": {},
     "output_type": "execute_result"
    }
   ],
   "source": [
    "df_clean = test_df3 # Use the final df\n",
    "df_clean"
   ]
  },
  {
   "cell_type": "markdown",
   "metadata": {},
   "source": [
    "## Organizing The Data"
   ]
  },
  {
   "cell_type": "markdown",
   "metadata": {},
   "source": [
    "* Corpus - collection of texts\n",
    "* Document-Term Matrix - word counts in matrix format"
   ]
  },
  {
   "cell_type": "markdown",
   "metadata": {},
   "source": [
    "#### Document-Term Matrix"
   ]
  },
  {
   "cell_type": "markdown",
   "metadata": {},
   "source": [
    "The text must be tokenized, meaning broken down into smaller pieces. The most common tokenization technique is to break down text into words. We can do this using scikit-learn's CountVectorizer, where every row will represent a different document and every column will represent a different word.\n",
    "\n",
    "In addition, with CountVectorizer, we can remove stop words. Stop words are common words that add no additional meaning to text such as 'a', 'the', etc."
   ]
  },
  {
   "cell_type": "code",
   "execution_count": 50,
   "metadata": {},
   "outputs": [
    {
     "data": {
      "text/html": [
       "<div>\n",
       "<style scoped>\n",
       "    .dataframe tbody tr th:only-of-type {\n",
       "        vertical-align: middle;\n",
       "    }\n",
       "\n",
       "    .dataframe tbody tr th {\n",
       "        vertical-align: top;\n",
       "    }\n",
       "\n",
       "    .dataframe thead th {\n",
       "        text-align: right;\n",
       "    }\n",
       "</style>\n",
       "<table border=\"1\" class=\"dataframe\">\n",
       "  <thead>\n",
       "    <tr style=\"text-align: right;\">\n",
       "      <th></th>\n",
       "      <th>aaa</th>\n",
       "      <th>ab</th>\n",
       "      <th>abandon</th>\n",
       "      <th>abandoned</th>\n",
       "      <th>abd</th>\n",
       "      <th>abdomen</th>\n",
       "      <th>abdominal</th>\n",
       "      <th>ability</th>\n",
       "      <th>ablaze</th>\n",
       "      <th>able</th>\n",
       "      <th>...</th>\n",
       "      <th>zero</th>\n",
       "      <th>zimbabwe</th>\n",
       "      <th>ziplock</th>\n",
       "      <th>zombie</th>\n",
       "      <th>zone</th>\n",
       "      <th>zoning</th>\n",
       "      <th>zoo</th>\n",
       "      <th>zoom</th>\n",
       "      <th>zopiclon</th>\n",
       "      <th>última</th>\n",
       "    </tr>\n",
       "  </thead>\n",
       "  <tbody>\n",
       "    <tr>\n",
       "      <td>0</td>\n",
       "      <td>0</td>\n",
       "      <td>0</td>\n",
       "      <td>0</td>\n",
       "      <td>0</td>\n",
       "      <td>0</td>\n",
       "      <td>0</td>\n",
       "      <td>0</td>\n",
       "      <td>0</td>\n",
       "      <td>0</td>\n",
       "      <td>0</td>\n",
       "      <td>...</td>\n",
       "      <td>0</td>\n",
       "      <td>0</td>\n",
       "      <td>0</td>\n",
       "      <td>0</td>\n",
       "      <td>0</td>\n",
       "      <td>0</td>\n",
       "      <td>0</td>\n",
       "      <td>0</td>\n",
       "      <td>0</td>\n",
       "      <td>0</td>\n",
       "    </tr>\n",
       "    <tr>\n",
       "      <td>1</td>\n",
       "      <td>0</td>\n",
       "      <td>0</td>\n",
       "      <td>0</td>\n",
       "      <td>0</td>\n",
       "      <td>0</td>\n",
       "      <td>0</td>\n",
       "      <td>0</td>\n",
       "      <td>0</td>\n",
       "      <td>0</td>\n",
       "      <td>0</td>\n",
       "      <td>...</td>\n",
       "      <td>0</td>\n",
       "      <td>0</td>\n",
       "      <td>0</td>\n",
       "      <td>0</td>\n",
       "      <td>0</td>\n",
       "      <td>0</td>\n",
       "      <td>0</td>\n",
       "      <td>0</td>\n",
       "      <td>0</td>\n",
       "      <td>0</td>\n",
       "    </tr>\n",
       "    <tr>\n",
       "      <td>2</td>\n",
       "      <td>0</td>\n",
       "      <td>0</td>\n",
       "      <td>0</td>\n",
       "      <td>0</td>\n",
       "      <td>0</td>\n",
       "      <td>0</td>\n",
       "      <td>0</td>\n",
       "      <td>0</td>\n",
       "      <td>0</td>\n",
       "      <td>0</td>\n",
       "      <td>...</td>\n",
       "      <td>0</td>\n",
       "      <td>0</td>\n",
       "      <td>0</td>\n",
       "      <td>0</td>\n",
       "      <td>0</td>\n",
       "      <td>0</td>\n",
       "      <td>0</td>\n",
       "      <td>0</td>\n",
       "      <td>0</td>\n",
       "      <td>0</td>\n",
       "    </tr>\n",
       "    <tr>\n",
       "      <td>3</td>\n",
       "      <td>0</td>\n",
       "      <td>0</td>\n",
       "      <td>0</td>\n",
       "      <td>0</td>\n",
       "      <td>0</td>\n",
       "      <td>0</td>\n",
       "      <td>0</td>\n",
       "      <td>0</td>\n",
       "      <td>0</td>\n",
       "      <td>0</td>\n",
       "      <td>...</td>\n",
       "      <td>0</td>\n",
       "      <td>0</td>\n",
       "      <td>0</td>\n",
       "      <td>0</td>\n",
       "      <td>0</td>\n",
       "      <td>0</td>\n",
       "      <td>0</td>\n",
       "      <td>0</td>\n",
       "      <td>0</td>\n",
       "      <td>0</td>\n",
       "    </tr>\n",
       "    <tr>\n",
       "      <td>4</td>\n",
       "      <td>0</td>\n",
       "      <td>0</td>\n",
       "      <td>0</td>\n",
       "      <td>0</td>\n",
       "      <td>0</td>\n",
       "      <td>0</td>\n",
       "      <td>0</td>\n",
       "      <td>0</td>\n",
       "      <td>0</td>\n",
       "      <td>0</td>\n",
       "      <td>...</td>\n",
       "      <td>0</td>\n",
       "      <td>0</td>\n",
       "      <td>0</td>\n",
       "      <td>0</td>\n",
       "      <td>0</td>\n",
       "      <td>0</td>\n",
       "      <td>0</td>\n",
       "      <td>0</td>\n",
       "      <td>0</td>\n",
       "      <td>0</td>\n",
       "    </tr>\n",
       "    <tr>\n",
       "      <td>...</td>\n",
       "      <td>...</td>\n",
       "      <td>...</td>\n",
       "      <td>...</td>\n",
       "      <td>...</td>\n",
       "      <td>...</td>\n",
       "      <td>...</td>\n",
       "      <td>...</td>\n",
       "      <td>...</td>\n",
       "      <td>...</td>\n",
       "      <td>...</td>\n",
       "      <td>...</td>\n",
       "      <td>...</td>\n",
       "      <td>...</td>\n",
       "      <td>...</td>\n",
       "      <td>...</td>\n",
       "      <td>...</td>\n",
       "      <td>...</td>\n",
       "      <td>...</td>\n",
       "      <td>...</td>\n",
       "      <td>...</td>\n",
       "      <td>...</td>\n",
       "    </tr>\n",
       "    <tr>\n",
       "      <td>1293</td>\n",
       "      <td>0</td>\n",
       "      <td>0</td>\n",
       "      <td>0</td>\n",
       "      <td>0</td>\n",
       "      <td>0</td>\n",
       "      <td>0</td>\n",
       "      <td>0</td>\n",
       "      <td>0</td>\n",
       "      <td>0</td>\n",
       "      <td>0</td>\n",
       "      <td>...</td>\n",
       "      <td>0</td>\n",
       "      <td>0</td>\n",
       "      <td>0</td>\n",
       "      <td>0</td>\n",
       "      <td>0</td>\n",
       "      <td>0</td>\n",
       "      <td>0</td>\n",
       "      <td>0</td>\n",
       "      <td>0</td>\n",
       "      <td>0</td>\n",
       "    </tr>\n",
       "    <tr>\n",
       "      <td>1294</td>\n",
       "      <td>0</td>\n",
       "      <td>0</td>\n",
       "      <td>0</td>\n",
       "      <td>0</td>\n",
       "      <td>0</td>\n",
       "      <td>0</td>\n",
       "      <td>0</td>\n",
       "      <td>0</td>\n",
       "      <td>0</td>\n",
       "      <td>1</td>\n",
       "      <td>...</td>\n",
       "      <td>0</td>\n",
       "      <td>0</td>\n",
       "      <td>0</td>\n",
       "      <td>0</td>\n",
       "      <td>0</td>\n",
       "      <td>0</td>\n",
       "      <td>0</td>\n",
       "      <td>0</td>\n",
       "      <td>0</td>\n",
       "      <td>0</td>\n",
       "    </tr>\n",
       "    <tr>\n",
       "      <td>1295</td>\n",
       "      <td>0</td>\n",
       "      <td>0</td>\n",
       "      <td>0</td>\n",
       "      <td>0</td>\n",
       "      <td>0</td>\n",
       "      <td>0</td>\n",
       "      <td>0</td>\n",
       "      <td>0</td>\n",
       "      <td>0</td>\n",
       "      <td>0</td>\n",
       "      <td>...</td>\n",
       "      <td>0</td>\n",
       "      <td>0</td>\n",
       "      <td>0</td>\n",
       "      <td>0</td>\n",
       "      <td>0</td>\n",
       "      <td>0</td>\n",
       "      <td>0</td>\n",
       "      <td>0</td>\n",
       "      <td>0</td>\n",
       "      <td>0</td>\n",
       "    </tr>\n",
       "    <tr>\n",
       "      <td>1296</td>\n",
       "      <td>0</td>\n",
       "      <td>0</td>\n",
       "      <td>0</td>\n",
       "      <td>0</td>\n",
       "      <td>0</td>\n",
       "      <td>0</td>\n",
       "      <td>0</td>\n",
       "      <td>0</td>\n",
       "      <td>0</td>\n",
       "      <td>0</td>\n",
       "      <td>...</td>\n",
       "      <td>0</td>\n",
       "      <td>0</td>\n",
       "      <td>0</td>\n",
       "      <td>0</td>\n",
       "      <td>0</td>\n",
       "      <td>0</td>\n",
       "      <td>0</td>\n",
       "      <td>0</td>\n",
       "      <td>0</td>\n",
       "      <td>0</td>\n",
       "    </tr>\n",
       "    <tr>\n",
       "      <td>1297</td>\n",
       "      <td>0</td>\n",
       "      <td>0</td>\n",
       "      <td>0</td>\n",
       "      <td>0</td>\n",
       "      <td>0</td>\n",
       "      <td>0</td>\n",
       "      <td>0</td>\n",
       "      <td>0</td>\n",
       "      <td>0</td>\n",
       "      <td>0</td>\n",
       "      <td>...</td>\n",
       "      <td>0</td>\n",
       "      <td>0</td>\n",
       "      <td>0</td>\n",
       "      <td>0</td>\n",
       "      <td>0</td>\n",
       "      <td>0</td>\n",
       "      <td>0</td>\n",
       "      <td>0</td>\n",
       "      <td>0</td>\n",
       "      <td>0</td>\n",
       "    </tr>\n",
       "  </tbody>\n",
       "</table>\n",
       "<p>1283 rows × 6931 columns</p>\n",
       "</div>"
      ],
      "text/plain": [
       "      aaa  ab  abandon  abandoned  abd  abdomen  abdominal  ability  ablaze  \\\n",
       "0       0   0        0          0    0        0          0        0       0   \n",
       "1       0   0        0          0    0        0          0        0       0   \n",
       "2       0   0        0          0    0        0          0        0       0   \n",
       "3       0   0        0          0    0        0          0        0       0   \n",
       "4       0   0        0          0    0        0          0        0       0   \n",
       "...   ...  ..      ...        ...  ...      ...        ...      ...     ...   \n",
       "1293    0   0        0          0    0        0          0        0       0   \n",
       "1294    0   0        0          0    0        0          0        0       0   \n",
       "1295    0   0        0          0    0        0          0        0       0   \n",
       "1296    0   0        0          0    0        0          0        0       0   \n",
       "1297    0   0        0          0    0        0          0        0       0   \n",
       "\n",
       "      able  ...  zero  zimbabwe  ziplock  zombie  zone  zoning  zoo  zoom  \\\n",
       "0        0  ...     0         0        0       0     0       0    0     0   \n",
       "1        0  ...     0         0        0       0     0       0    0     0   \n",
       "2        0  ...     0         0        0       0     0       0    0     0   \n",
       "3        0  ...     0         0        0       0     0       0    0     0   \n",
       "4        0  ...     0         0        0       0     0       0    0     0   \n",
       "...    ...  ...   ...       ...      ...     ...   ...     ...  ...   ...   \n",
       "1293     0  ...     0         0        0       0     0       0    0     0   \n",
       "1294     1  ...     0         0        0       0     0       0    0     0   \n",
       "1295     0  ...     0         0        0       0     0       0    0     0   \n",
       "1296     0  ...     0         0        0       0     0       0    0     0   \n",
       "1297     0  ...     0         0        0       0     0       0    0     0   \n",
       "\n",
       "      zopiclon  última  \n",
       "0            0       0  \n",
       "1            0       0  \n",
       "2            0       0  \n",
       "3            0       0  \n",
       "4            0       0  \n",
       "...        ...     ...  \n",
       "1293         0       0  \n",
       "1294         0       0  \n",
       "1295         0       0  \n",
       "1296         0       0  \n",
       "1297         0       0  \n",
       "\n",
       "[1283 rows x 6931 columns]"
      ]
     },
     "execution_count": 50,
     "metadata": {},
     "output_type": "execute_result"
    }
   ],
   "source": [
    "# Create a document-term matrix using CountVectorizer, and exclude common English stop words\n",
    "from sklearn.feature_extraction.text import CountVectorizer\n",
    "\n",
    "cv = CountVectorizer(stop_words='english')  # remove stop words from the build-in CountVectorizer\n",
    "data_cv = cv.fit_transform(df_clean.apply(lambda x: ' '.join(x)))\n",
    "data_dtm = pd.DataFrame(data_cv.toarray(),columns=cv.get_feature_names())\n",
    "data_dtm.index = df_clean.index\n",
    "data_dtm"
   ]
  },
  {
   "cell_type": "code",
   "execution_count": 62,
   "metadata": {},
   "outputs": [
    {
     "data": {
      "text/plain": [
       "['aaa',\n",
       " 'ab',\n",
       " 'abandon',\n",
       " 'abandoned',\n",
       " 'abd',\n",
       " 'abdomen',\n",
       " 'abdominal',\n",
       " 'ability',\n",
       " 'ablaze',\n",
       " 'able']"
      ]
     },
     "execution_count": 62,
     "metadata": {},
     "output_type": "execute_result"
    }
   ],
   "source": [
    "# inpect feature_names (up to 10 entries)\n",
    "cv.get_feature_names()[0:10]"
   ]
  },
  {
   "cell_type": "markdown",
   "metadata": {},
   "source": [
    "#### Storing results"
   ]
  },
  {
   "cell_type": "code",
   "execution_count": 52,
   "metadata": {},
   "outputs": [],
   "source": [
    "# Pickle it for later use\n",
    "\n",
    "\n",
    "data_dtm.to_pickle(\"pickles/dtm.pkl\") # document-term matrix\n",
    "df_clean.to_pickle(\"pickles/df_clean.pkl\") # After text cleaning\n",
    "df.to_pickle(\"pickles/df.pkl\") # Before Text Cleaning\n",
    "pickle.dump(cv, open(\"pickles/cv.pkl\", \"wb\")) #CountVectorize Object"
   ]
  },
  {
   "cell_type": "code",
   "execution_count": 1,
   "metadata": {},
   "outputs": [
    {
     "name": "stderr",
     "output_type": "stream",
     "text": [
      "[NbConvertApp] Converting notebook 1. Data Cleaning.ipynb to html_ch\n",
      "[NbConvertApp] Writing 453306 bytes to .\\html\\1. Data Cleaning.html\n"
     ]
    }
   ],
   "source": [
    "# Convert notebook to html\n",
    "!jupyter nbconvert --to html_ch --output-dir='.\\html' \"1. Data Cleaning.ipynb\""
   ]
  },
  {
   "cell_type": "markdown",
   "metadata": {},
   "source": [
    "# --------------------------------------------------END---------------------------------------------------------"
   ]
  }
 ],
 "metadata": {
  "kernelspec": {
   "display_name": "Python 3",
   "language": "python",
   "name": "python3"
  },
  "language_info": {
   "codemirror_mode": {
    "name": "ipython",
    "version": 3
   },
   "file_extension": ".py",
   "mimetype": "text/x-python",
   "name": "python",
   "nbconvert_exporter": "python",
   "pygments_lexer": "ipython3",
   "version": "3.7.4"
  }
 },
 "nbformat": 4,
 "nbformat_minor": 4
}
